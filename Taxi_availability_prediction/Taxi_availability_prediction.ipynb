{
 "cells": [
  {
   "cell_type": "markdown",
   "metadata": {},
   "source": [
    "#  Прогнозирование заказов такси"
   ]
  },
  {
   "cell_type": "markdown",
   "metadata": {},
   "source": [
    "Компания «Чётенькое такси» собрала исторические данные о заказах такси в аэропортах. Чтобы привлекать больше водителей в период пиковой нагрузки, нужно спрогнозировать количество заказов такси на следующий час. Постройте модель для такого предсказания.\n",
    "\n",
    "Значение метрики *RMSE* на тестовой выборке должно быть не больше 48.\n",
    "\n",
    "Вам нужно:\n",
    "\n",
    "1. Загрузить данные и выполнить их ресемплирование по одному часу.\n",
    "2. Проанализировать данные.\n",
    "3. Обучить разные модели с различными гиперпараметрами. Сделать тестовую выборку размером 10% от исходных данных.\n",
    "4. Проверить данные на тестовой выборке и сделать выводы.\n",
    "\n",
    "\n",
    "Данные лежат в файле `taxi.csv`. Количество заказов находится в столбце `num_orders` (от англ. *number of orders*, «число заказов»)."
   ]
  },
  {
   "cell_type": "markdown",
   "metadata": {},
   "source": [
    "## Подготовка"
   ]
  },
  {
   "cell_type": "code",
   "execution_count": 1,
   "metadata": {},
   "outputs": [],
   "source": [
    "import seaborn as sns\n",
    "import pandas as pd\n",
    "import numpy as np \n",
    "from sklearn.model_selection import train_test_split\n",
    "from sklearn.linear_model import Lasso\n",
    "from sklearn.ensemble import RandomForestRegressor\n",
    "from sklearn.model_selection import GridSearchCV\n",
    "from sklearn.metrics import mean_squared_error, make_scorer\n",
    "from sklearn.tree import DecisionTreeRegressor\n",
    "from catboost import CatBoostRegressor, Pool\n",
    "from lightgbm import LGBMRegressor\n",
    "import matplotlib.pyplot as plt\n",
    "from statsmodels.tsa.seasonal import seasonal_decompose\n",
    "from sklearn.model_selection import TimeSeriesSplit\n",
    "import time\n",
    "from sklearn.dummy import DummyRegressor\n",
    "import warnings\n",
    "warnings.filterwarnings(\"ignore\")"
   ]
  },
  {
   "cell_type": "code",
   "execution_count": 2,
   "metadata": {},
   "outputs": [],
   "source": [
    "df = pd.read_csv('/datasets/taxi.csv',index_col=[0], parse_dates=[0])"
   ]
  },
  {
   "cell_type": "code",
   "execution_count": 3,
   "metadata": {},
   "outputs": [
    {
     "name": "stdout",
     "output_type": "stream",
     "text": [
      "<class 'pandas.core.frame.DataFrame'>\n",
      "DatetimeIndex: 26496 entries, 2018-03-01 00:00:00 to 2018-08-31 23:50:00\n",
      "Data columns (total 1 columns):\n",
      " #   Column      Non-Null Count  Dtype\n",
      "---  ------      --------------  -----\n",
      " 0   num_orders  26496 non-null  int64\n",
      "dtypes: int64(1)\n",
      "memory usage: 414.0 KB\n"
     ]
    },
    {
     "data": {
      "text/html": [
       "<div>\n",
       "<style scoped>\n",
       "    .dataframe tbody tr th:only-of-type {\n",
       "        vertical-align: middle;\n",
       "    }\n",
       "\n",
       "    .dataframe tbody tr th {\n",
       "        vertical-align: top;\n",
       "    }\n",
       "\n",
       "    .dataframe thead th {\n",
       "        text-align: right;\n",
       "    }\n",
       "</style>\n",
       "<table border=\"1\" class=\"dataframe\">\n",
       "  <thead>\n",
       "    <tr style=\"text-align: right;\">\n",
       "      <th></th>\n",
       "      <th>num_orders</th>\n",
       "    </tr>\n",
       "    <tr>\n",
       "      <th>datetime</th>\n",
       "      <th></th>\n",
       "    </tr>\n",
       "  </thead>\n",
       "  <tbody>\n",
       "    <tr>\n",
       "      <th>2018-03-01 00:00:00</th>\n",
       "      <td>9</td>\n",
       "    </tr>\n",
       "    <tr>\n",
       "      <th>2018-03-01 00:10:00</th>\n",
       "      <td>14</td>\n",
       "    </tr>\n",
       "    <tr>\n",
       "      <th>2018-03-01 00:20:00</th>\n",
       "      <td>28</td>\n",
       "    </tr>\n",
       "    <tr>\n",
       "      <th>2018-03-01 00:30:00</th>\n",
       "      <td>20</td>\n",
       "    </tr>\n",
       "    <tr>\n",
       "      <th>2018-03-01 00:40:00</th>\n",
       "      <td>32</td>\n",
       "    </tr>\n",
       "    <tr>\n",
       "      <th>2018-03-01 00:50:00</th>\n",
       "      <td>21</td>\n",
       "    </tr>\n",
       "    <tr>\n",
       "      <th>2018-03-01 01:00:00</th>\n",
       "      <td>7</td>\n",
       "    </tr>\n",
       "    <tr>\n",
       "      <th>2018-03-01 01:10:00</th>\n",
       "      <td>5</td>\n",
       "    </tr>\n",
       "    <tr>\n",
       "      <th>2018-03-01 01:20:00</th>\n",
       "      <td>17</td>\n",
       "    </tr>\n",
       "    <tr>\n",
       "      <th>2018-03-01 01:30:00</th>\n",
       "      <td>12</td>\n",
       "    </tr>\n",
       "  </tbody>\n",
       "</table>\n",
       "</div>"
      ],
      "text/plain": [
       "                     num_orders\n",
       "datetime                       \n",
       "2018-03-01 00:00:00           9\n",
       "2018-03-01 00:10:00          14\n",
       "2018-03-01 00:20:00          28\n",
       "2018-03-01 00:30:00          20\n",
       "2018-03-01 00:40:00          32\n",
       "2018-03-01 00:50:00          21\n",
       "2018-03-01 01:00:00           7\n",
       "2018-03-01 01:10:00           5\n",
       "2018-03-01 01:20:00          17\n",
       "2018-03-01 01:30:00          12"
      ]
     },
     "execution_count": 3,
     "metadata": {},
     "output_type": "execute_result"
    }
   ],
   "source": [
    "df.info()\n",
    "df.head(10)"
   ]
  },
  {
   "cell_type": "code",
   "execution_count": 4,
   "metadata": {},
   "outputs": [
    {
     "data": {
      "text/html": [
       "<div>\n",
       "<style scoped>\n",
       "    .dataframe tbody tr th:only-of-type {\n",
       "        vertical-align: middle;\n",
       "    }\n",
       "\n",
       "    .dataframe tbody tr th {\n",
       "        vertical-align: top;\n",
       "    }\n",
       "\n",
       "    .dataframe thead th {\n",
       "        text-align: right;\n",
       "    }\n",
       "</style>\n",
       "<table border=\"1\" class=\"dataframe\">\n",
       "  <thead>\n",
       "    <tr style=\"text-align: right;\">\n",
       "      <th></th>\n",
       "      <th>num_orders</th>\n",
       "    </tr>\n",
       "    <tr>\n",
       "      <th>datetime</th>\n",
       "      <th></th>\n",
       "    </tr>\n",
       "  </thead>\n",
       "  <tbody>\n",
       "    <tr>\n",
       "      <th>2018-08-31 22:20:00</th>\n",
       "      <td>48</td>\n",
       "    </tr>\n",
       "    <tr>\n",
       "      <th>2018-08-31 22:30:00</th>\n",
       "      <td>41</td>\n",
       "    </tr>\n",
       "    <tr>\n",
       "      <th>2018-08-31 22:40:00</th>\n",
       "      <td>34</td>\n",
       "    </tr>\n",
       "    <tr>\n",
       "      <th>2018-08-31 22:50:00</th>\n",
       "      <td>34</td>\n",
       "    </tr>\n",
       "    <tr>\n",
       "      <th>2018-08-31 23:00:00</th>\n",
       "      <td>30</td>\n",
       "    </tr>\n",
       "    <tr>\n",
       "      <th>2018-08-31 23:10:00</th>\n",
       "      <td>32</td>\n",
       "    </tr>\n",
       "    <tr>\n",
       "      <th>2018-08-31 23:20:00</th>\n",
       "      <td>24</td>\n",
       "    </tr>\n",
       "    <tr>\n",
       "      <th>2018-08-31 23:30:00</th>\n",
       "      <td>27</td>\n",
       "    </tr>\n",
       "    <tr>\n",
       "      <th>2018-08-31 23:40:00</th>\n",
       "      <td>39</td>\n",
       "    </tr>\n",
       "    <tr>\n",
       "      <th>2018-08-31 23:50:00</th>\n",
       "      <td>53</td>\n",
       "    </tr>\n",
       "  </tbody>\n",
       "</table>\n",
       "</div>"
      ],
      "text/plain": [
       "                     num_orders\n",
       "datetime                       \n",
       "2018-08-31 22:20:00          48\n",
       "2018-08-31 22:30:00          41\n",
       "2018-08-31 22:40:00          34\n",
       "2018-08-31 22:50:00          34\n",
       "2018-08-31 23:00:00          30\n",
       "2018-08-31 23:10:00          32\n",
       "2018-08-31 23:20:00          24\n",
       "2018-08-31 23:30:00          27\n",
       "2018-08-31 23:40:00          39\n",
       "2018-08-31 23:50:00          53"
      ]
     },
     "execution_count": 4,
     "metadata": {},
     "output_type": "execute_result"
    }
   ],
   "source": [
    "df.tail(10)"
   ]
  },
  {
   "cell_type": "markdown",
   "metadata": {},
   "source": [
    "проверим хронологический порядок:"
   ]
  },
  {
   "cell_type": "code",
   "execution_count": 5,
   "metadata": {},
   "outputs": [
    {
     "data": {
      "text/plain": [
       "True"
      ]
     },
     "execution_count": 5,
     "metadata": {},
     "output_type": "execute_result"
    }
   ],
   "source": [
    "df.index.is_monotonic"
   ]
  },
  {
   "cell_type": "markdown",
   "metadata": {},
   "source": [
    "ресэмплируем по часу:"
   ]
  },
  {
   "cell_type": "code",
   "execution_count": 6,
   "metadata": {},
   "outputs": [],
   "source": [
    "df = df.resample('1H').sum()"
   ]
  },
  {
   "cell_type": "markdown",
   "metadata": {},
   "source": [
    "проверим наличие пропусков:"
   ]
  },
  {
   "cell_type": "code",
   "execution_count": 7,
   "metadata": {},
   "outputs": [
    {
     "data": {
      "text/plain": [
       "num_orders    0\n",
       "dtype: int64"
      ]
     },
     "execution_count": 7,
     "metadata": {},
     "output_type": "execute_result"
    }
   ],
   "source": [
    "df.isnull().sum()"
   ]
  },
  {
   "cell_type": "markdown",
   "metadata": {},
   "source": [
    "проверим дубликаты:"
   ]
  },
  {
   "cell_type": "code",
   "execution_count": 8,
   "metadata": {},
   "outputs": [
    {
     "data": {
      "text/plain": [
       "4165"
      ]
     },
     "execution_count": 8,
     "metadata": {},
     "output_type": "execute_result"
    }
   ],
   "source": [
    "df.duplicated().sum()"
   ]
  },
  {
   "cell_type": "code",
   "execution_count": 9,
   "metadata": {},
   "outputs": [
    {
     "data": {
      "text/html": [
       "<div>\n",
       "<style scoped>\n",
       "    .dataframe tbody tr th:only-of-type {\n",
       "        vertical-align: middle;\n",
       "    }\n",
       "\n",
       "    .dataframe tbody tr th {\n",
       "        vertical-align: top;\n",
       "    }\n",
       "\n",
       "    .dataframe thead th {\n",
       "        text-align: right;\n",
       "    }\n",
       "</style>\n",
       "<table border=\"1\" class=\"dataframe\">\n",
       "  <thead>\n",
       "    <tr style=\"text-align: right;\">\n",
       "      <th></th>\n",
       "      <th>num_orders</th>\n",
       "    </tr>\n",
       "  </thead>\n",
       "  <tbody>\n",
       "    <tr>\n",
       "      <th>count</th>\n",
       "      <td>4416.000000</td>\n",
       "    </tr>\n",
       "    <tr>\n",
       "      <th>mean</th>\n",
       "      <td>84.422781</td>\n",
       "    </tr>\n",
       "    <tr>\n",
       "      <th>std</th>\n",
       "      <td>45.023853</td>\n",
       "    </tr>\n",
       "    <tr>\n",
       "      <th>min</th>\n",
       "      <td>0.000000</td>\n",
       "    </tr>\n",
       "    <tr>\n",
       "      <th>25%</th>\n",
       "      <td>54.000000</td>\n",
       "    </tr>\n",
       "    <tr>\n",
       "      <th>50%</th>\n",
       "      <td>78.000000</td>\n",
       "    </tr>\n",
       "    <tr>\n",
       "      <th>75%</th>\n",
       "      <td>107.000000</td>\n",
       "    </tr>\n",
       "    <tr>\n",
       "      <th>max</th>\n",
       "      <td>462.000000</td>\n",
       "    </tr>\n",
       "  </tbody>\n",
       "</table>\n",
       "</div>"
      ],
      "text/plain": [
       "        num_orders\n",
       "count  4416.000000\n",
       "mean     84.422781\n",
       "std      45.023853\n",
       "min       0.000000\n",
       "25%      54.000000\n",
       "50%      78.000000\n",
       "75%     107.000000\n",
       "max     462.000000"
      ]
     },
     "execution_count": 9,
     "metadata": {},
     "output_type": "execute_result"
    }
   ],
   "source": [
    "df.describe()"
   ]
  },
  {
   "cell_type": "markdown",
   "metadata": {},
   "source": [
    "Построим график распределения:"
   ]
  },
  {
   "cell_type": "code",
   "execution_count": 10,
   "metadata": {},
   "outputs": [
    {
     "data": {
      "image/png": "[encoded data removed]",
      "text/plain": [
       "<Figure size 720x720 with 1 Axes>"
      ]
     },
     "metadata": {
      "needs_background": "light"
     },
     "output_type": "display_data"
    }
   ],
   "source": [
    "fig, ax = plt.subplots(figsize=(10, 10))\n",
    "ax.scatter(df.index.values,\n",
    "           df['num_orders'],\n",
    "           color='#0072BD')\n",
    "ax.set(xlabel=\"Дата и время\",\n",
    "       ylabel=\"Количество заказов\",\n",
    "       title=\"Почасовое количество заказов такси за 2018г.\")\n",
    "plt.show()"
   ]
  },
  {
   "cell_type": "markdown",
   "metadata": {},
   "source": [
    "### Вывод:\n",
    "\n",
    "В датасете есть количество заказов за полгода 2018 года с марта по август включительно на каждый час. Набор данных всего содержит 26 496 строк и 1 столбец с количеством заказов такси.\n",
    "\n",
    "- В данных нет пропущенных значений.\n",
    "\n",
    "- В данных есть 4165 дубликатов, однако эти дубликаты могут являться следствием большого количества заказов такси примерно в одно время.\n",
    "\n",
    "- График рассеяния показал что вне зависимости от времени большинство заказов приходится на промежуток от 0 до 100 заказов, однако ближе к сентябрю 2018 (2018-09), минимальное кол-во заказов увеличилось, а также видны необычные выбросы в данных.\n"
   ]
  },
  {
   "cell_type": "markdown",
   "metadata": {},
   "source": [
    "## Анализ"
   ]
  },
  {
   "cell_type": "markdown",
   "metadata": {},
   "source": [
    "Попробуем сгладить временной ряд:"
   ]
  },
  {
   "cell_type": "code",
   "execution_count": 11,
   "metadata": {},
   "outputs": [],
   "source": [
    "df[\"rolling_mean\"] = df[\"num_orders\"].rolling(24).mean()\n",
    "df[\"rolling_std\"] = df[\"num_orders\"].rolling(24).std()"
   ]
  },
  {
   "cell_type": "code",
   "execution_count": 12,
   "metadata": {
    "scrolled": true
   },
   "outputs": [
    {
     "data": {
      "image/png": "[encoded data removed]",
      "text/plain": [
       "<Figure size 432x288 with 1 Axes>"
      ]
     },
     "metadata": {
      "needs_background": "light"
     },
     "output_type": "display_data"
    }
   ],
   "source": [
    "df.plot();"
   ]
  },
  {
   "cell_type": "markdown",
   "metadata": {},
   "source": [
    "**Вывод:** Можно сказать, что наш ряд достаточно стационарен за исключением августовского хвоста."
   ]
  },
  {
   "cell_type": "markdown",
   "metadata": {},
   "source": [
    "Посмотрим, что будет если мы получим разность ряда:"
   ]
  },
  {
   "cell_type": "code",
   "execution_count": 13,
   "metadata": {},
   "outputs": [],
   "source": [
    "df_new = df - df.shift()"
   ]
  },
  {
   "cell_type": "code",
   "execution_count": 14,
   "metadata": {},
   "outputs": [],
   "source": [
    "df_new[\"rolling_mean\"] = df_new[\"num_orders\"].rolling(24).mean()\n",
    "df_new[\"rolling_std\"] = df_new[\"num_orders\"].rolling(24).std()"
   ]
  },
  {
   "cell_type": "code",
   "execution_count": 15,
   "metadata": {
    "scrolled": true
   },
   "outputs": [
    {
     "data": {
      "image/png": "[encoded data removed]",
      "text/plain": [
       "<Figure size 432x288 with 1 Axes>"
      ]
     },
     "metadata": {
      "needs_background": "light"
     },
     "output_type": "display_data"
    }
   ],
   "source": [
    "df_new.plot();"
   ]
  },
  {
   "cell_type": "markdown",
   "metadata": {},
   "source": [
    "**Вывод:** Стационарный ряд."
   ]
  },
  {
   "cell_type": "markdown",
   "metadata": {},
   "source": [
    "Удалим все признаки, которые использовались для анализа и создадим новые, используя определенную ниже функцию:"
   ]
  },
  {
   "cell_type": "code",
   "execution_count": 16,
   "metadata": {},
   "outputs": [],
   "source": [
    "def make_features(data, max_lag, rolling_mean_size):\n",
    "    data['dayofweek'] = data.index.dayofweek\n",
    "    data['hour'] = data.index.hour\n",
    "    \n",
    "    for lag in range(1, max_lag + 1):\n",
    "        data['lag_{}'.format(lag)] = data['num_orders'].shift(lag)\n",
    "\n",
    "    data['rolling_mean'] = data['num_orders'].shift().rolling(rolling_mean_size).mean()"
   ]
  },
  {
   "cell_type": "code",
   "execution_count": 17,
   "metadata": {},
   "outputs": [],
   "source": [
    "make_features(df, 24, 24)"
   ]
  },
  {
   "cell_type": "markdown",
   "metadata": {},
   "source": [
    "Построим графики тренда и сезонности:"
   ]
  },
  {
   "cell_type": "code",
   "execution_count": 18,
   "metadata": {
    "scrolled": false
   },
   "outputs": [
    {
     "data": {
      "image/png": "[encoded data removed]",
      "text/plain": [
       "<Figure size 1080x720 with 3 Axes>"
      ]
     },
     "metadata": {
      "needs_background": "light"
     },
     "output_type": "display_data"
    }
   ],
   "source": [
    "decomposed = seasonal_decompose(df[\"num_orders\"]);\n",
    "fig,ax = plt.subplots(3,1,figsize = (15,10))\n",
    "\n",
    "decomposed.trend.plot(ax=ax[0],title = 'Trend')\n",
    "decomposed.seasonal.plot(ax=ax[1],title = 'Seasonality')\n",
    "decomposed.resid.plot(ax=ax[2],title = 'Residuals');"
   ]
  },
  {
   "cell_type": "markdown",
   "metadata": {},
   "source": [
    "Возьмем два дня(например 10-е число) - один в августе, другой в марте и посмотрим на сезонность:"
   ]
  },
  {
   "cell_type": "code",
   "execution_count": 19,
   "metadata": {
    "scrolled": true
   },
   "outputs": [
    {
     "data": {
      "image/png": "[encoded data removed]",
      "text/plain": [
       "<Figure size 1080x432 with 1 Axes>"
      ]
     },
     "metadata": {
      "needs_background": "light"
     },
     "output_type": "display_data"
    }
   ],
   "source": [
    "decomposed.seasonal['2018-08-10'].plot(figsize=(15, 6))\n",
    "plt.title('Сезонность за 10 августа 2018г.');"
   ]
  },
  {
   "cell_type": "code",
   "execution_count": 20,
   "metadata": {},
   "outputs": [
    {
     "data": {
      "image/png": "[encoded data removed]",
      "text/plain": [
       "<Figure size 1080x432 with 1 Axes>"
      ]
     },
     "metadata": {
      "needs_background": "light"
     },
     "output_type": "display_data"
    }
   ],
   "source": [
    "decomposed.seasonal['2018-03-10'].plot(figsize=(15, 6))\n",
    "plt.title('Сезонность за 10 марта 2018');"
   ]
  },
  {
   "cell_type": "markdown",
   "metadata": {},
   "source": [
    "**Вывод:** Графики идентичны. В начале каждого дня у нас пик, потом резкое падение, затем в течение дня количество заказов растет и к концу дня достигает нового пика."
   ]
  },
  {
   "cell_type": "markdown",
   "metadata": {},
   "source": [
    "## Обучение"
   ]
  },
  {
   "cell_type": "markdown",
   "metadata": {},
   "source": [
    "Проведем разбиение данных на train, valid и test выборки. При работе с временными рядами перемешивать данные при разбиении на выборки нельзя."
   ]
  },
  {
   "cell_type": "code",
   "execution_count": 21,
   "metadata": {},
   "outputs": [],
   "source": [
    "train, test = train_test_split(df, shuffle=False, test_size=0.1)\n",
    "train = train.dropna()"
   ]
  },
  {
   "cell_type": "markdown",
   "metadata": {},
   "source": [
    "Создадим признаки для обучения моделей:"
   ]
  },
  {
   "cell_type": "code",
   "execution_count": 22,
   "metadata": {},
   "outputs": [],
   "source": [
    "features_train = train.drop(['num_orders'], axis=1)\n",
    "target_train = train['num_orders']\n",
    "\n",
    "features_test = test.drop(['num_orders'], axis=1)\n",
    "target_test = test['num_orders']"
   ]
  },
  {
   "cell_type": "markdown",
   "metadata": {},
   "source": [
    "Нам необходимо подобрать наиболее эффективную модель(наименьшая RMSE). Также отследим время обучения моделей. Мы обучим и проанализируем следующие модели:\n",
    "\n",
    "- Linear Regression (Линейная регрессия)\n",
    "\n",
    "- Random Forest (Случайный лес)\n",
    "\n",
    "- Catboost\n",
    "\n",
    "- LightGBM\n",
    "\n",
    "- DecisionTree"
   ]
  },
  {
   "cell_type": "markdown",
   "metadata": {},
   "source": [
    "Определим функцию для метрики:"
   ]
  },
  {
   "cell_type": "code",
   "execution_count": 23,
   "metadata": {},
   "outputs": [],
   "source": [
    "def RMSE(target,predictions):\n",
    "    MSE = mean_squared_error(target, predictions)\n",
    "    return MSE ** 0.5\n",
    "RMSE_score = make_scorer(RMSE, greater_is_better=False)"
   ]
  },
  {
   "cell_type": "markdown",
   "metadata": {},
   "source": [
    "Используем гридсерч для подбора параметров:"
   ]
  },
  {
   "cell_type": "code",
   "execution_count": 24,
   "metadata": {},
   "outputs": [],
   "source": [
    "# TimeSeriesSplit \n",
    "splits = TimeSeriesSplit(n_splits=8)\n",
    "def best_model(model, params, features_train, target_train):\n",
    "    grid = GridSearchCV(model, param_grid = params, cv=splits,\n",
    "                                            scoring = RMSE_score, n_jobs=-1)\n",
    "    grid.fit(features_train,target_train)\n",
    "    results = pd.DataFrame(grid.cv_results_).sort_values(by = 'rank_test_score')\n",
    "    \n",
    "    fit_time = results.iloc[0]['mean_fit_time']\n",
    "    predict_time = results.iloc[0]['mean_score_time']\n",
    "    return fit_time, predict_time, -grid.best_score_ , grid.best_params_,  "
   ]
  },
  {
   "cell_type": "markdown",
   "metadata": {},
   "source": [
    "Лассо-модель:"
   ]
  },
  {
   "cell_type": "code",
   "execution_count": 25,
   "metadata": {},
   "outputs": [],
   "source": [
    "lasso_model = Lasso(random_state=123)\n",
    "lasso_params = {'alpha':[0.02, 0.024, 0.025, 0.026, 0.03]}"
   ]
  },
  {
   "cell_type": "code",
   "execution_count": 26,
   "metadata": {},
   "outputs": [],
   "source": [
    "lasso = best_model(lasso_model, lasso_params, features_train, target_train)"
   ]
  },
  {
   "cell_type": "code",
   "execution_count": 27,
   "metadata": {},
   "outputs": [
    {
     "data": {
      "text/plain": [
       "(0.26076287031173706, 0.11320081353187561, 26.688720747503655, {'alpha': 0.03})"
      ]
     },
     "execution_count": 27,
     "metadata": {},
     "output_type": "execute_result"
    }
   ],
   "source": [
    "lasso"
   ]
  },
  {
   "cell_type": "markdown",
   "metadata": {},
   "source": [
    "LGBM-модель:"
   ]
  },
  {
   "cell_type": "code",
   "execution_count": 28,
   "metadata": {},
   "outputs": [],
   "source": [
    "lgbm_params = {\n",
    "    'n_estimators': [10,50],\n",
    "    'learning_rate': [0.4]\n",
    "}\n",
    "lgbm_reg_model = LGBMRegressor(random_state=123)"
   ]
  },
  {
   "cell_type": "code",
   "execution_count": 29,
   "metadata": {},
   "outputs": [],
   "source": [
    "lgbm = best_model(lgbm_reg_model, lgbm_params, features_train, target_train)"
   ]
  },
  {
   "cell_type": "code",
   "execution_count": 30,
   "metadata": {},
   "outputs": [
    {
     "data": {
      "text/plain": [
       "(23.933183044195175,\n",
       " 0.051365822553634644,\n",
       " 25.17711671129735,\n",
       " {'learning_rate': 0.4, 'n_estimators': 10})"
      ]
     },
     "execution_count": 30,
     "metadata": {},
     "output_type": "execute_result"
    }
   ],
   "source": [
    "lgbm"
   ]
  },
  {
   "cell_type": "markdown",
   "metadata": {},
   "source": [
    "Catboost:"
   ]
  },
  {
   "cell_type": "code",
   "execution_count": 31,
   "metadata": {},
   "outputs": [],
   "source": [
    "catboost_params = {\n",
    "    'learning_rate': [0.1,0.2],\n",
    "    'iterations': [10,50,100],\n",
    "    'max_depth': [10,20]}\n",
    "catboost_model = CatBoostRegressor(random_state=123,silent=True)"
   ]
  },
  {
   "cell_type": "code",
   "execution_count": null,
   "metadata": {},
   "outputs": [],
   "source": [
    "CatBoost = best_model(catboost_model, catboost_params, features_train, target_train)"
   ]
  },
  {
   "cell_type": "code",
   "execution_count": null,
   "metadata": {},
   "outputs": [],
   "source": [
    "CatBoost"
   ]
  },
  {
   "cell_type": "markdown",
   "metadata": {},
   "source": [
    "Случайный лес:"
   ]
  },
  {
   "cell_type": "code",
   "execution_count": null,
   "metadata": {},
   "outputs": [],
   "source": [
    "RF_model = RandomForestRegressor(random_state=123)\n",
    "forestregressor_params = {'n_estimators':range(10, 21, 10),\n",
    "             'max_depth':range (1,10)}"
   ]
  },
  {
   "cell_type": "code",
   "execution_count": null,
   "metadata": {},
   "outputs": [],
   "source": [
    "RandomForest = best_model(RF_model, forestregressor_params, features_train, target_train)"
   ]
  },
  {
   "cell_type": "code",
   "execution_count": null,
   "metadata": {
    "scrolled": true
   },
   "outputs": [],
   "source": [
    "RandomForest"
   ]
  },
  {
   "cell_type": "markdown",
   "metadata": {},
   "source": [
    "Дерево решений:"
   ]
  },
  {
   "cell_type": "code",
   "execution_count": null,
   "metadata": {},
   "outputs": [],
   "source": [
    "DT_model = DecisionTreeRegressor(random_state=123)\n",
    "treeregressor_params = {'max_depth':range (1,10)}\n",
    "DecisionTrees = best_model(DT_model, treeregressor_params, features_train, target_train)"
   ]
  },
  {
   "cell_type": "code",
   "execution_count": null,
   "metadata": {},
   "outputs": [],
   "source": [
    "DecisionTrees"
   ]
  },
  {
   "cell_type": "markdown",
   "metadata": {},
   "source": [
    "Константная модель:"
   ]
  },
  {
   "cell_type": "code",
   "execution_count": null,
   "metadata": {},
   "outputs": [],
   "source": [
    "constant_model = DummyRegressor(strategy='mean')"
   ]
  },
  {
   "cell_type": "code",
   "execution_count": null,
   "metadata": {},
   "outputs": [],
   "source": [
    "constant_model.fit(features_train,target_train)\n",
    "constant_pred = constant_model.predict(features_test)\n",
    "RMSE(target_test,constant_pred)"
   ]
  },
  {
   "cell_type": "markdown",
   "metadata": {},
   "source": [
    "Сравним характеристики моделей:"
   ]
  },
  {
   "cell_type": "code",
   "execution_count": null,
   "metadata": {},
   "outputs": [],
   "source": [
    "Models = pd.DataFrame([lasso, lgbm, CatBoost, RandomForest, DecisionTrees], \n",
    "             columns=['Время обучения', 'Время предсказания', 'RMSE на train', 'Лучшие Параметры'], \n",
    "                      index=['Lasso','LGBM','CatBoost', 'RandomForest', 'DecisionTrees'])"
   ]
  },
  {
   "cell_type": "code",
   "execution_count": null,
   "metadata": {},
   "outputs": [],
   "source": [
    "Models"
   ]
  },
  {
   "cell_type": "markdown",
   "metadata": {},
   "source": [
    "**Вывод**: На обучающей выборке у всех моделей примерно один результат. Для тестирования выберем CatBoost: она самая точная модель."
   ]
  },
  {
   "cell_type": "markdown",
   "metadata": {},
   "source": [
    "## Тестирование"
   ]
  },
  {
   "cell_type": "code",
   "execution_count": 28,
   "metadata": {},
   "outputs": [],
   "source": [
    "Catboost = CatBoostRegressor(random_state=123,silent=True, iterations=100, learning_rate=0.2, max_depth=10)"
   ]
  },
  {
   "cell_type": "code",
   "execution_count": 29,
   "metadata": {},
   "outputs": [],
   "source": [
    "Catboost.fit(features_train, target_train);"
   ]
  },
  {
   "cell_type": "code",
   "execution_count": 30,
   "metadata": {},
   "outputs": [],
   "source": [
    "predictions = Catboost.predict(features_test)"
   ]
  },
  {
   "cell_type": "code",
   "execution_count": 31,
   "metadata": {},
   "outputs": [],
   "source": [
    "Rmse = RMSE(target_test, predictions)"
   ]
  },
  {
   "cell_type": "code",
   "execution_count": 32,
   "metadata": {
    "scrolled": true
   },
   "outputs": [
    {
     "data": {
      "text/plain": [
       "45.83091329763325"
      ]
     },
     "execution_count": 32,
     "metadata": {},
     "output_type": "execute_result"
    }
   ],
   "source": [
    "Rmse"
   ]
  },
  {
   "cell_type": "code",
   "execution_count": 33,
   "metadata": {},
   "outputs": [],
   "source": [
    "preds_test = pd.Series(Catboost.predict(features_test), index = target_test.index, name='preds')"
   ]
  },
  {
   "cell_type": "code",
   "execution_count": 34,
   "metadata": {},
   "outputs": [],
   "source": [
    "df_preds = pd.concat([target_test, preds_test], axis=1)"
   ]
  },
  {
   "cell_type": "code",
   "execution_count": 35,
   "metadata": {},
   "outputs": [
    {
     "data": {
      "image/png": "[encoded data removed]",
      "text/plain": [
       "<Figure size 1008x360 with 1 Axes>"
      ]
     },
     "metadata": {
      "needs_background": "light"
     },
     "output_type": "display_data"
    }
   ],
   "source": [
    "plt.figure(figsize=(14, 5));\n",
    "plt.style.use('ggplot')\n",
    "df = df_preds['2018-08-15':'2018-08-17']\n",
    "sns.lineplot(x=df.index, y=df['num_orders'], label='True Test');\n",
    "sns.lineplot(x=df.index, y=df['preds'], label='Predictions');"
   ]
  },
  {
   "cell_type": "markdown",
   "metadata": {},
   "source": [
    "**Вывод:** Целевой показатель метрики преодолен, советуем Catboost-модель заказчику."
   ]
  },
  {
   "cell_type": "markdown",
   "metadata": {},
   "source": [
    "### Общий Вывод:\n",
    "\n",
    "1) Исходный датасет был изучен. Пропуски не обнаружены, дубликаты оставлены из-за того, что у нас всего один признак.\n",
    "\n",
    "2) Изучены стационарность ряда, сезонность и тренды наших данных.\n",
    "\n",
    "3) Датасет разделен на обучающую и тестовую выборки. На этих данных обучены модели Lasso, Lgbm, CatBoost, RandomForest и DecisionTree.\n",
    "\n",
    "4)  Отобрана лучшая модель - CatBoost, на тестовой выборке она показала  47.4, Рекомендуем ее заказчику за счет быстрого времени обучения и высокой точности."
   ]
  }
 ],
 "metadata": {
  "ExecuteTimeLog": [
   {
    "duration": 1744,
    "start_time": "2023-03-02T16:14:15.041Z"
   },
   {
    "duration": 126,
    "start_time": "2023-03-02T16:14:17.895Z"
   },
   {
    "duration": 14,
    "start_time": "2023-03-02T16:14:31.073Z"
   },
   {
    "duration": 7,
    "start_time": "2023-03-02T16:14:53.339Z"
   },
   {
    "duration": 16,
    "start_time": "2023-03-02T16:17:44.757Z"
   },
   {
    "duration": 4,
    "start_time": "2023-03-02T16:18:38.768Z"
   },
   {
    "duration": 5,
    "start_time": "2023-03-02T16:18:44.529Z"
   },
   {
    "duration": 13,
    "start_time": "2023-03-02T16:18:56.186Z"
   },
   {
    "duration": 11,
    "start_time": "2023-03-02T16:20:11.207Z"
   },
   {
    "duration": 3,
    "start_time": "2023-03-02T16:20:27.363Z"
   },
   {
    "duration": 6,
    "start_time": "2023-03-02T16:20:31.290Z"
   },
   {
    "duration": 14,
    "start_time": "2023-03-02T16:21:46.989Z"
   },
   {
    "duration": 7,
    "start_time": "2023-03-02T16:21:59.485Z"
   },
   {
    "duration": 12,
    "start_time": "2023-03-02T16:22:10.010Z"
   },
   {
    "duration": 271,
    "start_time": "2023-03-02T16:24:03.036Z"
   },
   {
    "duration": 1394,
    "start_time": "2023-03-02T16:24:20.616Z"
   },
   {
    "duration": 51,
    "start_time": "2023-03-02T16:24:22.012Z"
   },
   {
    "duration": 16,
    "start_time": "2023-03-02T16:24:22.065Z"
   },
   {
    "duration": 6,
    "start_time": "2023-03-02T16:24:22.083Z"
   },
   {
    "duration": 5,
    "start_time": "2023-03-02T16:24:22.090Z"
   },
   {
    "duration": 8,
    "start_time": "2023-03-02T16:24:22.096Z"
   },
   {
    "duration": 5,
    "start_time": "2023-03-02T16:24:22.105Z"
   },
   {
    "duration": 12,
    "start_time": "2023-03-02T16:24:22.112Z"
   },
   {
    "duration": 10,
    "start_time": "2023-03-02T16:24:22.152Z"
   },
   {
    "duration": 296,
    "start_time": "2023-03-02T16:24:22.167Z"
   },
   {
    "duration": 1426,
    "start_time": "2023-03-02T16:25:15.198Z"
   },
   {
    "duration": 45,
    "start_time": "2023-03-02T16:25:17.065Z"
   },
   {
    "duration": 17,
    "start_time": "2023-03-02T16:25:17.769Z"
   },
   {
    "duration": 7,
    "start_time": "2023-03-02T16:25:19.092Z"
   },
   {
    "duration": 3,
    "start_time": "2023-03-02T16:25:20.067Z"
   },
   {
    "duration": 12,
    "start_time": "2023-03-02T16:25:21.345Z"
   },
   {
    "duration": 5,
    "start_time": "2023-03-02T16:25:22.403Z"
   },
   {
    "duration": 1377,
    "start_time": "2023-03-02T16:25:42.385Z"
   },
   {
    "duration": 46,
    "start_time": "2023-03-02T16:25:43.764Z"
   },
   {
    "duration": 15,
    "start_time": "2023-03-02T16:25:43.812Z"
   },
   {
    "duration": 6,
    "start_time": "2023-03-02T16:25:43.829Z"
   },
   {
    "duration": 5,
    "start_time": "2023-03-02T16:25:43.837Z"
   },
   {
    "duration": 13,
    "start_time": "2023-03-02T16:25:43.844Z"
   },
   {
    "duration": 16,
    "start_time": "2023-03-02T16:25:43.859Z"
   },
   {
    "duration": 10,
    "start_time": "2023-03-02T16:25:43.876Z"
   },
   {
    "duration": 11,
    "start_time": "2023-03-02T16:25:43.887Z"
   },
   {
    "duration": 271,
    "start_time": "2023-03-02T16:25:43.900Z"
   },
   {
    "duration": 5,
    "start_time": "2023-03-02T16:30:59.511Z"
   },
   {
    "duration": 9,
    "start_time": "2023-03-02T16:33:46.931Z"
   },
   {
    "duration": 11,
    "start_time": "2023-03-02T16:35:05.169Z"
   },
   {
    "duration": 8,
    "start_time": "2023-03-02T16:35:15.300Z"
   },
   {
    "duration": 904,
    "start_time": "2023-03-02T16:39:20.659Z"
   },
   {
    "duration": 902,
    "start_time": "2023-03-02T16:39:32.564Z"
   },
   {
    "duration": 848,
    "start_time": "2023-03-02T16:39:48.016Z"
   },
   {
    "duration": 9,
    "start_time": "2023-03-02T16:40:18.055Z"
   },
   {
    "duration": 447,
    "start_time": "2023-03-02T16:40:25.836Z"
   },
   {
    "duration": 537,
    "start_time": "2023-03-02T16:40:29.223Z"
   },
   {
    "duration": 5,
    "start_time": "2023-03-02T16:41:28.680Z"
   },
   {
    "duration": 414,
    "start_time": "2023-03-02T16:41:29.475Z"
   },
   {
    "duration": 1332,
    "start_time": "2023-03-02T16:41:51.905Z"
   },
   {
    "duration": 53,
    "start_time": "2023-03-02T16:41:53.239Z"
   },
   {
    "duration": 17,
    "start_time": "2023-03-02T16:41:53.293Z"
   },
   {
    "duration": 6,
    "start_time": "2023-03-02T16:41:53.312Z"
   },
   {
    "duration": 5,
    "start_time": "2023-03-02T16:41:53.320Z"
   },
   {
    "duration": 9,
    "start_time": "2023-03-02T16:41:53.327Z"
   },
   {
    "duration": 4,
    "start_time": "2023-03-02T16:41:53.337Z"
   },
   {
    "duration": 13,
    "start_time": "2023-03-02T16:41:53.347Z"
   },
   {
    "duration": 12,
    "start_time": "2023-03-02T16:41:53.361Z"
   },
   {
    "duration": 274,
    "start_time": "2023-03-02T16:41:53.375Z"
   },
   {
    "duration": 7,
    "start_time": "2023-03-02T16:41:53.654Z"
   },
   {
    "duration": 335,
    "start_time": "2023-03-02T16:41:53.663Z"
   },
   {
    "duration": 4,
    "start_time": "2023-03-02T16:41:54.000Z"
   },
   {
    "duration": 11,
    "start_time": "2023-03-02T16:41:54.006Z"
   },
   {
    "duration": 792,
    "start_time": "2023-03-02T16:41:54.018Z"
   },
   {
    "duration": 8,
    "start_time": "2023-03-02T16:41:54.812Z"
   },
   {
    "duration": 8,
    "start_time": "2023-03-02T16:41:54.821Z"
   },
   {
    "duration": 5,
    "start_time": "2023-03-02T16:47:10.694Z"
   },
   {
    "duration": 7,
    "start_time": "2023-03-02T16:47:19.146Z"
   },
   {
    "duration": 552,
    "start_time": "2023-03-02T16:47:30.848Z"
   },
   {
    "duration": 1398,
    "start_time": "2023-03-02T16:47:47.073Z"
   },
   {
    "duration": 46,
    "start_time": "2023-03-02T16:47:48.473Z"
   },
   {
    "duration": 16,
    "start_time": "2023-03-02T16:47:48.521Z"
   },
   {
    "duration": 42,
    "start_time": "2023-03-02T16:47:48.538Z"
   },
   {
    "duration": 24,
    "start_time": "2023-03-02T16:47:48.582Z"
   },
   {
    "duration": 8,
    "start_time": "2023-03-02T16:47:49.429Z"
   },
   {
    "duration": 5,
    "start_time": "2023-03-02T16:47:49.811Z"
   },
   {
    "duration": 6,
    "start_time": "2023-03-02T16:47:50.919Z"
   },
   {
    "duration": 10,
    "start_time": "2023-03-02T16:47:51.425Z"
   },
   {
    "duration": 277,
    "start_time": "2023-03-02T16:47:53.027Z"
   },
   {
    "duration": 7,
    "start_time": "2023-03-02T16:47:54.162Z"
   },
   {
    "duration": 313,
    "start_time": "2023-03-02T16:47:54.565Z"
   },
   {
    "duration": 4,
    "start_time": "2023-03-02T16:47:55.777Z"
   },
   {
    "duration": 5,
    "start_time": "2023-03-02T16:47:58.561Z"
   },
   {
    "duration": 251,
    "start_time": "2023-03-02T16:48:31.007Z"
   },
   {
    "duration": 4,
    "start_time": "2023-03-02T16:49:14.827Z"
   },
   {
    "duration": 6,
    "start_time": "2023-03-02T16:49:15.467Z"
   },
   {
    "duration": 283,
    "start_time": "2023-03-02T16:49:16.205Z"
   },
   {
    "duration": 4,
    "start_time": "2023-03-02T16:51:08.360Z"
   },
   {
    "duration": 19,
    "start_time": "2023-03-02T16:51:09.543Z"
   },
   {
    "duration": 1014,
    "start_time": "2023-03-02T16:51:11.033Z"
   },
   {
    "duration": 564,
    "start_time": "2023-03-02T16:52:19.989Z"
   },
   {
    "duration": 160,
    "start_time": "2023-03-02T16:55:02.069Z"
   },
   {
    "duration": 155,
    "start_time": "2023-03-02T16:55:17.357Z"
   },
   {
    "duration": 155,
    "start_time": "2023-03-02T16:56:43.105Z"
   },
   {
    "duration": 152,
    "start_time": "2023-03-02T16:56:46.539Z"
   },
   {
    "duration": 155,
    "start_time": "2023-03-02T16:56:58.348Z"
   },
   {
    "duration": 154,
    "start_time": "2023-03-02T16:56:59.116Z"
   },
   {
    "duration": 8,
    "start_time": "2023-03-02T17:00:37.957Z"
   },
   {
    "duration": 6,
    "start_time": "2023-03-02T17:00:40.076Z"
   },
   {
    "duration": 125,
    "start_time": "2023-03-02T17:01:51.846Z"
   },
   {
    "duration": 10,
    "start_time": "2023-03-02T17:03:39.372Z"
   },
   {
    "duration": 6,
    "start_time": "2023-03-02T17:03:51.282Z"
   },
   {
    "duration": 6,
    "start_time": "2023-03-02T17:04:12.486Z"
   },
   {
    "duration": 7,
    "start_time": "2023-03-02T17:04:13.665Z"
   },
   {
    "duration": 76130,
    "start_time": "2023-03-02T17:04:30.908Z"
   },
   {
    "duration": 78928,
    "start_time": "2023-03-02T17:06:53.305Z"
   },
   {
    "duration": 4,
    "start_time": "2023-03-02T17:13:31.047Z"
   },
   {
    "duration": 4,
    "start_time": "2023-03-02T17:16:08.515Z"
   },
   {
    "duration": 10,
    "start_time": "2023-03-02T17:16:09.487Z"
   },
   {
    "duration": 1508,
    "start_time": "2023-03-02T17:18:00.722Z"
   },
   {
    "duration": 53,
    "start_time": "2023-03-02T17:18:02.232Z"
   },
   {
    "duration": 18,
    "start_time": "2023-03-02T17:18:02.287Z"
   },
   {
    "duration": 26,
    "start_time": "2023-03-02T17:18:02.307Z"
   },
   {
    "duration": 4,
    "start_time": "2023-03-02T17:18:02.981Z"
   },
   {
    "duration": 11,
    "start_time": "2023-03-02T17:18:04.632Z"
   },
   {
    "duration": 5,
    "start_time": "2023-03-02T17:18:09.051Z"
   },
   {
    "duration": 5,
    "start_time": "2023-03-02T17:18:09.933Z"
   },
   {
    "duration": 17,
    "start_time": "2023-03-02T17:18:11.118Z"
   },
   {
    "duration": 274,
    "start_time": "2023-03-02T17:18:11.512Z"
   },
   {
    "duration": 6,
    "start_time": "2023-03-02T17:18:12.291Z"
   },
   {
    "duration": 350,
    "start_time": "2023-03-02T17:18:12.699Z"
   },
   {
    "duration": 5,
    "start_time": "2023-03-02T17:18:13.746Z"
   },
   {
    "duration": 5,
    "start_time": "2023-03-02T17:18:13.952Z"
   },
   {
    "duration": 284,
    "start_time": "2023-03-02T17:18:14.358Z"
   },
   {
    "duration": 4,
    "start_time": "2023-03-02T17:18:16.117Z"
   },
   {
    "duration": 9,
    "start_time": "2023-03-02T17:18:16.366Z"
   },
   {
    "duration": 663,
    "start_time": "2023-03-02T17:18:17.888Z"
   },
   {
    "duration": 169,
    "start_time": "2023-03-02T17:18:19.654Z"
   },
   {
    "duration": 168,
    "start_time": "2023-03-02T17:18:21.075Z"
   },
   {
    "duration": 9,
    "start_time": "2023-03-02T17:18:24.987Z"
   },
   {
    "duration": 7,
    "start_time": "2023-03-02T17:18:44.401Z"
   },
   {
    "duration": 4,
    "start_time": "2023-03-02T17:18:46.717Z"
   },
   {
    "duration": 3,
    "start_time": "2023-03-02T17:18:48.297Z"
   },
   {
    "duration": 117,
    "start_time": "2023-03-02T17:18:49.560Z"
   },
   {
    "duration": 4,
    "start_time": "2023-03-02T17:20:08.479Z"
   },
   {
    "duration": 3,
    "start_time": "2023-03-02T17:20:18.639Z"
   },
   {
    "duration": 98,
    "start_time": "2023-03-02T17:20:19.590Z"
   },
   {
    "duration": 3,
    "start_time": "2023-03-02T17:20:20.898Z"
   },
   {
    "duration": 927,
    "start_time": "2023-03-02T17:20:22.222Z"
   },
   {
    "duration": 4,
    "start_time": "2023-03-02T17:20:25.115Z"
   },
   {
    "duration": 1496,
    "start_time": "2023-03-02T17:21:42.826Z"
   },
   {
    "duration": 48,
    "start_time": "2023-03-02T17:21:44.324Z"
   },
   {
    "duration": 16,
    "start_time": "2023-03-02T17:21:44.373Z"
   },
   {
    "duration": 6,
    "start_time": "2023-03-02T17:21:44.392Z"
   },
   {
    "duration": 6,
    "start_time": "2023-03-02T17:21:44.399Z"
   },
   {
    "duration": 10,
    "start_time": "2023-03-02T17:21:44.406Z"
   },
   {
    "duration": 5,
    "start_time": "2023-03-02T17:21:44.418Z"
   },
   {
    "duration": 25,
    "start_time": "2023-03-02T17:21:44.424Z"
   },
   {
    "duration": 12,
    "start_time": "2023-03-02T17:21:44.451Z"
   },
   {
    "duration": 293,
    "start_time": "2023-03-02T17:21:44.465Z"
   },
   {
    "duration": 7,
    "start_time": "2023-03-02T17:21:44.760Z"
   },
   {
    "duration": 370,
    "start_time": "2023-03-02T17:21:44.768Z"
   },
   {
    "duration": 10,
    "start_time": "2023-03-02T17:21:45.140Z"
   },
   {
    "duration": 6,
    "start_time": "2023-03-02T17:21:45.152Z"
   },
   {
    "duration": 300,
    "start_time": "2023-03-02T17:21:45.159Z"
   },
   {
    "duration": 4,
    "start_time": "2023-03-02T17:21:45.461Z"
   },
   {
    "duration": 18,
    "start_time": "2023-03-02T17:21:45.466Z"
   },
   {
    "duration": 677,
    "start_time": "2023-03-02T17:21:45.486Z"
   },
   {
    "duration": 169,
    "start_time": "2023-03-02T17:21:46.165Z"
   },
   {
    "duration": 169,
    "start_time": "2023-03-02T17:21:46.336Z"
   },
   {
    "duration": 4,
    "start_time": "2023-03-02T17:21:46.507Z"
   },
   {
    "duration": 6,
    "start_time": "2023-03-02T17:21:46.513Z"
   },
   {
    "duration": 4,
    "start_time": "2023-03-02T17:21:46.521Z"
   },
   {
    "duration": 21,
    "start_time": "2023-03-02T17:21:46.527Z"
   },
   {
    "duration": 6,
    "start_time": "2023-03-02T17:21:46.550Z"
   },
   {
    "duration": 257,
    "start_time": "2023-03-02T17:21:46.558Z"
   },
   {
    "duration": 0,
    "start_time": "2023-03-02T17:21:46.817Z"
   },
   {
    "duration": 59,
    "start_time": "2023-03-02T17:22:06.016Z"
   },
   {
    "duration": 4,
    "start_time": "2023-03-02T17:22:29.125Z"
   },
   {
    "duration": 47,
    "start_time": "2023-03-02T17:22:29.988Z"
   },
   {
    "duration": 14,
    "start_time": "2023-03-02T17:22:30.553Z"
   },
   {
    "duration": 8,
    "start_time": "2023-03-02T17:22:30.754Z"
   },
   {
    "duration": 4,
    "start_time": "2023-03-02T17:22:31.148Z"
   },
   {
    "duration": 8,
    "start_time": "2023-03-02T17:22:31.499Z"
   },
   {
    "duration": 6,
    "start_time": "2023-03-02T17:22:32.353Z"
   },
   {
    "duration": 5,
    "start_time": "2023-03-02T17:22:33.395Z"
   },
   {
    "duration": 14,
    "start_time": "2023-03-02T17:22:33.951Z"
   },
   {
    "duration": 206,
    "start_time": "2023-03-02T17:22:34.327Z"
   },
   {
    "duration": 8,
    "start_time": "2023-03-02T17:22:35.337Z"
   },
   {
    "duration": 258,
    "start_time": "2023-03-02T17:22:35.610Z"
   },
   {
    "duration": 5,
    "start_time": "2023-03-02T17:22:36.302Z"
   },
   {
    "duration": 5,
    "start_time": "2023-03-02T17:22:36.485Z"
   },
   {
    "duration": 286,
    "start_time": "2023-03-02T17:22:36.698Z"
   },
   {
    "duration": 4,
    "start_time": "2023-03-02T17:22:37.676Z"
   },
   {
    "duration": 9,
    "start_time": "2023-03-02T17:22:37.908Z"
   },
   {
    "duration": 597,
    "start_time": "2023-03-02T17:22:40.259Z"
   },
   {
    "duration": 282,
    "start_time": "2023-03-02T17:22:40.858Z"
   },
   {
    "duration": 174,
    "start_time": "2023-03-02T17:22:41.148Z"
   },
   {
    "duration": 5,
    "start_time": "2023-03-02T17:22:42.414Z"
   },
   {
    "duration": 6,
    "start_time": "2023-03-02T17:22:54.259Z"
   },
   {
    "duration": 3,
    "start_time": "2023-03-02T17:22:55.998Z"
   },
   {
    "duration": 4,
    "start_time": "2023-03-02T17:22:56.558Z"
   },
   {
    "duration": 3,
    "start_time": "2023-03-02T17:22:57.310Z"
   },
   {
    "duration": 57,
    "start_time": "2023-03-02T17:22:58.333Z"
   },
   {
    "duration": 9,
    "start_time": "2023-03-02T17:24:09.429Z"
   },
   {
    "duration": 6,
    "start_time": "2023-03-02T17:24:10.401Z"
   },
   {
    "duration": 3,
    "start_time": "2023-03-02T17:24:11.520Z"
   },
   {
    "duration": 4,
    "start_time": "2023-03-02T17:24:12.216Z"
   },
   {
    "duration": 3,
    "start_time": "2023-03-02T17:24:12.869Z"
   },
   {
    "duration": 988,
    "start_time": "2023-03-02T17:24:13.563Z"
   },
   {
    "duration": 5,
    "start_time": "2023-03-02T17:24:15.235Z"
   },
   {
    "duration": 9,
    "start_time": "2023-03-02T17:24:50.526Z"
   },
   {
    "duration": 4,
    "start_time": "2023-03-02T17:25:27.487Z"
   },
   {
    "duration": 3,
    "start_time": "2023-03-02T17:25:38.053Z"
   },
   {
    "duration": 3649,
    "start_time": "2023-03-02T17:25:39.000Z"
   },
   {
    "duration": 4,
    "start_time": "2023-03-02T17:25:43.399Z"
   },
   {
    "duration": 3,
    "start_time": "2023-03-02T17:26:04.781Z"
   },
   {
    "duration": 14359,
    "start_time": "2023-03-02T17:26:05.400Z"
   },
   {
    "duration": 3,
    "start_time": "2023-03-02T17:26:23.521Z"
   },
   {
    "duration": 3,
    "start_time": "2023-03-02T17:26:41.221Z"
   },
   {
    "duration": 10397,
    "start_time": "2023-03-02T17:26:41.981Z"
   },
   {
    "duration": 3,
    "start_time": "2023-03-02T17:27:07.172Z"
   },
   {
    "duration": 3,
    "start_time": "2023-03-02T17:27:11.029Z"
   },
   {
    "duration": 979,
    "start_time": "2023-03-02T17:27:12.563Z"
   },
   {
    "duration": 6,
    "start_time": "2023-03-02T17:27:14.718Z"
   },
   {
    "duration": 11,
    "start_time": "2023-03-02T17:27:48.394Z"
   },
   {
    "duration": 4,
    "start_time": "2023-03-02T17:28:10.024Z"
   },
   {
    "duration": 3,
    "start_time": "2023-03-02T17:28:17.421Z"
   },
   {
    "duration": 6,
    "start_time": "2023-03-02T17:28:18.673Z"
   },
   {
    "duration": 11,
    "start_time": "2023-03-02T17:28:43.464Z"
   },
   {
    "duration": 10,
    "start_time": "2023-03-02T17:29:06.157Z"
   },
   {
    "duration": 4,
    "start_time": "2023-03-02T17:29:24.387Z"
   },
   {
    "duration": 225,
    "start_time": "2023-03-02T17:29:31.432Z"
   },
   {
    "duration": 4,
    "start_time": "2023-03-02T17:29:32.355Z"
   },
   {
    "duration": 3,
    "start_time": "2023-03-02T17:29:56.697Z"
   },
   {
    "duration": 5,
    "start_time": "2023-03-02T17:29:57.048Z"
   },
   {
    "duration": 4,
    "start_time": "2023-03-02T17:29:57.621Z"
   },
   {
    "duration": 10,
    "start_time": "2023-03-02T17:29:58.499Z"
   },
   {
    "duration": 3,
    "start_time": "2023-03-02T17:32:34.662Z"
   },
   {
    "duration": 88,
    "start_time": "2023-03-02T17:32:35.562Z"
   },
   {
    "duration": 6,
    "start_time": "2023-03-02T17:33:05.939Z"
   },
   {
    "duration": 4,
    "start_time": "2023-03-02T17:33:06.775Z"
   },
   {
    "duration": 4,
    "start_time": "2023-03-02T17:33:07.716Z"
   },
   {
    "duration": 2,
    "start_time": "2023-03-02T17:33:57.615Z"
   },
   {
    "duration": 54,
    "start_time": "2023-03-02T17:33:58.304Z"
   },
   {
    "duration": 8,
    "start_time": "2023-03-02T17:33:59.537Z"
   },
   {
    "duration": 3,
    "start_time": "2023-03-02T17:34:00.263Z"
   },
   {
    "duration": 4,
    "start_time": "2023-03-02T17:34:00.923Z"
   },
   {
    "duration": 4,
    "start_time": "2023-03-02T17:42:33.024Z"
   },
   {
    "duration": 3,
    "start_time": "2023-03-02T17:42:34.127Z"
   },
   {
    "duration": 902,
    "start_time": "2023-03-02T17:42:34.947Z"
   },
   {
    "duration": 867,
    "start_time": "2023-03-02T17:42:53.691Z"
   },
   {
    "duration": 4,
    "start_time": "2023-03-02T17:42:58.222Z"
   },
   {
    "duration": 3,
    "start_time": "2023-03-02T17:43:07.965Z"
   },
   {
    "duration": 16450,
    "start_time": "2023-03-02T17:43:21.103Z"
   },
   {
    "duration": 4,
    "start_time": "2023-03-02T17:43:37.555Z"
   },
   {
    "duration": 3,
    "start_time": "2023-03-02T17:43:44.327Z"
   },
   {
    "duration": 21066,
    "start_time": "2023-03-02T17:43:52.528Z"
   },
   {
    "duration": 4,
    "start_time": "2023-03-02T17:44:24.778Z"
   },
   {
    "duration": 3,
    "start_time": "2023-03-02T17:44:31.498Z"
   },
   {
    "duration": 49376,
    "start_time": "2023-03-02T17:44:39.160Z"
   },
   {
    "duration": 3,
    "start_time": "2023-03-02T17:45:28.538Z"
   },
   {
    "duration": 230,
    "start_time": "2023-03-02T17:45:28.548Z"
   },
   {
    "duration": 4,
    "start_time": "2023-03-02T17:45:28.780Z"
   },
   {
    "duration": 9,
    "start_time": "2023-03-02T17:45:28.786Z"
   },
   {
    "duration": 10,
    "start_time": "2023-03-02T17:45:28.797Z"
   },
   {
    "duration": 1435,
    "start_time": "2023-03-02T17:46:07.959Z"
   },
   {
    "duration": 48,
    "start_time": "2023-03-02T17:46:09.396Z"
   },
   {
    "duration": 18,
    "start_time": "2023-03-02T17:46:09.446Z"
   },
   {
    "duration": 18,
    "start_time": "2023-03-02T17:46:09.466Z"
   },
   {
    "duration": 19,
    "start_time": "2023-03-02T17:46:09.486Z"
   },
   {
    "duration": 23,
    "start_time": "2023-03-02T17:46:09.507Z"
   },
   {
    "duration": 23,
    "start_time": "2023-03-02T17:46:09.532Z"
   },
   {
    "duration": 16,
    "start_time": "2023-03-02T17:46:09.557Z"
   },
   {
    "duration": 36,
    "start_time": "2023-03-02T17:46:09.574Z"
   },
   {
    "duration": 285,
    "start_time": "2023-03-02T17:46:09.611Z"
   },
   {
    "duration": 8,
    "start_time": "2023-03-02T17:46:09.898Z"
   },
   {
    "duration": 385,
    "start_time": "2023-03-02T17:46:09.908Z"
   },
   {
    "duration": 5,
    "start_time": "2023-03-02T17:46:10.294Z"
   },
   {
    "duration": 13,
    "start_time": "2023-03-02T17:46:10.302Z"
   },
   {
    "duration": 288,
    "start_time": "2023-03-02T17:46:10.317Z"
   },
   {
    "duration": 4,
    "start_time": "2023-03-02T17:46:10.606Z"
   },
   {
    "duration": 28,
    "start_time": "2023-03-02T17:46:10.612Z"
   },
   {
    "duration": 605,
    "start_time": "2023-03-02T17:46:10.642Z"
   },
   {
    "duration": 187,
    "start_time": "2023-03-02T17:46:11.249Z"
   },
   {
    "duration": 177,
    "start_time": "2023-03-02T17:46:11.438Z"
   },
   {
    "duration": 8,
    "start_time": "2023-03-02T17:46:11.616Z"
   },
   {
    "duration": 30,
    "start_time": "2023-03-02T17:46:11.626Z"
   },
   {
    "duration": 24,
    "start_time": "2023-03-02T17:46:11.657Z"
   },
   {
    "duration": 160,
    "start_time": "2023-03-02T17:46:11.683Z"
   },
   {
    "duration": 0,
    "start_time": "2023-03-02T17:46:11.846Z"
   },
   {
    "duration": 0,
    "start_time": "2023-03-02T17:46:11.847Z"
   },
   {
    "duration": 0,
    "start_time": "2023-03-02T17:46:11.848Z"
   },
   {
    "duration": 0,
    "start_time": "2023-03-02T17:46:11.849Z"
   },
   {
    "duration": 0,
    "start_time": "2023-03-02T17:46:11.851Z"
   },
   {
    "duration": 0,
    "start_time": "2023-03-02T17:46:11.852Z"
   },
   {
    "duration": 0,
    "start_time": "2023-03-02T17:46:11.853Z"
   },
   {
    "duration": 0,
    "start_time": "2023-03-02T17:46:11.854Z"
   },
   {
    "duration": 0,
    "start_time": "2023-03-02T17:46:11.855Z"
   },
   {
    "duration": 0,
    "start_time": "2023-03-02T17:46:11.857Z"
   },
   {
    "duration": 0,
    "start_time": "2023-03-02T17:46:11.858Z"
   },
   {
    "duration": 0,
    "start_time": "2023-03-02T17:46:11.859Z"
   },
   {
    "duration": 0,
    "start_time": "2023-03-02T17:46:11.860Z"
   },
   {
    "duration": 0,
    "start_time": "2023-03-02T17:46:11.861Z"
   },
   {
    "duration": 0,
    "start_time": "2023-03-02T17:46:11.862Z"
   },
   {
    "duration": 0,
    "start_time": "2023-03-02T17:46:11.863Z"
   },
   {
    "duration": 0,
    "start_time": "2023-03-02T17:46:11.865Z"
   },
   {
    "duration": 0,
    "start_time": "2023-03-02T17:46:11.866Z"
   },
   {
    "duration": 0,
    "start_time": "2023-03-02T17:46:11.867Z"
   },
   {
    "duration": 0,
    "start_time": "2023-03-02T17:46:11.868Z"
   },
   {
    "duration": 0,
    "start_time": "2023-03-02T17:46:11.869Z"
   },
   {
    "duration": 0,
    "start_time": "2023-03-02T17:46:11.870Z"
   },
   {
    "duration": 0,
    "start_time": "2023-03-02T17:46:11.871Z"
   },
   {
    "duration": 4,
    "start_time": "2023-03-02T17:46:51.850Z"
   },
   {
    "duration": 3,
    "start_time": "2023-03-02T17:46:52.811Z"
   },
   {
    "duration": 993,
    "start_time": "2023-03-02T17:46:53.855Z"
   },
   {
    "duration": 4,
    "start_time": "2023-03-02T17:47:04.014Z"
   },
   {
    "duration": 8,
    "start_time": "2023-03-02T17:47:04.019Z"
   },
   {
    "duration": 14440,
    "start_time": "2023-03-02T17:47:04.028Z"
   },
   {
    "duration": 80,
    "start_time": "2023-03-02T17:47:18.470Z"
   },
   {
    "duration": 5,
    "start_time": "2023-03-02T17:47:18.553Z"
   },
   {
    "duration": 20641,
    "start_time": "2023-03-02T17:47:18.560Z"
   },
   {
    "duration": 4,
    "start_time": "2023-03-02T17:47:39.203Z"
   },
   {
    "duration": 22,
    "start_time": "2023-03-02T17:47:39.208Z"
   },
   {
    "duration": 49347,
    "start_time": "2023-03-02T17:47:39.231Z"
   },
   {
    "duration": 3,
    "start_time": "2023-03-02T17:48:28.580Z"
   },
   {
    "duration": 219,
    "start_time": "2023-03-02T17:48:28.585Z"
   },
   {
    "duration": 4,
    "start_time": "2023-03-02T17:48:28.806Z"
   },
   {
    "duration": 5,
    "start_time": "2023-03-02T17:48:28.811Z"
   },
   {
    "duration": 6,
    "start_time": "2023-03-02T17:48:28.818Z"
   },
   {
    "duration": 137,
    "start_time": "2023-03-02T17:48:28.825Z"
   },
   {
    "duration": 0,
    "start_time": "2023-03-02T17:48:28.964Z"
   },
   {
    "duration": 0,
    "start_time": "2023-03-02T17:48:28.966Z"
   },
   {
    "duration": 0,
    "start_time": "2023-03-02T17:48:28.967Z"
   },
   {
    "duration": 0,
    "start_time": "2023-03-02T17:48:28.968Z"
   },
   {
    "duration": 0,
    "start_time": "2023-03-02T17:48:28.969Z"
   },
   {
    "duration": 0,
    "start_time": "2023-03-02T17:48:28.970Z"
   },
   {
    "duration": 15,
    "start_time": "2023-03-02T17:48:57.106Z"
   },
   {
    "duration": 4,
    "start_time": "2023-03-02T17:49:13.864Z"
   },
   {
    "duration": 16,
    "start_time": "2023-03-02T17:49:15.755Z"
   },
   {
    "duration": 3,
    "start_time": "2023-03-02T17:50:05.978Z"
   },
   {
    "duration": 3,
    "start_time": "2023-03-02T17:50:11.111Z"
   },
   {
    "duration": 14,
    "start_time": "2023-03-02T17:50:20.046Z"
   },
   {
    "duration": 4,
    "start_time": "2023-03-02T17:50:30.474Z"
   },
   {
    "duration": 3,
    "start_time": "2023-03-02T17:50:36.796Z"
   },
   {
    "duration": 4,
    "start_time": "2023-03-02T17:50:37.747Z"
   },
   {
    "duration": 7,
    "start_time": "2023-03-02T17:53:17.843Z"
   },
   {
    "duration": 6,
    "start_time": "2023-03-02T17:53:22.076Z"
   },
   {
    "duration": 3,
    "start_time": "2023-03-02T17:53:23.239Z"
   },
   {
    "duration": 5,
    "start_time": "2023-03-02T17:53:33.497Z"
   },
   {
    "duration": 3,
    "start_time": "2023-03-02T17:53:34.298Z"
   },
   {
    "duration": 83,
    "start_time": "2023-03-02T17:53:35.852Z"
   },
   {
    "duration": 3,
    "start_time": "2023-03-02T17:53:38.014Z"
   },
   {
    "duration": 76,
    "start_time": "2023-03-02T17:53:38.442Z"
   },
   {
    "duration": 4,
    "start_time": "2023-03-02T17:53:39.035Z"
   },
   {
    "duration": 3,
    "start_time": "2023-03-02T17:53:40.668Z"
   },
   {
    "duration": 16064,
    "start_time": "2023-03-02T17:53:41.494Z"
   },
   {
    "duration": 3,
    "start_time": "2023-03-02T17:53:57.560Z"
   },
   {
    "duration": 5,
    "start_time": "2023-03-02T17:53:57.564Z"
   },
   {
    "duration": 15964,
    "start_time": "2023-03-02T17:53:57.571Z"
   },
   {
    "duration": 5,
    "start_time": "2023-03-02T17:54:13.537Z"
   },
   {
    "duration": 6,
    "start_time": "2023-03-02T17:54:13.544Z"
   },
   {
    "duration": 30743,
    "start_time": "2023-03-02T17:54:13.552Z"
   },
   {
    "duration": 4,
    "start_time": "2023-03-02T17:54:44.297Z"
   },
   {
    "duration": 155,
    "start_time": "2023-03-02T17:54:44.302Z"
   },
   {
    "duration": 3,
    "start_time": "2023-03-02T17:54:44.460Z"
   },
   {
    "duration": 4,
    "start_time": "2023-03-02T17:54:44.465Z"
   },
   {
    "duration": 8,
    "start_time": "2023-03-02T17:54:44.471Z"
   },
   {
    "duration": 6,
    "start_time": "2023-03-02T17:54:44.481Z"
   },
   {
    "duration": 13,
    "start_time": "2023-03-02T17:54:44.489Z"
   },
   {
    "duration": 8,
    "start_time": "2023-03-02T17:54:44.503Z"
   },
   {
    "duration": 12,
    "start_time": "2023-03-02T17:54:44.512Z"
   },
   {
    "duration": 5,
    "start_time": "2023-03-02T17:54:44.526Z"
   },
   {
    "duration": 18,
    "start_time": "2023-03-02T17:54:44.532Z"
   },
   {
    "duration": 6,
    "start_time": "2023-03-02T17:54:44.552Z"
   },
   {
    "duration": 1471,
    "start_time": "2023-03-02T17:56:13.245Z"
   },
   {
    "duration": 52,
    "start_time": "2023-03-02T17:56:14.718Z"
   },
   {
    "duration": 17,
    "start_time": "2023-03-02T17:56:14.772Z"
   },
   {
    "duration": 7,
    "start_time": "2023-03-02T17:56:14.790Z"
   },
   {
    "duration": 4,
    "start_time": "2023-03-02T17:56:14.799Z"
   },
   {
    "duration": 11,
    "start_time": "2023-03-02T17:56:14.804Z"
   },
   {
    "duration": 6,
    "start_time": "2023-03-02T17:56:14.816Z"
   },
   {
    "duration": 7,
    "start_time": "2023-03-02T17:56:14.849Z"
   },
   {
    "duration": 14,
    "start_time": "2023-03-02T17:56:14.858Z"
   },
   {
    "duration": 300,
    "start_time": "2023-03-02T17:56:14.873Z"
   },
   {
    "duration": 7,
    "start_time": "2023-03-02T17:56:15.175Z"
   },
   {
    "duration": 395,
    "start_time": "2023-03-02T17:56:15.184Z"
   },
   {
    "duration": 6,
    "start_time": "2023-03-02T17:56:15.581Z"
   },
   {
    "duration": 20,
    "start_time": "2023-03-02T17:56:15.591Z"
   },
   {
    "duration": 333,
    "start_time": "2023-03-02T17:56:15.615Z"
   },
   {
    "duration": 4,
    "start_time": "2023-03-02T17:56:15.951Z"
   },
   {
    "duration": 17,
    "start_time": "2023-03-02T17:56:15.957Z"
   },
   {
    "duration": 620,
    "start_time": "2023-03-02T17:56:15.975Z"
   },
   {
    "duration": 168,
    "start_time": "2023-03-02T17:56:16.596Z"
   },
   {
    "duration": 180,
    "start_time": "2023-03-02T17:56:16.766Z"
   },
   {
    "duration": 8,
    "start_time": "2023-03-02T17:56:16.947Z"
   },
   {
    "duration": 7,
    "start_time": "2023-03-02T17:56:16.956Z"
   },
   {
    "duration": 6,
    "start_time": "2023-03-02T17:56:16.964Z"
   },
   {
    "duration": 108,
    "start_time": "2023-03-02T17:56:16.971Z"
   },
   {
    "duration": 13,
    "start_time": "2023-03-02T17:56:17.080Z"
   },
   {
    "duration": 80,
    "start_time": "2023-03-02T17:56:17.094Z"
   },
   {
    "duration": 4,
    "start_time": "2023-03-02T17:56:17.176Z"
   },
   {
    "duration": 6,
    "start_time": "2023-03-02T17:56:17.181Z"
   },
   {
    "duration": 22672,
    "start_time": "2023-03-02T17:56:17.188Z"
   },
   {
    "duration": 87,
    "start_time": "2023-03-02T17:56:39.862Z"
   },
   {
    "duration": 9,
    "start_time": "2023-03-02T17:56:39.951Z"
   },
   {
    "duration": 15416,
    "start_time": "2023-03-02T17:56:39.961Z"
   },
   {
    "duration": 4,
    "start_time": "2023-03-02T17:56:55.379Z"
   },
   {
    "duration": 12,
    "start_time": "2023-03-02T17:56:55.384Z"
   },
   {
    "duration": 30676,
    "start_time": "2023-03-02T17:56:55.397Z"
   },
   {
    "duration": 4,
    "start_time": "2023-03-02T17:57:26.075Z"
   },
   {
    "duration": 158,
    "start_time": "2023-03-02T17:57:26.081Z"
   },
   {
    "duration": 7,
    "start_time": "2023-03-02T17:57:26.241Z"
   },
   {
    "duration": 11,
    "start_time": "2023-03-02T17:57:26.250Z"
   },
   {
    "duration": 32,
    "start_time": "2023-03-02T17:57:26.262Z"
   },
   {
    "duration": 14,
    "start_time": "2023-03-02T17:57:26.297Z"
   },
   {
    "duration": 25,
    "start_time": "2023-03-02T17:57:26.313Z"
   },
   {
    "duration": 4,
    "start_time": "2023-03-02T17:57:26.340Z"
   },
   {
    "duration": 11,
    "start_time": "2023-03-02T17:57:26.346Z"
   },
   {
    "duration": 6,
    "start_time": "2023-03-02T17:57:26.359Z"
   },
   {
    "duration": 8,
    "start_time": "2023-03-02T17:57:26.366Z"
   },
   {
    "duration": 15,
    "start_time": "2023-03-02T17:57:26.376Z"
   },
   {
    "duration": 1447,
    "start_time": "2023-03-02T17:58:24.258Z"
   },
   {
    "duration": 47,
    "start_time": "2023-03-02T17:58:25.707Z"
   },
   {
    "duration": 17,
    "start_time": "2023-03-02T17:58:25.756Z"
   },
   {
    "duration": 6,
    "start_time": "2023-03-02T17:58:25.775Z"
   },
   {
    "duration": 9,
    "start_time": "2023-03-02T17:58:25.783Z"
   },
   {
    "duration": 13,
    "start_time": "2023-03-02T17:58:25.794Z"
   },
   {
    "duration": 5,
    "start_time": "2023-03-02T17:58:25.809Z"
   },
   {
    "duration": 33,
    "start_time": "2023-03-02T17:58:25.816Z"
   },
   {
    "duration": 14,
    "start_time": "2023-03-02T17:58:25.851Z"
   },
   {
    "duration": 284,
    "start_time": "2023-03-02T17:58:25.867Z"
   },
   {
    "duration": 7,
    "start_time": "2023-03-02T17:58:26.153Z"
   },
   {
    "duration": 334,
    "start_time": "2023-03-02T17:58:26.161Z"
   },
   {
    "duration": 5,
    "start_time": "2023-03-02T17:58:26.497Z"
   },
   {
    "duration": 14,
    "start_time": "2023-03-02T17:58:26.503Z"
   },
   {
    "duration": 284,
    "start_time": "2023-03-02T17:58:26.518Z"
   },
   {
    "duration": 3,
    "start_time": "2023-03-02T17:58:26.804Z"
   },
   {
    "duration": 23,
    "start_time": "2023-03-02T17:58:26.809Z"
   },
   {
    "duration": 609,
    "start_time": "2023-03-02T17:58:26.834Z"
   },
   {
    "duration": 164,
    "start_time": "2023-03-02T17:58:27.444Z"
   },
   {
    "duration": 176,
    "start_time": "2023-03-02T17:58:27.610Z"
   },
   {
    "duration": 9,
    "start_time": "2023-03-02T17:58:27.788Z"
   },
   {
    "duration": 6,
    "start_time": "2023-03-02T17:58:27.798Z"
   },
   {
    "duration": 9,
    "start_time": "2023-03-02T17:58:27.805Z"
   },
   {
    "duration": 6,
    "start_time": "2023-03-02T17:58:27.816Z"
   },
   {
    "duration": 10,
    "start_time": "2023-03-02T17:58:27.824Z"
   },
   {
    "duration": 12316,
    "start_time": "2023-03-02T17:58:27.835Z"
   },
   {
    "duration": 96,
    "start_time": "2023-03-02T17:58:40.153Z"
   },
   {
    "duration": 5,
    "start_time": "2023-03-02T17:58:40.254Z"
   },
   {
    "duration": 23098,
    "start_time": "2023-03-02T17:58:40.261Z"
   },
   {
    "duration": 4,
    "start_time": "2023-03-02T17:59:03.361Z"
   },
   {
    "duration": 82,
    "start_time": "2023-03-02T17:59:03.367Z"
   },
   {
    "duration": 57721,
    "start_time": "2023-03-02T17:59:03.451Z"
   },
   {
    "duration": 4,
    "start_time": "2023-03-02T18:00:01.173Z"
   },
   {
    "duration": 30,
    "start_time": "2023-03-02T18:00:01.179Z"
   },
   {
    "duration": 162776,
    "start_time": "2023-03-02T18:00:01.211Z"
   },
   {
    "duration": 3,
    "start_time": "2023-03-02T18:02:43.989Z"
   },
   {
    "duration": 566,
    "start_time": "2023-03-02T18:02:43.994Z"
   },
   {
    "duration": 4,
    "start_time": "2023-03-02T18:02:44.562Z"
   },
   {
    "duration": 7,
    "start_time": "2023-03-02T18:02:44.568Z"
   },
   {
    "duration": 10,
    "start_time": "2023-03-02T18:02:44.576Z"
   },
   {
    "duration": 6,
    "start_time": "2023-03-02T18:02:44.588Z"
   },
   {
    "duration": 15,
    "start_time": "2023-03-02T18:02:44.596Z"
   },
   {
    "duration": 5,
    "start_time": "2023-03-02T18:02:44.612Z"
   },
   {
    "duration": 1538,
    "start_time": "2023-03-02T18:02:44.619Z"
   },
   {
    "duration": 90,
    "start_time": "2023-03-02T18:02:46.161Z"
   },
   {
    "duration": 96,
    "start_time": "2023-03-02T18:02:46.254Z"
   },
   {
    "duration": 16,
    "start_time": "2023-03-02T18:02:46.353Z"
   },
   {
    "duration": 1427,
    "start_time": "2023-03-02T18:04:08.159Z"
   },
   {
    "duration": 48,
    "start_time": "2023-03-02T18:04:09.588Z"
   },
   {
    "duration": 16,
    "start_time": "2023-03-02T18:04:09.637Z"
   },
   {
    "duration": 6,
    "start_time": "2023-03-02T18:04:09.655Z"
   },
   {
    "duration": 8,
    "start_time": "2023-03-02T18:04:09.662Z"
   },
   {
    "duration": 10,
    "start_time": "2023-03-02T18:04:09.671Z"
   },
   {
    "duration": 5,
    "start_time": "2023-03-02T18:04:09.682Z"
   },
   {
    "duration": 6,
    "start_time": "2023-03-02T18:04:09.689Z"
   },
   {
    "duration": 12,
    "start_time": "2023-03-02T18:04:09.697Z"
   },
   {
    "duration": 306,
    "start_time": "2023-03-02T18:04:09.711Z"
   },
   {
    "duration": 7,
    "start_time": "2023-03-02T18:04:10.019Z"
   },
   {
    "duration": 340,
    "start_time": "2023-03-02T18:04:10.028Z"
   },
   {
    "duration": 4,
    "start_time": "2023-03-02T18:04:10.370Z"
   },
   {
    "duration": 7,
    "start_time": "2023-03-02T18:04:10.376Z"
   },
   {
    "duration": 292,
    "start_time": "2023-03-02T18:04:10.384Z"
   },
   {
    "duration": 4,
    "start_time": "2023-03-02T18:04:10.677Z"
   },
   {
    "duration": 25,
    "start_time": "2023-03-02T18:04:10.683Z"
   },
   {
    "duration": 625,
    "start_time": "2023-03-02T18:04:10.710Z"
   },
   {
    "duration": 168,
    "start_time": "2023-03-02T18:04:11.336Z"
   },
   {
    "duration": 170,
    "start_time": "2023-03-02T18:04:11.505Z"
   },
   {
    "duration": 9,
    "start_time": "2023-03-02T18:04:11.677Z"
   },
   {
    "duration": 44,
    "start_time": "2023-03-02T18:04:11.687Z"
   },
   {
    "duration": 29,
    "start_time": "2023-03-02T18:04:11.732Z"
   },
   {
    "duration": 31,
    "start_time": "2023-03-02T18:04:11.763Z"
   },
   {
    "duration": 67,
    "start_time": "2023-03-02T18:04:11.795Z"
   },
   {
    "duration": 13987,
    "start_time": "2023-03-02T18:04:11.864Z"
   },
   {
    "duration": 5,
    "start_time": "2023-03-02T18:04:25.852Z"
   },
   {
    "duration": 86,
    "start_time": "2023-03-02T18:04:25.862Z"
   },
   {
    "duration": 152107,
    "start_time": "2023-03-02T18:04:25.950Z"
   },
   {
    "duration": 3,
    "start_time": "2023-03-02T18:06:58.059Z"
   },
   {
    "duration": 17,
    "start_time": "2023-03-02T18:06:58.064Z"
   },
   {
    "duration": 56091,
    "start_time": "2023-03-02T18:06:58.083Z"
   },
   {
    "duration": 4,
    "start_time": "2023-03-02T18:07:54.176Z"
   },
   {
    "duration": 6,
    "start_time": "2023-03-02T18:07:54.183Z"
   },
   {
    "duration": 8702,
    "start_time": "2023-03-02T18:07:54.191Z"
   },
   {
    "duration": 4,
    "start_time": "2023-03-02T18:08:02.894Z"
   },
   {
    "duration": 532,
    "start_time": "2023-03-02T18:08:02.899Z"
   },
   {
    "duration": 4,
    "start_time": "2023-03-02T18:08:03.433Z"
   },
   {
    "duration": 6,
    "start_time": "2023-03-02T18:08:03.439Z"
   },
   {
    "duration": 10,
    "start_time": "2023-03-02T18:08:03.448Z"
   },
   {
    "duration": 10,
    "start_time": "2023-03-02T18:08:03.460Z"
   },
   {
    "duration": 13,
    "start_time": "2023-03-02T18:08:03.472Z"
   },
   {
    "duration": 8,
    "start_time": "2023-03-02T18:08:03.486Z"
   },
   {
    "duration": 1358,
    "start_time": "2023-03-02T18:08:03.496Z"
   },
   {
    "duration": 96,
    "start_time": "2023-03-02T18:08:04.856Z"
   },
   {
    "duration": 121,
    "start_time": "2023-03-02T18:08:04.954Z"
   },
   {
    "duration": 78,
    "start_time": "2023-03-02T18:08:05.077Z"
   },
   {
    "duration": 2441,
    "start_time": "2023-03-02T21:14:52.076Z"
   },
   {
    "duration": 48,
    "start_time": "2023-03-02T21:14:54.519Z"
   },
   {
    "duration": 16,
    "start_time": "2023-03-02T21:15:23.721Z"
   },
   {
    "duration": 6,
    "start_time": "2023-03-02T21:15:24.441Z"
   },
   {
    "duration": 4,
    "start_time": "2023-03-02T21:15:26.397Z"
   },
   {
    "duration": 9,
    "start_time": "2023-03-02T21:15:43.996Z"
   },
   {
    "duration": 6,
    "start_time": "2023-03-02T21:16:02.818Z"
   },
   {
    "duration": 5,
    "start_time": "2023-03-02T21:16:03.501Z"
   },
   {
    "duration": 13,
    "start_time": "2023-03-02T21:16:03.772Z"
   },
   {
    "duration": 246,
    "start_time": "2023-03-02T21:16:05.365Z"
   },
   {
    "duration": 7,
    "start_time": "2023-03-02T21:16:46.504Z"
   },
   {
    "duration": 313,
    "start_time": "2023-03-02T21:16:46.943Z"
   },
   {
    "duration": 4,
    "start_time": "2023-03-02T21:17:13.589Z"
   },
   {
    "duration": 4,
    "start_time": "2023-03-02T21:17:14.177Z"
   },
   {
    "duration": 269,
    "start_time": "2023-03-02T21:17:14.525Z"
   },
   {
    "duration": 4,
    "start_time": "2023-03-02T21:17:24.538Z"
   },
   {
    "duration": 22,
    "start_time": "2023-03-02T21:17:33.005Z"
   },
   {
    "duration": 560,
    "start_time": "2023-03-02T21:18:21.457Z"
   },
   {
    "duration": 11,
    "start_time": "2023-03-02T21:19:02.115Z"
   },
   {
    "duration": 7,
    "start_time": "2023-03-02T21:19:03.289Z"
   },
   {
    "duration": 3,
    "start_time": "2023-03-02T21:19:39.809Z"
   },
   {
    "duration": 1804,
    "start_time": "2023-03-02T22:02:13.276Z"
   },
   {
    "duration": 194,
    "start_time": "2023-03-02T22:02:15.085Z"
   },
   {
    "duration": 25,
    "start_time": "2023-03-02T22:02:15.283Z"
   },
   {
    "duration": 9,
    "start_time": "2023-03-02T22:02:15.310Z"
   },
   {
    "duration": 14,
    "start_time": "2023-03-02T22:02:15.322Z"
   },
   {
    "duration": 44,
    "start_time": "2023-03-02T22:02:15.337Z"
   },
   {
    "duration": 27,
    "start_time": "2023-03-02T22:02:15.383Z"
   },
   {
    "duration": 9,
    "start_time": "2023-03-02T22:02:15.412Z"
   },
   {
    "duration": 14,
    "start_time": "2023-03-02T22:02:15.423Z"
   },
   {
    "duration": 297,
    "start_time": "2023-03-02T22:02:15.440Z"
   },
   {
    "duration": 17,
    "start_time": "2023-03-02T22:02:15.739Z"
   },
   {
    "duration": 488,
    "start_time": "2023-03-02T22:02:15.758Z"
   },
   {
    "duration": 6,
    "start_time": "2023-03-02T22:02:16.254Z"
   },
   {
    "duration": 55,
    "start_time": "2023-03-02T22:02:16.266Z"
   },
   {
    "duration": 364,
    "start_time": "2023-03-02T22:02:16.323Z"
   },
   {
    "duration": 5,
    "start_time": "2023-03-02T22:02:16.691Z"
   },
   {
    "duration": 23,
    "start_time": "2023-03-02T22:02:16.697Z"
   },
   {
    "duration": 668,
    "start_time": "2023-03-02T22:02:16.722Z"
   },
   {
    "duration": 194,
    "start_time": "2023-03-02T22:02:17.393Z"
   },
   {
    "duration": 187,
    "start_time": "2023-03-02T22:02:17.589Z"
   },
   {
    "duration": 12,
    "start_time": "2023-03-02T22:02:17.779Z"
   },
   {
    "duration": 12,
    "start_time": "2023-03-02T22:02:17.792Z"
   },
   {
    "duration": 28,
    "start_time": "2023-03-02T22:02:17.806Z"
   },
   {
    "duration": 41,
    "start_time": "2023-03-02T22:02:17.835Z"
   },
   {
    "duration": 17,
    "start_time": "2023-03-02T22:02:17.879Z"
   },
   {
    "duration": 244,
    "start_time": "2023-03-02T22:02:17.897Z"
   },
   {
    "duration": 0,
    "start_time": "2023-03-02T22:02:18.143Z"
   },
   {
    "duration": 0,
    "start_time": "2023-03-02T22:02:18.148Z"
   },
   {
    "duration": 0,
    "start_time": "2023-03-02T22:02:18.148Z"
   },
   {
    "duration": 1,
    "start_time": "2023-03-02T22:02:18.153Z"
   },
   {
    "duration": 0,
    "start_time": "2023-03-02T22:02:18.154Z"
   },
   {
    "duration": 0,
    "start_time": "2023-03-02T22:02:18.155Z"
   },
   {
    "duration": 0,
    "start_time": "2023-03-02T22:02:18.155Z"
   },
   {
    "duration": 0,
    "start_time": "2023-03-02T22:02:18.156Z"
   },
   {
    "duration": 0,
    "start_time": "2023-03-02T22:02:18.156Z"
   },
   {
    "duration": 0,
    "start_time": "2023-03-02T22:02:18.157Z"
   },
   {
    "duration": 0,
    "start_time": "2023-03-02T22:02:18.158Z"
   },
   {
    "duration": 0,
    "start_time": "2023-03-02T22:02:18.162Z"
   },
   {
    "duration": 0,
    "start_time": "2023-03-02T22:02:18.164Z"
   },
   {
    "duration": 0,
    "start_time": "2023-03-02T22:02:18.166Z"
   },
   {
    "duration": 0,
    "start_time": "2023-03-02T22:02:18.166Z"
   },
   {
    "duration": 0,
    "start_time": "2023-03-02T22:02:18.167Z"
   },
   {
    "duration": 0,
    "start_time": "2023-03-02T22:02:18.169Z"
   },
   {
    "duration": 0,
    "start_time": "2023-03-02T22:02:18.169Z"
   },
   {
    "duration": 0,
    "start_time": "2023-03-02T22:02:18.170Z"
   },
   {
    "duration": 0,
    "start_time": "2023-03-02T22:02:18.170Z"
   },
   {
    "duration": 0,
    "start_time": "2023-03-02T22:02:18.171Z"
   },
   {
    "duration": 4,
    "start_time": "2023-03-02T22:04:52.240Z"
   },
   {
    "duration": 26,
    "start_time": "2023-03-02T22:04:53.374Z"
   },
   {
    "duration": 6,
    "start_time": "2023-03-02T22:05:13.231Z"
   },
   {
    "duration": 915,
    "start_time": "2023-03-02T22:05:24.077Z"
   },
   {
    "duration": 3,
    "start_time": "2023-03-02T22:05:34.691Z"
   },
   {
    "duration": 694,
    "start_time": "2023-03-02T22:05:35.767Z"
   },
   {
    "duration": 4,
    "start_time": "2023-03-02T22:05:55.143Z"
   },
   {
    "duration": 5,
    "start_time": "2023-03-02T22:06:21.375Z"
   },
   {
    "duration": 758,
    "start_time": "2023-03-02T22:06:23.137Z"
   },
   {
    "duration": 12,
    "start_time": "2023-03-02T22:06:24.959Z"
   },
   {
    "duration": 4,
    "start_time": "2023-03-02T22:06:29.138Z"
   },
   {
    "duration": 22,
    "start_time": "2023-03-02T22:06:30.040Z"
   },
   {
    "duration": 11,
    "start_time": "2023-03-02T22:06:30.128Z"
   },
   {
    "duration": 1793,
    "start_time": "2023-03-02T22:08:04.900Z"
   },
   {
    "duration": 46,
    "start_time": "2023-03-02T22:08:06.697Z"
   },
   {
    "duration": 40,
    "start_time": "2023-03-02T22:08:06.745Z"
   },
   {
    "duration": 13,
    "start_time": "2023-03-02T22:08:06.788Z"
   },
   {
    "duration": 5,
    "start_time": "2023-03-02T22:08:06.804Z"
   },
   {
    "duration": 11,
    "start_time": "2023-03-02T22:08:06.811Z"
   },
   {
    "duration": 6,
    "start_time": "2023-03-02T22:08:06.824Z"
   },
   {
    "duration": 11,
    "start_time": "2023-03-02T22:08:06.831Z"
   },
   {
    "duration": 43,
    "start_time": "2023-03-02T22:08:06.855Z"
   },
   {
    "duration": 319,
    "start_time": "2023-03-02T22:08:06.900Z"
   },
   {
    "duration": 9,
    "start_time": "2023-03-02T22:08:07.221Z"
   },
   {
    "duration": 423,
    "start_time": "2023-03-02T22:08:07.231Z"
   },
   {
    "duration": 11,
    "start_time": "2023-03-02T22:08:07.663Z"
   },
   {
    "duration": 25,
    "start_time": "2023-03-02T22:08:07.677Z"
   },
   {
    "duration": 437,
    "start_time": "2023-03-02T22:08:07.704Z"
   },
   {
    "duration": 7,
    "start_time": "2023-03-02T22:08:08.148Z"
   },
   {
    "duration": 11,
    "start_time": "2023-03-02T22:08:08.157Z"
   },
   {
    "duration": 737,
    "start_time": "2023-03-02T22:08:08.169Z"
   },
   {
    "duration": 201,
    "start_time": "2023-03-02T22:08:08.909Z"
   },
   {
    "duration": 227,
    "start_time": "2023-03-02T22:08:09.112Z"
   },
   {
    "duration": 9,
    "start_time": "2023-03-02T22:08:09.341Z"
   },
   {
    "duration": 49,
    "start_time": "2023-03-02T22:08:09.351Z"
   },
   {
    "duration": 12,
    "start_time": "2023-03-02T22:08:09.401Z"
   },
   {
    "duration": 6,
    "start_time": "2023-03-02T22:08:09.415Z"
   },
   {
    "duration": 8,
    "start_time": "2023-03-02T22:08:09.423Z"
   },
   {
    "duration": 857,
    "start_time": "2023-03-02T22:08:09.432Z"
   },
   {
    "duration": 28,
    "start_time": "2023-03-02T22:08:10.352Z"
   },
   {
    "duration": 110,
    "start_time": "2023-03-02T22:08:10.382Z"
   },
   {
    "duration": 1689,
    "start_time": "2023-03-02T22:13:15.793Z"
   },
   {
    "duration": 55,
    "start_time": "2023-03-02T22:13:17.490Z"
   },
   {
    "duration": 24,
    "start_time": "2023-03-02T22:13:17.547Z"
   },
   {
    "duration": 35,
    "start_time": "2023-03-02T22:13:17.573Z"
   },
   {
    "duration": 12,
    "start_time": "2023-03-02T22:13:17.610Z"
   },
   {
    "duration": 12,
    "start_time": "2023-03-02T22:13:17.624Z"
   },
   {
    "duration": 5,
    "start_time": "2023-03-02T22:13:17.638Z"
   },
   {
    "duration": 25,
    "start_time": "2023-03-02T22:13:17.645Z"
   },
   {
    "duration": 38,
    "start_time": "2023-03-02T22:13:17.674Z"
   },
   {
    "duration": 337,
    "start_time": "2023-03-02T22:13:17.716Z"
   },
   {
    "duration": 12,
    "start_time": "2023-03-02T22:13:18.059Z"
   },
   {
    "duration": 448,
    "start_time": "2023-03-02T22:13:18.073Z"
   },
   {
    "duration": 4,
    "start_time": "2023-03-02T22:13:18.525Z"
   },
   {
    "duration": 33,
    "start_time": "2023-03-02T22:13:18.531Z"
   },
   {
    "duration": 337,
    "start_time": "2023-03-02T22:13:18.578Z"
   },
   {
    "duration": 4,
    "start_time": "2023-03-02T22:13:18.916Z"
   },
   {
    "duration": 12,
    "start_time": "2023-03-02T22:13:18.922Z"
   },
   {
    "duration": 686,
    "start_time": "2023-03-02T22:13:18.935Z"
   },
   {
    "duration": 182,
    "start_time": "2023-03-02T22:13:19.624Z"
   },
   {
    "duration": 207,
    "start_time": "2023-03-02T22:13:19.808Z"
   },
   {
    "duration": 8,
    "start_time": "2023-03-02T22:13:20.017Z"
   },
   {
    "duration": 6,
    "start_time": "2023-03-02T22:13:20.027Z"
   },
   {
    "duration": 7,
    "start_time": "2023-03-02T22:13:20.050Z"
   },
   {
    "duration": 19,
    "start_time": "2023-03-02T22:13:20.070Z"
   },
   {
    "duration": 8,
    "start_time": "2023-03-02T22:13:20.090Z"
   },
   {
    "duration": 2283,
    "start_time": "2023-03-02T22:13:20.100Z"
   },
   {
    "duration": 7,
    "start_time": "2023-03-02T22:13:22.449Z"
   },
   {
    "duration": 36,
    "start_time": "2023-03-02T22:13:22.460Z"
   },
   {
    "duration": 1827,
    "start_time": "2023-03-02T22:19:34.801Z"
   },
   {
    "duration": 74,
    "start_time": "2023-03-02T22:19:36.630Z"
   },
   {
    "duration": 18,
    "start_time": "2023-03-02T22:19:36.706Z"
   },
   {
    "duration": 6,
    "start_time": "2023-03-02T22:19:36.725Z"
   },
   {
    "duration": 6,
    "start_time": "2023-03-02T22:19:36.733Z"
   },
   {
    "duration": 19,
    "start_time": "2023-03-02T22:19:36.740Z"
   },
   {
    "duration": 41,
    "start_time": "2023-03-02T22:19:36.768Z"
   },
   {
    "duration": 9,
    "start_time": "2023-03-02T22:19:36.811Z"
   },
   {
    "duration": 14,
    "start_time": "2023-03-02T22:19:36.821Z"
   },
   {
    "duration": 391,
    "start_time": "2023-03-02T22:19:36.838Z"
   },
   {
    "duration": 7,
    "start_time": "2023-03-02T22:19:37.231Z"
   },
   {
    "duration": 410,
    "start_time": "2023-03-02T22:19:37.240Z"
   },
   {
    "duration": 25,
    "start_time": "2023-03-02T22:19:37.651Z"
   },
   {
    "duration": 22,
    "start_time": "2023-03-02T22:19:37.686Z"
   },
   {
    "duration": 332,
    "start_time": "2023-03-02T22:19:37.711Z"
   },
   {
    "duration": 7,
    "start_time": "2023-03-02T22:19:38.045Z"
   },
   {
    "duration": 59,
    "start_time": "2023-03-02T22:19:38.053Z"
   },
   {
    "duration": 719,
    "start_time": "2023-03-02T22:19:38.115Z"
   },
   {
    "duration": 260,
    "start_time": "2023-03-02T22:19:38.835Z"
   },
   {
    "duration": 213,
    "start_time": "2023-03-02T22:19:39.097Z"
   },
   {
    "duration": 9,
    "start_time": "2023-03-02T22:19:39.312Z"
   },
   {
    "duration": 6,
    "start_time": "2023-03-02T22:19:39.323Z"
   },
   {
    "duration": 5,
    "start_time": "2023-03-02T22:19:39.331Z"
   },
   {
    "duration": 38,
    "start_time": "2023-03-02T22:19:39.354Z"
   },
   {
    "duration": 17,
    "start_time": "2023-03-02T22:19:39.394Z"
   },
   {
    "duration": 1151,
    "start_time": "2023-03-02T22:19:39.413Z"
   },
   {
    "duration": 17,
    "start_time": "2023-03-02T22:19:40.579Z"
   },
   {
    "duration": 39,
    "start_time": "2023-03-02T22:19:40.657Z"
   },
   {
    "duration": 1699,
    "start_time": "2023-03-02T22:22:02.726Z"
   },
   {
    "duration": 75,
    "start_time": "2023-03-02T22:22:04.428Z"
   },
   {
    "duration": 22,
    "start_time": "2023-03-02T22:22:04.505Z"
   },
   {
    "duration": 9,
    "start_time": "2023-03-02T22:22:04.529Z"
   },
   {
    "duration": 24,
    "start_time": "2023-03-02T22:22:04.540Z"
   },
   {
    "duration": 40,
    "start_time": "2023-03-02T22:22:04.576Z"
   },
   {
    "duration": 12,
    "start_time": "2023-03-02T22:22:04.619Z"
   },
   {
    "duration": 10,
    "start_time": "2023-03-02T22:22:04.632Z"
   },
   {
    "duration": 15,
    "start_time": "2023-03-02T22:22:04.644Z"
   },
   {
    "duration": 317,
    "start_time": "2023-03-02T22:22:04.662Z"
   },
   {
    "duration": 8,
    "start_time": "2023-03-02T22:22:04.980Z"
   },
   {
    "duration": 435,
    "start_time": "2023-03-02T22:22:04.994Z"
   },
   {
    "duration": 5,
    "start_time": "2023-03-02T22:22:05.431Z"
   },
   {
    "duration": 30,
    "start_time": "2023-03-02T22:22:05.437Z"
   },
   {
    "duration": 361,
    "start_time": "2023-03-02T22:22:05.473Z"
   },
   {
    "duration": 7,
    "start_time": "2023-03-02T22:22:05.836Z"
   },
   {
    "duration": 74,
    "start_time": "2023-03-02T22:22:05.845Z"
   },
   {
    "duration": 777,
    "start_time": "2023-03-02T22:22:05.922Z"
   },
   {
    "duration": 214,
    "start_time": "2023-03-02T22:22:06.701Z"
   },
   {
    "duration": 207,
    "start_time": "2023-03-02T22:22:06.916Z"
   },
   {
    "duration": 8,
    "start_time": "2023-03-02T22:22:07.124Z"
   },
   {
    "duration": 42,
    "start_time": "2023-03-02T22:22:07.133Z"
   },
   {
    "duration": 31,
    "start_time": "2023-03-02T22:22:07.176Z"
   },
   {
    "duration": 6,
    "start_time": "2023-03-02T22:22:07.209Z"
   },
   {
    "duration": 5,
    "start_time": "2023-03-02T22:22:07.217Z"
   },
   {
    "duration": 1973,
    "start_time": "2023-03-02T22:22:07.223Z"
   },
   {
    "duration": 58,
    "start_time": "2023-03-02T22:22:09.198Z"
   },
   {
    "duration": 86,
    "start_time": "2023-03-02T22:22:09.274Z"
   },
   {
    "duration": 1794,
    "start_time": "2023-03-02T22:27:15.219Z"
   },
   {
    "duration": 61,
    "start_time": "2023-03-02T22:27:17.015Z"
   },
   {
    "duration": 31,
    "start_time": "2023-03-02T22:27:17.078Z"
   },
   {
    "duration": 17,
    "start_time": "2023-03-02T22:27:17.112Z"
   },
   {
    "duration": 14,
    "start_time": "2023-03-02T22:27:17.131Z"
   },
   {
    "duration": 25,
    "start_time": "2023-03-02T22:27:17.147Z"
   },
   {
    "duration": 42,
    "start_time": "2023-03-02T22:27:17.176Z"
   },
   {
    "duration": 11,
    "start_time": "2023-03-02T22:27:17.220Z"
   },
   {
    "duration": 26,
    "start_time": "2023-03-02T22:27:17.233Z"
   },
   {
    "duration": 350,
    "start_time": "2023-03-02T22:27:17.265Z"
   },
   {
    "duration": 7,
    "start_time": "2023-03-02T22:27:17.617Z"
   },
   {
    "duration": 442,
    "start_time": "2023-03-02T22:27:17.625Z"
   },
   {
    "duration": 5,
    "start_time": "2023-03-02T22:27:18.069Z"
   },
   {
    "duration": 4,
    "start_time": "2023-03-02T22:27:18.076Z"
   },
   {
    "duration": 365,
    "start_time": "2023-03-02T22:27:18.087Z"
   },
   {
    "duration": 11,
    "start_time": "2023-03-02T22:27:18.460Z"
   },
   {
    "duration": 36,
    "start_time": "2023-03-02T22:27:18.474Z"
   },
   {
    "duration": 768,
    "start_time": "2023-03-02T22:27:18.512Z"
   },
   {
    "duration": 210,
    "start_time": "2023-03-02T22:27:19.282Z"
   },
   {
    "duration": 204,
    "start_time": "2023-03-02T22:27:19.495Z"
   },
   {
    "duration": 10,
    "start_time": "2023-03-02T22:27:19.702Z"
   },
   {
    "duration": 7,
    "start_time": "2023-03-02T22:27:19.714Z"
   },
   {
    "duration": 8,
    "start_time": "2023-03-02T22:27:19.722Z"
   },
   {
    "duration": 11,
    "start_time": "2023-03-02T22:27:19.732Z"
   },
   {
    "duration": 57,
    "start_time": "2023-03-02T22:27:19.745Z"
   },
   {
    "duration": 1950,
    "start_time": "2023-03-02T22:27:19.804Z"
   },
   {
    "duration": 25,
    "start_time": "2023-03-02T22:27:21.771Z"
   },
   {
    "duration": 114,
    "start_time": "2023-03-02T22:27:21.823Z"
   },
   {
    "duration": 0,
    "start_time": "2023-03-02T22:27:21.939Z"
   },
   {
    "duration": 0,
    "start_time": "2023-03-02T22:27:21.941Z"
   },
   {
    "duration": 0,
    "start_time": "2023-03-02T22:27:21.943Z"
   },
   {
    "duration": 0,
    "start_time": "2023-03-02T22:27:21.945Z"
   },
   {
    "duration": 0,
    "start_time": "2023-03-02T22:27:21.946Z"
   },
   {
    "duration": 0,
    "start_time": "2023-03-02T22:27:21.949Z"
   },
   {
    "duration": 0,
    "start_time": "2023-03-02T22:27:21.950Z"
   },
   {
    "duration": 0,
    "start_time": "2023-03-02T22:27:21.953Z"
   },
   {
    "duration": 0,
    "start_time": "2023-03-02T22:27:21.954Z"
   },
   {
    "duration": 0,
    "start_time": "2023-03-02T22:27:21.955Z"
   },
   {
    "duration": 0,
    "start_time": "2023-03-02T22:27:21.956Z"
   },
   {
    "duration": 0,
    "start_time": "2023-03-02T22:27:21.964Z"
   },
   {
    "duration": 0,
    "start_time": "2023-03-02T22:27:21.971Z"
   },
   {
    "duration": 0,
    "start_time": "2023-03-02T22:27:21.974Z"
   },
   {
    "duration": 0,
    "start_time": "2023-03-02T22:27:21.976Z"
   },
   {
    "duration": 0,
    "start_time": "2023-03-02T22:27:21.977Z"
   },
   {
    "duration": 0,
    "start_time": "2023-03-02T22:27:21.979Z"
   },
   {
    "duration": 0,
    "start_time": "2023-03-02T22:27:21.980Z"
   },
   {
    "duration": 0,
    "start_time": "2023-03-02T22:27:21.988Z"
   },
   {
    "duration": 0,
    "start_time": "2023-03-02T22:27:21.989Z"
   },
   {
    "duration": 4,
    "start_time": "2023-03-02T22:27:57.633Z"
   },
   {
    "duration": 1348749,
    "start_time": "2023-03-02T22:28:00.119Z"
   },
   {
    "duration": 7,
    "start_time": "2023-03-02T22:51:14.086Z"
   },
   {
    "duration": 5,
    "start_time": "2023-03-02T22:51:20.737Z"
   },
   {
    "duration": 86865,
    "start_time": "2023-03-02T22:51:22.570Z"
   },
   {
    "duration": 9,
    "start_time": "2023-03-02T22:53:15.788Z"
   },
   {
    "duration": 5,
    "start_time": "2023-03-02T22:53:26.473Z"
   },
   {
    "duration": 7996,
    "start_time": "2023-03-02T22:53:27.232Z"
   },
   {
    "duration": 5,
    "start_time": "2023-03-02T22:53:35.231Z"
   },
   {
    "duration": 655,
    "start_time": "2023-03-02T22:53:35.254Z"
   },
   {
    "duration": 5,
    "start_time": "2023-03-02T22:53:35.912Z"
   },
   {
    "duration": 17,
    "start_time": "2023-03-02T22:53:35.919Z"
   },
   {
    "duration": 67,
    "start_time": "2023-03-02T22:53:35.939Z"
   },
   {
    "duration": 13,
    "start_time": "2023-03-02T22:53:36.013Z"
   },
   {
    "duration": 31,
    "start_time": "2023-03-02T22:53:36.029Z"
   },
   {
    "duration": 4,
    "start_time": "2023-03-02T22:57:12.320Z"
   },
   {
    "duration": 141,
    "start_time": "2023-03-02T22:57:13.492Z"
   },
   {
    "duration": 2856,
    "start_time": "2023-03-02T22:57:23.818Z"
   },
   {
    "duration": 3377,
    "start_time": "2023-03-02T22:57:43.167Z"
   },
   {
    "duration": 15,
    "start_time": "2023-03-02T22:57:49.816Z"
   },
   {
    "duration": 6,
    "start_time": "2023-03-02T22:58:01.132Z"
   },
   {
    "duration": 5,
    "start_time": "2023-03-02T22:58:07.539Z"
   },
   {
    "duration": 5,
    "start_time": "2023-03-02T22:58:08.609Z"
   },
   {
    "duration": 386,
    "start_time": "2023-03-02T22:58:26.675Z"
   },
   {
    "duration": 20,
    "start_time": "2023-03-02T22:59:45.245Z"
   },
   {
    "duration": 5,
    "start_time": "2023-03-02T23:03:28.204Z"
   },
   {
    "duration": 13,
    "start_time": "2023-03-02T23:04:14.402Z"
   },
   {
    "duration": 10,
    "start_time": "2023-03-02T23:04:26.816Z"
   },
   {
    "duration": 12,
    "start_time": "2023-03-02T23:04:40.027Z"
   },
   {
    "duration": 270,
    "start_time": "2023-03-02T23:04:47.638Z"
   },
   {
    "duration": 307,
    "start_time": "2023-03-02T23:05:17.801Z"
   },
   {
    "duration": 313,
    "start_time": "2023-03-02T23:08:01.379Z"
   },
   {
    "duration": 473,
    "start_time": "2023-03-02T23:10:32.889Z"
   },
   {
    "duration": 421,
    "start_time": "2023-03-02T23:10:45.104Z"
   },
   {
    "duration": 365,
    "start_time": "2023-03-02T23:11:00.876Z"
   },
   {
    "duration": 15,
    "start_time": "2023-03-02T23:12:03.605Z"
   },
   {
    "duration": 6,
    "start_time": "2023-03-02T23:12:22.422Z"
   },
   {
    "duration": 260,
    "start_time": "2023-03-02T23:12:24.891Z"
   },
   {
    "duration": 126,
    "start_time": "2023-03-02T23:14:50.892Z"
   },
   {
    "duration": 227,
    "start_time": "2023-03-02T23:14:57.166Z"
   },
   {
    "duration": 228,
    "start_time": "2023-03-02T23:17:54.990Z"
   },
   {
    "duration": 4,
    "start_time": "2023-03-02T23:18:16.578Z"
   },
   {
    "duration": 19,
    "start_time": "2023-03-02T23:18:17.377Z"
   },
   {
    "duration": 11,
    "start_time": "2023-03-02T23:20:06.233Z"
   },
   {
    "duration": 5,
    "start_time": "2023-03-02T23:20:26.926Z"
   },
   {
    "duration": 167,
    "start_time": "2023-03-02T23:22:04.562Z"
   },
   {
    "duration": 11,
    "start_time": "2023-03-02T23:24:42.041Z"
   },
   {
    "duration": 7,
    "start_time": "2023-03-02T23:24:52.841Z"
   },
   {
    "duration": 16,
    "start_time": "2023-03-02T23:24:58.142Z"
   },
   {
    "duration": 180,
    "start_time": "2023-03-02T23:26:14.085Z"
   },
   {
    "duration": 1449,
    "start_time": "2023-03-02T23:26:26.770Z"
   },
   {
    "duration": 48,
    "start_time": "2023-03-02T23:26:28.221Z"
   },
   {
    "duration": 16,
    "start_time": "2023-03-02T23:26:28.271Z"
   },
   {
    "duration": 6,
    "start_time": "2023-03-02T23:26:28.289Z"
   },
   {
    "duration": 6,
    "start_time": "2023-03-02T23:26:28.297Z"
   },
   {
    "duration": 11,
    "start_time": "2023-03-02T23:26:28.304Z"
   },
   {
    "duration": 5,
    "start_time": "2023-03-02T23:26:28.316Z"
   },
   {
    "duration": 6,
    "start_time": "2023-03-02T23:26:28.348Z"
   },
   {
    "duration": 25,
    "start_time": "2023-03-02T23:26:28.355Z"
   },
   {
    "duration": 275,
    "start_time": "2023-03-02T23:26:28.382Z"
   },
   {
    "duration": 7,
    "start_time": "2023-03-02T23:26:28.660Z"
   },
   {
    "duration": 381,
    "start_time": "2023-03-02T23:26:28.669Z"
   },
   {
    "duration": 5,
    "start_time": "2023-03-02T23:26:29.052Z"
   },
   {
    "duration": 18,
    "start_time": "2023-03-02T23:26:29.061Z"
   },
   {
    "duration": 287,
    "start_time": "2023-03-02T23:26:29.081Z"
   },
   {
    "duration": 4,
    "start_time": "2023-03-02T23:26:29.370Z"
   },
   {
    "duration": 19,
    "start_time": "2023-03-02T23:26:29.376Z"
   },
   {
    "duration": 597,
    "start_time": "2023-03-02T23:26:29.397Z"
   },
   {
    "duration": 171,
    "start_time": "2023-03-02T23:26:29.996Z"
   },
   {
    "duration": 165,
    "start_time": "2023-03-02T23:26:30.169Z"
   },
   {
    "duration": 14,
    "start_time": "2023-03-02T23:26:30.336Z"
   },
   {
    "duration": 20,
    "start_time": "2023-03-02T23:26:30.352Z"
   },
   {
    "duration": 41,
    "start_time": "2023-03-02T23:26:30.374Z"
   },
   {
    "duration": 29,
    "start_time": "2023-03-02T23:26:30.416Z"
   },
   {
    "duration": 32,
    "start_time": "2023-03-02T23:26:30.447Z"
   },
   {
    "duration": 1972,
    "start_time": "2023-03-02T23:26:30.481Z"
   },
   {
    "duration": 95,
    "start_time": "2023-03-02T23:26:32.458Z"
   },
   {
    "duration": 97,
    "start_time": "2023-03-02T23:26:32.558Z"
   },
   {
    "duration": 1176504,
    "start_time": "2023-03-02T23:26:32.657Z"
   },
   {
    "duration": 87,
    "start_time": "2023-03-02T23:46:09.163Z"
   },
   {
    "duration": 6,
    "start_time": "2023-03-02T23:46:09.251Z"
   },
   {
    "duration": 57541,
    "start_time": "2023-03-02T23:46:09.258Z"
   },
   {
    "duration": 4,
    "start_time": "2023-03-02T23:47:06.801Z"
   },
   {
    "duration": 11,
    "start_time": "2023-03-02T23:47:06.807Z"
   },
   {
    "duration": 7396,
    "start_time": "2023-03-02T23:47:06.820Z"
   },
   {
    "duration": 4,
    "start_time": "2023-03-02T23:47:14.218Z"
   },
   {
    "duration": 581,
    "start_time": "2023-03-02T23:47:14.224Z"
   },
   {
    "duration": 4,
    "start_time": "2023-03-02T23:47:14.807Z"
   },
   {
    "duration": 6,
    "start_time": "2023-03-02T23:47:14.813Z"
   },
   {
    "duration": 8,
    "start_time": "2023-03-02T23:47:14.821Z"
   },
   {
    "duration": 4,
    "start_time": "2023-03-02T23:47:14.849Z"
   },
   {
    "duration": 15,
    "start_time": "2023-03-02T23:47:14.855Z"
   },
   {
    "duration": 12,
    "start_time": "2023-03-02T23:47:14.872Z"
   },
   {
    "duration": 1995,
    "start_time": "2023-03-02T23:47:14.886Z"
   },
   {
    "duration": 6,
    "start_time": "2023-03-02T23:47:16.883Z"
   },
   {
    "duration": 13,
    "start_time": "2023-03-02T23:47:16.891Z"
   },
   {
    "duration": 11,
    "start_time": "2023-03-02T23:47:16.906Z"
   },
   {
    "duration": 402,
    "start_time": "2023-03-02T23:47:16.919Z"
   },
   {
    "duration": 12,
    "start_time": "2023-03-02T23:47:44.773Z"
   },
   {
    "duration": 13,
    "start_time": "2023-03-02T23:49:05.312Z"
   },
   {
    "duration": 4,
    "start_time": "2023-03-02T23:49:13.981Z"
   },
   {
    "duration": 4,
    "start_time": "2023-03-02T23:49:18.624Z"
   },
   {
    "duration": 24,
    "start_time": "2023-03-02T23:49:19.870Z"
   },
   {
    "duration": 37,
    "start_time": "2023-03-02T23:49:40.425Z"
   },
   {
    "duration": 264,
    "start_time": "2023-03-02T23:49:54.827Z"
   },
   {
    "duration": 297,
    "start_time": "2023-03-02T23:50:20.129Z"
   },
   {
    "duration": 78,
    "start_time": "2023-03-02T23:51:17.653Z"
   },
   {
    "duration": 1539,
    "start_time": "2023-03-02T23:52:13.915Z"
   },
   {
    "duration": 51,
    "start_time": "2023-03-02T23:52:15.456Z"
   },
   {
    "duration": 26,
    "start_time": "2023-03-02T23:52:15.509Z"
   },
   {
    "duration": 9,
    "start_time": "2023-03-02T23:52:15.538Z"
   },
   {
    "duration": 5,
    "start_time": "2023-03-02T23:52:15.549Z"
   },
   {
    "duration": 11,
    "start_time": "2023-03-02T23:52:15.556Z"
   },
   {
    "duration": 7,
    "start_time": "2023-03-02T23:52:15.569Z"
   },
   {
    "duration": 15,
    "start_time": "2023-03-02T23:52:15.578Z"
   },
   {
    "duration": 25,
    "start_time": "2023-03-02T23:52:15.595Z"
   },
   {
    "duration": 344,
    "start_time": "2023-03-02T23:52:15.624Z"
   },
   {
    "duration": 10,
    "start_time": "2023-03-02T23:52:15.971Z"
   },
   {
    "duration": 406,
    "start_time": "2023-03-02T23:52:15.983Z"
   },
   {
    "duration": 6,
    "start_time": "2023-03-02T23:52:16.390Z"
   },
   {
    "duration": 8,
    "start_time": "2023-03-02T23:52:16.398Z"
   },
   {
    "duration": 302,
    "start_time": "2023-03-02T23:52:16.408Z"
   },
   {
    "duration": 4,
    "start_time": "2023-03-02T23:52:16.712Z"
   },
   {
    "duration": 39,
    "start_time": "2023-03-02T23:52:16.718Z"
   },
   {
    "duration": 654,
    "start_time": "2023-03-02T23:52:16.759Z"
   },
   {
    "duration": 172,
    "start_time": "2023-03-02T23:52:17.415Z"
   },
   {
    "duration": 191,
    "start_time": "2023-03-02T23:52:17.590Z"
   },
   {
    "duration": 11,
    "start_time": "2023-03-02T23:52:17.783Z"
   },
   {
    "duration": 13,
    "start_time": "2023-03-02T23:52:17.796Z"
   },
   {
    "duration": 10,
    "start_time": "2023-03-02T23:52:17.811Z"
   },
   {
    "duration": 14,
    "start_time": "2023-03-02T23:52:17.823Z"
   },
   {
    "duration": 11,
    "start_time": "2023-03-02T23:52:17.839Z"
   },
   {
    "duration": 14704,
    "start_time": "2023-03-02T23:52:17.852Z"
   },
   {
    "duration": 6,
    "start_time": "2023-03-02T23:52:32.558Z"
   },
   {
    "duration": 15,
    "start_time": "2023-03-02T23:52:32.648Z"
   },
   {
    "duration": 791892,
    "start_time": "2023-03-02T23:52:32.666Z"
   },
   {
    "duration": 4,
    "start_time": "2023-03-03T00:05:44.559Z"
   },
   {
    "duration": 8,
    "start_time": "2023-03-03T00:05:44.564Z"
   },
   {
    "duration": 3159,
    "start_time": "2023-03-03T06:34:16.418Z"
   },
   {
    "duration": 64,
    "start_time": "2023-03-03T06:34:19.584Z"
   },
   {
    "duration": 31,
    "start_time": "2023-03-03T06:34:19.651Z"
   },
   {
    "duration": 21,
    "start_time": "2023-03-03T06:34:19.684Z"
   },
   {
    "duration": 6,
    "start_time": "2023-03-03T06:34:19.708Z"
   },
   {
    "duration": 70,
    "start_time": "2023-03-03T06:34:19.716Z"
   },
   {
    "duration": 18,
    "start_time": "2023-03-03T06:34:19.788Z"
   },
   {
    "duration": 11,
    "start_time": "2023-03-03T06:34:19.808Z"
   },
   {
    "duration": 81,
    "start_time": "2023-03-03T06:34:19.821Z"
   },
   {
    "duration": 399,
    "start_time": "2023-03-03T06:34:19.905Z"
   },
   {
    "duration": 12,
    "start_time": "2023-03-03T06:34:21.087Z"
   },
   {
    "duration": 525,
    "start_time": "2023-03-03T06:34:21.279Z"
   },
   {
    "duration": 7,
    "start_time": "2023-03-03T06:34:21.807Z"
   },
   {
    "duration": 6,
    "start_time": "2023-03-03T06:34:21.888Z"
   },
   {
    "duration": 413,
    "start_time": "2023-03-03T06:34:22.055Z"
   },
   {
    "duration": 5,
    "start_time": "2023-03-03T06:34:22.691Z"
   },
   {
    "duration": 20,
    "start_time": "2023-03-03T06:34:23.480Z"
   },
   {
    "duration": 890,
    "start_time": "2023-03-03T06:34:24.099Z"
   },
   {
    "duration": 272,
    "start_time": "2023-03-03T06:34:24.991Z"
   },
   {
    "duration": 262,
    "start_time": "2023-03-03T06:34:25.265Z"
   },
   {
    "duration": 12,
    "start_time": "2023-03-03T06:34:25.886Z"
   },
   {
    "duration": 21,
    "start_time": "2023-03-03T06:34:26.868Z"
   },
   {
    "duration": 3,
    "start_time": "2023-03-03T06:34:28.788Z"
   },
   {
    "duration": 4,
    "start_time": "2023-03-03T06:34:33.913Z"
   },
   {
    "duration": 4,
    "start_time": "2023-03-03T06:34:43.512Z"
   },
   {
    "duration": 14873,
    "start_time": "2023-03-03T06:34:45.080Z"
   },
   {
    "duration": 17,
    "start_time": "2023-03-03T06:34:59.969Z"
   },
   {
    "duration": 4,
    "start_time": "2023-03-03T06:35:16.317Z"
   },
   {
    "duration": 9819,
    "start_time": "2023-03-03T06:35:17.082Z"
   },
   {
    "duration": 7,
    "start_time": "2023-03-03T06:35:26.904Z"
   },
   {
    "duration": 79,
    "start_time": "2023-03-03T06:35:26.913Z"
   },
   {
    "duration": 18,
    "start_time": "2023-03-03T06:35:26.995Z"
   },
   {
    "duration": 82,
    "start_time": "2023-03-03T06:35:27.015Z"
   },
   {
    "duration": 87,
    "start_time": "2023-03-03T06:35:27.099Z"
   },
   {
    "duration": 334,
    "start_time": "2023-03-03T06:35:27.188Z"
   }
  ],
  "kernelspec": {
   "display_name": "Python 3 (ipykernel)",
   "language": "python",
   "name": "python3"
  },
  "language_info": {
   "codemirror_mode": {
    "name": "ipython",
    "version": 3
   },
   "file_extension": ".py",
   "mimetype": "text/x-python",
   "name": "python",
   "nbconvert_exporter": "python",
   "pygments_lexer": "ipython3",
   "version": "3.9.12"
  },
  "toc": {
   "base_numbering": 1,
   "nav_menu": {},
   "number_sections": true,
   "sideBar": true,
   "skip_h1_title": true,
   "title_cell": "Содержание",
   "title_sidebar": "Contents",
   "toc_cell": true,
   "toc_position": {
    "height": "calc(100% - 180px)",
    "left": "10px",
    "top": "150px",
    "width": "266.667px"
   },
   "toc_section_display": true,
   "toc_window_display": true
  },
  "varInspector": {
   "cols": {
    "lenName": 16,
    "lenType": 16,
    "lenVar": 40
   },
   "kernels_config": {
    "python": {
     "delete_cmd_postfix": "",
     "delete_cmd_prefix": "del ",
     "library": "var_list.py",
     "varRefreshCmd": "print(var_dic_list())"
    },
    "r": {
     "delete_cmd_postfix": ") ",
     "delete_cmd_prefix": "rm(",
     "library": "var_list.r",
     "varRefreshCmd": "cat(var_dic_list()) "
    }
   },
   "types_to_exclude": [
    "module",
    "function",
    "builtin_function_or_method",
    "instance",
    "_Feature"
   ],
   "window_display": false
  }
 },
 "nbformat": 4,
 "nbformat_minor": 2
}
