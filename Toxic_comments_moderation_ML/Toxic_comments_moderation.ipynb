  {
   "cell_type": "markdown",
   "metadata": {},
   "source": [
    "# Проект для «Викишоп»"
   ]
  },
  {
   "cell_type": "markdown",
   "metadata": {},
   "source": [
    "Интернет-магазин «Викишоп» запускает новый сервис. Теперь пользователи могут редактировать и дополнять описания товаров, как в вики-сообществах. То есть клиенты предлагают свои правки и комментируют изменения других. Магазину нужен инструмент, который будет искать токсичные комментарии и отправлять их на модерацию. \n",
    "\n",
    "Обучите модель классифицировать комментарии на позитивные и негативные. В вашем распоряжении набор данных с разметкой о токсичности правок.\n",
    "\n",
    "Постройте модель со значением метрики качества *F1* не меньше 0.75. \n",
    "\n",
    "\n",
    "**Описание данных**\n",
    "\n",
    "Данные находятся в файле `toxic_comments.csv`. Столбец *text* в нём содержит текст комментария, а *toxic* — целевой признак.\n",
    "\n",
    "**Задачи:**\n",
    "\n",
    "- Подготовить и исследовать данные\n",
    "\n",
    "- Обучить разные модели для классификации комментариев на позитивные и негативные.\n",
    "\n",
    "- Добиться значения метрики качества F1 не меньше 0.75\n",
    "\n",
    "- Общий вывод"
   ]
  },
  {
   "cell_type": "markdown",
   "metadata": {},
   "source": [
    "## Подготовка"
   ]
  },
  {
   "cell_type": "code",
   "execution_count": 1,
   "metadata": {},
   "outputs": [],
   "source": [
    "import pandas as pd\n",
    "import numpy as np\n",
    "\n",
    "from tqdm import tqdm\n",
    "import seaborn as sns\n",
    "import matplotlib.pyplot as plt\n",
    "%matplotlib inline\n",
    "\n",
    "import re\n",
    "from nltk.corpus import stopwords\n",
    "from nltk.stem import WordNetLemmatizer\n",
    "from nltk.tokenize import TweetTokenizer\n",
    "\n",
    "from sklearn.feature_extraction.text import TfidfVectorizer\n",
    "from sklearn.metrics import classification_report, confusion_matrix, f1_score\n",
    "from sklearn.model_selection import train_test_split, GridSearchCV\n",
    "from sklearn.linear_model import SGDClassifier, LogisticRegression\n",
    "from sklearn.tree import DecisionTreeClassifier\n",
    "from sklearn.ensemble import RandomForestClassifier\n",
    "from sklearn.dummy import DummyClassifier\n",
    "import warnings\n",
    "warnings.filterwarnings(\"ignore\")"
   ]
  },
  {
   "cell_type": "code",
   "execution_count": 2,
   "metadata": {},
   "outputs": [],
   "source": [
    "df = pd.read_csv('/datasets/toxic_comments.csv')"
   ]
  },
  {
   "cell_type": "code",
   "execution_count": 3,
   "metadata": {},
   "outputs": [
    {
     "data": {
      "text/html": [
       "<div>\n",
       "<style scoped>\n",
       "    .dataframe tbody tr th:only-of-type {\n",
       "        vertical-align: middle;\n",
       "    }\n",
       "\n",
       "    .dataframe tbody tr th {\n",
       "        vertical-align: top;\n",
       "    }\n",
       "\n",
       "    .dataframe thead th {\n",
       "        text-align: right;\n",
       "    }\n",
       "</style>\n",
       "<table border=\"1\" class=\"dataframe\">\n",
       "  <thead>\n",
       "    <tr style=\"text-align: right;\">\n",
       "      <th></th>\n",
       "      <th>Unnamed: 0</th>\n",
       "      <th>text</th>\n",
       "      <th>toxic</th>\n",
       "    </tr>\n",
       "  </thead>\n",
       "  <tbody>\n",
       "    <tr>\n",
       "      <th>0</th>\n",
       "      <td>0</td>\n",
       "      <td>Explanation\\nWhy the edits made under my usern...</td>\n",
       "      <td>0</td>\n",
       "    </tr>\n",
       "    <tr>\n",
       "      <th>1</th>\n",
       "      <td>1</td>\n",
       "      <td>D'aww! He matches this background colour I'm s...</td>\n",
       "      <td>0</td>\n",
       "    </tr>\n",
       "    <tr>\n",
       "      <th>2</th>\n",
       "      <td>2</td>\n",
       "      <td>Hey man, I'm really not trying to edit war. It...</td>\n",
       "      <td>0</td>\n",
       "    </tr>\n",
       "    <tr>\n",
       "      <th>3</th>\n",
       "      <td>3</td>\n",
       "      <td>\"\\nMore\\nI can't make any real suggestions on ...</td>\n",
       "      <td>0</td>\n",
       "    </tr>\n",
       "    <tr>\n",
       "      <th>4</th>\n",
       "      <td>4</td>\n",
       "      <td>You, sir, are my hero. Any chance you remember...</td>\n",
       "      <td>0</td>\n",
       "    </tr>\n",
       "    <tr>\n",
       "      <th>5</th>\n",
       "      <td>5</td>\n",
       "      <td>\"\\n\\nCongratulations from me as well, use the ...</td>\n",
       "      <td>0</td>\n",
       "    </tr>\n",
       "    <tr>\n",
       "      <th>6</th>\n",
       "      <td>6</td>\n",
       "      <td>COCKSUCKER BEFORE YOU PISS AROUND ON MY WORK</td>\n",
       "      <td>1</td>\n",
       "    </tr>\n",
       "    <tr>\n",
       "      <th>7</th>\n",
       "      <td>7</td>\n",
       "      <td>Your vandalism to the Matt Shirvington article...</td>\n",
       "      <td>0</td>\n",
       "    </tr>\n",
       "    <tr>\n",
       "      <th>8</th>\n",
       "      <td>8</td>\n",
       "      <td>Sorry if the word 'nonsense' was offensive to ...</td>\n",
       "      <td>0</td>\n",
       "    </tr>\n",
       "    <tr>\n",
       "      <th>9</th>\n",
       "      <td>9</td>\n",
       "      <td>alignment on this subject and which are contra...</td>\n",
       "      <td>0</td>\n",
       "    </tr>\n",
       "  </tbody>\n",
       "</table>\n",
       "</div>"
      ],
      "text/plain": [
       "   Unnamed: 0                                               text  toxic\n",
       "0           0  Explanation\\nWhy the edits made under my usern...      0\n",
       "1           1  D'aww! He matches this background colour I'm s...      0\n",
       "2           2  Hey man, I'm really not trying to edit war. It...      0\n",
       "3           3  \"\\nMore\\nI can't make any real suggestions on ...      0\n",
       "4           4  You, sir, are my hero. Any chance you remember...      0\n",
       "5           5  \"\\n\\nCongratulations from me as well, use the ...      0\n",
       "6           6       COCKSUCKER BEFORE YOU PISS AROUND ON MY WORK      1\n",
       "7           7  Your vandalism to the Matt Shirvington article...      0\n",
       "8           8  Sorry if the word 'nonsense' was offensive to ...      0\n",
       "9           9  alignment on this subject and which are contra...      0"
      ]
     },
     "execution_count": 3,
     "metadata": {},
     "output_type": "execute_result"
    }
   ],
   "source": [
    "df.head(10)"
   ]
  },
  {
   "cell_type": "code",
   "execution_count": 4,
   "metadata": {},
   "outputs": [
    {
     "name": "stdout",
     "output_type": "stream",
     "text": [
      "<class 'pandas.core.frame.DataFrame'>\n",
      "RangeIndex: 159292 entries, 0 to 159291\n",
      "Data columns (total 3 columns):\n",
      " #   Column      Non-Null Count   Dtype \n",
      "---  ------      --------------   ----- \n",
      " 0   Unnamed: 0  159292 non-null  int64 \n",
      " 1   text        159292 non-null  object\n",
      " 2   toxic       159292 non-null  int64 \n",
      "dtypes: int64(2), object(1)\n",
      "memory usage: 3.6+ MB\n"
     ]
    }
   ],
   "source": [
    "df.info()"
   ]
  },
  {
   "cell_type": "markdown",
   "metadata": {},
   "source": [
    "Удалим колонку с лишней индексацией:"
   ]
  },
  {
   "cell_type": "code",
   "execution_count": 5,
   "metadata": {},
   "outputs": [],
   "source": [
    "df = df.drop(['Unnamed: 0'],axis =1)"
   ]
  },
  {
   "cell_type": "code",
   "execution_count": 6,
   "metadata": {
    "scrolled": true
   },
   "outputs": [
    {
     "data": {
      "image/png": "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\n",
      "text/plain": [
       "<Figure size 720x576 with 1 Axes>"
      ]
     },
     "metadata": {},
     "output_type": "display_data"
    }
   ],
   "source": [
    "df.toxic.value_counts().plot(kind='pie', autopct='%1.1f%%', shadow=True, figsize=(10,8));\n",
    "plt.legend(['Позитивный','токсичный']);\n",
    "plt.title('Распределение комментариев в выборке');\n",
    "plt.tight_layout();\n",
    "plt.axis('off');"
   ]
  },
  {
   "cell_type": "markdown",
   "metadata": {},
   "source": [
    "**Вывод:** Видим, что у нас дисбаланс выборки(классы соотносятся как 9:1). Позитивных комментариев больше, чем токсичных. Так же помним, что комментарии были выгружены со спец.символами и числами. Очистим их с помощью регулярных выражений и лемматизации."
   ]
  },
  {
   "cell_type": "markdown",
   "metadata": {},
   "source": [
    "Удаление лишних символов:"
   ]
  },
  {
   "cell_type": "code",
   "execution_count": 7,
   "metadata": {},
   "outputs": [],
   "source": [
    "def clean_symbols(text):\n",
    "    text = re.sub(r\"[^a-zA-Z ]+\", \" \", text)\n",
    "    return text.strip().lower()"
   ]
  },
  {
   "cell_type": "code",
   "execution_count": 8,
   "metadata": {},
   "outputs": [],
   "source": [
    "df['text'] = df['text'].apply(clean_symbols)"
   ]
  },
  {
   "cell_type": "markdown",
   "metadata": {},
   "source": [
    "Лемматизация и объединение текста:"
   ]
  },
  {
   "cell_type": "code",
   "execution_count": 9,
   "metadata": {},
   "outputs": [],
   "source": [
    "wnl = WordNetLemmatizer()\n",
    "tknzr = TweetTokenizer()\n",
    "def lemmatize(text, m=wnl):\n",
    "    word_list = tknzr.tokenize(text)\n",
    "    return ' '.join([wnl.lemmatize(w) for w in word_list])"
   ]
  },
  {
   "cell_type": "code",
   "execution_count": 10,
   "metadata": {},
   "outputs": [],
   "source": [
    "df['text'] = df['text'].apply(lemmatize)"
   ]
  },
  {
   "cell_type": "markdown",
   "metadata": {},
   "source": [
    "## Обучение"
   ]
  },
  {
   "cell_type": "markdown",
   "metadata": {},
   "source": [
    "### Кодировка данных "
   ]
  },
  {
   "cell_type": "code",
   "execution_count": 11,
   "metadata": {},
   "outputs": [],
   "source": [
    "X_train, X_test, y_train, y_test = train_test_split(df['text'], df['toxic'],\n",
    "                                                    test_size=0.2, random_state=123, stratify=df.toxic)"
   ]
  },
  {
   "cell_type": "code",
   "execution_count": 12,
   "metadata": {},
   "outputs": [],
   "source": [
    "train_corpus = X_train.astype('U')\n",
    "corpus_test = X_test.astype('U')"
   ]
  },
  {
   "cell_type": "code",
   "execution_count": 13,
   "metadata": {},
   "outputs": [],
   "source": [
    "stop_words = set(stopwords.words('english'))"
   ]
  },
  {
   "cell_type": "code",
   "execution_count": 14,
   "metadata": {},
   "outputs": [],
   "source": [
    "tfv = TfidfVectorizer(stop_words=stop_words, ngram_range=(1,2))"
   ]
  },
  {
   "cell_type": "code",
   "execution_count": 15,
   "metadata": {},
   "outputs": [],
   "source": [
    "X_vector_train = tfv.fit_transform(train_corpus)\n",
    "X_vector_test = tfv.transform(corpus_test)"
   ]
  },
  {
   "cell_type": "markdown",
   "metadata": {},
   "source": [
    "### Обучение моделей"
   ]
  },
  {
   "cell_type": "markdown",
   "metadata": {},
   "source": [
    "Определим функцию для подбора параметров наших моделей гридсерчем:"
   ]
  },
  {
   "cell_type": "code",
   "execution_count": 16,
   "metadata": {},
   "outputs": [],
   "source": [
    "def best_model(model, params, features_train, target_train):\n",
    "    grid = GridSearchCV(model, param_grid = params, cv=2,\n",
    "                                            scoring='f1', n_jobs=-1)\n",
    "    grid.fit(features_train,target_train)\n",
    "    results = pd.DataFrame(grid.cv_results_).sort_values(by = 'rank_test_score')\n",
    "    \n",
    "    fit_time = results.iloc[0]['mean_fit_time']\n",
    "    predict_time = results.iloc[0]['mean_score_time']\n",
    "    return fit_time, predict_time, grid.best_score_ , grid.best_params_,"
   ]
  },
  {
   "cell_type": "markdown",
   "metadata": {},
   "source": [
    "Обучим Логистическую регрессию:"
   ]
  },
  {
   "cell_type": "code",
   "execution_count": 17,
   "metadata": {},
   "outputs": [],
   "source": [
    "lr_model = LogisticRegression(random_state=123)\n",
    "lr_params = {'class_weight':['balanced', None],'C':[3],'max_iter':[500]} "
   ]
  },
  {
   "cell_type": "code",
   "execution_count": 18,
   "metadata": {
    "scrolled": true
   },
   "outputs": [
    {
     "name": "stdout",
     "output_type": "stream",
     "text": [
      "CPU times: user 5min 38s, sys: 4min 48s, total: 10min 26s\n",
      "Wall time: 10min 28s\n"
     ]
    }
   ],
   "source": [
    "%%time\n",
    "lr = best_model(lr_model, lr_params, X_vector_train, y_train)"
   ]
  },
  {
   "cell_type": "code",
   "execution_count": 19,
   "metadata": {},
   "outputs": [
    {
     "data": {
      "text/plain": [
       "(73.10352373123169,\n",
       " 0.0477752685546875,\n",
       " 0.7642052757714219,\n",
       " {'C': 3, 'class_weight': 'balanced', 'max_iter': 500})"
      ]
     },
     "execution_count": 19,
     "metadata": {},
     "output_type": "execute_result"
    }
   ],
   "source": [
    "lr"
   ]
  },
  {
   "cell_type": "markdown",
   "metadata": {},
   "source": [
    "Обучим Регрессор стохастического градиентного спуска (SGD):"
   ]
  },
  {
   "cell_type": "code",
   "execution_count": 20,
   "metadata": {},
   "outputs": [],
   "source": [
    "sgd_model = SGDClassifier(random_state=123)\n",
    "sgd_params = {'class_weight':['balanced', None],\n",
    "        'max_iter':[500,1000],\n",
    "        'loss':['log','squared_hinge'],\n",
    "        'shuffle':[True],\n",
    "        'penalty':['l1'],\n",
    "        'n_iter_no_change':[20,30]}"
   ]
  },
  {
   "cell_type": "code",
   "execution_count": 21,
   "metadata": {},
   "outputs": [
    {
     "name": "stdout",
     "output_type": "stream",
     "text": [
      "CPU times: user 9min 33s, sys: 11.7 s, total: 9min 45s\n",
      "Wall time: 9min 46s\n"
     ]
    }
   ],
   "source": [
    "%%time\n",
    "sgd = best_model(sgd_model, sgd_params, X_vector_train, y_train)"
   ]
  },
  {
   "cell_type": "code",
   "execution_count": 22,
   "metadata": {},
   "outputs": [
    {
     "data": {
      "text/plain": [
       "(7.502206563949585,\n",
       " 0.04711103439331055,\n",
       " 0.6968823615960219,\n",
       " {'class_weight': 'balanced',\n",
       "  'loss': 'log',\n",
       "  'max_iter': 500,\n",
       "  'n_iter_no_change': 30,\n",
       "  'penalty': 'l1',\n",
       "  'shuffle': True})"
      ]
     },
     "execution_count": 22,
     "metadata": {},
     "output_type": "execute_result"
    }
   ],
   "source": [
    "sgd"
   ]
  },
  {
   "cell_type": "markdown",
   "metadata": {},
   "source": [
    "Дерево Решений:"
   ]
  },
  {
   "cell_type": "code",
   "execution_count": 23,
   "metadata": {},
   "outputs": [],
   "source": [
    "DT_model = DecisionTreeClassifier(random_state=123)\n",
    "DT_params = {'max_depth':range (1,10)}"
   ]
  },
  {
   "cell_type": "code",
   "execution_count": 24,
   "metadata": {},
   "outputs": [
    {
     "name": "stdout",
     "output_type": "stream",
     "text": [
      "CPU times: user 19min 30s, sys: 5.61 s, total: 19min 36s\n",
      "Wall time: 19min 37s\n"
     ]
    }
   ],
   "source": [
    "%%time\n",
    "DT = best_model(DT_model, DT_params, X_vector_train, y_train)"
   ]
  },
  {
   "cell_type": "code",
   "execution_count": 30,
   "metadata": {},
   "outputs": [
    {
     "data": {
      "text/plain": [
       "(70.95100569725037, 0.23344433307647705, 0.57333564253644, {'max_depth': 9})"
      ]
     },
     "execution_count": 30,
     "metadata": {},
     "output_type": "execute_result"
    }
   ],
   "source": [
    "DT"
   ]
  },
  {
   "cell_type": "markdown",
   "metadata": {},
   "source": [
    "Случайный Лес:"
   ]
  },
  {
   "cell_type": "code",
   "execution_count": 33,
   "metadata": {},
   "outputs": [],
   "source": [
    "RF_model = RandomForestClassifier(random_state=123)\n",
    "RF_params = {'n_estimators':range(10, 21, 10),\n",
    "             'max_depth':range (1,5)}"
   ]
  },
  {
   "cell_type": "code",
   "execution_count": 35,
   "metadata": {},
   "outputs": [
    {
     "name": "stdout",
     "output_type": "stream",
     "text": [
      "CPU times: user 51.7 s, sys: 1.14 s, total: 52.9 s\n",
      "Wall time: 52.9 s\n"
     ]
    }
   ],
   "source": [
    "%%time\n",
    "RF = best_model(RF_model, RF_params, X_vector_train, y_train)"
   ]
  },
  {
   "cell_type": "code",
   "execution_count": 36,
   "metadata": {},
   "outputs": [
    {
     "data": {
      "text/plain": [
       "(0.7754813432693481,\n",
       " 1.141181468963623,\n",
       " 0.0,\n",
       " {'max_depth': 1, 'n_estimators': 10})"
      ]
     },
     "execution_count": 36,
     "metadata": {},
     "output_type": "execute_result"
    }
   ],
   "source": [
    "RF"
   ]
  },
  {
   "cell_type": "markdown",
   "metadata": {},
   "source": [
    "Лес дает 0, похоже, что не получается определить TP значения."
   ]
  },
  {
   "cell_type": "markdown",
   "metadata": {},
   "source": [
    "Сравним с константной моделью:"
   ]
  },
  {
   "cell_type": "code",
   "execution_count": 37,
   "metadata": {
    "scrolled": true
   },
   "outputs": [],
   "source": [
    "constant_model = DummyClassifier(strategy=\"most_frequent\")"
   ]
  },
  {
   "cell_type": "code",
   "execution_count": 38,
   "metadata": {},
   "outputs": [
    {
     "data": {
      "text/plain": [
       "0.0"
      ]
     },
     "execution_count": 38,
     "metadata": {},
     "output_type": "execute_result"
    }
   ],
   "source": [
    "constant_model.fit(X_vector_train, y_train)\n",
    "constant_pred = constant_model.predict(X_test)\n",
    "f1_score(y_test,constant_pred)"
   ]
  },
  {
   "cell_type": "markdown",
   "metadata": {},
   "source": [
    "Константная модель дает ноль."
   ]
  },
  {
   "cell_type": "code",
   "execution_count": 39,
   "metadata": {},
   "outputs": [],
   "source": [
    "Models = pd.DataFrame([lr, sgd, DT, RF], \n",
    "             columns=['Время обучения', 'Время предсказания', 'F1', 'Лучшие Параметры'], \n",
    "                      index=['lr','sgd','DT','RF'])"
   ]
  },
  {
   "cell_type": "code",
   "execution_count": 40,
   "metadata": {},
   "outputs": [
    {
     "data": {
      "text/html": [
       "<div>\n",
       "<style scoped>\n",
       "    .dataframe tbody tr th:only-of-type {\n",
       "        vertical-align: middle;\n",
       "    }\n",
       "\n",
       "    .dataframe tbody tr th {\n",
       "        vertical-align: top;\n",
       "    }\n",
       "\n",
       "    .dataframe thead th {\n",
       "        text-align: right;\n",
       "    }\n",
       "</style>\n",
       "<table border=\"1\" class=\"dataframe\">\n",
       "  <thead>\n",
       "    <tr style=\"text-align: right;\">\n",
       "      <th></th>\n",
       "      <th>Время обучения</th>\n",
       "      <th>Время предсказания</th>\n",
       "      <th>F1</th>\n",
       "      <th>Лучшие Параметры</th>\n",
       "    </tr>\n",
       "  </thead>\n",
       "  <tbody>\n",
       "    <tr>\n",
       "      <th>lr</th>\n",
       "      <td>73.103524</td>\n",
       "      <td>0.047775</td>\n",
       "      <td>0.764205</td>\n",
       "      <td>{'C': 3, 'class_weight': 'balanced', 'max_iter...</td>\n",
       "    </tr>\n",
       "    <tr>\n",
       "      <th>sgd</th>\n",
       "      <td>7.502207</td>\n",
       "      <td>0.047111</td>\n",
       "      <td>0.696882</td>\n",
       "      <td>{'class_weight': 'balanced', 'loss': 'log', 'm...</td>\n",
       "    </tr>\n",
       "    <tr>\n",
       "      <th>DT</th>\n",
       "      <td>70.951006</td>\n",
       "      <td>0.233444</td>\n",
       "      <td>0.573336</td>\n",
       "      <td>{'max_depth': 9}</td>\n",
       "    </tr>\n",
       "    <tr>\n",
       "      <th>RF</th>\n",
       "      <td>0.775481</td>\n",
       "      <td>1.141181</td>\n",
       "      <td>0.000000</td>\n",
       "      <td>{'max_depth': 1, 'n_estimators': 10}</td>\n",
       "    </tr>\n",
       "  </tbody>\n",
       "</table>\n",
       "</div>"
      ],
      "text/plain": [
       "     Время обучения  Время предсказания        F1  \\\n",
       "lr        73.103524            0.047775  0.764205   \n",
       "sgd        7.502207            0.047111  0.696882   \n",
       "DT        70.951006            0.233444  0.573336   \n",
       "RF         0.775481            1.141181  0.000000   \n",
       "\n",
       "                                      Лучшие Параметры  \n",
       "lr   {'C': 3, 'class_weight': 'balanced', 'max_iter...  \n",
       "sgd  {'class_weight': 'balanced', 'loss': 'log', 'm...  \n",
       "DT                                    {'max_depth': 9}  \n",
       "RF                {'max_depth': 1, 'n_estimators': 10}  "
      ]
     },
     "execution_count": 40,
     "metadata": {},
     "output_type": "execute_result"
    }
   ],
   "source": [
    "Models"
   ]
  },
  {
   "cell_type": "markdown",
   "metadata": {},
   "source": [
    "**Вывод:** Порог по целевой метрике преодолела только логистическая регрессия. Выбираем для теста ее.\n"
   ]
  },
  {
   "cell_type": "markdown",
   "metadata": {},
   "source": [
    "### Тестирование лучшей модели"
   ]
  },
  {
   "cell_type": "code",
   "execution_count": 41,
   "metadata": {},
   "outputs": [],
   "source": [
    "lr_final = LogisticRegression(random_state=123, C = 3, class_weight ='balanced', max_iter = 500)"
   ]
  },
  {
   "cell_type": "code",
   "execution_count": 42,
   "metadata": {},
   "outputs": [
    {
     "data": {
      "text/plain": [
       "LogisticRegression(C=3, class_weight='balanced', max_iter=500, random_state=123)"
      ]
     },
     "execution_count": 42,
     "metadata": {},
     "output_type": "execute_result"
    }
   ],
   "source": [
    "lr_final.fit(X_vector_train, y_train)"
   ]
  },
  {
   "cell_type": "code",
   "execution_count": 43,
   "metadata": {},
   "outputs": [],
   "source": [
    "pred = lr_final.predict(X_vector_test)"
   ]
  },
  {
   "cell_type": "code",
   "execution_count": 44,
   "metadata": {},
   "outputs": [
    {
     "data": {
      "text/plain": [
       "0.7747069888583418"
      ]
     },
     "execution_count": 44,
     "metadata": {},
     "output_type": "execute_result"
    }
   ],
   "source": [
    "f1_score(y_test, pred)"
   ]
  },
  {
   "cell_type": "markdown",
   "metadata": {},
   "source": [
    "Метрика 0,775 на тесте - неплохо!"
   ]
  },
  {
   "cell_type": "code",
   "execution_count": 45,
   "metadata": {},
   "outputs": [
    {
     "name": "stdout",
     "output_type": "stream",
     "text": [
      "              precision    recall  f1-score   support\n",
      "\n",
      "           0       0.97      0.98      0.97     28185\n",
      "           1       0.83      0.73      0.77      3674\n",
      "\n",
      "    accuracy                           0.95     31859\n",
      "   macro avg       0.90      0.85      0.87     31859\n",
      "weighted avg       0.95      0.95      0.95     31859\n",
      "\n"
     ]
    }
   ],
   "source": [
    "print(classification_report(pred, y_test))"
   ]
  },
  {
   "cell_type": "code",
   "execution_count": 47,
   "metadata": {},
   "outputs": [
    {
     "data": {
      "image/png": "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\n",
      "text/plain": [
       "<Figure size 720x576 with 2 Axes>"
      ]
     },
     "metadata": {
      "needs_background": "light"
     },
     "output_type": "display_data"
    }
   ],
   "source": [
    "plt.figure(figsize=(10,8));\n",
    "sns.heatmap(confusion_matrix(y_test, pred, normalize='true'),annot=True,fmt='.0%',cmap=\"summer\");\n",
    "plt.title('Матрица ошибок', y=1.05, size=15);"
   ]
  },
  {
   "cell_type": "markdown",
   "metadata": {},
   "source": [
    "Видим, что логистическая регрессия лучше всего справляется с поставленной задачей. Метрика выше целевого значения. 3% False Positive не так много, а вот 17% False Negative уже хуже."
   ]
  },
  {
   "cell_type": "markdown",
   "metadata": {},
   "source": [
    "## Выводы"
   ]
  },
  {
   "cell_type": "markdown",
   "metadata": {},
   "source": [
    "Итак, можно сделать вывод, что c определением токсичных комментариев лучше всего справилась модель логистической регрессии(C = 3, class_weight ='balanced', max_iter = 500). Необходимый порог по метрике F1 преодолен, советуем модель заказчику."
   ]
  }
 ],
 "metadata": {
  "ExecuteTimeLog": [
   {
    "duration": 1755,
    "start_time": "2023-03-06T15:04:43.842Z"
   },
   {
    "duration": 3371,
    "start_time": "2023-03-06T15:09:11.638Z"
   },
   {
    "duration": 12,
    "start_time": "2023-03-06T15:09:50.173Z"
   },
   {
    "duration": 33,
    "start_time": "2023-03-06T15:10:20.526Z"
   },
   {
    "duration": 44,
    "start_time": "2023-03-06T15:12:50.815Z"
   },
   {
    "duration": 66,
    "start_time": "2023-03-06T15:13:02.327Z"
   },
   {
    "duration": 43,
    "start_time": "2023-03-06T15:13:18.002Z"
   },
   {
    "duration": 138,
    "start_time": "2023-03-06T15:13:25.704Z"
   },
   {
    "duration": 27,
    "start_time": "2023-03-06T15:13:37.481Z"
   },
   {
    "duration": 26,
    "start_time": "2023-03-06T15:14:01.835Z"
   },
   {
    "duration": 14,
    "start_time": "2023-03-06T15:14:15.071Z"
   },
   {
    "duration": 11,
    "start_time": "2023-03-06T15:14:45.720Z"
   },
   {
    "duration": 38,
    "start_time": "2023-03-06T15:14:59.504Z"
   },
   {
    "duration": 1585,
    "start_time": "2023-03-06T15:15:11.245Z"
   },
   {
    "duration": 777,
    "start_time": "2023-03-06T15:15:12.832Z"
   },
   {
    "duration": 18,
    "start_time": "2023-03-06T15:15:13.610Z"
   },
   {
    "duration": 32,
    "start_time": "2023-03-06T15:15:13.630Z"
   },
   {
    "duration": 10,
    "start_time": "2023-03-06T15:15:13.664Z"
   },
   {
    "duration": 554,
    "start_time": "2023-03-06T15:15:13.675Z"
   },
   {
    "duration": 407,
    "start_time": "2023-03-06T15:15:19.772Z"
   },
   {
    "duration": 402,
    "start_time": "2023-03-06T15:15:30.080Z"
   },
   {
    "duration": 423,
    "start_time": "2023-03-06T15:15:36.846Z"
   },
   {
    "duration": 386,
    "start_time": "2023-03-06T15:15:42.500Z"
   },
   {
    "duration": 3,
    "start_time": "2023-03-06T15:17:22.023Z"
   },
   {
    "duration": 1938,
    "start_time": "2023-03-06T15:17:22.595Z"
   },
   {
    "duration": 3,
    "start_time": "2023-03-06T15:17:52.775Z"
   },
   {
    "duration": 73344,
    "start_time": "2023-03-06T15:17:53.784Z"
   },
   {
    "duration": 63,
    "start_time": "2023-03-06T15:19:40.102Z"
   },
   {
    "duration": 32,
    "start_time": "2023-03-06T15:20:14.901Z"
   },
   {
    "duration": 4,
    "start_time": "2023-03-06T15:20:15.589Z"
   },
   {
    "duration": 2,
    "start_time": "2023-03-06T15:20:16.245Z"
   },
   {
    "duration": 27089,
    "start_time": "2023-03-06T15:20:17.677Z"
   },
   {
    "duration": 6,
    "start_time": "2023-03-06T15:20:59.596Z"
   },
   {
    "duration": 4,
    "start_time": "2023-03-06T15:32:47.445Z"
   },
   {
    "duration": 2,
    "start_time": "2023-03-06T15:32:49.029Z"
   },
   {
    "duration": 5,
    "start_time": "2023-03-06T15:33:00.856Z"
   },
   {
    "duration": 130,
    "start_time": "2023-03-06T15:33:55.230Z"
   },
   {
    "duration": 3,
    "start_time": "2023-03-06T15:34:00.097Z"
   },
   {
    "duration": 12,
    "start_time": "2023-03-06T15:34:01.073Z"
   },
   {
    "duration": 10,
    "start_time": "2023-03-06T15:34:09.375Z"
   },
   {
    "duration": 186,
    "start_time": "2023-03-06T15:35:12.140Z"
   },
   {
    "duration": 4,
    "start_time": "2023-03-06T15:35:23.749Z"
   },
   {
    "duration": 3,
    "start_time": "2023-03-06T15:35:24.893Z"
   },
   {
    "duration": 10,
    "start_time": "2023-03-06T15:35:25.732Z"
   },
   {
    "duration": 3,
    "start_time": "2023-03-06T15:35:36.509Z"
   },
   {
    "duration": 4,
    "start_time": "2023-03-06T15:35:37.126Z"
   },
   {
    "duration": 128,
    "start_time": "2023-03-06T15:35:37.646Z"
   },
   {
    "duration": 1562,
    "start_time": "2023-03-06T15:36:33.119Z"
   },
   {
    "duration": 770,
    "start_time": "2023-03-06T15:36:34.683Z"
   },
   {
    "duration": 11,
    "start_time": "2023-03-06T15:36:35.455Z"
   },
   {
    "duration": 46,
    "start_time": "2023-03-06T15:36:35.468Z"
   },
   {
    "duration": 11,
    "start_time": "2023-03-06T15:36:35.516Z"
   },
   {
    "duration": 514,
    "start_time": "2023-03-06T15:36:35.529Z"
   },
   {
    "duration": 3,
    "start_time": "2023-03-06T15:36:36.044Z"
   },
   {
    "duration": 1749,
    "start_time": "2023-03-06T15:36:36.049Z"
   },
   {
    "duration": 4,
    "start_time": "2023-03-06T15:36:37.800Z"
   },
   {
    "duration": 67393,
    "start_time": "2023-03-06T15:36:37.813Z"
   },
   {
    "duration": 57,
    "start_time": "2023-03-06T15:37:45.208Z"
   },
   {
    "duration": 25,
    "start_time": "2023-03-06T15:37:45.267Z"
   },
   {
    "duration": 20,
    "start_time": "2023-03-06T15:37:45.294Z"
   },
   {
    "duration": 6,
    "start_time": "2023-03-06T15:37:45.316Z"
   },
   {
    "duration": 26317,
    "start_time": "2023-03-06T15:37:45.323Z"
   },
   {
    "duration": 5,
    "start_time": "2023-03-06T15:38:11.642Z"
   },
   {
    "duration": 8,
    "start_time": "2023-03-06T15:38:11.649Z"
   },
   {
    "duration": 256,
    "start_time": "2023-03-06T15:38:11.658Z"
   },
   {
    "duration": 0,
    "start_time": "2023-03-06T15:38:11.915Z"
   },
   {
    "duration": 0,
    "start_time": "2023-03-06T15:38:11.917Z"
   },
   {
    "duration": 0,
    "start_time": "2023-03-06T15:38:11.918Z"
   },
   {
    "duration": 26269,
    "start_time": "2023-03-06T15:38:38.407Z"
   },
   {
    "duration": 4,
    "start_time": "2023-03-06T15:40:54.672Z"
   },
   {
    "duration": 3,
    "start_time": "2023-03-06T15:40:55.839Z"
   },
   {
    "duration": 1560,
    "start_time": "2023-03-06T15:44:44.813Z"
   },
   {
    "duration": 3286,
    "start_time": "2023-03-06T15:44:46.375Z"
   },
   {
    "duration": 11,
    "start_time": "2023-03-06T15:44:49.663Z"
   },
   {
    "duration": 50,
    "start_time": "2023-03-06T15:44:49.676Z"
   },
   {
    "duration": 10,
    "start_time": "2023-03-06T15:44:49.728Z"
   },
   {
    "duration": 507,
    "start_time": "2023-03-06T15:44:49.740Z"
   },
   {
    "duration": 3,
    "start_time": "2023-03-06T15:44:50.249Z"
   },
   {
    "duration": 1873,
    "start_time": "2023-03-06T15:44:50.253Z"
   },
   {
    "duration": 3,
    "start_time": "2023-03-06T15:44:52.129Z"
   },
   {
    "duration": 72433,
    "start_time": "2023-03-06T15:44:52.134Z"
   },
   {
    "duration": 72,
    "start_time": "2023-03-06T15:46:04.569Z"
   },
   {
    "duration": 21,
    "start_time": "2023-03-06T15:46:04.643Z"
   },
   {
    "duration": 6,
    "start_time": "2023-03-06T15:46:04.666Z"
   },
   {
    "duration": 3,
    "start_time": "2023-03-06T15:46:04.675Z"
   },
   {
    "duration": 26776,
    "start_time": "2023-03-06T15:46:04.680Z"
   },
   {
    "duration": 4,
    "start_time": "2023-03-06T15:46:31.458Z"
   },
   {
    "duration": 22,
    "start_time": "2023-03-06T15:46:31.463Z"
   },
   {
    "duration": 149179,
    "start_time": "2023-03-06T15:46:31.487Z"
   },
   {
    "duration": 0,
    "start_time": "2023-03-06T15:49:00.668Z"
   },
   {
    "duration": 0,
    "start_time": "2023-03-06T15:49:00.669Z"
   },
   {
    "duration": 0,
    "start_time": "2023-03-06T15:49:00.670Z"
   },
   {
    "duration": 0,
    "start_time": "2023-03-06T16:01:12.632Z"
   },
   {
    "duration": 0,
    "start_time": "2023-03-06T16:01:12.635Z"
   },
   {
    "duration": 0,
    "start_time": "2023-03-06T16:01:12.638Z"
   },
   {
    "duration": 0,
    "start_time": "2023-03-06T16:01:12.641Z"
   },
   {
    "duration": 0,
    "start_time": "2023-03-06T16:01:12.644Z"
   },
   {
    "duration": 0,
    "start_time": "2023-03-06T16:01:12.647Z"
   },
   {
    "duration": 0,
    "start_time": "2023-03-06T16:01:12.651Z"
   },
   {
    "duration": 0,
    "start_time": "2023-03-06T16:01:12.714Z"
   },
   {
    "duration": 0,
    "start_time": "2023-03-06T16:01:12.717Z"
   },
   {
    "duration": 1,
    "start_time": "2023-03-06T16:01:12.720Z"
   },
   {
    "duration": 0,
    "start_time": "2023-03-06T16:01:12.723Z"
   },
   {
    "duration": 0,
    "start_time": "2023-03-06T16:01:12.726Z"
   },
   {
    "duration": 0,
    "start_time": "2023-03-06T16:01:12.730Z"
   },
   {
    "duration": 0,
    "start_time": "2023-03-06T16:01:12.732Z"
   },
   {
    "duration": 0,
    "start_time": "2023-03-06T16:01:12.735Z"
   },
   {
    "duration": 0,
    "start_time": "2023-03-06T16:01:12.738Z"
   },
   {
    "duration": 0,
    "start_time": "2023-03-06T16:01:12.741Z"
   },
   {
    "duration": 0,
    "start_time": "2023-03-06T16:01:12.744Z"
   },
   {
    "duration": 0,
    "start_time": "2023-03-06T16:01:12.746Z"
   },
   {
    "duration": 0,
    "start_time": "2023-03-06T16:01:12.750Z"
   },
   {
    "duration": 0,
    "start_time": "2023-03-06T16:01:12.811Z"
   },
   {
    "duration": 0,
    "start_time": "2023-03-06T16:01:12.820Z"
   },
   {
    "duration": 0,
    "start_time": "2023-03-06T16:01:12.821Z"
   },
   {
    "duration": 0,
    "start_time": "2023-03-06T16:01:12.823Z"
   },
   {
    "duration": 0,
    "start_time": "2023-03-06T16:01:12.825Z"
   },
   {
    "duration": 1498,
    "start_time": "2023-03-06T16:01:35.264Z"
   },
   {
    "duration": 794,
    "start_time": "2023-03-06T16:01:36.764Z"
   },
   {
    "duration": 12,
    "start_time": "2023-03-06T16:01:37.560Z"
   },
   {
    "duration": 50,
    "start_time": "2023-03-06T16:01:37.575Z"
   },
   {
    "duration": 16,
    "start_time": "2023-03-06T16:01:37.626Z"
   },
   {
    "duration": 509,
    "start_time": "2023-03-06T16:01:37.644Z"
   },
   {
    "duration": 3,
    "start_time": "2023-03-06T16:01:38.155Z"
   },
   {
    "duration": 1754,
    "start_time": "2023-03-06T16:01:38.159Z"
   },
   {
    "duration": 4,
    "start_time": "2023-03-06T16:01:39.915Z"
   },
   {
    "duration": 69325,
    "start_time": "2023-03-06T16:01:39.922Z"
   },
   {
    "duration": 65,
    "start_time": "2023-03-06T16:02:49.249Z"
   },
   {
    "duration": 23,
    "start_time": "2023-03-06T16:02:49.316Z"
   },
   {
    "duration": 5,
    "start_time": "2023-03-06T16:02:49.340Z"
   },
   {
    "duration": 10,
    "start_time": "2023-03-06T16:02:49.347Z"
   },
   {
    "duration": 26040,
    "start_time": "2023-03-06T16:02:49.359Z"
   },
   {
    "duration": 4,
    "start_time": "2023-03-06T16:03:15.401Z"
   },
   {
    "duration": 2,
    "start_time": "2023-03-06T16:03:15.412Z"
   },
   {
    "duration": 1087298,
    "start_time": "2023-03-06T16:03:15.416Z"
   },
   {
    "duration": 10,
    "start_time": "2023-03-06T16:21:22.715Z"
   },
   {
    "duration": 0,
    "start_time": "2023-03-06T16:21:22.726Z"
   },
   {
    "duration": 0,
    "start_time": "2023-03-06T16:21:22.728Z"
   },
   {
    "duration": 0,
    "start_time": "2023-03-06T16:21:22.729Z"
   },
   {
    "duration": 0,
    "start_time": "2023-03-06T16:21:22.731Z"
   },
   {
    "duration": 0,
    "start_time": "2023-03-06T16:21:22.732Z"
   },
   {
    "duration": 0,
    "start_time": "2023-03-06T16:21:22.734Z"
   },
   {
    "duration": 1105744,
    "start_time": "2023-03-06T16:23:18.827Z"
   },
   {
    "duration": 1600,
    "start_time": "2023-03-06T16:43:19.727Z"
   },
   {
    "duration": 828,
    "start_time": "2023-03-06T16:43:21.330Z"
   },
   {
    "duration": 14,
    "start_time": "2023-03-06T16:43:22.160Z"
   },
   {
    "duration": 54,
    "start_time": "2023-03-06T16:43:22.175Z"
   },
   {
    "duration": 11,
    "start_time": "2023-03-06T16:43:22.231Z"
   },
   {
    "duration": 533,
    "start_time": "2023-03-06T16:43:22.244Z"
   },
   {
    "duration": 3,
    "start_time": "2023-03-06T16:43:22.779Z"
   },
   {
    "duration": 2013,
    "start_time": "2023-03-06T16:43:22.784Z"
   },
   {
    "duration": 4,
    "start_time": "2023-03-06T16:43:24.799Z"
   },
   {
    "duration": 71967,
    "start_time": "2023-03-06T16:43:24.814Z"
   },
   {
    "duration": 74,
    "start_time": "2023-03-06T16:44:36.783Z"
   },
   {
    "duration": 23,
    "start_time": "2023-03-06T16:44:36.859Z"
   },
   {
    "duration": 5,
    "start_time": "2023-03-06T16:44:36.884Z"
   },
   {
    "duration": 5,
    "start_time": "2023-03-06T16:44:36.891Z"
   },
   {
    "duration": 26827,
    "start_time": "2023-03-06T16:44:36.898Z"
   },
   {
    "duration": 4,
    "start_time": "2023-03-06T16:45:03.727Z"
   },
   {
    "duration": 8,
    "start_time": "2023-03-06T16:45:03.732Z"
   },
   {
    "duration": 637758,
    "start_time": "2023-03-06T16:45:03.741Z"
   },
   {
    "duration": 11,
    "start_time": "2023-03-06T16:55:41.502Z"
   },
   {
    "duration": 7,
    "start_time": "2023-03-06T16:55:41.515Z"
   },
   {
    "duration": 7,
    "start_time": "2023-03-06T16:55:41.524Z"
   },
   {
    "duration": 599903,
    "start_time": "2023-03-06T16:55:41.533Z"
   },
   {
    "duration": 3,
    "start_time": "2023-03-06T17:05:41.438Z"
   },
   {
    "duration": 149,
    "start_time": "2023-03-06T17:05:41.443Z"
   },
   {
    "duration": 0,
    "start_time": "2023-03-06T17:05:41.594Z"
   },
   {
    "duration": 10,
    "start_time": "2023-03-06T17:06:33.953Z"
   },
   {
    "duration": 9,
    "start_time": "2023-03-06T17:06:57.200Z"
   },
   {
    "duration": 3,
    "start_time": "2023-03-06T17:07:03.719Z"
   },
   {
    "duration": 10,
    "start_time": "2023-03-06T17:07:05.043Z"
   },
   {
    "duration": 19,
    "start_time": "2023-03-06T17:08:36.846Z"
   },
   {
    "duration": 3,
    "start_time": "2023-03-06T17:08:52.162Z"
   },
   {
    "duration": 0,
    "start_time": "2023-03-06T17:09:11.919Z"
   },
   {
    "duration": 0,
    "start_time": "2023-03-06T17:09:11.921Z"
   },
   {
    "duration": 1,
    "start_time": "2023-03-06T17:09:11.921Z"
   },
   {
    "duration": 0,
    "start_time": "2023-03-06T17:09:11.923Z"
   },
   {
    "duration": 0,
    "start_time": "2023-03-06T17:09:11.924Z"
   },
   {
    "duration": 0,
    "start_time": "2023-03-06T17:09:11.925Z"
   },
   {
    "duration": 0,
    "start_time": "2023-03-06T17:09:11.926Z"
   },
   {
    "duration": 0,
    "start_time": "2023-03-06T17:09:11.927Z"
   },
   {
    "duration": 0,
    "start_time": "2023-03-06T17:09:11.928Z"
   },
   {
    "duration": 0,
    "start_time": "2023-03-06T17:09:11.929Z"
   },
   {
    "duration": 0,
    "start_time": "2023-03-06T17:09:11.930Z"
   },
   {
    "duration": 0,
    "start_time": "2023-03-06T17:09:11.931Z"
   },
   {
    "duration": 0,
    "start_time": "2023-03-06T17:09:11.932Z"
   },
   {
    "duration": 0,
    "start_time": "2023-03-06T17:09:11.933Z"
   },
   {
    "duration": 0,
    "start_time": "2023-03-06T17:09:11.935Z"
   },
   {
    "duration": 0,
    "start_time": "2023-03-06T17:09:11.936Z"
   },
   {
    "duration": 0,
    "start_time": "2023-03-06T17:09:11.937Z"
   },
   {
    "duration": 0,
    "start_time": "2023-03-06T17:09:11.938Z"
   },
   {
    "duration": 0,
    "start_time": "2023-03-06T17:09:11.939Z"
   },
   {
    "duration": 0,
    "start_time": "2023-03-06T17:09:11.939Z"
   },
   {
    "duration": 0,
    "start_time": "2023-03-06T17:09:11.940Z"
   },
   {
    "duration": 0,
    "start_time": "2023-03-06T17:09:11.941Z"
   },
   {
    "duration": 0,
    "start_time": "2023-03-06T17:09:11.942Z"
   },
   {
    "duration": 0,
    "start_time": "2023-03-06T17:09:11.943Z"
   },
   {
    "duration": 0,
    "start_time": "2023-03-06T17:09:11.945Z"
   },
   {
    "duration": 0,
    "start_time": "2023-03-06T17:09:11.945Z"
   },
   {
    "duration": 0,
    "start_time": "2023-03-06T17:09:11.947Z"
   },
   {
    "duration": 0,
    "start_time": "2023-03-06T17:09:11.948Z"
   },
   {
    "duration": 0,
    "start_time": "2023-03-06T17:09:11.949Z"
   },
   {
    "duration": 0,
    "start_time": "2023-03-06T17:09:11.950Z"
   },
   {
    "duration": 0,
    "start_time": "2023-03-06T17:09:11.951Z"
   },
   {
    "duration": 31,
    "start_time": "2023-03-06T17:30:32.156Z"
   },
   {
    "duration": 697,
    "start_time": "2023-03-06T17:30:32.189Z"
   },
   {
    "duration": 7,
    "start_time": "2023-03-06T17:30:32.888Z"
   },
   {
    "duration": 40,
    "start_time": "2023-03-06T17:30:32.897Z"
   },
   {
    "duration": 9,
    "start_time": "2023-03-06T17:30:32.939Z"
   },
   {
    "duration": 421,
    "start_time": "2023-03-06T17:30:32.950Z"
   },
   {
    "duration": 3,
    "start_time": "2023-03-06T17:30:33.372Z"
   },
   {
    "duration": 1735,
    "start_time": "2023-03-06T17:30:33.377Z"
   },
   {
    "duration": 4,
    "start_time": "2023-03-06T17:30:35.113Z"
   },
   {
    "duration": 7186,
    "start_time": "2023-03-06T17:30:35.118Z"
   },
   {
    "duration": 0,
    "start_time": "2023-03-06T17:30:42.306Z"
   },
   {
    "duration": 0,
    "start_time": "2023-03-06T17:30:42.307Z"
   },
   {
    "duration": 0,
    "start_time": "2023-03-06T17:30:42.309Z"
   },
   {
    "duration": 0,
    "start_time": "2023-03-06T17:30:42.310Z"
   },
   {
    "duration": 0,
    "start_time": "2023-03-06T17:30:42.311Z"
   },
   {
    "duration": 0,
    "start_time": "2023-03-06T17:30:42.312Z"
   },
   {
    "duration": 0,
    "start_time": "2023-03-06T17:30:42.313Z"
   },
   {
    "duration": 0,
    "start_time": "2023-03-06T17:30:42.314Z"
   },
   {
    "duration": 0,
    "start_time": "2023-03-06T17:30:42.315Z"
   },
   {
    "duration": 0,
    "start_time": "2023-03-06T17:30:42.317Z"
   },
   {
    "duration": 0,
    "start_time": "2023-03-06T17:30:42.318Z"
   },
   {
    "duration": 0,
    "start_time": "2023-03-06T17:30:42.319Z"
   },
   {
    "duration": 0,
    "start_time": "2023-03-06T17:30:42.320Z"
   },
   {
    "duration": 0,
    "start_time": "2023-03-06T17:30:42.322Z"
   },
   {
    "duration": 0,
    "start_time": "2023-03-06T17:30:42.323Z"
   },
   {
    "duration": 0,
    "start_time": "2023-03-06T17:30:42.324Z"
   },
   {
    "duration": 0,
    "start_time": "2023-03-06T17:30:42.325Z"
   },
   {
    "duration": 0,
    "start_time": "2023-03-06T17:30:42.326Z"
   },
   {
    "duration": 0,
    "start_time": "2023-03-06T17:30:42.327Z"
   },
   {
    "duration": 0,
    "start_time": "2023-03-06T17:30:42.328Z"
   },
   {
    "duration": 0,
    "start_time": "2023-03-06T17:30:42.329Z"
   },
   {
    "duration": 0,
    "start_time": "2023-03-06T17:30:42.330Z"
   },
   {
    "duration": 0,
    "start_time": "2023-03-06T17:30:42.331Z"
   },
   {
    "duration": 0,
    "start_time": "2023-03-06T17:30:42.333Z"
   },
   {
    "duration": 0,
    "start_time": "2023-03-06T17:30:42.334Z"
   },
   {
    "duration": 0,
    "start_time": "2023-03-06T17:30:42.335Z"
   },
   {
    "duration": 1718,
    "start_time": "2023-03-06T17:30:47.470Z"
   },
   {
    "duration": 771,
    "start_time": "2023-03-06T17:30:49.190Z"
   },
   {
    "duration": 11,
    "start_time": "2023-03-06T17:30:49.962Z"
   },
   {
    "duration": 45,
    "start_time": "2023-03-06T17:30:49.975Z"
   },
   {
    "duration": 12,
    "start_time": "2023-03-06T17:30:50.021Z"
   },
   {
    "duration": 446,
    "start_time": "2023-03-06T17:30:50.035Z"
   },
   {
    "duration": 3,
    "start_time": "2023-03-06T17:30:50.483Z"
   },
   {
    "duration": 1739,
    "start_time": "2023-03-06T17:30:50.487Z"
   },
   {
    "duration": 3,
    "start_time": "2023-03-06T17:30:52.228Z"
   },
   {
    "duration": 67932,
    "start_time": "2023-03-06T17:30:52.233Z"
   },
   {
    "duration": 67,
    "start_time": "2023-03-06T17:32:00.167Z"
   },
   {
    "duration": 24,
    "start_time": "2023-03-06T17:32:00.235Z"
   },
   {
    "duration": 26,
    "start_time": "2023-03-06T17:32:00.261Z"
   },
   {
    "duration": 11,
    "start_time": "2023-03-06T17:32:00.289Z"
   },
   {
    "duration": 25110,
    "start_time": "2023-03-06T17:32:00.302Z"
   },
   {
    "duration": 5,
    "start_time": "2023-03-06T17:32:25.414Z"
   },
   {
    "duration": 10,
    "start_time": "2023-03-06T17:32:25.420Z"
   },
   {
    "duration": 628429,
    "start_time": "2023-03-06T17:32:25.432Z"
   },
   {
    "duration": 4,
    "start_time": "2023-03-06T17:42:53.863Z"
   },
   {
    "duration": 4,
    "start_time": "2023-03-06T17:42:53.869Z"
   },
   {
    "duration": 586332,
    "start_time": "2023-03-06T17:42:53.874Z"
   },
   {
    "duration": 7,
    "start_time": "2023-03-06T17:52:40.209Z"
   },
   {
    "duration": 7,
    "start_time": "2023-03-06T17:52:40.218Z"
   },
   {
    "duration": 1177635,
    "start_time": "2023-03-06T17:52:40.227Z"
   },
   {
    "duration": 4,
    "start_time": "2023-03-06T18:12:17.864Z"
   },
   {
    "duration": 76291,
    "start_time": "2023-03-06T18:12:17.870Z"
   },
   {
    "duration": 3,
    "start_time": "2023-03-06T18:13:34.163Z"
   },
   {
    "duration": 19,
    "start_time": "2023-03-06T18:13:34.170Z"
   },
   {
    "duration": 35,
    "start_time": "2023-03-06T18:13:34.191Z"
   },
   {
    "duration": 0,
    "start_time": "2023-03-06T18:13:34.229Z"
   },
   {
    "duration": 0,
    "start_time": "2023-03-06T18:13:34.231Z"
   },
   {
    "duration": 0,
    "start_time": "2023-03-06T18:13:34.232Z"
   },
   {
    "duration": 0,
    "start_time": "2023-03-06T18:13:34.234Z"
   },
   {
    "duration": 0,
    "start_time": "2023-03-06T18:13:34.235Z"
   },
   {
    "duration": 0,
    "start_time": "2023-03-06T18:13:34.237Z"
   },
   {
    "duration": 0,
    "start_time": "2023-03-06T18:13:34.238Z"
   },
   {
    "duration": 0,
    "start_time": "2023-03-06T18:13:34.240Z"
   },
   {
    "duration": 0,
    "start_time": "2023-03-06T18:13:34.241Z"
   },
   {
    "duration": 5,
    "start_time": "2023-03-06T18:13:36.696Z"
   },
   {
    "duration": 156497,
    "start_time": "2023-03-06T18:13:45.203Z"
   },
   {
    "duration": 4,
    "start_time": "2023-03-06T18:19:09.348Z"
   },
   {
    "duration": 3,
    "start_time": "2023-03-06T18:19:21.881Z"
   },
   {
    "duration": 47011,
    "start_time": "2023-03-06T18:19:24.893Z"
   },
   {
    "duration": 52918,
    "start_time": "2023-03-06T18:20:17.252Z"
   },
   {
    "duration": 4,
    "start_time": "2023-03-06T18:21:27.703Z"
   },
   {
    "duration": 3,
    "start_time": "2023-03-06T18:21:31.463Z"
   },
   {
    "duration": 17,
    "start_time": "2023-03-06T18:21:32.531Z"
   },
   {
    "duration": 4,
    "start_time": "2023-03-06T18:21:35.960Z"
   },
   {
    "duration": 11,
    "start_time": "2023-03-06T18:21:37.807Z"
   },
   {
    "duration": 3,
    "start_time": "2023-03-06T18:22:23.293Z"
   },
   {
    "duration": 176326,
    "start_time": "2023-03-06T18:22:24.651Z"
   },
   {
    "duration": 19,
    "start_time": "2023-03-06T18:25:34.165Z"
   },
   {
    "duration": 17,
    "start_time": "2023-03-06T18:25:35.291Z"
   },
   {
    "duration": 35,
    "start_time": "2023-03-06T18:26:05.769Z"
   },
   {
    "duration": 296,
    "start_time": "2023-03-06T18:26:09.177Z"
   },
   {
    "duration": 340,
    "start_time": "2023-03-06T18:26:19.325Z"
   }
  ],
  "kernelspec": {
   "display_name": "Python 3 (ipykernel)",
   "language": "python",
   "name": "python3"
  },
  "language_info": {
   "codemirror_mode": {
    "name": "ipython",
    "version": 3
   },
   "file_extension": ".py",
   "mimetype": "text/x-python",
   "name": "python",
   "nbconvert_exporter": "python",
   "pygments_lexer": "ipython3",
   "version": "3.9.12"
  },
  "toc": {
   "base_numbering": 1,
   "nav_menu": {},
   "number_sections": true,
   "sideBar": true,
   "skip_h1_title": true,
   "title_cell": "Содержание",
   "title_sidebar": "Contents",
   "toc_cell": true,
   "toc_position": {
    "height": "calc(100% - 180px)",
    "left": "10px",
    "top": "150px",
    "width": "302.391px"
   },
   "toc_section_display": true,
   "toc_window_display": false
  },
  "varInspector": {
   "cols": {
    "lenName": 16,
    "lenType": 16,
    "lenVar": 40
   },
   "kernels_config": {
    "python": {
     "delete_cmd_postfix": "",
     "delete_cmd_prefix": "del ",
     "library": "var_list.py",
     "varRefreshCmd": "print(var_dic_list())"
    },
    "r": {
     "delete_cmd_postfix": ") ",
     "delete_cmd_prefix": "rm(",
     "library": "var_list.r",
     "varRefreshCmd": "cat(var_dic_list()) "
    }
   },
   "types_to_exclude": [
    "module",
    "function",
    "builtin_function_or_method",
    "instance",
    "_Feature"
   ],
   "window_display": false
  }
 },
 "nbformat": 4,
 "nbformat_minor": 2
}
