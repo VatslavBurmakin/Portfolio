{
 "cells": [
  {
   "cell_type": "markdown",
   "metadata": {},
   "source": [
    "# Определение стоимости автомобилей"
   ]
  },
  {
   "cell_type": "markdown",
   "metadata": {},
   "source": [
    "Сервис по продаже автомобилей с пробегом «Не бит, не крашен» разрабатывает приложение для привлечения новых клиентов. В нём можно быстро узнать рыночную стоимость своего автомобиля. В вашем распоряжении исторические данные: технические характеристики, комплектации и цены автомобилей. Вам нужно построить модель для определения стоимости. \n",
    "\n",
    "Заказчику важны:\n",
    "\n",
    "- качество предсказания;\n",
    "- скорость предсказания;\n",
    "- время обучения."
   ]
  },
  {
   "cell_type": "markdown",
   "metadata": {},
   "source": [
    "**Описание данных**\n",
    "\n",
    "**Признаки:**\n",
    "\n",
    "- DateCrawled — дата скачивания анкеты из базы\n",
    "\n",
    "- VehicleType — тип автомобильного кузова\n",
    "\n",
    "- RegistrationYear — год регистрации автомобиля\n",
    "\n",
    "- Gearbox — тип коробки передач\n",
    "\n",
    "- Power — мощность (л. с.)\n",
    "\n",
    "- Model — модель автомобиля\n",
    "\n",
    "- Kilometer — пробег (км)\n",
    "\n",
    "- RegistrationMonth — месяц регистрации автомобиля\n",
    "\n",
    "- FuelType — тип топлива\n",
    "\n",
    "- Brand — марка автомобиля\n",
    "\n",
    "- Repaired — была машина в ремонте или нет\n",
    "\n",
    "- DateCreated — дата создания анкеты\n",
    "\n",
    "- NumberOfPictures — количество фотографий автомобиля\n",
    "\n",
    "- PostalCode — почтовый индекс владельца анкеты (пользователя)\n",
    "\n",
    "- LastSeen — дата последней активности пользователя\n",
    "\n",
    "**Целевой признак:**\n",
    "\n",
    "- Price — цена (евро)"
   ]
  },
  {
   "cell_type": "markdown",
   "metadata": {},
   "source": [
    "**Задачи:**\n",
    "\n",
    "\n",
    "- Загрузить,подготовить и исследовать данные.\n",
    "\n",
    "\n",
    "- Обучить разные модели.\n",
    "\n",
    "\n",
    "- Проанализировать скорость работы и качество моделей.\n",
    "\n",
    "\n",
    "- Выбрать наулилучшую модель по 3 параметрам: качество, скорость и время обучения."
   ]
  },
  {
   "cell_type": "markdown",
   "metadata": {},
   "source": [
    "## Подготовка данных"
   ]
  },
  {
   "cell_type": "code",
   "execution_count": 1,
   "metadata": {},
   "outputs": [
    {
     "name": "stdout",
     "output_type": "stream",
     "text": [
      "Requirement already satisfied: category_encoders in /opt/conda/lib/python3.9/site-packages (2.6.0)\n",
      "Requirement already satisfied: patsy>=0.5.1 in /opt/conda/lib/python3.9/site-packages (from category_encoders) (0.5.2)\n",
      "Requirement already satisfied: numpy>=1.14.0 in /opt/conda/lib/python3.9/site-packages (from category_encoders) (1.21.1)\n",
      "Requirement already satisfied: pandas>=1.0.5 in /opt/conda/lib/python3.9/site-packages (from category_encoders) (1.2.4)\n",
      "Requirement already satisfied: scipy>=1.0.0 in /opt/conda/lib/python3.9/site-packages (from category_encoders) (1.9.1)\n",
      "Requirement already satisfied: statsmodels>=0.9.0 in /opt/conda/lib/python3.9/site-packages (from category_encoders) (0.13.2)\n",
      "Requirement already satisfied: scikit-learn>=0.20.0 in /opt/conda/lib/python3.9/site-packages (from category_encoders) (0.24.1)\n",
      "Requirement already satisfied: python-dateutil>=2.7.3 in /opt/conda/lib/python3.9/site-packages (from pandas>=1.0.5->category_encoders) (2.8.1)\n",
      "Requirement already satisfied: pytz>=2017.3 in /opt/conda/lib/python3.9/site-packages (from pandas>=1.0.5->category_encoders) (2021.1)\n",
      "Requirement already satisfied: six in /opt/conda/lib/python3.9/site-packages (from patsy>=0.5.1->category_encoders) (1.16.0)\n",
      "Requirement already satisfied: joblib>=0.11 in /opt/conda/lib/python3.9/site-packages (from scikit-learn>=0.20.0->category_encoders) (1.1.0)\n",
      "Requirement already satisfied: threadpoolctl>=2.0.0 in /opt/conda/lib/python3.9/site-packages (from scikit-learn>=0.20.0->category_encoders) (3.1.0)\n",
      "Requirement already satisfied: packaging>=21.3 in /opt/conda/lib/python3.9/site-packages (from statsmodels>=0.9.0->category_encoders) (21.3)\n",
      "Requirement already satisfied: pyparsing!=3.0.5,>=2.0.2 in /opt/conda/lib/python3.9/site-packages (from packaging>=21.3->statsmodels>=0.9.0->category_encoders) (2.4.7)\n",
      "Note: you may need to restart the kernel to use updated packages.\n"
     ]
    }
   ],
   "source": [
    "pip install category_encoders"
   ]
  },
  {
   "cell_type": "code",
   "execution_count": 2,
   "metadata": {},
   "outputs": [],
   "source": [
    "import pandas as pd\n",
    "\n",
    "import time\n",
    "\n",
    "import seaborn as sns\n",
    "import matplotlib.pyplot as plt\n",
    "%matplotlib inline\n",
    "import category_encoders as ce\n",
    "from sklearn.model_selection import cross_val_score, RandomizedSearchCV, GridSearchCV, train_test_split\n",
    "from sklearn.preprocessing import OneHotEncoder\n",
    "from sklearn.preprocessing import StandardScaler\n",
    "from sklearn.preprocessing import OrdinalEncoder\n",
    "from sklearn.linear_model import Lasso\n",
    "from catboost import CatBoostRegressor\n",
    "from lightgbm import LGBMRegressor\n",
    "from sklearn.ensemble import RandomForestRegressor\n",
    "from sklearn.tree import DecisionTreeRegressor\n",
    "from sklearn.dummy import DummyRegressor\n",
    "\n",
    "from sklearn.metrics import mean_squared_error, make_scorer\n",
    "import warnings\n",
    "warnings.filterwarnings(\"ignore\")"
   ]
  },
  {
   "cell_type": "code",
   "execution_count": 3,
   "metadata": {},
   "outputs": [],
   "source": [
    "df = pd.read_csv('/datasets/autos.csv')"
   ]
  },
  {
   "cell_type": "code",
   "execution_count": 4,
   "metadata": {},
   "outputs": [
    {
     "name": "stdout",
     "output_type": "stream",
     "text": [
      "<class 'pandas.core.frame.DataFrame'>\n",
      "RangeIndex: 354369 entries, 0 to 354368\n",
      "Data columns (total 16 columns):\n",
      " #   Column             Non-Null Count   Dtype \n",
      "---  ------             --------------   ----- \n",
      " 0   DateCrawled        354369 non-null  object\n",
      " 1   Price              354369 non-null  int64 \n",
      " 2   VehicleType        316879 non-null  object\n",
      " 3   RegistrationYear   354369 non-null  int64 \n",
      " 4   Gearbox            334536 non-null  object\n",
      " 5   Power              354369 non-null  int64 \n",
      " 6   Model              334664 non-null  object\n",
      " 7   Kilometer          354369 non-null  int64 \n",
      " 8   RegistrationMonth  354369 non-null  int64 \n",
      " 9   FuelType           321474 non-null  object\n",
      " 10  Brand              354369 non-null  object\n",
      " 11  Repaired           283215 non-null  object\n",
      " 12  DateCreated        354369 non-null  object\n",
      " 13  NumberOfPictures   354369 non-null  int64 \n",
      " 14  PostalCode         354369 non-null  int64 \n",
      " 15  LastSeen           354369 non-null  object\n",
      "dtypes: int64(7), object(9)\n",
      "memory usage: 43.3+ MB\n"
     ]
    },
    {
     "data": {
      "text/html": [
       "<div>\n",
       "<style scoped>\n",
       "    .dataframe tbody tr th:only-of-type {\n",
       "        vertical-align: middle;\n",
       "    }\n",
       "\n",
       "    .dataframe tbody tr th {\n",
       "        vertical-align: top;\n",
       "    }\n",
       "\n",
       "    .dataframe thead th {\n",
       "        text-align: right;\n",
       "    }\n",
       "</style>\n",
       "<table border=\"1\" class=\"dataframe\">\n",
       "  <thead>\n",
       "    <tr style=\"text-align: right;\">\n",
       "      <th></th>\n",
       "      <th>DateCrawled</th>\n",
       "      <th>Price</th>\n",
       "      <th>VehicleType</th>\n",
       "      <th>RegistrationYear</th>\n",
       "      <th>Gearbox</th>\n",
       "      <th>Power</th>\n",
       "      <th>Model</th>\n",
       "      <th>Kilometer</th>\n",
       "      <th>RegistrationMonth</th>\n",
       "      <th>FuelType</th>\n",
       "      <th>Brand</th>\n",
       "      <th>Repaired</th>\n",
       "      <th>DateCreated</th>\n",
       "      <th>NumberOfPictures</th>\n",
       "      <th>PostalCode</th>\n",
       "      <th>LastSeen</th>\n",
       "    </tr>\n",
       "  </thead>\n",
       "  <tbody>\n",
       "    <tr>\n",
       "      <th>0</th>\n",
       "      <td>2016-03-24 11:52:17</td>\n",
       "      <td>480</td>\n",
       "      <td>NaN</td>\n",
       "      <td>1993</td>\n",
       "      <td>manual</td>\n",
       "      <td>0</td>\n",
       "      <td>golf</td>\n",
       "      <td>150000</td>\n",
       "      <td>0</td>\n",
       "      <td>petrol</td>\n",
       "      <td>volkswagen</td>\n",
       "      <td>NaN</td>\n",
       "      <td>2016-03-24 00:00:00</td>\n",
       "      <td>0</td>\n",
       "      <td>70435</td>\n",
       "      <td>2016-04-07 03:16:57</td>\n",
       "    </tr>\n",
       "    <tr>\n",
       "      <th>1</th>\n",
       "      <td>2016-03-24 10:58:45</td>\n",
       "      <td>18300</td>\n",
       "      <td>coupe</td>\n",
       "      <td>2011</td>\n",
       "      <td>manual</td>\n",
       "      <td>190</td>\n",
       "      <td>NaN</td>\n",
       "      <td>125000</td>\n",
       "      <td>5</td>\n",
       "      <td>gasoline</td>\n",
       "      <td>audi</td>\n",
       "      <td>yes</td>\n",
       "      <td>2016-03-24 00:00:00</td>\n",
       "      <td>0</td>\n",
       "      <td>66954</td>\n",
       "      <td>2016-04-07 01:46:50</td>\n",
       "    </tr>\n",
       "    <tr>\n",
       "      <th>2</th>\n",
       "      <td>2016-03-14 12:52:21</td>\n",
       "      <td>9800</td>\n",
       "      <td>suv</td>\n",
       "      <td>2004</td>\n",
       "      <td>auto</td>\n",
       "      <td>163</td>\n",
       "      <td>grand</td>\n",
       "      <td>125000</td>\n",
       "      <td>8</td>\n",
       "      <td>gasoline</td>\n",
       "      <td>jeep</td>\n",
       "      <td>NaN</td>\n",
       "      <td>2016-03-14 00:00:00</td>\n",
       "      <td>0</td>\n",
       "      <td>90480</td>\n",
       "      <td>2016-04-05 12:47:46</td>\n",
       "    </tr>\n",
       "    <tr>\n",
       "      <th>3</th>\n",
       "      <td>2016-03-17 16:54:04</td>\n",
       "      <td>1500</td>\n",
       "      <td>small</td>\n",
       "      <td>2001</td>\n",
       "      <td>manual</td>\n",
       "      <td>75</td>\n",
       "      <td>golf</td>\n",
       "      <td>150000</td>\n",
       "      <td>6</td>\n",
       "      <td>petrol</td>\n",
       "      <td>volkswagen</td>\n",
       "      <td>no</td>\n",
       "      <td>2016-03-17 00:00:00</td>\n",
       "      <td>0</td>\n",
       "      <td>91074</td>\n",
       "      <td>2016-03-17 17:40:17</td>\n",
       "    </tr>\n",
       "    <tr>\n",
       "      <th>4</th>\n",
       "      <td>2016-03-31 17:25:20</td>\n",
       "      <td>3600</td>\n",
       "      <td>small</td>\n",
       "      <td>2008</td>\n",
       "      <td>manual</td>\n",
       "      <td>69</td>\n",
       "      <td>fabia</td>\n",
       "      <td>90000</td>\n",
       "      <td>7</td>\n",
       "      <td>gasoline</td>\n",
       "      <td>skoda</td>\n",
       "      <td>no</td>\n",
       "      <td>2016-03-31 00:00:00</td>\n",
       "      <td>0</td>\n",
       "      <td>60437</td>\n",
       "      <td>2016-04-06 10:17:21</td>\n",
       "    </tr>\n",
       "    <tr>\n",
       "      <th>5</th>\n",
       "      <td>2016-04-04 17:36:23</td>\n",
       "      <td>650</td>\n",
       "      <td>sedan</td>\n",
       "      <td>1995</td>\n",
       "      <td>manual</td>\n",
       "      <td>102</td>\n",
       "      <td>3er</td>\n",
       "      <td>150000</td>\n",
       "      <td>10</td>\n",
       "      <td>petrol</td>\n",
       "      <td>bmw</td>\n",
       "      <td>yes</td>\n",
       "      <td>2016-04-04 00:00:00</td>\n",
       "      <td>0</td>\n",
       "      <td>33775</td>\n",
       "      <td>2016-04-06 19:17:07</td>\n",
       "    </tr>\n",
       "    <tr>\n",
       "      <th>6</th>\n",
       "      <td>2016-04-01 20:48:51</td>\n",
       "      <td>2200</td>\n",
       "      <td>convertible</td>\n",
       "      <td>2004</td>\n",
       "      <td>manual</td>\n",
       "      <td>109</td>\n",
       "      <td>2_reihe</td>\n",
       "      <td>150000</td>\n",
       "      <td>8</td>\n",
       "      <td>petrol</td>\n",
       "      <td>peugeot</td>\n",
       "      <td>no</td>\n",
       "      <td>2016-04-01 00:00:00</td>\n",
       "      <td>0</td>\n",
       "      <td>67112</td>\n",
       "      <td>2016-04-05 18:18:39</td>\n",
       "    </tr>\n",
       "    <tr>\n",
       "      <th>7</th>\n",
       "      <td>2016-03-21 18:54:38</td>\n",
       "      <td>0</td>\n",
       "      <td>sedan</td>\n",
       "      <td>1980</td>\n",
       "      <td>manual</td>\n",
       "      <td>50</td>\n",
       "      <td>other</td>\n",
       "      <td>40000</td>\n",
       "      <td>7</td>\n",
       "      <td>petrol</td>\n",
       "      <td>volkswagen</td>\n",
       "      <td>no</td>\n",
       "      <td>2016-03-21 00:00:00</td>\n",
       "      <td>0</td>\n",
       "      <td>19348</td>\n",
       "      <td>2016-03-25 16:47:58</td>\n",
       "    </tr>\n",
       "    <tr>\n",
       "      <th>8</th>\n",
       "      <td>2016-04-04 23:42:13</td>\n",
       "      <td>14500</td>\n",
       "      <td>bus</td>\n",
       "      <td>2014</td>\n",
       "      <td>manual</td>\n",
       "      <td>125</td>\n",
       "      <td>c_max</td>\n",
       "      <td>30000</td>\n",
       "      <td>8</td>\n",
       "      <td>petrol</td>\n",
       "      <td>ford</td>\n",
       "      <td>NaN</td>\n",
       "      <td>2016-04-04 00:00:00</td>\n",
       "      <td>0</td>\n",
       "      <td>94505</td>\n",
       "      <td>2016-04-04 23:42:13</td>\n",
       "    </tr>\n",
       "    <tr>\n",
       "      <th>9</th>\n",
       "      <td>2016-03-17 10:53:50</td>\n",
       "      <td>999</td>\n",
       "      <td>small</td>\n",
       "      <td>1998</td>\n",
       "      <td>manual</td>\n",
       "      <td>101</td>\n",
       "      <td>golf</td>\n",
       "      <td>150000</td>\n",
       "      <td>0</td>\n",
       "      <td>NaN</td>\n",
       "      <td>volkswagen</td>\n",
       "      <td>NaN</td>\n",
       "      <td>2016-03-17 00:00:00</td>\n",
       "      <td>0</td>\n",
       "      <td>27472</td>\n",
       "      <td>2016-03-31 17:17:06</td>\n",
       "    </tr>\n",
       "  </tbody>\n",
       "</table>\n",
       "</div>"
      ],
      "text/plain": [
       "           DateCrawled  Price  VehicleType  RegistrationYear Gearbox  Power  \\\n",
       "0  2016-03-24 11:52:17    480          NaN              1993  manual      0   \n",
       "1  2016-03-24 10:58:45  18300        coupe              2011  manual    190   \n",
       "2  2016-03-14 12:52:21   9800          suv              2004    auto    163   \n",
       "3  2016-03-17 16:54:04   1500        small              2001  manual     75   \n",
       "4  2016-03-31 17:25:20   3600        small              2008  manual     69   \n",
       "5  2016-04-04 17:36:23    650        sedan              1995  manual    102   \n",
       "6  2016-04-01 20:48:51   2200  convertible              2004  manual    109   \n",
       "7  2016-03-21 18:54:38      0        sedan              1980  manual     50   \n",
       "8  2016-04-04 23:42:13  14500          bus              2014  manual    125   \n",
       "9  2016-03-17 10:53:50    999        small              1998  manual    101   \n",
       "\n",
       "     Model  Kilometer  RegistrationMonth  FuelType       Brand Repaired  \\\n",
       "0     golf     150000                  0    petrol  volkswagen      NaN   \n",
       "1      NaN     125000                  5  gasoline        audi      yes   \n",
       "2    grand     125000                  8  gasoline        jeep      NaN   \n",
       "3     golf     150000                  6    petrol  volkswagen       no   \n",
       "4    fabia      90000                  7  gasoline       skoda       no   \n",
       "5      3er     150000                 10    petrol         bmw      yes   \n",
       "6  2_reihe     150000                  8    petrol     peugeot       no   \n",
       "7    other      40000                  7    petrol  volkswagen       no   \n",
       "8    c_max      30000                  8    petrol        ford      NaN   \n",
       "9     golf     150000                  0       NaN  volkswagen      NaN   \n",
       "\n",
       "           DateCreated  NumberOfPictures  PostalCode             LastSeen  \n",
       "0  2016-03-24 00:00:00                 0       70435  2016-04-07 03:16:57  \n",
       "1  2016-03-24 00:00:00                 0       66954  2016-04-07 01:46:50  \n",
       "2  2016-03-14 00:00:00                 0       90480  2016-04-05 12:47:46  \n",
       "3  2016-03-17 00:00:00                 0       91074  2016-03-17 17:40:17  \n",
       "4  2016-03-31 00:00:00                 0       60437  2016-04-06 10:17:21  \n",
       "5  2016-04-04 00:00:00                 0       33775  2016-04-06 19:17:07  \n",
       "6  2016-04-01 00:00:00                 0       67112  2016-04-05 18:18:39  \n",
       "7  2016-03-21 00:00:00                 0       19348  2016-03-25 16:47:58  \n",
       "8  2016-04-04 00:00:00                 0       94505  2016-04-04 23:42:13  \n",
       "9  2016-03-17 00:00:00                 0       27472  2016-03-31 17:17:06  "
      ]
     },
     "execution_count": 4,
     "metadata": {},
     "output_type": "execute_result"
    }
   ],
   "source": [
    "df.info()\n",
    "df.head(10)"
   ]
  },
  {
   "cell_type": "code",
   "execution_count": 5,
   "metadata": {},
   "outputs": [
    {
     "data": {
      "text/html": [
       "<div>\n",
       "<style scoped>\n",
       "    .dataframe tbody tr th:only-of-type {\n",
       "        vertical-align: middle;\n",
       "    }\n",
       "\n",
       "    .dataframe tbody tr th {\n",
       "        vertical-align: top;\n",
       "    }\n",
       "\n",
       "    .dataframe thead th {\n",
       "        text-align: right;\n",
       "    }\n",
       "</style>\n",
       "<table border=\"1\" class=\"dataframe\">\n",
       "  <thead>\n",
       "    <tr style=\"text-align: right;\">\n",
       "      <th></th>\n",
       "      <th>Price</th>\n",
       "      <th>RegistrationYear</th>\n",
       "      <th>Power</th>\n",
       "      <th>Kilometer</th>\n",
       "      <th>RegistrationMonth</th>\n",
       "      <th>NumberOfPictures</th>\n",
       "      <th>PostalCode</th>\n",
       "    </tr>\n",
       "  </thead>\n",
       "  <tbody>\n",
       "    <tr>\n",
       "      <th>count</th>\n",
       "      <td>354369.000000</td>\n",
       "      <td>354369.000000</td>\n",
       "      <td>354369.000000</td>\n",
       "      <td>354369.000000</td>\n",
       "      <td>354369.000000</td>\n",
       "      <td>354369.0</td>\n",
       "      <td>354369.000000</td>\n",
       "    </tr>\n",
       "    <tr>\n",
       "      <th>mean</th>\n",
       "      <td>4416.656776</td>\n",
       "      <td>2004.234448</td>\n",
       "      <td>110.094337</td>\n",
       "      <td>128211.172535</td>\n",
       "      <td>5.714645</td>\n",
       "      <td>0.0</td>\n",
       "      <td>50508.689087</td>\n",
       "    </tr>\n",
       "    <tr>\n",
       "      <th>std</th>\n",
       "      <td>4514.158514</td>\n",
       "      <td>90.227958</td>\n",
       "      <td>189.850405</td>\n",
       "      <td>37905.341530</td>\n",
       "      <td>3.726421</td>\n",
       "      <td>0.0</td>\n",
       "      <td>25783.096248</td>\n",
       "    </tr>\n",
       "    <tr>\n",
       "      <th>min</th>\n",
       "      <td>0.000000</td>\n",
       "      <td>1000.000000</td>\n",
       "      <td>0.000000</td>\n",
       "      <td>5000.000000</td>\n",
       "      <td>0.000000</td>\n",
       "      <td>0.0</td>\n",
       "      <td>1067.000000</td>\n",
       "    </tr>\n",
       "    <tr>\n",
       "      <th>25%</th>\n",
       "      <td>1050.000000</td>\n",
       "      <td>1999.000000</td>\n",
       "      <td>69.000000</td>\n",
       "      <td>125000.000000</td>\n",
       "      <td>3.000000</td>\n",
       "      <td>0.0</td>\n",
       "      <td>30165.000000</td>\n",
       "    </tr>\n",
       "    <tr>\n",
       "      <th>50%</th>\n",
       "      <td>2700.000000</td>\n",
       "      <td>2003.000000</td>\n",
       "      <td>105.000000</td>\n",
       "      <td>150000.000000</td>\n",
       "      <td>6.000000</td>\n",
       "      <td>0.0</td>\n",
       "      <td>49413.000000</td>\n",
       "    </tr>\n",
       "    <tr>\n",
       "      <th>75%</th>\n",
       "      <td>6400.000000</td>\n",
       "      <td>2008.000000</td>\n",
       "      <td>143.000000</td>\n",
       "      <td>150000.000000</td>\n",
       "      <td>9.000000</td>\n",
       "      <td>0.0</td>\n",
       "      <td>71083.000000</td>\n",
       "    </tr>\n",
       "    <tr>\n",
       "      <th>max</th>\n",
       "      <td>20000.000000</td>\n",
       "      <td>9999.000000</td>\n",
       "      <td>20000.000000</td>\n",
       "      <td>150000.000000</td>\n",
       "      <td>12.000000</td>\n",
       "      <td>0.0</td>\n",
       "      <td>99998.000000</td>\n",
       "    </tr>\n",
       "  </tbody>\n",
       "</table>\n",
       "</div>"
      ],
      "text/plain": [
       "               Price  RegistrationYear          Power      Kilometer  \\\n",
       "count  354369.000000     354369.000000  354369.000000  354369.000000   \n",
       "mean     4416.656776       2004.234448     110.094337  128211.172535   \n",
       "std      4514.158514         90.227958     189.850405   37905.341530   \n",
       "min         0.000000       1000.000000       0.000000    5000.000000   \n",
       "25%      1050.000000       1999.000000      69.000000  125000.000000   \n",
       "50%      2700.000000       2003.000000     105.000000  150000.000000   \n",
       "75%      6400.000000       2008.000000     143.000000  150000.000000   \n",
       "max     20000.000000       9999.000000   20000.000000  150000.000000   \n",
       "\n",
       "       RegistrationMonth  NumberOfPictures     PostalCode  \n",
       "count      354369.000000          354369.0  354369.000000  \n",
       "mean            5.714645               0.0   50508.689087  \n",
       "std             3.726421               0.0   25783.096248  \n",
       "min             0.000000               0.0    1067.000000  \n",
       "25%             3.000000               0.0   30165.000000  \n",
       "50%             6.000000               0.0   49413.000000  \n",
       "75%             9.000000               0.0   71083.000000  \n",
       "max            12.000000               0.0   99998.000000  "
      ]
     },
     "execution_count": 5,
     "metadata": {},
     "output_type": "execute_result"
    }
   ],
   "source": [
    "df.describe()"
   ]
  },
  {
   "cell_type": "markdown",
   "metadata": {},
   "source": [
    "Найдем и удалим дубликаты:"
   ]
  },
  {
   "cell_type": "code",
   "execution_count": 6,
   "metadata": {},
   "outputs": [
    {
     "data": {
      "text/plain": [
       "4"
      ]
     },
     "execution_count": 6,
     "metadata": {},
     "output_type": "execute_result"
    }
   ],
   "source": [
    "df.duplicated().sum()"
   ]
  },
  {
   "cell_type": "code",
   "execution_count": 7,
   "metadata": {},
   "outputs": [],
   "source": [
    "df.drop_duplicates(inplace=True)"
   ]
  },
  {
   "cell_type": "markdown",
   "metadata": {},
   "source": [
    "Посмотрим на пропуски в данных:"
   ]
  },
  {
   "cell_type": "code",
   "execution_count": 8,
   "metadata": {},
   "outputs": [
    {
     "data": {
      "image/png": "[encoded data removed]",
      "text/plain": [
       "<Figure size 432x288 with 2 Axes>"
      ]
     },
     "metadata": {
      "needs_background": "light"
     },
     "output_type": "display_data"
    }
   ],
   "source": [
    "colours = ['#008000', '#FF0000']\n",
    "sns.heatmap(df.isna(), cmap = sns.color_palette(colours));"
   ]
  },
  {
   "cell_type": "code",
   "execution_count": 9,
   "metadata": {
    "scrolled": true
   },
   "outputs": [
    {
     "data": {
      "text/plain": [
       "DateCrawled              0\n",
       "Price                    0\n",
       "VehicleType          37490\n",
       "RegistrationYear         0\n",
       "Gearbox              19833\n",
       "Power                    0\n",
       "Model                19705\n",
       "Kilometer                0\n",
       "RegistrationMonth        0\n",
       "FuelType             32895\n",
       "Brand                    0\n",
       "Repaired             71154\n",
       "DateCreated              0\n",
       "NumberOfPictures         0\n",
       "PostalCode               0\n",
       "LastSeen                 0\n",
       "dtype: int64"
      ]
     },
     "execution_count": 9,
     "metadata": {},
     "output_type": "execute_result"
    }
   ],
   "source": [
    "df.isnull().sum()"
   ]
  },
  {
   "cell_type": "markdown",
   "metadata": {},
   "source": [
    "Удалим столбцы, не несущие полезной информации для анализа:"
   ]
  },
  {
   "cell_type": "code",
   "execution_count": 10,
   "metadata": {},
   "outputs": [],
   "source": [
    "df = df.drop(['NumberOfPictures', 'PostalCode', 'DateCrawled', 'RegistrationMonth'], axis=1)"
   ]
  },
  {
   "cell_type": "code",
   "execution_count": 11,
   "metadata": {},
   "outputs": [],
   "source": [
    "numeric = ['DateCreated', 'Price', 'RegistrationYear', 'Power', 'Kilometer', 'LastSeen']\n",
    "categorical = ['VehicleType', 'Gearbox', 'Model', 'FuelType', 'Repaired', 'Brand']"
   ]
  },
  {
   "cell_type": "markdown",
   "metadata": {},
   "source": [
    "### Вывод после ознакомления с данными:\n",
    "\n",
    "1) В датасете 16 столбцов, 7 имеют тип int, 9 object\n",
    "\n",
    "2) В данных присутствуют пропуски(В 4 столбцах: VehicleType, Gearbox, Model, FuelType, NotRepaired много пропущенных значений), в столбце Repaired их количество составляет 20%. Причина неясна.\n",
    "\n",
    "3) В столбце RegistrationYear есть аномальные значения, а именно, минимальный год выпуска 1000 год, а максимальный 9999.\n",
    "\n",
    "4) В столбце Power минимальное значение 0. Максимальное значение 20 тысяч, что выглядит нереально.\n",
    "\n",
    "5) В столбце Price есть аномальное значение  \"0\".\n",
    "\n",
    "6) В столбце Kilometer слишком округлённые значения и максимальные значение 150 000 км, учитывая, что в выборке есть автомобили прошлого тысячелетия. Скорее всего при заполнении объявления на сайте есть готовые шаблоны.\n"
   ]
  },
  {
   "cell_type": "markdown",
   "metadata": {},
   "source": [
    "### Первичная предобработка"
   ]
  },
  {
   "cell_type": "markdown",
   "metadata": {},
   "source": [
    "Посмотрим, когда было подано первое объявление:"
   ]
  },
  {
   "cell_type": "code",
   "execution_count": 12,
   "metadata": {},
   "outputs": [
    {
     "data": {
      "text/plain": [
       "'Минимальная дата рагистрации объявления: 2014-03-10 00:00:00'"
      ]
     },
     "execution_count": 12,
     "metadata": {},
     "output_type": "execute_result"
    }
   ],
   "source": [
    "f\"Минимальная дата рагистрации объявления: {min(df['DateCreated'])}\""
   ]
  },
  {
   "cell_type": "markdown",
   "metadata": {},
   "source": [
    "Преобразуем столбцы DateCreated и LastSeen в количество дней с первого объявления:"
   ]
  },
  {
   "cell_type": "code",
   "execution_count": 13,
   "metadata": {},
   "outputs": [],
   "source": [
    "base_date = pd.Timestamp('2014-03-10 00:00:00')\n",
    "df['DateCreated'] = df['DateCreated'].map(lambda date : (pd.Timestamp(date) - base_date).days)"
   ]
  },
  {
   "cell_type": "code",
   "execution_count": 14,
   "metadata": {},
   "outputs": [],
   "source": [
    "df['LastSeen'] = df['LastSeen'].map(lambda date : (pd.Timestamp(date) - base_date).days)"
   ]
  },
  {
   "cell_type": "markdown",
   "metadata": {},
   "source": [
    "Посмотрим, сколько объявлений у нас нулевой ценой:"
   ]
  },
  {
   "cell_type": "code",
   "execution_count": 15,
   "metadata": {},
   "outputs": [
    {
     "data": {
      "text/plain": [
       "10772"
      ]
     },
     "execution_count": 15,
     "metadata": {},
     "output_type": "execute_result"
    }
   ],
   "source": [
    "df[df['Price'] == 0]['Price'].count()"
   ]
  },
  {
   "cell_type": "code",
   "execution_count": 16,
   "metadata": {},
   "outputs": [
    {
     "data": {
      "text/plain": [
       "3"
      ]
     },
     "execution_count": 16,
     "metadata": {},
     "output_type": "execute_result"
    }
   ],
   "source": [
    " round(df[df['Price'] == 0].shape[0] / df.shape[0] * 100)"
   ]
  },
  {
   "cell_type": "markdown",
   "metadata": {},
   "source": [
    "Получается, что 3% объявлений имеют нулевую цену, удалим их:"
   ]
  },
  {
   "cell_type": "code",
   "execution_count": 17,
   "metadata": {},
   "outputs": [],
   "source": [
    "df = df.loc[df['Price'] != 0]"
   ]
  },
  {
   "cell_type": "markdown",
   "metadata": {},
   "source": [
    "Определим функцию для построения распределения:"
   ]
  },
  {
   "cell_type": "code",
   "execution_count": 18,
   "metadata": {},
   "outputs": [],
   "source": [
    "def draw_distribution(df, x, x_label, y_label, title, bins):\n",
    "    plt.figure(figsize=(12, 8))\n",
    "    sns.histplot(data=df, x=x, kde=True, bins=bins)\n",
    "    plt.title(title)\n",
    "    plt.xlabel(x_label)\n",
    "    plt.ylabel(y_label)\n",
    "    plt.show()\n",
    "\n",
    "    plt.figure(figsize=(12, 8))\n",
    "    sns.boxplot(data=df, x=x)\n",
    "    plt.title(title)\n",
    "    plt.xlabel(x_label)\n",
    "    plt.show()"
   ]
  },
  {
   "cell_type": "markdown",
   "metadata": {},
   "source": [
    "Построим распределение цены:"
   ]
  },
  {
   "cell_type": "code",
   "execution_count": 19,
   "metadata": {},
   "outputs": [
    {
     "data": {
      "image/png": "[encoded data removed]",
      "text/plain": [
       "<Figure size 864x576 with 1 Axes>"
      ]
     },
     "metadata": {
      "needs_background": "light"
     },
     "output_type": "display_data"
    },
    {
     "data": {
      "image/png": "[encoded data removed]",
      "text/plain": [
       "<Figure size 864x576 with 1 Axes>"
      ]
     },
     "metadata": {
      "needs_background": "light"
     },
     "output_type": "display_data"
    }
   ],
   "source": [
    "draw_distribution(df, 'Price', 'Цена', 'Колличество', 'Распределение цены автомобилей', 100)"
   ]
  },
  {
   "cell_type": "markdown",
   "metadata": {},
   "source": [
    "**Вывод:** у нас наблюдается правый хвост, а большинство предложений имеют цену до 6 тысяч. Также можно заметить, что продавцы любят выставлять ровную цену, кратную 500 или 1000."
   ]
  },
  {
   "cell_type": "markdown",
   "metadata": {},
   "source": [
    "Изучим столбец Model:"
   ]
  },
  {
   "cell_type": "code",
   "execution_count": 20,
   "metadata": {},
   "outputs": [
    {
     "data": {
      "text/plain": [
       "'Количество объявлений с незаполненной моделью: 17521'"
      ]
     },
     "execution_count": 20,
     "metadata": {},
     "output_type": "execute_result"
    }
   ],
   "source": [
    "f\"Количество объявлений с незаполненной моделью: {len(df.loc[df['Model'].isna()])}\""
   ]
  },
  {
   "cell_type": "markdown",
   "metadata": {},
   "source": [
    "Не так много. Учитывая, что модель говорит об автомобиле больше всего, и это ключевой признак для формирования цены, который нет возможности заполнить, просто удалим пропуски:"
   ]
  },
  {
   "cell_type": "code",
   "execution_count": 21,
   "metadata": {},
   "outputs": [],
   "source": [
    "df = df.loc[~df['Model'].isna()]"
   ]
  },
  {
   "cell_type": "markdown",
   "metadata": {},
   "source": [
    "Для построения высокоточной модели было бы неплохо избавиться от аномальных значений. Посмотрим, много ли объявлений с автомобилями старше 60 лет:"
   ]
  },
  {
   "cell_type": "code",
   "execution_count": 22,
   "metadata": {},
   "outputs": [
    {
     "data": {
      "text/plain": [
       "1910    25\n",
       "1959    16\n",
       "1000    15\n",
       "1950    13\n",
       "1956    13\n",
       "1958    12\n",
       "1955     9\n",
       "1957     9\n",
       "1951     8\n",
       "1953     8\n",
       "1937     7\n",
       "1954     6\n",
       "1929     4\n",
       "1952     4\n",
       "1945     3\n",
       "1943     3\n",
       "1938     3\n",
       "1800     3\n",
       "1936     3\n",
       "1932     3\n",
       "1300     2\n",
       "1942     2\n",
       "1934     2\n",
       "1933     2\n",
       "1947     2\n",
       "1930     2\n",
       "1928     2\n",
       "1923     2\n",
       "1234     2\n",
       "1500     2\n",
       "1935     2\n",
       "1941     1\n",
       "1949     1\n",
       "1931     1\n",
       "1927     1\n",
       "1400     1\n",
       "1602     1\n",
       "1600     1\n",
       "1001     1\n",
       "Name: RegistrationYear, dtype: int64"
      ]
     },
     "execution_count": 22,
     "metadata": {},
     "output_type": "execute_result"
    }
   ],
   "source": [
    "df[df['RegistrationYear'] < 1960].RegistrationYear.value_counts()"
   ]
  },
  {
   "cell_type": "markdown",
   "metadata": {},
   "source": [
    "**Вывод:** Несмотря на присутствие объявлений со старыми автомобилями(раритетными?), мы удалим их, поскольку нам важнее высокая предсказательная способность модели для среднего автомобиля. А коллекционные авто пусть анализируются на специальных порталах или специалистами(это штучный товар)."
   ]
  },
  {
   "cell_type": "code",
   "execution_count": 23,
   "metadata": {},
   "outputs": [],
   "source": [
    "df = df.loc[(df['RegistrationYear'] >= 1950) & (df['RegistrationYear'] <= 2016)]"
   ]
  },
  {
   "cell_type": "markdown",
   "metadata": {},
   "source": [
    "Построим распределение мощности двигателя:"
   ]
  },
  {
   "cell_type": "code",
   "execution_count": 24,
   "metadata": {},
   "outputs": [],
   "source": [
    "Power = df.loc[df['Power'] < 1000]"
   ]
  },
  {
   "cell_type": "code",
   "execution_count": 25,
   "metadata": {
    "scrolled": true
   },
   "outputs": [
    {
     "data": {
      "image/png": "[encoded data removed]",
      "text/plain": [
       "<Figure size 864x576 with 1 Axes>"
      ]
     },
     "metadata": {
      "needs_background": "light"
     },
     "output_type": "display_data"
    },
    {
     "data": {
      "image/png": "[encoded data removed]",
      "text/plain": [
       "<Figure size 864x576 with 1 Axes>"
      ]
     },
     "metadata": {
      "needs_background": "light"
     },
     "output_type": "display_data"
    }
   ],
   "source": [
    "draw_distribution(Power, 'Power', 'Мощность', 'Колличество', 'Распределение мощности автомобилей', 120)"
   ]
  },
  {
   "cell_type": "markdown",
   "metadata": {},
   "source": [
    "**Вывод:** Практически нет автомобилей с мощностью выше 400 л.с., а подавляющее большинство лежит в пределах 250. Также есть аномальный пик с мощностью 0. Поскольку машина с нулевой мощностью явно не поедет, а исправить эти значения нет возможности, оставим в датасете объявления с мощностью в диапазоне от 30 до 600."
   ]
  },
  {
   "cell_type": "code",
   "execution_count": 26,
   "metadata": {},
   "outputs": [],
   "source": [
    "df = df.loc[(df['Power'] >= 30) & (df['Power'] <= 600)]"
   ]
  },
  {
   "cell_type": "markdown",
   "metadata": {},
   "source": [
    "Посмотрим на пробег:"
   ]
  },
  {
   "cell_type": "code",
   "execution_count": 27,
   "metadata": {
    "scrolled": true
   },
   "outputs": [
    {
     "data": {
      "image/png": "[encoded data removed]",
      "text/plain": [
       "<Figure size 864x576 with 1 Axes>"
      ]
     },
     "metadata": {
      "needs_background": "light"
     },
     "output_type": "display_data"
    },
    {
     "data": {
      "image/png": "[encoded data removed]",
      "text/plain": [
       "<Figure size 864x576 with 1 Axes>"
      ]
     },
     "metadata": {
      "needs_background": "light"
     },
     "output_type": "display_data"
    }
   ],
   "source": [
    "draw_distribution(df, 'Kilometer', 'Пробег в км', 'Колличество', 'Распределение пробега автомобилей', 100)"
   ]
  },
  {
   "cell_type": "markdown",
   "metadata": {},
   "source": [
    "**Вывод**: огромный пик в районе 150 тыс.км. Наверняка это максимальное значение, которое можно ввести на сайте, и все машины, имеющие пробег больше попадают в эту категорию."
   ]
  },
  {
   "cell_type": "markdown",
   "metadata": {},
   "source": [
    "**Теперь заполним пропуски:**"
   ]
  },
  {
   "cell_type": "code",
   "execution_count": 28,
   "metadata": {
    "scrolled": true
   },
   "outputs": [
    {
     "data": {
      "text/plain": [
       "Price                   0\n",
       "VehicleType          9420\n",
       "RegistrationYear        0\n",
       "Gearbox              4644\n",
       "Power                   0\n",
       "Model                   0\n",
       "Kilometer               0\n",
       "FuelType            12830\n",
       "Brand                   0\n",
       "Repaired            39034\n",
       "DateCreated             0\n",
       "LastSeen                0\n",
       "dtype: int64"
      ]
     },
     "execution_count": 28,
     "metadata": {},
     "output_type": "execute_result"
    }
   ],
   "source": [
    "df.isnull().sum()"
   ]
  },
  {
   "cell_type": "code",
   "execution_count": 29,
   "metadata": {},
   "outputs": [
    {
     "data": {
      "text/plain": [
       "manual    0.797949\n",
       "auto      0.202051\n",
       "Name: Gearbox, dtype: float64"
      ]
     },
     "execution_count": 29,
     "metadata": {},
     "output_type": "execute_result"
    }
   ],
   "source": [
    "df.Gearbox.value_counts(normalize=True)"
   ]
  },
  {
   "cell_type": "markdown",
   "metadata": {},
   "source": [
    "Заменим пропуски для коробки передач на other:"
   ]
  },
  {
   "cell_type": "code",
   "execution_count": 30,
   "metadata": {},
   "outputs": [],
   "source": [
    "df.Gearbox = df.Gearbox.fillna('other')"
   ]
  },
  {
   "cell_type": "markdown",
   "metadata": {},
   "source": [
    "Для столбцов FuelType, Repaired, VehicleType - пропуски заменим на 'unknown':"
   ]
  },
  {
   "cell_type": "code",
   "execution_count": 31,
   "metadata": {},
   "outputs": [],
   "source": [
    "df.FuelType = df.FuelType.fillna('unknown') \n",
    "df.Repaired = df.Repaired.fillna('unknown')\n",
    "df.VehicleType = df.VehicleType.fillna('unknown')"
   ]
  },
  {
   "cell_type": "code",
   "execution_count": 32,
   "metadata": {},
   "outputs": [
    {
     "data": {
      "text/plain": [
       "Price               0\n",
       "VehicleType         0\n",
       "RegistrationYear    0\n",
       "Gearbox             0\n",
       "Power               0\n",
       "Model               0\n",
       "Kilometer           0\n",
       "FuelType            0\n",
       "Brand               0\n",
       "Repaired            0\n",
       "DateCreated         0\n",
       "LastSeen            0\n",
       "dtype: int64"
      ]
     },
     "execution_count": 32,
     "metadata": {},
     "output_type": "execute_result"
    }
   ],
   "source": [
    "df.isnull().sum()"
   ]
  },
  {
   "cell_type": "markdown",
   "metadata": {},
   "source": [
    "**Вывод:** пропусков не осталось переходим к следующему этапу."
   ]
  },
  {
   "cell_type": "markdown",
   "metadata": {},
   "source": [
    "## Кодировка данных"
   ]
  },
  {
   "cell_type": "code",
   "execution_count": 33,
   "metadata": {},
   "outputs": [
    {
     "name": "stdout",
     "output_type": "stream",
     "text": [
      "<class 'pandas.core.frame.DataFrame'>\n",
      "Int64Index: 284767 entries, 2 to 354368\n",
      "Data columns (total 12 columns):\n",
      " #   Column            Non-Null Count   Dtype \n",
      "---  ------            --------------   ----- \n",
      " 0   Price             284767 non-null  int64 \n",
      " 1   VehicleType       284767 non-null  object\n",
      " 2   RegistrationYear  284767 non-null  int64 \n",
      " 3   Gearbox           284767 non-null  object\n",
      " 4   Power             284767 non-null  int64 \n",
      " 5   Model             284767 non-null  object\n",
      " 6   Kilometer         284767 non-null  int64 \n",
      " 7   FuelType          284767 non-null  object\n",
      " 8   Brand             284767 non-null  object\n",
      " 9   Repaired          284767 non-null  object\n",
      " 10  DateCreated       284767 non-null  int64 \n",
      " 11  LastSeen          284767 non-null  int64 \n",
      "dtypes: int64(6), object(6)\n",
      "memory usage: 28.2+ MB\n"
     ]
    }
   ],
   "source": [
    "df.info()"
   ]
  },
  {
   "cell_type": "markdown",
   "metadata": {},
   "source": [
    "Разделим датасет на обучающую и тестовую выборки:"
   ]
  },
  {
   "cell_type": "code",
   "execution_count": 34,
   "metadata": {},
   "outputs": [],
   "source": [
    "features_train, features_test, target_train, target_test = train_test_split(\n",
    "    df.drop(['Price'], axis=1), df['Price'], test_size=0.25, random_state=123)"
   ]
  },
  {
   "cell_type": "markdown",
   "metadata": {},
   "source": [
    "Перекодируем категориальные признаки:"
   ]
  },
  {
   "cell_type": "code",
   "execution_count": 35,
   "metadata": {},
   "outputs": [],
   "source": [
    "ce_ord = ce.OrdinalEncoder(cols = ['VehicleType', 'Gearbox', 'Model', 'FuelType', 'Brand', 'Repaired'])\n",
    "features_train = ce_ord.fit_transform(features_train, target_train)\n",
    "features_test = ce_ord.transform(features_test, target_test)"
   ]
  },
  {
   "cell_type": "markdown",
   "metadata": {},
   "source": [
    "Масштабируем признаки:"
   ]
  },
  {
   "cell_type": "code",
   "execution_count": 36,
   "metadata": {},
   "outputs": [],
   "source": [
    "scaler = StandardScaler()\n",
    "scaler.fit(features_train)\n",
    "features_train = scaler.transform(features_train)\n",
    "features_test = scaler.transform(features_test)"
   ]
  },
  {
   "cell_type": "markdown",
   "metadata": {},
   "source": [
    "## Обучение и анализ моделей"
   ]
  },
  {
   "cell_type": "markdown",
   "metadata": {},
   "source": [
    "Определим функцию для ключевой метрики:"
   ]
  },
  {
   "cell_type": "code",
   "execution_count": 37,
   "metadata": {},
   "outputs": [],
   "source": [
    "def RMSE(target,predictions):\n",
    "    MSE = mean_squared_error(target, predictions)\n",
    "    return MSE ** 0.5\n",
    "RMSE_score = make_scorer(RMSE, greater_is_better=False)"
   ]
  },
  {
   "cell_type": "markdown",
   "metadata": {},
   "source": [
    "Определим фунцкию для подбора парметров и вычисления лучшей модели:"
   ]
  },
  {
   "cell_type": "code",
   "execution_count": 38,
   "metadata": {},
   "outputs": [],
   "source": [
    "def best_model(model, params, features_train, target_train, features_test, target_test):\n",
    "    grid = GridSearchCV(model, param_grid = params, cv=2,\n",
    "                                            scoring = RMSE_score, n_jobs=-1)\n",
    "    grid.fit(features_train,target_train)\n",
    "    results = pd.DataFrame(grid.cv_results_).sort_values(by = 'rank_test_score')\n",
    "    predict = grid.predict(features_test)\n",
    "    fit_time = results.iloc[0]['mean_fit_time']\n",
    "    predict_time = results.iloc[0]['mean_score_time']\n",
    "    return fit_time, predict_time, -grid.best_score_ , grid.best_params_ "
   ]
  },
  {
   "cell_type": "markdown",
   "metadata": {},
   "source": [
    "Посмотрим на Лассо модели как работает наша функция:"
   ]
  },
  {
   "cell_type": "code",
   "execution_count": 39,
   "metadata": {},
   "outputs": [],
   "source": [
    "lasso_model = Lasso(random_state=123)\n",
    "lasso_params = {'alpha':[0.02, 0.024, 0.025, 0.026, 0.03]}"
   ]
  },
  {
   "cell_type": "code",
   "execution_count": 40,
   "metadata": {},
   "outputs": [],
   "source": [
    "lasso = best_model(lasso_model, lasso_params, features_train, target_train, features_test, target_test)"
   ]
  },
  {
   "cell_type": "code",
   "execution_count": 41,
   "metadata": {},
   "outputs": [
    {
     "data": {
      "text/plain": [
       "(0.1352548599243164, 0.10194730758666992, 2924.9987568446695, {'alpha': 0.02})"
      ]
     },
     "execution_count": 41,
     "metadata": {},
     "output_type": "execute_result"
    }
   ],
   "source": [
    "lasso"
   ]
  },
  {
   "cell_type": "markdown",
   "metadata": {},
   "source": [
    "Отлично, на выходе у нас получается время обучения, время предсказания и наша метрика. Попробуем с другими моделями\n",
    "\n",
    "Обучим LGBM модель"
   ]
  },
  {
   "cell_type": "code",
   "execution_count": 42,
   "metadata": {},
   "outputs": [],
   "source": [
    "lgbm_params = {\n",
    "    'n_estimators': [10,50,100],\n",
    "    'learning_rate': [0.4]\n",
    "}\n",
    "lgbm_reg_model = LGBMRegressor(random_state=123)"
   ]
  },
  {
   "cell_type": "code",
   "execution_count": 43,
   "metadata": {},
   "outputs": [],
   "source": [
    "lgbm = best_model(lgbm_reg_model, lgbm_params, features_train, target_train, features_test, target_test)"
   ]
  },
  {
   "cell_type": "code",
   "execution_count": 44,
   "metadata": {},
   "outputs": [
    {
     "data": {
      "text/plain": [
       "(2.686684012413025,\n",
       " 0.6563955545425415,\n",
       " 1583.615577693046,\n",
       " {'learning_rate': 0.4, 'n_estimators': 100})"
      ]
     },
     "execution_count": 44,
     "metadata": {},
     "output_type": "execute_result"
    }
   ],
   "source": [
    "lgbm"
   ]
  },
  {
   "cell_type": "markdown",
   "metadata": {},
   "source": [
    "Обучим CatBoost модель:"
   ]
  },
  {
   "cell_type": "code",
   "execution_count": 45,
   "metadata": {},
   "outputs": [],
   "source": [
    "catboost_params = {\n",
    "    'learning_rate': [0.1],\n",
    "    'iterations': [10,50,100],\n",
    "    'max_depth': [10,20]}\n",
    "catboost_model = CatBoostRegressor(random_state=123,silent=True)"
   ]
  },
  {
   "cell_type": "code",
   "execution_count": 46,
   "metadata": {},
   "outputs": [],
   "source": [
    "CatBoost = best_model(catboost_model, catboost_params, features_train, target_train, features_test, target_test)"
   ]
  },
  {
   "cell_type": "code",
   "execution_count": 47,
   "metadata": {},
   "outputs": [
    {
     "data": {
      "text/plain": [
       "(4.530676960945129,\n",
       " 0.3449549674987793,\n",
       " 1649.509524910655,\n",
       " {'iterations': 100, 'learning_rate': 0.1, 'max_depth': 10})"
      ]
     },
     "execution_count": 47,
     "metadata": {},
     "output_type": "execute_result"
    }
   ],
   "source": [
    "CatBoost"
   ]
  },
  {
   "cell_type": "markdown",
   "metadata": {},
   "source": [
    "Обучим RandomForest модель:"
   ]
  },
  {
   "cell_type": "code",
   "execution_count": 48,
   "metadata": {},
   "outputs": [],
   "source": [
    "RF_model = RandomForestRegressor(random_state=123)\n",
    "forestregressor_params = {'n_estimators':range(10, 21, 10),\n",
    "             'max_depth':range (1,5)}"
   ]
  },
  {
   "cell_type": "code",
   "execution_count": 49,
   "metadata": {},
   "outputs": [],
   "source": [
    "RandomForest = best_model(RF_model, forestregressor_params, features_train, target_train, features_test, target_test)"
   ]
  },
  {
   "cell_type": "code",
   "execution_count": 50,
   "metadata": {},
   "outputs": [
    {
     "data": {
      "text/plain": [
       "(1.683653712272644,\n",
       " 0.06889915466308594,\n",
       " 2548.5232456246845,\n",
       " {'max_depth': 4, 'n_estimators': 20})"
      ]
     },
     "execution_count": 50,
     "metadata": {},
     "output_type": "execute_result"
    }
   ],
   "source": [
    "RandomForest"
   ]
  },
  {
   "cell_type": "markdown",
   "metadata": {},
   "source": [
    "Обучим DecisionTree модель:"
   ]
  },
  {
   "cell_type": "code",
   "execution_count": 51,
   "metadata": {},
   "outputs": [],
   "source": [
    "DT_model = DecisionTreeRegressor(random_state=123)\n",
    "treeregressor_params = {'max_depth':range (1,10)}\n",
    "DecisionTrees = best_model(DT_model, treeregressor_params, features_train, target_train, features_test, target_test)"
   ]
  },
  {
   "cell_type": "code",
   "execution_count": 52,
   "metadata": {},
   "outputs": [
    {
     "data": {
      "text/plain": [
       "(0.26281583309173584,\n",
       " 0.01149129867553711,\n",
       " 2037.7350596779947,\n",
       " {'max_depth': 9})"
      ]
     },
     "execution_count": 52,
     "metadata": {},
     "output_type": "execute_result"
    }
   ],
   "source": [
    "DecisionTrees"
   ]
  },
  {
   "cell_type": "markdown",
   "metadata": {},
   "source": [
    "Обучим константную модель:"
   ]
  },
  {
   "cell_type": "code",
   "execution_count": 53,
   "metadata": {},
   "outputs": [],
   "source": [
    "constant_model = DummyRegressor(strategy='mean')"
   ]
  },
  {
   "cell_type": "code",
   "execution_count": 54,
   "metadata": {},
   "outputs": [
    {
     "data": {
      "text/plain": [
       "4606.8237240218405"
      ]
     },
     "execution_count": 54,
     "metadata": {},
     "output_type": "execute_result"
    }
   ],
   "source": [
    "constant_model.fit(features_train,target_train)\n",
    "constant_pred = constant_model.predict(features_test)\n",
    "RMSE(target_test,constant_pred)"
   ]
  },
  {
   "cell_type": "markdown",
   "metadata": {},
   "source": [
    "Выведем таблицу с параметрами быстродействия и метрики для всех моделей:"
   ]
  },
  {
   "cell_type": "code",
   "execution_count": 55,
   "metadata": {},
   "outputs": [],
   "source": [
    "Models = pd.DataFrame([lasso, lgbm, CatBoost, RandomForest, DecisionTrees], \n",
    "             columns=['Время обучения', 'Время предсказания', 'RMSE', 'Лучшие Параметры'], \n",
    "                      index=['Lasso','LGBM','CatBoost', 'RandomForest', 'DecisionTrees'])"
   ]
  },
  {
   "cell_type": "code",
   "execution_count": 56,
   "metadata": {},
   "outputs": [
    {
     "data": {
      "text/html": [
       "<div>\n",
       "<style scoped>\n",
       "    .dataframe tbody tr th:only-of-type {\n",
       "        vertical-align: middle;\n",
       "    }\n",
       "\n",
       "    .dataframe tbody tr th {\n",
       "        vertical-align: top;\n",
       "    }\n",
       "\n",
       "    .dataframe thead th {\n",
       "        text-align: right;\n",
       "    }\n",
       "</style>\n",
       "<table border=\"1\" class=\"dataframe\">\n",
       "  <thead>\n",
       "    <tr style=\"text-align: right;\">\n",
       "      <th></th>\n",
       "      <th>Время обучения</th>\n",
       "      <th>Время предсказания</th>\n",
       "      <th>RMSE</th>\n",
       "      <th>Лучшие Параметры</th>\n",
       "    </tr>\n",
       "  </thead>\n",
       "  <tbody>\n",
       "    <tr>\n",
       "      <th>Lasso</th>\n",
       "      <td>0.135255</td>\n",
       "      <td>0.101947</td>\n",
       "      <td>2924.998757</td>\n",
       "      <td>{'alpha': 0.02}</td>\n",
       "    </tr>\n",
       "    <tr>\n",
       "      <th>LGBM</th>\n",
       "      <td>2.686684</td>\n",
       "      <td>0.656396</td>\n",
       "      <td>1583.615578</td>\n",
       "      <td>{'learning_rate': 0.4, 'n_estimators': 100}</td>\n",
       "    </tr>\n",
       "    <tr>\n",
       "      <th>CatBoost</th>\n",
       "      <td>4.530677</td>\n",
       "      <td>0.344955</td>\n",
       "      <td>1649.509525</td>\n",
       "      <td>{'iterations': 100, 'learning_rate': 0.1, 'max...</td>\n",
       "    </tr>\n",
       "    <tr>\n",
       "      <th>RandomForest</th>\n",
       "      <td>1.683654</td>\n",
       "      <td>0.068899</td>\n",
       "      <td>2548.523246</td>\n",
       "      <td>{'max_depth': 4, 'n_estimators': 20}</td>\n",
       "    </tr>\n",
       "    <tr>\n",
       "      <th>DecisionTrees</th>\n",
       "      <td>0.262816</td>\n",
       "      <td>0.011491</td>\n",
       "      <td>2037.735060</td>\n",
       "      <td>{'max_depth': 9}</td>\n",
       "    </tr>\n",
       "  </tbody>\n",
       "</table>\n",
       "</div>"
      ],
      "text/plain": [
       "               Время обучения  Время предсказания         RMSE  \\\n",
       "Lasso                0.135255            0.101947  2924.998757   \n",
       "LGBM                 2.686684            0.656396  1583.615578   \n",
       "CatBoost             4.530677            0.344955  1649.509525   \n",
       "RandomForest         1.683654            0.068899  2548.523246   \n",
       "DecisionTrees        0.262816            0.011491  2037.735060   \n",
       "\n",
       "                                                Лучшие Параметры  \n",
       "Lasso                                            {'alpha': 0.02}  \n",
       "LGBM                 {'learning_rate': 0.4, 'n_estimators': 100}  \n",
       "CatBoost       {'iterations': 100, 'learning_rate': 0.1, 'max...  \n",
       "RandomForest                {'max_depth': 4, 'n_estimators': 20}  \n",
       "DecisionTrees                                   {'max_depth': 9}  "
      ]
     },
     "execution_count": 56,
     "metadata": {},
     "output_type": "execute_result"
    }
   ],
   "source": [
    "Models"
   ]
  },
  {
   "cell_type": "markdown",
   "metadata": {},
   "source": [
    "**Вывод:** Лучшую метрику имеет модель LGBM - 1583 за 2,7 секунды, и она достаточно быстро обучается, на втором месте CatBoost - 1649 за 4,5 секунды секунд. Модели Lasso, RandomForest и DecisionTree обучаются быстро, но имеют меньшую точность. Все модели намного превзошли константную модель. "
   ]
  },
  {
   "cell_type": "markdown",
   "metadata": {},
   "source": [
    "Проверим модель LGBM на тестовой выборке:"
   ]
  },
  {
   "cell_type": "code",
   "execution_count": 57,
   "metadata": {},
   "outputs": [],
   "source": [
    "lgbm = LGBMRegressor(learning_rate=0.4, n_estimators=100, random_state=123)"
   ]
  },
  {
   "cell_type": "code",
   "execution_count": 58,
   "metadata": {},
   "outputs": [
    {
     "data": {
      "text/plain": [
       "LGBMRegressor(learning_rate=0.4, random_state=123)"
      ]
     },
     "execution_count": 58,
     "metadata": {},
     "output_type": "execute_result"
    }
   ],
   "source": [
    "lgbm.fit(features_train, target_train)"
   ]
  },
  {
   "cell_type": "code",
   "execution_count": 59,
   "metadata": {},
   "outputs": [],
   "source": [
    "predictions = lgbm.predict(features_test)"
   ]
  },
  {
   "cell_type": "code",
   "execution_count": 60,
   "metadata": {},
   "outputs": [],
   "source": [
    "Rmse = RMSE(target_test, predictions)"
   ]
  },
  {
   "cell_type": "code",
   "execution_count": 61,
   "metadata": {},
   "outputs": [
    {
     "data": {
      "text/plain": [
       "1572.2445059682625"
      ]
     },
     "execution_count": 61,
     "metadata": {},
     "output_type": "execute_result"
    }
   ],
   "source": [
    "Rmse"
   ]
  },
  {
   "cell_type": "markdown",
   "metadata": {},
   "source": [
    "Лучшая модель показала на тестовой выборке значение метрики равное 1572. Заказчику рекомендуем модель LGBM за счет быстрого времени обучения и высокой точности. "
   ]
  },
  {
   "cell_type": "markdown",
   "metadata": {},
   "source": [
    "## Вывод:\n",
    "\n",
    "1) Исходный датасет был изучен. Обнаруженные пропуски в данных обработаны, дубликаты удалены.\n",
    "\n",
    "2) Аномальные значения в столбцах Price, Registration_Year, Power исключены.\n",
    "\n",
    "3) Ненужные для анализа столбцы были удалены. Категориальные признаки перекодированы. Проведено масштабирование признаков.\n",
    "\n",
    "4) Датасет разделен на обучающую и тестовую выборки. На этих данных обучены модели Lasso, Lgbm, CatBoost, RandomForest и DecisionTree.\n",
    "\n",
    "5)  Лучшую метрику имеет модель LGBM, на тестовой выборке она показала  1572, Рекомендуем ее заказчику за счет быстрого времени обучения и высокой точности.\n"
   ]
  }
 ],
 "metadata": {
  "ExecuteTimeLog": [
   {
    "duration": 2184,
    "start_time": "2023-02-13T16:02:59.245Z"
   },
   {
    "duration": 96,
    "start_time": "2023-02-13T16:03:33.671Z"
   },
   {
    "duration": 6,
    "start_time": "2023-02-13T16:03:43.221Z"
   },
   {
    "duration": 3516,
    "start_time": "2023-02-13T16:05:29.427Z"
   },
   {
    "duration": 20,
    "start_time": "2023-02-13T16:05:49.015Z"
   },
   {
    "duration": 16,
    "start_time": "2023-02-13T16:06:00.322Z"
   },
   {
    "duration": 14,
    "start_time": "2023-02-13T16:06:08.020Z"
   },
   {
    "duration": 118,
    "start_time": "2023-02-13T16:06:13.963Z"
   },
   {
    "duration": 118,
    "start_time": "2023-02-13T16:06:22.073Z"
   },
   {
    "duration": 149,
    "start_time": "2023-02-13T16:06:36.170Z"
   },
   {
    "duration": 452,
    "start_time": "2023-02-13T16:06:51.651Z"
   },
   {
    "duration": 477,
    "start_time": "2023-02-13T16:07:01.514Z"
   },
   {
    "duration": 4921,
    "start_time": "2023-02-13T16:08:29.809Z"
   },
   {
    "duration": 110,
    "start_time": "2023-02-13T16:09:04.068Z"
   },
   {
    "duration": 53,
    "start_time": "2023-02-25T10:17:01.570Z"
   },
   {
    "duration": 1916,
    "start_time": "2023-02-25T10:17:08.852Z"
   },
   {
    "duration": 3588,
    "start_time": "2023-02-25T10:17:12.899Z"
   },
   {
    "duration": 204,
    "start_time": "2023-02-25T10:17:16.489Z"
   },
   {
    "duration": 167,
    "start_time": "2023-02-25T10:17:16.694Z"
   },
   {
    "duration": 552,
    "start_time": "2023-02-25T10:17:16.863Z"
   },
   {
    "duration": 593,
    "start_time": "2023-02-25T10:17:17.417Z"
   },
   {
    "duration": 6276,
    "start_time": "2023-02-25T10:17:18.012Z"
   },
   {
    "duration": 167,
    "start_time": "2023-02-25T10:17:24.291Z"
   },
   {
    "duration": 97,
    "start_time": "2023-02-25T10:17:24.460Z"
   },
   {
    "duration": 3,
    "start_time": "2023-02-25T10:17:38.192Z"
   },
   {
    "duration": 139,
    "start_time": "2023-02-25T10:19:39.127Z"
   },
   {
    "duration": 18,
    "start_time": "2023-02-25T10:19:49.712Z"
   },
   {
    "duration": 788,
    "start_time": "2023-02-25T10:20:17.285Z"
   },
   {
    "duration": 21,
    "start_time": "2023-02-25T10:20:25.786Z"
   },
   {
    "duration": 21,
    "start_time": "2023-02-25T10:20:44.551Z"
   },
   {
    "duration": 4,
    "start_time": "2023-02-25T10:21:06.096Z"
   },
   {
    "duration": 17,
    "start_time": "2023-02-25T10:21:22.330Z"
   },
   {
    "duration": 19,
    "start_time": "2023-02-25T10:22:09.362Z"
   },
   {
    "duration": 12,
    "start_time": "2023-02-25T10:22:16.095Z"
   },
   {
    "duration": 51,
    "start_time": "2023-02-25T10:22:21.064Z"
   },
   {
    "duration": 1672,
    "start_time": "2023-02-25T10:22:38.943Z"
   },
   {
    "duration": 1736,
    "start_time": "2023-02-25T10:22:44.316Z"
   },
   {
    "duration": 1678,
    "start_time": "2023-02-25T10:22:49.801Z"
   },
   {
    "duration": 7,
    "start_time": "2023-02-25T10:24:03.751Z"
   },
   {
    "duration": 933,
    "start_time": "2023-02-25T10:24:05.456Z"
   },
   {
    "duration": 173,
    "start_time": "2023-02-25T10:24:06.391Z"
   },
   {
    "duration": 109,
    "start_time": "2023-02-25T10:24:06.566Z"
   },
   {
    "duration": 441,
    "start_time": "2023-02-25T10:24:06.677Z"
   },
   {
    "duration": 478,
    "start_time": "2023-02-25T10:24:07.120Z"
   },
   {
    "duration": 5442,
    "start_time": "2023-02-25T10:24:07.600Z"
   },
   {
    "duration": 143,
    "start_time": "2023-02-25T10:24:13.050Z"
   },
   {
    "duration": 56,
    "start_time": "2023-02-25T10:24:13.195Z"
   },
   {
    "duration": 3,
    "start_time": "2023-02-25T10:24:13.253Z"
   },
   {
    "duration": 4,
    "start_time": "2023-02-25T10:26:47.297Z"
   },
   {
    "duration": 1693,
    "start_time": "2023-02-25T10:26:57.311Z"
   },
   {
    "duration": 1749,
    "start_time": "2023-02-25T10:27:12.478Z"
   },
   {
    "duration": 5,
    "start_time": "2023-02-25T10:28:15.391Z"
   },
   {
    "duration": 2044,
    "start_time": "2023-02-25T10:28:27.908Z"
   },
   {
    "duration": 11,
    "start_time": "2023-02-25T10:29:48.431Z"
   },
   {
    "duration": 61,
    "start_time": "2023-02-25T10:29:53.140Z"
   },
   {
    "duration": 10,
    "start_time": "2023-02-25T10:31:43.096Z"
   },
   {
    "duration": 7,
    "start_time": "2023-02-25T10:31:47.676Z"
   },
   {
    "duration": 7,
    "start_time": "2023-02-25T10:31:59.549Z"
   },
   {
    "duration": 7,
    "start_time": "2023-02-25T10:32:06.203Z"
   },
   {
    "duration": 8,
    "start_time": "2023-02-25T10:32:15.714Z"
   },
   {
    "duration": 8,
    "start_time": "2023-02-25T10:32:22.194Z"
   },
   {
    "duration": 10,
    "start_time": "2023-02-25T10:33:07.412Z"
   },
   {
    "duration": 36,
    "start_time": "2023-02-25T10:33:13.399Z"
   },
   {
    "duration": 73,
    "start_time": "2023-02-25T10:33:30.354Z"
   },
   {
    "duration": 7,
    "start_time": "2023-02-25T10:33:36.299Z"
   },
   {
    "duration": 18,
    "start_time": "2023-02-25T10:33:43.136Z"
   },
   {
    "duration": 7,
    "start_time": "2023-02-25T10:33:48.229Z"
   },
   {
    "duration": 27,
    "start_time": "2023-02-25T10:34:35.877Z"
   },
   {
    "duration": 1920,
    "start_time": "2023-02-25T10:34:48.255Z"
   },
   {
    "duration": 10,
    "start_time": "2023-02-25T10:35:44.016Z"
   },
   {
    "duration": 42,
    "start_time": "2023-02-25T10:35:53.783Z"
   },
   {
    "duration": 2085,
    "start_time": "2023-02-25T10:36:07.173Z"
   },
   {
    "duration": 155,
    "start_time": "2023-02-25T10:37:05.723Z"
   },
   {
    "duration": 30,
    "start_time": "2023-02-25T10:37:53.481Z"
   },
   {
    "duration": 24,
    "start_time": "2023-02-25T10:38:30.075Z"
   },
   {
    "duration": 17,
    "start_time": "2023-02-25T10:39:07.823Z"
   },
   {
    "duration": 12,
    "start_time": "2023-02-25T10:39:51.468Z"
   },
   {
    "duration": 1097,
    "start_time": "2023-02-25T10:40:56.542Z"
   },
   {
    "duration": 12,
    "start_time": "2023-02-25T10:41:26.062Z"
   },
   {
    "duration": 74,
    "start_time": "2023-02-25T10:42:29.649Z"
   },
   {
    "duration": 940,
    "start_time": "2023-02-25T10:42:35.441Z"
   },
   {
    "duration": 1114,
    "start_time": "2023-02-25T10:44:39.181Z"
   },
   {
    "duration": 14,
    "start_time": "2023-02-25T10:45:02.848Z"
   },
   {
    "duration": 10,
    "start_time": "2023-02-25T10:45:17.324Z"
   },
   {
    "duration": 7,
    "start_time": "2023-02-25T10:45:27.949Z"
   },
   {
    "duration": 863,
    "start_time": "2023-02-25T10:45:28.162Z"
   },
   {
    "duration": 167,
    "start_time": "2023-02-25T10:45:29.028Z"
   },
   {
    "duration": 106,
    "start_time": "2023-02-25T10:45:29.197Z"
   },
   {
    "duration": 451,
    "start_time": "2023-02-25T10:45:29.306Z"
   },
   {
    "duration": 466,
    "start_time": "2023-02-25T10:45:29.759Z"
   },
   {
    "duration": 5287,
    "start_time": "2023-02-25T10:45:30.227Z"
   },
   {
    "duration": 153,
    "start_time": "2023-02-25T10:45:35.516Z"
   },
   {
    "duration": 53,
    "start_time": "2023-02-25T10:45:35.671Z"
   },
   {
    "duration": 3,
    "start_time": "2023-02-25T10:45:35.726Z"
   },
   {
    "duration": 43,
    "start_time": "2023-02-25T10:45:35.731Z"
   },
   {
    "duration": 25,
    "start_time": "2023-02-25T10:45:35.776Z"
   },
   {
    "duration": 47,
    "start_time": "2023-02-25T10:45:35.804Z"
   },
   {
    "duration": 10,
    "start_time": "2023-02-25T10:45:35.852Z"
   },
   {
    "duration": 1968,
    "start_time": "2023-02-25T10:45:35.863Z"
   },
   {
    "duration": 49,
    "start_time": "2023-02-25T10:45:37.846Z"
   },
   {
    "duration": 6,
    "start_time": "2023-02-25T10:45:37.897Z"
   },
   {
    "duration": 45,
    "start_time": "2023-02-25T10:45:37.905Z"
   },
   {
    "duration": 33,
    "start_time": "2023-02-25T10:45:37.952Z"
   },
   {
    "duration": 1931,
    "start_time": "2023-02-25T10:45:37.987Z"
   },
   {
    "duration": 45,
    "start_time": "2023-02-25T10:45:39.920Z"
   },
   {
    "duration": 1798,
    "start_time": "2023-02-25T10:45:39.966Z"
   },
   {
    "duration": 116,
    "start_time": "2023-02-25T10:45:41.767Z"
   },
   {
    "duration": 60,
    "start_time": "2023-02-25T10:45:41.885Z"
   },
   {
    "duration": 18,
    "start_time": "2023-02-25T10:46:07.655Z"
   },
   {
    "duration": 29,
    "start_time": "2023-02-25T10:46:24.800Z"
   },
   {
    "duration": 49,
    "start_time": "2023-02-25T10:47:36.484Z"
   },
   {
    "duration": 5,
    "start_time": "2023-02-25T10:48:16.804Z"
   },
   {
    "duration": 1770,
    "start_time": "2023-02-25T10:48:31.011Z"
   },
   {
    "duration": 972,
    "start_time": "2023-02-25T10:48:32.784Z"
   },
   {
    "duration": 158,
    "start_time": "2023-02-25T10:48:33.757Z"
   },
   {
    "duration": 175,
    "start_time": "2023-02-25T10:48:33.917Z"
   },
   {
    "duration": 514,
    "start_time": "2023-02-25T10:48:34.095Z"
   },
   {
    "duration": 570,
    "start_time": "2023-02-25T10:48:34.611Z"
   },
   {
    "duration": 5249,
    "start_time": "2023-02-25T10:48:35.183Z"
   },
   {
    "duration": 139,
    "start_time": "2023-02-25T10:48:40.434Z"
   },
   {
    "duration": 38,
    "start_time": "2023-02-25T10:48:40.575Z"
   },
   {
    "duration": 22,
    "start_time": "2023-02-25T10:48:40.616Z"
   },
   {
    "duration": 23,
    "start_time": "2023-02-25T10:48:40.640Z"
   },
   {
    "duration": 14,
    "start_time": "2023-02-25T10:48:40.666Z"
   },
   {
    "duration": 67,
    "start_time": "2023-02-25T10:48:40.682Z"
   },
   {
    "duration": 5,
    "start_time": "2023-02-25T10:48:40.753Z"
   },
   {
    "duration": 2223,
    "start_time": "2023-02-25T10:48:40.760Z"
   },
   {
    "duration": 78,
    "start_time": "2023-02-25T10:48:42.986Z"
   },
   {
    "duration": 9,
    "start_time": "2023-02-25T10:48:43.066Z"
   },
   {
    "duration": 39,
    "start_time": "2023-02-25T10:48:43.077Z"
   },
   {
    "duration": 42,
    "start_time": "2023-02-25T10:48:43.117Z"
   },
   {
    "duration": 1945,
    "start_time": "2023-02-25T10:48:43.160Z"
   },
   {
    "duration": 48,
    "start_time": "2023-02-25T10:48:45.107Z"
   },
   {
    "duration": 1937,
    "start_time": "2023-02-25T10:48:45.157Z"
   },
   {
    "duration": 110,
    "start_time": "2023-02-25T10:48:47.096Z"
   },
   {
    "duration": 58,
    "start_time": "2023-02-25T10:48:47.208Z"
   },
   {
    "duration": 49,
    "start_time": "2023-02-25T10:48:47.267Z"
   },
   {
    "duration": 84,
    "start_time": "2023-02-25T10:48:47.319Z"
   },
   {
    "duration": 111,
    "start_time": "2023-02-25T10:49:07.714Z"
   },
   {
    "duration": 118,
    "start_time": "2023-02-25T10:50:49.009Z"
   },
   {
    "duration": 9,
    "start_time": "2023-02-25T10:52:52.920Z"
   },
   {
    "duration": 140,
    "start_time": "2023-02-25T10:53:28.379Z"
   },
   {
    "duration": 165,
    "start_time": "2023-02-25T10:56:09.109Z"
   },
   {
    "duration": 4,
    "start_time": "2023-02-25T10:56:49.799Z"
   },
   {
    "duration": 18,
    "start_time": "2023-02-25T10:56:59.189Z"
   },
   {
    "duration": 156,
    "start_time": "2023-02-25T10:57:16.022Z"
   },
   {
    "duration": 17,
    "start_time": "2023-02-25T10:58:39.351Z"
   },
   {
    "duration": 85,
    "start_time": "2023-02-25T10:59:28.095Z"
   },
   {
    "duration": 5505,
    "start_time": "2023-02-25T11:00:05.398Z"
   },
   {
    "duration": 23,
    "start_time": "2023-02-25T11:02:37.931Z"
   },
   {
    "duration": 14,
    "start_time": "2023-02-25T11:03:38.277Z"
   },
   {
    "duration": 12,
    "start_time": "2023-02-25T11:04:14.077Z"
   },
   {
    "duration": 12,
    "start_time": "2023-02-25T11:04:39.603Z"
   },
   {
    "duration": 21,
    "start_time": "2023-02-25T11:06:44.991Z"
   },
   {
    "duration": 3934,
    "start_time": "2023-02-25T11:07:57.589Z"
   },
   {
    "duration": 1860,
    "start_time": "2023-02-25T11:08:07.430Z"
   },
   {
    "duration": 3131,
    "start_time": "2023-02-25T11:08:11.562Z"
   },
   {
    "duration": 191,
    "start_time": "2023-02-25T11:08:14.695Z"
   },
   {
    "duration": 156,
    "start_time": "2023-02-25T11:08:14.888Z"
   },
   {
    "duration": 481,
    "start_time": "2023-02-25T11:08:15.054Z"
   },
   {
    "duration": 529,
    "start_time": "2023-02-25T11:08:15.536Z"
   },
   {
    "duration": 5321,
    "start_time": "2023-02-25T11:08:16.067Z"
   },
   {
    "duration": 170,
    "start_time": "2023-02-25T11:08:21.390Z"
   },
   {
    "duration": 142,
    "start_time": "2023-02-25T11:08:21.562Z"
   },
   {
    "duration": 4,
    "start_time": "2023-02-25T11:08:21.706Z"
   },
   {
    "duration": 69,
    "start_time": "2023-02-25T11:08:21.712Z"
   },
   {
    "duration": 11,
    "start_time": "2023-02-25T11:08:21.783Z"
   },
   {
    "duration": 53,
    "start_time": "2023-02-25T11:08:21.795Z"
   },
   {
    "duration": 5,
    "start_time": "2023-02-25T11:08:44.618Z"
   },
   {
    "duration": 2367,
    "start_time": "2023-02-25T11:08:45.246Z"
   },
   {
    "duration": 58,
    "start_time": "2023-02-25T11:08:47.615Z"
   },
   {
    "duration": 8,
    "start_time": "2023-02-25T11:08:47.675Z"
   },
   {
    "duration": 53,
    "start_time": "2023-02-25T11:08:47.685Z"
   },
   {
    "duration": 25,
    "start_time": "2023-02-25T11:08:47.740Z"
   },
   {
    "duration": 1890,
    "start_time": "2023-02-25T11:08:47.835Z"
   },
   {
    "duration": 37,
    "start_time": "2023-02-25T11:08:49.737Z"
   },
   {
    "duration": 1895,
    "start_time": "2023-02-25T11:08:49.777Z"
   },
   {
    "duration": 101,
    "start_time": "2023-02-25T11:08:51.674Z"
   },
   {
    "duration": 32,
    "start_time": "2023-02-25T11:08:51.777Z"
   },
   {
    "duration": 40,
    "start_time": "2023-02-25T11:08:51.811Z"
   },
   {
    "duration": 58,
    "start_time": "2023-02-25T11:08:51.853Z"
   },
   {
    "duration": 102,
    "start_time": "2023-02-25T11:08:51.913Z"
   },
   {
    "duration": 139,
    "start_time": "2023-02-25T11:08:52.335Z"
   },
   {
    "duration": 116,
    "start_time": "2023-02-25T11:08:53.723Z"
   },
   {
    "duration": 142,
    "start_time": "2023-02-25T11:08:54.871Z"
   },
   {
    "duration": 24,
    "start_time": "2023-02-25T11:08:59.865Z"
   },
   {
    "duration": 13,
    "start_time": "2023-02-25T11:09:37.318Z"
   },
   {
    "duration": 1045,
    "start_time": "2023-02-25T11:09:59.476Z"
   },
   {
    "duration": 183,
    "start_time": "2023-02-25T11:10:22.820Z"
   },
   {
    "duration": 150,
    "start_time": "2023-02-25T11:10:35.402Z"
   },
   {
    "duration": 2930,
    "start_time": "2023-02-25T11:12:29.132Z"
   },
   {
    "duration": 3075,
    "start_time": "2023-02-25T11:12:50.881Z"
   },
   {
    "duration": 14,
    "start_time": "2023-02-25T11:12:55.427Z"
   },
   {
    "duration": 8,
    "start_time": "2023-02-25T11:12:56.023Z"
   },
   {
    "duration": 34,
    "start_time": "2023-02-25T11:12:56.220Z"
   },
   {
    "duration": 6,
    "start_time": "2023-02-25T11:12:56.428Z"
   },
   {
    "duration": 1806,
    "start_time": "2023-02-25T11:12:56.603Z"
   },
   {
    "duration": 44,
    "start_time": "2023-02-25T11:12:58.411Z"
   },
   {
    "duration": 9,
    "start_time": "2023-02-25T11:12:58.457Z"
   },
   {
    "duration": 33,
    "start_time": "2023-02-25T11:12:58.468Z"
   },
   {
    "duration": 42,
    "start_time": "2023-02-25T11:12:58.503Z"
   },
   {
    "duration": 1777,
    "start_time": "2023-02-25T11:12:58.546Z"
   },
   {
    "duration": 30,
    "start_time": "2023-02-25T11:13:00.326Z"
   },
   {
    "duration": 1942,
    "start_time": "2023-02-25T11:13:00.358Z"
   },
   {
    "duration": 84,
    "start_time": "2023-02-25T11:13:02.302Z"
   },
   {
    "duration": 80,
    "start_time": "2023-02-25T11:13:02.388Z"
   },
   {
    "duration": 72,
    "start_time": "2023-02-25T11:13:02.471Z"
   },
   {
    "duration": 99,
    "start_time": "2023-02-25T11:13:02.546Z"
   },
   {
    "duration": 78,
    "start_time": "2023-02-25T11:13:02.649Z"
   },
   {
    "duration": 93,
    "start_time": "2023-02-25T11:13:02.729Z"
   },
   {
    "duration": 127,
    "start_time": "2023-02-25T11:13:02.824Z"
   },
   {
    "duration": 13,
    "start_time": "2023-02-25T11:13:02.954Z"
   },
   {
    "duration": 821,
    "start_time": "2023-02-25T11:13:02.970Z"
   },
   {
    "duration": 94,
    "start_time": "2023-02-25T11:13:03.792Z"
   },
   {
    "duration": 4,
    "start_time": "2023-02-25T11:13:44.306Z"
   },
   {
    "duration": 4,
    "start_time": "2023-02-25T11:13:51.191Z"
   },
   {
    "duration": 4,
    "start_time": "2023-02-25T11:14:03.217Z"
   },
   {
    "duration": 14965,
    "start_time": "2023-02-25T11:14:10.973Z"
   },
   {
    "duration": 5,
    "start_time": "2023-02-25T11:14:32.693Z"
   },
   {
    "duration": 4,
    "start_time": "2023-02-25T11:14:34.287Z"
   },
   {
    "duration": 2493,
    "start_time": "2023-02-25T11:17:41.008Z"
   },
   {
    "duration": 1615,
    "start_time": "2023-02-25T11:17:43.504Z"
   },
   {
    "duration": 841,
    "start_time": "2023-02-25T11:17:45.121Z"
   },
   {
    "duration": 186,
    "start_time": "2023-02-25T11:17:45.964Z"
   },
   {
    "duration": 111,
    "start_time": "2023-02-25T11:17:46.151Z"
   },
   {
    "duration": 498,
    "start_time": "2023-02-25T11:17:46.264Z"
   },
   {
    "duration": 575,
    "start_time": "2023-02-25T11:17:46.765Z"
   },
   {
    "duration": 4992,
    "start_time": "2023-02-25T11:17:47.342Z"
   },
   {
    "duration": 228,
    "start_time": "2023-02-25T11:17:52.338Z"
   },
   {
    "duration": 52,
    "start_time": "2023-02-25T11:17:52.570Z"
   },
   {
    "duration": 3,
    "start_time": "2023-02-25T11:17:52.625Z"
   },
   {
    "duration": 3661,
    "start_time": "2023-02-25T11:17:52.639Z"
   },
   {
    "duration": 3686,
    "start_time": "2023-02-25T11:17:56.301Z"
   },
   {
    "duration": 23,
    "start_time": "2023-02-25T11:17:59.989Z"
   },
   {
    "duration": 22,
    "start_time": "2023-02-25T11:18:00.015Z"
   },
   {
    "duration": 115,
    "start_time": "2023-02-25T11:18:00.039Z"
   },
   {
    "duration": 4,
    "start_time": "2023-02-25T11:18:00.156Z"
   },
   {
    "duration": 1960,
    "start_time": "2023-02-25T11:18:00.162Z"
   },
   {
    "duration": 52,
    "start_time": "2023-02-25T11:18:02.124Z"
   },
   {
    "duration": 8,
    "start_time": "2023-02-25T11:18:02.177Z"
   },
   {
    "duration": 39,
    "start_time": "2023-02-25T11:18:02.188Z"
   },
   {
    "duration": 25,
    "start_time": "2023-02-25T11:18:02.239Z"
   },
   {
    "duration": 1743,
    "start_time": "2023-02-25T11:18:02.266Z"
   },
   {
    "duration": 36,
    "start_time": "2023-02-25T11:18:04.010Z"
   },
   {
    "duration": 1705,
    "start_time": "2023-02-25T11:18:04.048Z"
   },
   {
    "duration": 75,
    "start_time": "2023-02-25T11:18:05.755Z"
   },
   {
    "duration": 30,
    "start_time": "2023-02-25T11:18:05.838Z"
   },
   {
    "duration": 30,
    "start_time": "2023-02-25T11:18:05.871Z"
   },
   {
    "duration": 68,
    "start_time": "2023-02-25T11:18:05.902Z"
   },
   {
    "duration": 82,
    "start_time": "2023-02-25T11:18:05.973Z"
   },
   {
    "duration": 89,
    "start_time": "2023-02-25T11:18:06.057Z"
   },
   {
    "duration": 90,
    "start_time": "2023-02-25T11:18:06.148Z"
   },
   {
    "duration": 12,
    "start_time": "2023-02-25T11:18:06.240Z"
   },
   {
    "duration": 842,
    "start_time": "2023-02-25T11:18:06.254Z"
   },
   {
    "duration": 92,
    "start_time": "2023-02-25T11:18:07.097Z"
   },
   {
    "duration": 4,
    "start_time": "2023-02-25T11:18:07.190Z"
   },
   {
    "duration": 26,
    "start_time": "2023-02-25T11:18:07.195Z"
   },
   {
    "duration": 19,
    "start_time": "2023-02-25T11:18:07.223Z"
   },
   {
    "duration": 12899,
    "start_time": "2023-02-25T11:18:07.244Z"
   },
   {
    "duration": 94,
    "start_time": "2023-02-25T11:18:20.146Z"
   },
   {
    "duration": 8,
    "start_time": "2023-02-25T11:18:20.242Z"
   },
   {
    "duration": 1565780,
    "start_time": "2023-02-25T11:18:20.252Z"
   },
   {
    "duration": 0,
    "start_time": "2023-02-25T11:44:26.034Z"
   },
   {
    "duration": 0,
    "start_time": "2023-02-25T11:44:26.035Z"
   },
   {
    "duration": 0,
    "start_time": "2023-02-25T11:44:26.039Z"
   },
   {
    "duration": 0,
    "start_time": "2023-02-25T11:44:26.042Z"
   },
   {
    "duration": 0,
    "start_time": "2023-02-25T11:44:26.043Z"
   },
   {
    "duration": 0,
    "start_time": "2023-02-25T11:44:26.045Z"
   },
   {
    "duration": 0,
    "start_time": "2023-02-25T11:44:26.046Z"
   },
   {
    "duration": 0,
    "start_time": "2023-02-25T11:44:26.047Z"
   },
   {
    "duration": 0,
    "start_time": "2023-02-25T11:44:26.049Z"
   },
   {
    "duration": 1437341,
    "start_time": "2023-02-25T11:44:36.641Z"
   },
   {
    "duration": 10,
    "start_time": "2023-02-25T12:09:01.555Z"
   },
   {
    "duration": 26,
    "start_time": "2023-02-25T12:09:09.545Z"
   },
   {
    "duration": 3438,
    "start_time": "2023-02-25T12:09:19.771Z"
   },
   {
    "duration": 14,
    "start_time": "2023-02-25T12:09:23.212Z"
   },
   {
    "duration": 920,
    "start_time": "2023-02-25T12:09:25.285Z"
   },
   {
    "duration": 198,
    "start_time": "2023-02-25T12:09:26.207Z"
   },
   {
    "duration": 111,
    "start_time": "2023-02-25T12:09:26.407Z"
   },
   {
    "duration": 473,
    "start_time": "2023-02-25T12:09:27.787Z"
   },
   {
    "duration": 478,
    "start_time": "2023-02-25T12:09:28.296Z"
   },
   {
    "duration": 6336,
    "start_time": "2023-02-25T12:09:29.876Z"
   },
   {
    "duration": 174,
    "start_time": "2023-02-25T12:09:36.214Z"
   },
   {
    "duration": 48,
    "start_time": "2023-02-25T12:09:36.391Z"
   },
   {
    "duration": 3,
    "start_time": "2023-02-25T12:09:36.442Z"
   },
   {
    "duration": 51,
    "start_time": "2023-02-25T12:09:36.448Z"
   },
   {
    "duration": 4223,
    "start_time": "2023-02-25T12:09:54.035Z"
   },
   {
    "duration": 4330,
    "start_time": "2023-02-25T12:09:58.261Z"
   },
   {
    "duration": 21,
    "start_time": "2023-02-25T12:10:02.593Z"
   },
   {
    "duration": 62,
    "start_time": "2023-02-25T12:11:03.072Z"
   },
   {
    "duration": 4058,
    "start_time": "2023-02-25T12:12:25.084Z"
   },
   {
    "duration": 4033,
    "start_time": "2023-02-25T12:12:29.462Z"
   },
   {
    "duration": 11,
    "start_time": "2023-02-25T12:12:56.105Z"
   },
   {
    "duration": 12,
    "start_time": "2023-02-25T12:12:57.000Z"
   },
   {
    "duration": 25,
    "start_time": "2023-02-25T12:13:32.207Z"
   },
   {
    "duration": 6,
    "start_time": "2023-02-25T12:13:54.131Z"
   },
   {
    "duration": 96,
    "start_time": "2023-02-25T12:14:20.515Z"
   },
   {
    "duration": 2108,
    "start_time": "2023-02-25T12:14:32.994Z"
   },
   {
    "duration": 12,
    "start_time": "2023-02-25T12:18:08.737Z"
   },
   {
    "duration": 36,
    "start_time": "2023-02-25T12:18:16.220Z"
   },
   {
    "duration": 39,
    "start_time": "2023-02-25T12:18:39.075Z"
   },
   {
    "duration": 43,
    "start_time": "2023-02-25T12:19:50.363Z"
   },
   {
    "duration": 12,
    "start_time": "2023-02-25T12:20:55.433Z"
   },
   {
    "duration": 12,
    "start_time": "2023-02-25T12:21:03.249Z"
   },
   {
    "duration": 9,
    "start_time": "2023-02-25T12:21:10.543Z"
   },
   {
    "duration": 8,
    "start_time": "2023-02-25T12:21:33.127Z"
   },
   {
    "duration": 10,
    "start_time": "2023-02-25T12:22:26.546Z"
   },
   {
    "duration": 27,
    "start_time": "2023-02-25T12:24:58.276Z"
   },
   {
    "duration": 26,
    "start_time": "2023-02-25T12:25:17.779Z"
   },
   {
    "duration": 1701,
    "start_time": "2023-02-25T12:25:19.051Z"
   },
   {
    "duration": 29,
    "start_time": "2023-02-25T12:28:48.281Z"
   },
   {
    "duration": 1796,
    "start_time": "2023-02-25T12:29:01.528Z"
   },
   {
    "duration": 67,
    "start_time": "2023-02-25T12:30:55.987Z"
   },
   {
    "duration": 2426,
    "start_time": "2023-02-25T12:31:44.180Z"
   },
   {
    "duration": 2641,
    "start_time": "2023-02-25T12:31:46.608Z"
   },
   {
    "duration": 938,
    "start_time": "2023-02-25T12:31:49.251Z"
   },
   {
    "duration": 166,
    "start_time": "2023-02-25T12:31:50.192Z"
   },
   {
    "duration": 112,
    "start_time": "2023-02-25T12:31:50.359Z"
   },
   {
    "duration": 520,
    "start_time": "2023-02-25T12:31:54.904Z"
   },
   {
    "duration": 559,
    "start_time": "2023-02-25T12:31:55.427Z"
   },
   {
    "duration": 5322,
    "start_time": "2023-02-25T12:31:56.777Z"
   },
   {
    "duration": 143,
    "start_time": "2023-02-25T12:32:02.101Z"
   },
   {
    "duration": 41,
    "start_time": "2023-02-25T12:32:02.246Z"
   },
   {
    "duration": 3,
    "start_time": "2023-02-25T12:32:02.289Z"
   },
   {
    "duration": 50,
    "start_time": "2023-02-25T12:32:02.294Z"
   },
   {
    "duration": 3863,
    "start_time": "2023-02-25T12:32:10.793Z"
   },
   {
    "duration": 3737,
    "start_time": "2023-02-25T12:32:14.659Z"
   },
   {
    "duration": 23,
    "start_time": "2023-02-25T12:32:18.398Z"
   },
   {
    "duration": 23,
    "start_time": "2023-02-25T12:32:18.423Z"
   },
   {
    "duration": 29,
    "start_time": "2023-02-25T12:32:20.073Z"
   },
   {
    "duration": 5,
    "start_time": "2023-02-25T12:32:20.882Z"
   },
   {
    "duration": 2195,
    "start_time": "2023-02-25T12:32:21.781Z"
   },
   {
    "duration": 26,
    "start_time": "2023-02-25T12:32:23.978Z"
   },
   {
    "duration": 39,
    "start_time": "2023-02-25T12:32:25.995Z"
   },
   {
    "duration": 10,
    "start_time": "2023-02-25T12:32:27.470Z"
   },
   {
    "duration": 30,
    "start_time": "2023-02-25T12:32:43.339Z"
   },
   {
    "duration": 21,
    "start_time": "2023-02-25T12:32:45.599Z"
   },
   {
    "duration": 1903,
    "start_time": "2023-02-25T12:32:46.043Z"
   },
   {
    "duration": 30,
    "start_time": "2023-02-25T12:32:47.948Z"
   },
   {
    "duration": 2047,
    "start_time": "2023-02-25T12:32:50.832Z"
   },
   {
    "duration": 76,
    "start_time": "2023-02-25T12:32:53.468Z"
   },
   {
    "duration": 73,
    "start_time": "2023-02-25T12:34:51.268Z"
   },
   {
    "duration": 33,
    "start_time": "2023-02-25T12:34:55.073Z"
   },
   {
    "duration": 19,
    "start_time": "2023-02-25T12:35:04.732Z"
   },
   {
    "duration": 35,
    "start_time": "2023-02-25T12:36:36.980Z"
   },
   {
    "duration": 76,
    "start_time": "2023-02-25T12:37:31.049Z"
   },
   {
    "duration": 88,
    "start_time": "2023-02-25T12:37:32.618Z"
   },
   {
    "duration": 92,
    "start_time": "2023-02-25T12:38:15.885Z"
   },
   {
    "duration": 95,
    "start_time": "2023-02-25T12:38:33.782Z"
   },
   {
    "duration": 107,
    "start_time": "2023-02-25T12:39:06.862Z"
   },
   {
    "duration": 18,
    "start_time": "2023-02-25T12:39:09.472Z"
   },
   {
    "duration": 1008,
    "start_time": "2023-02-25T12:39:35.913Z"
   },
   {
    "duration": 102,
    "start_time": "2023-02-25T12:39:55.585Z"
   },
   {
    "duration": 3,
    "start_time": "2023-02-25T12:45:21.260Z"
   },
   {
    "duration": 4,
    "start_time": "2023-02-25T12:46:11.896Z"
   },
   {
    "duration": 4,
    "start_time": "2023-02-25T12:47:11.574Z"
   },
   {
    "duration": 16410,
    "start_time": "2023-02-25T12:47:13.128Z"
   },
   {
    "duration": 6,
    "start_time": "2023-02-25T12:47:31.490Z"
   },
   {
    "duration": 5,
    "start_time": "2023-02-25T12:50:48.395Z"
   },
   {
    "duration": 192162,
    "start_time": "2023-02-25T12:50:51.429Z"
   },
   {
    "duration": 0,
    "start_time": "2023-02-25T12:54:03.593Z"
   },
   {
    "duration": 5,
    "start_time": "2023-02-25T12:54:16.799Z"
   },
   {
    "duration": 1291470,
    "start_time": "2023-02-25T12:54:18.982Z"
   },
   {
    "duration": 0,
    "start_time": "2023-02-25T13:15:50.454Z"
   },
   {
    "duration": 4,
    "start_time": "2023-02-25T13:16:34.133Z"
   },
   {
    "duration": 16403,
    "start_time": "2023-02-25T13:16:39.737Z"
   },
   {
    "duration": 5,
    "start_time": "2023-02-25T13:16:58.523Z"
   },
   {
    "duration": 4,
    "start_time": "2023-02-25T13:17:02.894Z"
   },
   {
    "duration": 2467,
    "start_time": "2023-02-25T13:31:21.736Z"
   },
   {
    "duration": 1724,
    "start_time": "2023-02-25T13:31:24.226Z"
   },
   {
    "duration": 889,
    "start_time": "2023-02-25T13:31:25.952Z"
   },
   {
    "duration": 174,
    "start_time": "2023-02-25T13:31:26.843Z"
   },
   {
    "duration": 121,
    "start_time": "2023-02-25T13:31:27.019Z"
   },
   {
    "duration": 515,
    "start_time": "2023-02-25T13:31:27.292Z"
   },
   {
    "duration": 555,
    "start_time": "2023-02-25T13:31:28.386Z"
   },
   {
    "duration": 5006,
    "start_time": "2023-02-25T13:31:28.943Z"
   },
   {
    "duration": 154,
    "start_time": "2023-02-25T13:31:33.951Z"
   },
   {
    "duration": 51,
    "start_time": "2023-02-25T13:31:34.106Z"
   },
   {
    "duration": 3,
    "start_time": "2023-02-25T13:31:35.021Z"
   },
   {
    "duration": 36,
    "start_time": "2023-02-25T13:31:37.095Z"
   },
   {
    "duration": 3682,
    "start_time": "2023-02-25T13:31:38.812Z"
   },
   {
    "duration": 3728,
    "start_time": "2023-02-25T13:31:42.496Z"
   },
   {
    "duration": 25,
    "start_time": "2023-02-25T13:31:46.225Z"
   },
   {
    "duration": 9,
    "start_time": "2023-02-25T13:31:47.589Z"
   },
   {
    "duration": 25,
    "start_time": "2023-02-25T13:31:49.047Z"
   },
   {
    "duration": 4,
    "start_time": "2023-02-25T13:31:49.956Z"
   },
   {
    "duration": 2046,
    "start_time": "2023-02-25T13:31:51.092Z"
   },
   {
    "duration": 24,
    "start_time": "2023-02-25T13:31:53.792Z"
   },
   {
    "duration": 39,
    "start_time": "2023-02-25T13:32:01.624Z"
   },
   {
    "duration": 8,
    "start_time": "2023-02-25T13:32:06.723Z"
   },
   {
    "duration": 25,
    "start_time": "2023-02-25T13:32:07.625Z"
   },
   {
    "duration": 20,
    "start_time": "2023-02-25T13:32:08.217Z"
   },
   {
    "duration": 1669,
    "start_time": "2023-02-25T13:32:08.566Z"
   },
   {
    "duration": 30,
    "start_time": "2023-02-25T13:32:10.238Z"
   },
   {
    "duration": 1799,
    "start_time": "2023-02-25T13:32:11.268Z"
   },
   {
    "duration": 71,
    "start_time": "2023-02-25T13:32:19.926Z"
   },
   {
    "duration": 32,
    "start_time": "2023-02-25T13:32:20.664Z"
   },
   {
    "duration": 19,
    "start_time": "2023-02-25T13:32:22.959Z"
   },
   {
    "duration": 46,
    "start_time": "2023-02-25T13:32:25.503Z"
   },
   {
    "duration": 69,
    "start_time": "2023-02-25T13:32:26.944Z"
   },
   {
    "duration": 86,
    "start_time": "2023-02-25T13:32:29.092Z"
   },
   {
    "duration": 86,
    "start_time": "2023-02-25T13:32:30.090Z"
   },
   {
    "duration": 926,
    "start_time": "2023-02-25T13:32:31.000Z"
   },
   {
    "duration": 88,
    "start_time": "2023-02-25T13:32:37.506Z"
   },
   {
    "duration": 3,
    "start_time": "2023-02-25T13:32:38.975Z"
   },
   {
    "duration": 5,
    "start_time": "2023-02-25T13:32:40.158Z"
   },
   {
    "duration": 3,
    "start_time": "2023-02-25T13:32:41.851Z"
   },
   {
    "duration": 13215,
    "start_time": "2023-02-25T13:32:42.726Z"
   },
   {
    "duration": 4,
    "start_time": "2023-02-25T13:33:03.144Z"
   },
   {
    "duration": 4,
    "start_time": "2023-02-25T13:33:09.321Z"
   },
   {
    "duration": 3046501,
    "start_time": "2023-02-25T13:33:10.728Z"
   },
   {
    "duration": 104,
    "start_time": "2023-02-25T14:24:13.081Z"
   },
   {
    "duration": 3,
    "start_time": "2023-02-25T14:24:22.032Z"
   },
   {
    "duration": 4937,
    "start_time": "2023-02-25T14:24:26.736Z"
   },
   {
    "duration": 4,
    "start_time": "2023-02-25T14:24:38.953Z"
   },
   {
    "duration": 86712,
    "start_time": "2023-02-25T14:24:39.913Z"
   },
   {
    "duration": 4,
    "start_time": "2023-02-25T14:26:37.696Z"
   },
   {
    "duration": 343363,
    "start_time": "2023-02-25T14:26:38.730Z"
   },
   {
    "duration": 14616,
    "start_time": "2023-02-25T14:32:24.855Z"
   },
   {
    "duration": 3433,
    "start_time": "2023-02-25T14:32:55.007Z"
   },
   {
    "duration": 5,
    "start_time": "2023-02-25T14:35:57.690Z"
   },
   {
    "duration": 5,
    "start_time": "2023-02-25T14:35:58.863Z"
   },
   {
    "duration": 20,
    "start_time": "2023-02-25T14:36:01.904Z"
   },
   {
    "duration": 2527,
    "start_time": "2023-02-25T14:37:33.579Z"
   },
   {
    "duration": 1691,
    "start_time": "2023-02-25T14:37:36.109Z"
   },
   {
    "duration": 983,
    "start_time": "2023-02-25T14:37:37.802Z"
   },
   {
    "duration": 203,
    "start_time": "2023-02-25T14:37:38.788Z"
   },
   {
    "duration": 119,
    "start_time": "2023-02-25T14:37:38.993Z"
   },
   {
    "duration": 582,
    "start_time": "2023-02-25T14:37:39.115Z"
   },
   {
    "duration": 599,
    "start_time": "2023-02-25T14:37:39.699Z"
   },
   {
    "duration": 6003,
    "start_time": "2023-02-25T14:37:40.300Z"
   },
   {
    "duration": 169,
    "start_time": "2023-02-25T14:37:46.305Z"
   },
   {
    "duration": 68,
    "start_time": "2023-02-25T14:37:46.477Z"
   },
   {
    "duration": 6,
    "start_time": "2023-02-25T14:37:46.548Z"
   },
   {
    "duration": 71,
    "start_time": "2023-02-25T14:37:46.556Z"
   },
   {
    "duration": 3933,
    "start_time": "2023-02-25T14:37:46.629Z"
   },
   {
    "duration": 4123,
    "start_time": "2023-02-25T14:37:50.564Z"
   },
   {
    "duration": 24,
    "start_time": "2023-02-25T14:37:54.689Z"
   },
   {
    "duration": 109,
    "start_time": "2023-02-25T14:37:54.715Z"
   },
   {
    "duration": 30,
    "start_time": "2023-02-25T14:37:54.837Z"
   },
   {
    "duration": 17,
    "start_time": "2023-02-25T14:37:54.868Z"
   },
   {
    "duration": 2161,
    "start_time": "2023-02-25T14:37:54.888Z"
   },
   {
    "duration": 39,
    "start_time": "2023-02-25T14:37:57.051Z"
   },
   {
    "duration": 60,
    "start_time": "2023-02-25T14:37:57.092Z"
   },
   {
    "duration": 28,
    "start_time": "2023-02-25T14:37:57.155Z"
   },
   {
    "duration": 56,
    "start_time": "2023-02-25T14:37:57.185Z"
   },
   {
    "duration": 23,
    "start_time": "2023-02-25T14:37:57.245Z"
   },
   {
    "duration": 1876,
    "start_time": "2023-02-25T14:37:57.270Z"
   },
   {
    "duration": 40,
    "start_time": "2023-02-25T14:37:59.147Z"
   },
   {
    "duration": 1903,
    "start_time": "2023-02-25T14:37:59.189Z"
   },
   {
    "duration": 94,
    "start_time": "2023-02-25T14:38:01.096Z"
   },
   {
    "duration": 52,
    "start_time": "2023-02-25T14:38:01.192Z"
   },
   {
    "duration": 48,
    "start_time": "2023-02-25T14:38:01.246Z"
   },
   {
    "duration": 69,
    "start_time": "2023-02-25T14:38:01.297Z"
   },
   {
    "duration": 108,
    "start_time": "2023-02-25T14:38:01.368Z"
   },
   {
    "duration": 99,
    "start_time": "2023-02-25T14:38:01.478Z"
   },
   {
    "duration": 102,
    "start_time": "2023-02-25T14:38:01.579Z"
   },
   {
    "duration": 1118,
    "start_time": "2023-02-25T14:38:01.684Z"
   },
   {
    "duration": 106,
    "start_time": "2023-02-25T14:38:02.804Z"
   },
   {
    "duration": 4,
    "start_time": "2023-02-25T14:38:02.912Z"
   },
   {
    "duration": 13,
    "start_time": "2023-02-25T14:38:02.918Z"
   },
   {
    "duration": 25,
    "start_time": "2023-02-25T14:38:02.933Z"
   },
   {
    "duration": 35214,
    "start_time": "2023-02-25T14:38:02.960Z"
   },
   {
    "duration": 5,
    "start_time": "2023-02-25T14:38:38.179Z"
   },
   {
    "duration": 155,
    "start_time": "2023-02-25T14:38:38.186Z"
   },
   {
    "duration": 2561,
    "start_time": "2023-02-25T14:50:43.612Z"
   },
   {
    "duration": 1724,
    "start_time": "2023-02-25T14:50:46.176Z"
   },
   {
    "duration": 1051,
    "start_time": "2023-02-25T14:50:47.903Z"
   },
   {
    "duration": 199,
    "start_time": "2023-02-25T14:50:48.959Z"
   },
   {
    "duration": 112,
    "start_time": "2023-02-25T14:50:49.160Z"
   },
   {
    "duration": 612,
    "start_time": "2023-02-25T14:50:49.274Z"
   },
   {
    "duration": 625,
    "start_time": "2023-02-25T14:50:49.888Z"
   },
   {
    "duration": 5773,
    "start_time": "2023-02-25T14:50:50.515Z"
   },
   {
    "duration": 180,
    "start_time": "2023-02-25T14:50:56.290Z"
   },
   {
    "duration": 42,
    "start_time": "2023-02-25T14:50:56.473Z"
   },
   {
    "duration": 3,
    "start_time": "2023-02-25T14:50:56.518Z"
   },
   {
    "duration": 57,
    "start_time": "2023-02-25T14:50:56.542Z"
   },
   {
    "duration": 4095,
    "start_time": "2023-02-25T14:50:56.601Z"
   },
   {
    "duration": 4057,
    "start_time": "2023-02-25T14:51:00.697Z"
   },
   {
    "duration": 23,
    "start_time": "2023-02-25T14:51:04.756Z"
   },
   {
    "duration": 99,
    "start_time": "2023-02-25T14:51:04.781Z"
   },
   {
    "duration": 26,
    "start_time": "2023-02-25T14:51:04.883Z"
   },
   {
    "duration": 4,
    "start_time": "2023-02-25T14:51:04.911Z"
   },
   {
    "duration": 2191,
    "start_time": "2023-02-25T14:51:04.918Z"
   },
   {
    "duration": 51,
    "start_time": "2023-02-25T14:51:07.111Z"
   },
   {
    "duration": 42,
    "start_time": "2023-02-25T14:51:07.165Z"
   },
   {
    "duration": 9,
    "start_time": "2023-02-25T14:51:07.209Z"
   },
   {
    "duration": 148,
    "start_time": "2023-02-25T14:51:07.220Z"
   },
   {
    "duration": 32,
    "start_time": "2023-02-25T14:51:07.370Z"
   },
   {
    "duration": 1952,
    "start_time": "2023-02-25T14:51:07.405Z"
   },
   {
    "duration": 36,
    "start_time": "2023-02-25T14:51:09.358Z"
   },
   {
    "duration": 1912,
    "start_time": "2023-02-25T14:51:09.396Z"
   },
   {
    "duration": 92,
    "start_time": "2023-02-25T14:51:11.312Z"
   },
   {
    "duration": 68,
    "start_time": "2023-02-25T14:51:11.406Z"
   },
   {
    "duration": 38,
    "start_time": "2023-02-25T14:51:11.476Z"
   },
   {
    "duration": 80,
    "start_time": "2023-02-25T14:51:11.516Z"
   },
   {
    "duration": 84,
    "start_time": "2023-02-25T14:51:11.598Z"
   },
   {
    "duration": 100,
    "start_time": "2023-02-25T14:51:11.684Z"
   },
   {
    "duration": 116,
    "start_time": "2023-02-25T14:51:11.786Z"
   },
   {
    "duration": 1186,
    "start_time": "2023-02-25T14:51:11.904Z"
   },
   {
    "duration": 125,
    "start_time": "2023-02-25T14:51:13.092Z"
   },
   {
    "duration": 4,
    "start_time": "2023-02-25T14:51:13.219Z"
   },
   {
    "duration": 47,
    "start_time": "2023-02-25T14:51:13.225Z"
   },
   {
    "duration": 15,
    "start_time": "2023-02-25T14:51:13.275Z"
   },
   {
    "duration": 29548,
    "start_time": "2023-02-25T14:51:13.292Z"
   },
   {
    "duration": 7,
    "start_time": "2023-02-25T14:51:42.845Z"
   },
   {
    "duration": 114,
    "start_time": "2023-02-25T14:51:42.855Z"
   },
   {
    "duration": 3859801,
    "start_time": "2023-02-25T14:51:42.971Z"
   },
   {
    "duration": 5,
    "start_time": "2023-02-25T15:56:02.774Z"
   },
   {
    "duration": 88967,
    "start_time": "2023-02-25T15:56:02.781Z"
   },
   {
    "duration": 4,
    "start_time": "2023-02-25T15:57:31.752Z"
   },
   {
    "duration": 63646,
    "start_time": "2023-02-25T15:57:31.758Z"
   },
   {
    "duration": 13163,
    "start_time": "2023-02-25T15:58:35.406Z"
   },
   {
    "duration": 4,
    "start_time": "2023-02-25T15:58:48.571Z"
   },
   {
    "duration": 32,
    "start_time": "2023-02-25T15:58:48.576Z"
   },
   {
    "duration": 13,
    "start_time": "2023-02-25T15:58:48.610Z"
   },
   {
    "duration": 49,
    "start_time": "2023-02-25T15:58:48.625Z"
   },
   {
    "duration": 9,
    "start_time": "2023-02-25T16:06:06.102Z"
   },
   {
    "duration": 2862,
    "start_time": "2023-02-27T09:37:48.665Z"
   },
   {
    "duration": 1814,
    "start_time": "2023-02-27T09:37:51.529Z"
   },
   {
    "duration": 2802,
    "start_time": "2023-02-27T09:37:53.345Z"
   },
   {
    "duration": 155,
    "start_time": "2023-02-27T09:37:56.149Z"
   },
   {
    "duration": 98,
    "start_time": "2023-02-27T09:37:56.306Z"
   },
   {
    "duration": 477,
    "start_time": "2023-02-27T09:37:56.406Z"
   },
   {
    "duration": 472,
    "start_time": "2023-02-27T09:37:56.925Z"
   },
   {
    "duration": 4555,
    "start_time": "2023-02-27T09:37:59.972Z"
   },
   {
    "duration": 127,
    "start_time": "2023-02-27T09:38:04.529Z"
   },
   {
    "duration": 36,
    "start_time": "2023-02-27T09:38:19.506Z"
   },
   {
    "duration": 3,
    "start_time": "2023-02-27T09:39:01.858Z"
   },
   {
    "duration": 28,
    "start_time": "2023-02-27T09:40:21.373Z"
   },
   {
    "duration": 3435,
    "start_time": "2023-02-27T09:40:30.360Z"
   },
   {
    "duration": 3517,
    "start_time": "2023-02-27T09:40:33.797Z"
   },
   {
    "duration": 22,
    "start_time": "2023-02-27T09:40:37.316Z"
   },
   {
    "duration": 11,
    "start_time": "2023-02-27T09:40:38.024Z"
   },
   {
    "duration": 23,
    "start_time": "2023-02-27T09:40:42.726Z"
   },
   {
    "duration": 4,
    "start_time": "2023-02-27T09:41:43.412Z"
   },
   {
    "duration": 1851,
    "start_time": "2023-02-27T09:41:45.581Z"
   },
   {
    "duration": 21,
    "start_time": "2023-02-27T09:42:37.962Z"
   },
   {
    "duration": 33,
    "start_time": "2023-02-27T09:42:45.913Z"
   },
   {
    "duration": 6,
    "start_time": "2023-02-27T09:42:49.657Z"
   },
   {
    "duration": 22,
    "start_time": "2023-02-27T09:43:03.702Z"
   },
   {
    "duration": 19,
    "start_time": "2023-02-27T09:43:17.561Z"
   },
   {
    "duration": 1686,
    "start_time": "2023-02-27T09:43:18.640Z"
   },
   {
    "duration": 26,
    "start_time": "2023-02-27T09:43:31.778Z"
   },
   {
    "duration": 1565,
    "start_time": "2023-02-27T09:44:01.392Z"
   },
   {
    "duration": 66,
    "start_time": "2023-02-27T09:44:10.271Z"
   },
   {
    "duration": 28,
    "start_time": "2023-02-27T09:44:12.109Z"
   },
   {
    "duration": 16,
    "start_time": "2023-02-27T09:44:18.131Z"
   },
   {
    "duration": 44,
    "start_time": "2023-02-27T09:44:21.732Z"
   },
   {
    "duration": 98,
    "start_time": "2023-02-27T09:44:46.286Z"
   },
   {
    "duration": 76,
    "start_time": "2023-02-27T09:45:12.166Z"
   },
   {
    "duration": 26,
    "start_time": "2023-02-27T09:45:40.305Z"
   },
   {
    "duration": 88,
    "start_time": "2023-02-27T09:45:53.586Z"
   },
   {
    "duration": 852,
    "start_time": "2023-02-27T09:46:32.221Z"
   },
   {
    "duration": 87,
    "start_time": "2023-02-27T09:46:50.111Z"
   },
   {
    "duration": 5,
    "start_time": "2023-02-27T09:48:35.086Z"
   },
   {
    "duration": 4,
    "start_time": "2023-02-27T09:48:41.192Z"
   },
   {
    "duration": 4,
    "start_time": "2023-02-27T09:48:58.023Z"
   },
   {
    "duration": 2290,
    "start_time": "2023-02-27T09:49:25.959Z"
   },
   {
    "duration": 9,
    "start_time": "2023-02-27T09:49:28.251Z"
   },
   {
    "duration": 834,
    "start_time": "2023-02-27T09:49:28.261Z"
   },
   {
    "duration": 167,
    "start_time": "2023-02-27T09:49:29.098Z"
   },
   {
    "duration": 100,
    "start_time": "2023-02-27T09:49:29.268Z"
   },
   {
    "duration": 404,
    "start_time": "2023-02-27T09:49:29.369Z"
   },
   {
    "duration": 453,
    "start_time": "2023-02-27T09:49:29.776Z"
   },
   {
    "duration": 4970,
    "start_time": "2023-02-27T09:49:30.231Z"
   },
   {
    "duration": 141,
    "start_time": "2023-02-27T09:49:35.203Z"
   },
   {
    "duration": 44,
    "start_time": "2023-02-27T09:49:35.346Z"
   },
   {
    "duration": 12,
    "start_time": "2023-02-27T09:49:35.392Z"
   },
   {
    "duration": 27,
    "start_time": "2023-02-27T09:49:35.407Z"
   },
   {
    "duration": 3356,
    "start_time": "2023-02-27T09:49:35.436Z"
   },
   {
    "duration": 3446,
    "start_time": "2023-02-27T09:49:38.795Z"
   },
   {
    "duration": 17,
    "start_time": "2023-02-27T09:49:42.243Z"
   },
   {
    "duration": 8,
    "start_time": "2023-02-27T09:49:42.261Z"
   },
   {
    "duration": 42,
    "start_time": "2023-02-27T09:49:42.271Z"
   },
   {
    "duration": 109,
    "start_time": "2023-02-27T09:49:42.315Z"
   },
   {
    "duration": 1923,
    "start_time": "2023-02-27T09:49:42.425Z"
   },
   {
    "duration": 21,
    "start_time": "2023-02-27T09:49:44.350Z"
   },
   {
    "duration": 46,
    "start_time": "2023-02-27T09:49:44.373Z"
   },
   {
    "duration": 7,
    "start_time": "2023-02-27T09:49:44.421Z"
   },
   {
    "duration": 21,
    "start_time": "2023-02-27T09:49:44.429Z"
   },
   {
    "duration": 20,
    "start_time": "2023-02-27T09:49:44.452Z"
   },
   {
    "duration": 1556,
    "start_time": "2023-02-27T09:49:44.473Z"
   },
   {
    "duration": 27,
    "start_time": "2023-02-27T09:49:46.030Z"
   },
   {
    "duration": 1684,
    "start_time": "2023-02-27T09:49:46.059Z"
   },
   {
    "duration": 77,
    "start_time": "2023-02-27T09:49:47.745Z"
   },
   {
    "duration": 35,
    "start_time": "2023-02-27T09:49:47.823Z"
   },
   {
    "duration": 20,
    "start_time": "2023-02-27T09:49:47.859Z"
   },
   {
    "duration": 58,
    "start_time": "2023-02-27T09:49:47.881Z"
   },
   {
    "duration": 82,
    "start_time": "2023-02-27T09:49:47.941Z"
   },
   {
    "duration": 86,
    "start_time": "2023-02-27T09:49:48.024Z"
   },
   {
    "duration": 69,
    "start_time": "2023-02-27T09:49:48.111Z"
   },
   {
    "duration": 795,
    "start_time": "2023-02-27T09:49:48.182Z"
   },
   {
    "duration": 12,
    "start_time": "2023-02-27T09:49:55.964Z"
   },
   {
    "duration": 4,
    "start_time": "2023-02-27T09:50:01.737Z"
   },
   {
    "duration": 75,
    "start_time": "2023-02-27T09:50:15.370Z"
   },
   {
    "duration": 5,
    "start_time": "2023-02-27T09:50:19.523Z"
   },
   {
    "duration": 4,
    "start_time": "2023-02-27T09:50:23.386Z"
   },
   {
    "duration": 3,
    "start_time": "2023-02-27T09:50:30.703Z"
   },
   {
    "duration": 3443,
    "start_time": "2023-03-02T11:30:38.287Z"
   },
   {
    "duration": 2056,
    "start_time": "2023-03-02T11:30:41.733Z"
   },
   {
    "duration": 3548,
    "start_time": "2023-03-02T11:30:43.790Z"
   },
   {
    "duration": 177,
    "start_time": "2023-03-02T11:30:47.341Z"
   },
   {
    "duration": 115,
    "start_time": "2023-03-02T11:30:47.525Z"
   },
   {
    "duration": 529,
    "start_time": "2023-03-02T11:30:47.643Z"
   },
   {
    "duration": 540,
    "start_time": "2023-03-02T11:30:48.174Z"
   },
   {
    "duration": 5383,
    "start_time": "2023-03-02T11:30:48.717Z"
   },
   {
    "duration": 143,
    "start_time": "2023-03-02T11:30:54.103Z"
   },
   {
    "duration": 36,
    "start_time": "2023-03-02T11:30:54.248Z"
   },
   {
    "duration": 3,
    "start_time": "2023-03-02T11:30:54.286Z"
   },
   {
    "duration": 60,
    "start_time": "2023-03-02T11:30:54.291Z"
   },
   {
    "duration": 3499,
    "start_time": "2023-03-02T11:30:54.353Z"
   },
   {
    "duration": 3818,
    "start_time": "2023-03-02T11:30:57.856Z"
   },
   {
    "duration": 119,
    "start_time": "2023-03-02T11:31:01.676Z"
   },
   {
    "duration": 48,
    "start_time": "2023-03-02T11:31:01.797Z"
   },
   {
    "duration": 190,
    "start_time": "2023-03-02T11:31:01.847Z"
   },
   {
    "duration": 231,
    "start_time": "2023-03-02T11:31:02.039Z"
   },
   {
    "duration": 2235,
    "start_time": "2023-03-02T11:31:02.274Z"
   },
   {
    "duration": 27,
    "start_time": "2023-03-02T11:31:04.511Z"
   },
   {
    "duration": 118,
    "start_time": "2023-03-02T11:31:04.540Z"
   },
   {
    "duration": 21,
    "start_time": "2023-03-02T11:31:04.661Z"
   },
   {
    "duration": 43,
    "start_time": "2023-03-02T11:31:04.683Z"
   },
   {
    "duration": 21,
    "start_time": "2023-03-02T11:31:04.728Z"
   },
   {
    "duration": 1675,
    "start_time": "2023-03-02T11:31:04.751Z"
   },
   {
    "duration": 32,
    "start_time": "2023-03-02T11:31:06.428Z"
   },
   {
    "duration": 1724,
    "start_time": "2023-03-02T11:31:06.462Z"
   },
   {
    "duration": 76,
    "start_time": "2023-03-02T11:31:08.188Z"
   },
   {
    "duration": 83,
    "start_time": "2023-03-02T11:31:08.265Z"
   },
   {
    "duration": 55,
    "start_time": "2023-03-02T11:31:08.350Z"
   },
   {
    "duration": 73,
    "start_time": "2023-03-02T11:31:08.407Z"
   },
   {
    "duration": 72,
    "start_time": "2023-03-02T11:31:08.482Z"
   },
   {
    "duration": 87,
    "start_time": "2023-03-02T11:31:08.557Z"
   },
   {
    "duration": 110,
    "start_time": "2023-03-02T11:31:08.646Z"
   },
   {
    "duration": 983,
    "start_time": "2023-03-02T11:31:08.758Z"
   },
   {
    "duration": 139,
    "start_time": "2023-03-02T11:31:09.743Z"
   },
   {
    "duration": 0,
    "start_time": "2023-03-02T11:31:09.885Z"
   },
   {
    "duration": 0,
    "start_time": "2023-03-02T11:31:09.886Z"
   },
   {
    "duration": 0,
    "start_time": "2023-03-02T11:31:09.888Z"
   },
   {
    "duration": 0,
    "start_time": "2023-03-02T11:31:09.889Z"
   },
   {
    "duration": 0,
    "start_time": "2023-03-02T11:31:09.891Z"
   },
   {
    "duration": 0,
    "start_time": "2023-03-02T11:31:09.892Z"
   },
   {
    "duration": 0,
    "start_time": "2023-03-02T11:31:09.893Z"
   },
   {
    "duration": 0,
    "start_time": "2023-03-02T11:31:09.895Z"
   },
   {
    "duration": 0,
    "start_time": "2023-03-02T11:31:09.896Z"
   },
   {
    "duration": 0,
    "start_time": "2023-03-02T11:31:09.897Z"
   },
   {
    "duration": 0,
    "start_time": "2023-03-02T11:31:09.898Z"
   },
   {
    "duration": 1,
    "start_time": "2023-03-02T11:31:09.924Z"
   },
   {
    "duration": 0,
    "start_time": "2023-03-02T11:31:09.926Z"
   },
   {
    "duration": 0,
    "start_time": "2023-03-02T11:31:09.927Z"
   },
   {
    "duration": 0,
    "start_time": "2023-03-02T11:31:09.928Z"
   },
   {
    "duration": 0,
    "start_time": "2023-03-02T11:31:09.929Z"
   },
   {
    "duration": 2546,
    "start_time": "2023-03-02T11:32:29.515Z"
   },
   {
    "duration": 1647,
    "start_time": "2023-03-02T11:32:32.063Z"
   },
   {
    "duration": 1027,
    "start_time": "2023-03-02T11:32:33.712Z"
   },
   {
    "duration": 170,
    "start_time": "2023-03-02T11:32:34.742Z"
   },
   {
    "duration": 123,
    "start_time": "2023-03-02T11:32:34.914Z"
   },
   {
    "duration": 558,
    "start_time": "2023-03-02T11:32:35.039Z"
   },
   {
    "duration": 586,
    "start_time": "2023-03-02T11:32:35.599Z"
   },
   {
    "duration": 5056,
    "start_time": "2023-03-02T11:32:36.187Z"
   },
   {
    "duration": 139,
    "start_time": "2023-03-02T11:32:41.245Z"
   },
   {
    "duration": 117,
    "start_time": "2023-03-02T11:32:41.387Z"
   },
   {
    "duration": 86,
    "start_time": "2023-03-02T11:32:41.506Z"
   },
   {
    "duration": 84,
    "start_time": "2023-03-02T11:32:41.594Z"
   },
   {
    "duration": 3457,
    "start_time": "2023-03-02T11:32:41.680Z"
   },
   {
    "duration": 3434,
    "start_time": "2023-03-02T11:32:45.139Z"
   },
   {
    "duration": 23,
    "start_time": "2023-03-02T11:32:48.575Z"
   },
   {
    "duration": 110,
    "start_time": "2023-03-02T11:32:48.600Z"
   },
   {
    "duration": 41,
    "start_time": "2023-03-02T11:32:48.712Z"
   },
   {
    "duration": 5,
    "start_time": "2023-03-02T11:32:48.755Z"
   },
   {
    "duration": 1963,
    "start_time": "2023-03-02T11:32:48.763Z"
   },
   {
    "duration": 25,
    "start_time": "2023-03-02T11:32:50.727Z"
   },
   {
    "duration": 43,
    "start_time": "2023-03-02T11:32:50.754Z"
   },
   {
    "duration": 26,
    "start_time": "2023-03-02T11:32:50.799Z"
   },
   {
    "duration": 26,
    "start_time": "2023-03-02T11:32:50.827Z"
   },
   {
    "duration": 46,
    "start_time": "2023-03-02T11:32:50.855Z"
   },
   {
    "duration": 1800,
    "start_time": "2023-03-02T11:32:50.903Z"
   },
   {
    "duration": 40,
    "start_time": "2023-03-02T11:32:52.706Z"
   },
   {
    "duration": 1733,
    "start_time": "2023-03-02T11:32:52.749Z"
   },
   {
    "duration": 86,
    "start_time": "2023-03-02T11:32:54.485Z"
   },
   {
    "duration": 33,
    "start_time": "2023-03-02T11:32:54.573Z"
   },
   {
    "duration": 24,
    "start_time": "2023-03-02T11:32:54.624Z"
   },
   {
    "duration": 58,
    "start_time": "2023-03-02T11:32:54.651Z"
   },
   {
    "duration": 78,
    "start_time": "2023-03-02T11:32:54.712Z"
   },
   {
    "duration": 89,
    "start_time": "2023-03-02T11:32:54.792Z"
   },
   {
    "duration": 107,
    "start_time": "2023-03-02T11:32:54.882Z"
   },
   {
    "duration": 885,
    "start_time": "2023-03-02T11:32:54.991Z"
   },
   {
    "duration": 135,
    "start_time": "2023-03-02T11:32:55.878Z"
   },
   {
    "duration": 1,
    "start_time": "2023-03-02T11:32:56.014Z"
   },
   {
    "duration": 0,
    "start_time": "2023-03-02T11:32:56.016Z"
   },
   {
    "duration": 0,
    "start_time": "2023-03-02T11:32:56.024Z"
   },
   {
    "duration": 0,
    "start_time": "2023-03-02T11:32:56.025Z"
   },
   {
    "duration": 0,
    "start_time": "2023-03-02T11:32:56.026Z"
   },
   {
    "duration": 0,
    "start_time": "2023-03-02T11:32:56.027Z"
   },
   {
    "duration": 0,
    "start_time": "2023-03-02T11:32:56.028Z"
   },
   {
    "duration": 0,
    "start_time": "2023-03-02T11:32:56.029Z"
   },
   {
    "duration": 0,
    "start_time": "2023-03-02T11:32:56.030Z"
   },
   {
    "duration": 0,
    "start_time": "2023-03-02T11:32:56.031Z"
   },
   {
    "duration": 0,
    "start_time": "2023-03-02T11:32:56.032Z"
   },
   {
    "duration": 0,
    "start_time": "2023-03-02T11:32:56.033Z"
   },
   {
    "duration": 0,
    "start_time": "2023-03-02T11:32:56.034Z"
   },
   {
    "duration": 0,
    "start_time": "2023-03-02T11:32:56.036Z"
   },
   {
    "duration": 0,
    "start_time": "2023-03-02T11:32:56.037Z"
   },
   {
    "duration": 0,
    "start_time": "2023-03-02T11:32:56.039Z"
   },
   {
    "duration": 11,
    "start_time": "2023-03-02T11:34:35.275Z"
   },
   {
    "duration": 96,
    "start_time": "2023-03-02T11:35:02.814Z"
   },
   {
    "duration": 56,
    "start_time": "2023-03-02T11:37:32.023Z"
   },
   {
    "duration": 16,
    "start_time": "2023-03-02T11:37:33.336Z"
   },
   {
    "duration": 17,
    "start_time": "2023-03-02T11:37:38.509Z"
   },
   {
    "duration": 3,
    "start_time": "2023-03-02T11:37:40.853Z"
   },
   {
    "duration": 49,
    "start_time": "2023-03-02T11:37:42.275Z"
   },
   {
    "duration": 5,
    "start_time": "2023-03-02T11:37:57.506Z"
   },
   {
    "duration": 3,
    "start_time": "2023-03-02T11:38:01.149Z"
   },
   {
    "duration": 4157,
    "start_time": "2023-03-02T11:38:02.367Z"
   },
   {
    "duration": 5,
    "start_time": "2023-03-02T11:38:11.460Z"
   },
   {
    "duration": 3,
    "start_time": "2023-03-02T11:38:30.935Z"
   },
   {
    "duration": 18583,
    "start_time": "2023-03-02T11:38:32.447Z"
   },
   {
    "duration": 3,
    "start_time": "2023-03-02T11:39:11.682Z"
   },
   {
    "duration": 28664,
    "start_time": "2023-03-02T11:39:12.466Z"
   },
   {
    "duration": 4,
    "start_time": "2023-03-02T11:39:41.132Z"
   },
   {
    "duration": 19281,
    "start_time": "2023-03-02T11:39:41.138Z"
   },
   {
    "duration": 3780,
    "start_time": "2023-03-02T11:40:00.423Z"
   },
   {
    "duration": 3,
    "start_time": "2023-03-02T11:40:04.205Z"
   },
   {
    "duration": 23,
    "start_time": "2023-03-02T11:40:04.211Z"
   },
   {
    "duration": 40,
    "start_time": "2023-03-02T11:40:04.236Z"
   },
   {
    "duration": 45,
    "start_time": "2023-03-02T11:40:04.279Z"
   },
   {
    "duration": 3,
    "start_time": "2023-03-02T11:42:11.895Z"
   },
   {
    "duration": 5,
    "start_time": "2023-03-02T11:42:13.157Z"
   },
   {
    "duration": 5,
    "start_time": "2023-03-02T11:42:46.904Z"
   },
   {
    "duration": 4,
    "start_time": "2023-03-02T11:42:50.154Z"
   },
   {
    "duration": 4099,
    "start_time": "2023-03-02T11:42:57.924Z"
   },
   {
    "duration": 4,
    "start_time": "2023-03-02T11:43:03.852Z"
   },
   {
    "duration": 6,
    "start_time": "2023-03-02T11:43:27.429Z"
   },
   {
    "duration": 4,
    "start_time": "2023-03-02T11:43:28.896Z"
   },
   {
    "duration": 5,
    "start_time": "2023-03-02T11:43:50.789Z"
   },
   {
    "duration": 4,
    "start_time": "2023-03-02T11:44:05.030Z"
   },
   {
    "duration": 3956,
    "start_time": "2023-03-02T11:44:06.171Z"
   },
   {
    "duration": 4,
    "start_time": "2023-03-02T11:44:11.005Z"
   },
   {
    "duration": 5,
    "start_time": "2023-03-02T11:44:47.117Z"
   },
   {
    "duration": 3,
    "start_time": "2023-03-02T11:44:48.779Z"
   },
   {
    "duration": 3630,
    "start_time": "2023-03-02T11:44:49.694Z"
   },
   {
    "duration": 5,
    "start_time": "2023-03-02T11:44:54.227Z"
   },
   {
    "duration": 3,
    "start_time": "2023-03-02T11:45:02.224Z"
   },
   {
    "duration": 29649,
    "start_time": "2023-03-02T11:45:07.683Z"
   },
   {
    "duration": 5,
    "start_time": "2023-03-02T11:47:46.078Z"
   },
   {
    "duration": 14,
    "start_time": "2023-03-02T11:47:54.640Z"
   },
   {
    "duration": 13,
    "start_time": "2023-03-02T11:48:04.554Z"
   },
   {
    "duration": 13,
    "start_time": "2023-03-02T11:48:54.573Z"
   },
   {
    "duration": 12,
    "start_time": "2023-03-02T11:49:15.652Z"
   },
   {
    "duration": 14,
    "start_time": "2023-03-02T11:49:31.726Z"
   },
   {
    "duration": 3,
    "start_time": "2023-03-02T11:49:39.308Z"
   },
   {
    "duration": 13,
    "start_time": "2023-03-02T11:49:40.496Z"
   },
   {
    "duration": 7,
    "start_time": "2023-03-02T11:49:49.121Z"
   },
   {
    "duration": 4,
    "start_time": "2023-03-02T11:49:51.774Z"
   },
   {
    "duration": 2999,
    "start_time": "2023-03-02T11:49:52.732Z"
   },
   {
    "duration": 4,
    "start_time": "2023-03-02T11:50:08.699Z"
   },
   {
    "duration": 3,
    "start_time": "2023-03-02T11:50:10.074Z"
   },
   {
    "duration": 3749,
    "start_time": "2023-03-02T11:50:10.980Z"
   },
   {
    "duration": 4,
    "start_time": "2023-03-02T11:50:46.226Z"
   },
   {
    "duration": 3,
    "start_time": "2023-03-02T11:50:49.883Z"
   },
   {
    "duration": 3490,
    "start_time": "2023-03-02T11:50:51.038Z"
   },
   {
    "duration": 10,
    "start_time": "2023-03-02T11:50:57.185Z"
   },
   {
    "duration": 10,
    "start_time": "2023-03-02T11:52:21.301Z"
   },
   {
    "duration": 2,
    "start_time": "2023-03-02T11:52:23.614Z"
   },
   {
    "duration": 22818,
    "start_time": "2023-03-02T11:52:24.706Z"
   },
   {
    "duration": 9,
    "start_time": "2023-03-02T11:52:49.956Z"
   },
   {
    "duration": 5,
    "start_time": "2023-03-02T11:53:06.284Z"
   },
   {
    "duration": 27815,
    "start_time": "2023-03-02T11:53:06.932Z"
   },
   {
    "duration": 10,
    "start_time": "2023-03-02T11:55:33.018Z"
   },
   {
    "duration": 12,
    "start_time": "2023-03-02T11:55:45.126Z"
   },
   {
    "duration": 4,
    "start_time": "2023-03-02T11:56:06.401Z"
   },
   {
    "duration": 18535,
    "start_time": "2023-03-02T11:56:07.128Z"
   },
   {
    "duration": 3654,
    "start_time": "2023-03-02T11:56:25.665Z"
   },
   {
    "duration": 3,
    "start_time": "2023-03-02T11:56:29.324Z"
   },
   {
    "duration": 20,
    "start_time": "2023-03-02T11:56:29.329Z"
   },
   {
    "duration": 5,
    "start_time": "2023-03-02T11:56:29.351Z"
   },
   {
    "duration": 5,
    "start_time": "2023-03-02T11:59:36.869Z"
   },
   {
    "duration": 3,
    "start_time": "2023-03-02T11:59:39.673Z"
   },
   {
    "duration": 4104,
    "start_time": "2023-03-02T11:59:43.423Z"
   },
   {
    "duration": 4,
    "start_time": "2023-03-02T11:59:48.703Z"
   },
   {
    "duration": 5,
    "start_time": "2023-03-02T12:03:00.502Z"
   },
   {
    "duration": 3,
    "start_time": "2023-03-02T12:03:04.968Z"
   },
   {
    "duration": 4506,
    "start_time": "2023-03-02T12:03:06.220Z"
   },
   {
    "duration": 5,
    "start_time": "2023-03-02T12:03:13.251Z"
   },
   {
    "duration": 3,
    "start_time": "2023-03-02T12:03:18.549Z"
   },
   {
    "duration": 87499,
    "start_time": "2023-03-02T12:03:20.030Z"
   },
   {
    "duration": 4,
    "start_time": "2023-03-02T12:04:57.974Z"
   },
   {
    "duration": 4,
    "start_time": "2023-03-02T12:05:03.642Z"
   },
   {
    "duration": 28245,
    "start_time": "2023-03-02T12:05:04.389Z"
   },
   {
    "duration": 4,
    "start_time": "2023-03-02T12:05:32.636Z"
   },
   {
    "duration": 2360,
    "start_time": "2023-03-02T12:06:24.314Z"
   },
   {
    "duration": 1481,
    "start_time": "2023-03-02T12:06:26.677Z"
   },
   {
    "duration": 886,
    "start_time": "2023-03-02T12:06:28.160Z"
   },
   {
    "duration": 198,
    "start_time": "2023-03-02T12:06:29.048Z"
   },
   {
    "duration": 165,
    "start_time": "2023-03-02T12:06:29.248Z"
   },
   {
    "duration": 494,
    "start_time": "2023-03-02T12:06:29.415Z"
   },
   {
    "duration": 536,
    "start_time": "2023-03-02T12:06:29.910Z"
   },
   {
    "duration": 4926,
    "start_time": "2023-03-02T12:06:30.448Z"
   },
   {
    "duration": 134,
    "start_time": "2023-03-02T12:06:35.376Z"
   },
   {
    "duration": 63,
    "start_time": "2023-03-02T12:06:35.523Z"
   },
   {
    "duration": 4,
    "start_time": "2023-03-02T12:06:35.588Z"
   },
   {
    "duration": 47,
    "start_time": "2023-03-02T12:06:35.594Z"
   },
   {
    "duration": 3371,
    "start_time": "2023-03-02T12:06:35.642Z"
   },
   {
    "duration": 3382,
    "start_time": "2023-03-02T12:06:39.015Z"
   },
   {
    "duration": 30,
    "start_time": "2023-03-02T12:06:42.398Z"
   },
   {
    "duration": 97,
    "start_time": "2023-03-02T12:06:42.430Z"
   },
   {
    "duration": 29,
    "start_time": "2023-03-02T12:06:42.528Z"
   },
   {
    "duration": 4,
    "start_time": "2023-03-02T12:06:42.559Z"
   },
   {
    "duration": 1812,
    "start_time": "2023-03-02T12:06:42.564Z"
   },
   {
    "duration": 23,
    "start_time": "2023-03-02T12:06:44.378Z"
   },
   {
    "duration": 51,
    "start_time": "2023-03-02T12:06:44.403Z"
   },
   {
    "duration": 8,
    "start_time": "2023-03-02T12:06:44.456Z"
   },
   {
    "duration": 34,
    "start_time": "2023-03-02T12:06:44.466Z"
   },
   {
    "duration": 28,
    "start_time": "2023-03-02T12:06:44.502Z"
   },
   {
    "duration": 1660,
    "start_time": "2023-03-02T12:06:44.532Z"
   },
   {
    "duration": 35,
    "start_time": "2023-03-02T12:06:46.194Z"
   },
   {
    "duration": 1702,
    "start_time": "2023-03-02T12:06:46.231Z"
   },
   {
    "duration": 73,
    "start_time": "2023-03-02T12:06:47.936Z"
   },
   {
    "duration": 30,
    "start_time": "2023-03-02T12:06:48.023Z"
   },
   {
    "duration": 19,
    "start_time": "2023-03-02T12:06:48.055Z"
   },
   {
    "duration": 76,
    "start_time": "2023-03-02T12:06:48.076Z"
   },
   {
    "duration": 75,
    "start_time": "2023-03-02T12:06:48.154Z"
   },
   {
    "duration": 94,
    "start_time": "2023-03-02T12:06:48.231Z"
   },
   {
    "duration": 86,
    "start_time": "2023-03-02T12:06:48.326Z"
   },
   {
    "duration": 924,
    "start_time": "2023-03-02T12:06:48.424Z"
   },
   {
    "duration": 83,
    "start_time": "2023-03-02T12:06:49.350Z"
   },
   {
    "duration": 20,
    "start_time": "2023-03-02T12:06:49.435Z"
   },
   {
    "duration": 4,
    "start_time": "2023-03-02T12:06:49.457Z"
   },
   {
    "duration": 24,
    "start_time": "2023-03-02T12:06:49.462Z"
   },
   {
    "duration": 7,
    "start_time": "2023-03-02T12:06:49.488Z"
   },
   {
    "duration": 3831,
    "start_time": "2023-03-02T12:06:49.496Z"
   },
   {
    "duration": 96,
    "start_time": "2023-03-02T12:06:53.329Z"
   },
   {
    "duration": 4,
    "start_time": "2023-03-02T12:06:53.426Z"
   },
   {
    "duration": 32908,
    "start_time": "2023-03-02T12:06:53.431Z"
   },
   {
    "duration": 3,
    "start_time": "2023-03-02T12:07:26.341Z"
   },
   {
    "duration": 78,
    "start_time": "2023-03-02T12:07:26.346Z"
   },
   {
    "duration": 28270,
    "start_time": "2023-03-02T12:07:26.426Z"
   },
   {
    "duration": 4,
    "start_time": "2023-03-02T12:07:54.698Z"
   },
   {
    "duration": 28,
    "start_time": "2023-03-02T12:07:54.703Z"
   },
   {
    "duration": 21329,
    "start_time": "2023-03-02T12:07:54.734Z"
   },
   {
    "duration": 4,
    "start_time": "2023-03-02T12:08:16.065Z"
   },
   {
    "duration": 3777,
    "start_time": "2023-03-02T12:08:16.070Z"
   },
   {
    "duration": 4,
    "start_time": "2023-03-02T12:08:19.849Z"
   },
   {
    "duration": 6,
    "start_time": "2023-03-02T12:08:19.854Z"
   },
   {
    "duration": 7,
    "start_time": "2023-03-02T12:08:19.862Z"
   },
   {
    "duration": 4,
    "start_time": "2023-03-02T12:08:19.871Z"
   },
   {
    "duration": 10,
    "start_time": "2023-03-02T12:08:19.877Z"
   },
   {
    "duration": 74,
    "start_time": "2023-03-02T12:08:19.891Z"
   },
   {
    "duration": 21815,
    "start_time": "2023-03-02T12:12:24.021Z"
   },
   {
    "duration": 128,
    "start_time": "2023-03-02T12:12:49.575Z"
   },
   {
    "duration": 5,
    "start_time": "2023-03-02T12:13:08.017Z"
   },
   {
    "duration": 2397,
    "start_time": "2023-03-02T12:14:46.710Z"
   },
   {
    "duration": 1742,
    "start_time": "2023-03-02T12:14:49.110Z"
   },
   {
    "duration": 970,
    "start_time": "2023-03-02T12:14:50.854Z"
   },
   {
    "duration": 157,
    "start_time": "2023-03-02T12:14:51.826Z"
   },
   {
    "duration": 163,
    "start_time": "2023-03-02T12:14:51.985Z"
   },
   {
    "duration": 528,
    "start_time": "2023-03-02T12:14:52.150Z"
   },
   {
    "duration": 569,
    "start_time": "2023-03-02T12:14:52.680Z"
   },
   {
    "duration": 4927,
    "start_time": "2023-03-02T12:14:53.252Z"
   },
   {
    "duration": 150,
    "start_time": "2023-03-02T12:14:58.181Z"
   },
   {
    "duration": 50,
    "start_time": "2023-03-02T12:14:58.334Z"
   },
   {
    "duration": 3,
    "start_time": "2023-03-02T12:14:58.386Z"
   },
   {
    "duration": 39,
    "start_time": "2023-03-02T12:14:58.391Z"
   },
   {
    "duration": 3693,
    "start_time": "2023-03-02T12:14:58.431Z"
   },
   {
    "duration": 3708,
    "start_time": "2023-03-02T12:15:02.127Z"
   },
   {
    "duration": 118,
    "start_time": "2023-03-02T12:15:05.837Z"
   },
   {
    "duration": 12,
    "start_time": "2023-03-02T12:15:05.957Z"
   },
   {
    "duration": 54,
    "start_time": "2023-03-02T12:15:05.970Z"
   },
   {
    "duration": 4,
    "start_time": "2023-03-02T12:15:06.026Z"
   },
   {
    "duration": 1904,
    "start_time": "2023-03-02T12:15:06.033Z"
   },
   {
    "duration": 25,
    "start_time": "2023-03-02T12:15:07.940Z"
   },
   {
    "duration": 58,
    "start_time": "2023-03-02T12:15:07.966Z"
   },
   {
    "duration": 8,
    "start_time": "2023-03-02T12:15:08.026Z"
   },
   {
    "duration": 25,
    "start_time": "2023-03-02T12:15:08.035Z"
   },
   {
    "duration": 20,
    "start_time": "2023-03-02T12:15:08.062Z"
   },
   {
    "duration": 1877,
    "start_time": "2023-03-02T12:15:08.084Z"
   },
   {
    "duration": 29,
    "start_time": "2023-03-02T12:15:09.963Z"
   },
   {
    "duration": 1959,
    "start_time": "2023-03-02T12:15:09.994Z"
   },
   {
    "duration": 76,
    "start_time": "2023-03-02T12:15:11.955Z"
   },
   {
    "duration": 42,
    "start_time": "2023-03-02T12:15:12.033Z"
   },
   {
    "duration": 24,
    "start_time": "2023-03-02T12:15:12.077Z"
   },
   {
    "duration": 72,
    "start_time": "2023-03-02T12:15:12.103Z"
   },
   {
    "duration": 72,
    "start_time": "2023-03-02T12:15:12.177Z"
   },
   {
    "duration": 100,
    "start_time": "2023-03-02T12:15:12.251Z"
   },
   {
    "duration": 106,
    "start_time": "2023-03-02T12:15:12.353Z"
   },
   {
    "duration": 880,
    "start_time": "2023-03-02T12:15:12.460Z"
   },
   {
    "duration": 91,
    "start_time": "2023-03-02T12:15:13.341Z"
   },
   {
    "duration": 21,
    "start_time": "2023-03-02T12:15:13.434Z"
   },
   {
    "duration": 4,
    "start_time": "2023-03-02T12:15:13.457Z"
   },
   {
    "duration": 5,
    "start_time": "2023-03-02T12:15:13.464Z"
   },
   {
    "duration": 5,
    "start_time": "2023-03-02T12:15:13.470Z"
   },
   {
    "duration": 4853,
    "start_time": "2023-03-02T12:15:13.480Z"
   },
   {
    "duration": 88,
    "start_time": "2023-03-02T12:15:18.338Z"
   },
   {
    "duration": 95,
    "start_time": "2023-03-02T12:15:18.429Z"
   },
   {
    "duration": 33200,
    "start_time": "2023-03-02T12:15:18.526Z"
   },
   {
    "duration": 4,
    "start_time": "2023-03-02T12:15:51.728Z"
   },
   {
    "duration": 30,
    "start_time": "2023-03-02T12:15:51.734Z"
   },
   {
    "duration": 29234,
    "start_time": "2023-03-02T12:15:51.766Z"
   },
   {
    "duration": 5,
    "start_time": "2023-03-02T12:16:21.002Z"
   },
   {
    "duration": 9,
    "start_time": "2023-03-02T12:16:21.009Z"
   },
   {
    "duration": 19147,
    "start_time": "2023-03-02T12:16:21.019Z"
   },
   {
    "duration": 4,
    "start_time": "2023-03-02T12:16:40.168Z"
   },
   {
    "duration": 3676,
    "start_time": "2023-03-02T12:16:40.174Z"
   },
   {
    "duration": 5,
    "start_time": "2023-03-02T12:16:43.852Z"
   },
   {
    "duration": 4,
    "start_time": "2023-03-02T12:16:43.859Z"
   },
   {
    "duration": 7,
    "start_time": "2023-03-02T12:16:43.865Z"
   },
   {
    "duration": 158,
    "start_time": "2023-03-02T12:16:43.874Z"
   },
   {
    "duration": 0,
    "start_time": "2023-03-02T12:16:44.034Z"
   },
   {
    "duration": 0,
    "start_time": "2023-03-02T12:16:44.036Z"
   },
   {
    "duration": 0,
    "start_time": "2023-03-02T12:16:44.037Z"
   },
   {
    "duration": 6,
    "start_time": "2023-03-02T12:28:52.303Z"
   },
   {
    "duration": 13,
    "start_time": "2023-03-02T12:28:54.308Z"
   },
   {
    "duration": 47,
    "start_time": "2023-03-02T12:30:42.586Z"
   },
   {
    "duration": 46,
    "start_time": "2023-03-02T12:30:57.522Z"
   },
   {
    "duration": 42,
    "start_time": "2023-03-02T12:31:12.524Z"
   },
   {
    "duration": 61,
    "start_time": "2023-03-02T12:31:24.979Z"
   },
   {
    "duration": 4,
    "start_time": "2023-03-02T12:32:26.211Z"
   },
   {
    "duration": 5317,
    "start_time": "2023-03-02T12:32:27.908Z"
   },
   {
    "duration": 408,
    "start_time": "2023-03-02T12:34:38.016Z"
   },
   {
    "duration": 5,
    "start_time": "2023-03-02T12:34:39.379Z"
   },
   {
    "duration": 5,
    "start_time": "2023-03-02T12:34:49.222Z"
   },
   {
    "duration": 2382,
    "start_time": "2023-03-02T12:38:59.012Z"
   },
   {
    "duration": 1571,
    "start_time": "2023-03-02T12:39:01.396Z"
   },
   {
    "duration": 857,
    "start_time": "2023-03-02T12:39:02.968Z"
   },
   {
    "duration": 149,
    "start_time": "2023-03-02T12:39:03.827Z"
   },
   {
    "duration": 158,
    "start_time": "2023-03-02T12:39:03.978Z"
   },
   {
    "duration": 540,
    "start_time": "2023-03-02T12:39:04.137Z"
   },
   {
    "duration": 530,
    "start_time": "2023-03-02T12:39:04.678Z"
   },
   {
    "duration": 4861,
    "start_time": "2023-03-02T12:39:05.210Z"
   },
   {
    "duration": 130,
    "start_time": "2023-03-02T12:39:10.072Z"
   },
   {
    "duration": 55,
    "start_time": "2023-03-02T12:39:10.204Z"
   },
   {
    "duration": 2,
    "start_time": "2023-03-02T12:39:10.261Z"
   },
   {
    "duration": 39,
    "start_time": "2023-03-02T12:39:10.265Z"
   },
   {
    "duration": 3436,
    "start_time": "2023-03-02T12:39:10.306Z"
   },
   {
    "duration": 3398,
    "start_time": "2023-03-02T12:39:13.745Z"
   },
   {
    "duration": 110,
    "start_time": "2023-03-02T12:39:17.145Z"
   },
   {
    "duration": 10,
    "start_time": "2023-03-02T12:39:17.257Z"
   },
   {
    "duration": 30,
    "start_time": "2023-03-02T12:39:17.268Z"
   },
   {
    "duration": 4,
    "start_time": "2023-03-02T12:39:17.300Z"
   },
   {
    "duration": 1858,
    "start_time": "2023-03-02T12:39:17.306Z"
   },
   {
    "duration": 27,
    "start_time": "2023-03-02T12:39:19.166Z"
   },
   {
    "duration": 58,
    "start_time": "2023-03-02T12:39:19.195Z"
   },
   {
    "duration": 10,
    "start_time": "2023-03-02T12:39:19.255Z"
   },
   {
    "duration": 26,
    "start_time": "2023-03-02T12:39:19.267Z"
   },
   {
    "duration": 49,
    "start_time": "2023-03-02T12:39:19.295Z"
   },
   {
    "duration": 1628,
    "start_time": "2023-03-02T12:39:19.346Z"
   },
   {
    "duration": 30,
    "start_time": "2023-03-02T12:39:20.975Z"
   },
   {
    "duration": 1805,
    "start_time": "2023-03-02T12:39:21.007Z"
   },
   {
    "duration": 76,
    "start_time": "2023-03-02T12:39:22.814Z"
   },
   {
    "duration": 45,
    "start_time": "2023-03-02T12:39:22.892Z"
   },
   {
    "duration": 24,
    "start_time": "2023-03-02T12:39:22.939Z"
   },
   {
    "duration": 47,
    "start_time": "2023-03-02T12:39:22.965Z"
   },
   {
    "duration": 110,
    "start_time": "2023-03-02T12:39:23.014Z"
   },
   {
    "duration": 140,
    "start_time": "2023-03-02T12:39:23.126Z"
   },
   {
    "duration": 129,
    "start_time": "2023-03-02T12:39:23.267Z"
   },
   {
    "duration": 841,
    "start_time": "2023-03-02T12:39:23.397Z"
   },
   {
    "duration": 86,
    "start_time": "2023-03-02T12:39:24.240Z"
   },
   {
    "duration": 3,
    "start_time": "2023-03-02T12:39:24.328Z"
   },
   {
    "duration": 5,
    "start_time": "2023-03-02T12:39:24.333Z"
   },
   {
    "duration": 5,
    "start_time": "2023-03-02T12:39:24.339Z"
   },
   {
    "duration": 3278,
    "start_time": "2023-03-02T12:39:24.346Z"
   },
   {
    "duration": 94,
    "start_time": "2023-03-02T12:39:27.631Z"
   },
   {
    "duration": 4,
    "start_time": "2023-03-02T12:39:27.727Z"
   },
   {
    "duration": 16693,
    "start_time": "2023-03-02T12:39:27.733Z"
   },
   {
    "duration": 4,
    "start_time": "2023-03-02T12:39:44.428Z"
   },
   {
    "duration": 12,
    "start_time": "2023-03-02T12:39:44.434Z"
   },
   {
    "duration": 29487,
    "start_time": "2023-03-02T12:39:44.447Z"
   },
   {
    "duration": 4,
    "start_time": "2023-03-02T12:40:13.936Z"
   },
   {
    "duration": 7,
    "start_time": "2023-03-02T12:40:13.941Z"
   },
   {
    "duration": 17826,
    "start_time": "2023-03-02T12:40:13.950Z"
   },
   {
    "duration": 4,
    "start_time": "2023-03-02T12:40:31.777Z"
   },
   {
    "duration": 3420,
    "start_time": "2023-03-02T12:40:31.782Z"
   },
   {
    "duration": 4,
    "start_time": "2023-03-02T12:40:35.203Z"
   },
   {
    "duration": 16,
    "start_time": "2023-03-02T12:40:35.208Z"
   },
   {
    "duration": 35,
    "start_time": "2023-03-02T12:40:35.225Z"
   },
   {
    "duration": 13,
    "start_time": "2023-03-02T12:40:35.262Z"
   },
   {
    "duration": 12,
    "start_time": "2023-03-02T12:40:35.277Z"
   },
   {
    "duration": 12,
    "start_time": "2023-03-02T12:40:35.290Z"
   },
   {
    "duration": 4430,
    "start_time": "2023-03-02T12:40:35.304Z"
   },
   {
    "duration": 493,
    "start_time": "2023-03-02T12:40:39.736Z"
   },
   {
    "duration": 4,
    "start_time": "2023-03-02T12:40:40.232Z"
   },
   {
    "duration": 5,
    "start_time": "2023-03-02T12:40:40.237Z"
   }
  ],
  "kernelspec": {
   "display_name": "Python 3 (ipykernel)",
   "language": "python",
   "name": "python3"
  },
  "language_info": {
   "codemirror_mode": {
    "name": "ipython",
    "version": 3
   },
   "file_extension": ".py",
   "mimetype": "text/x-python",
   "name": "python",
   "nbconvert_exporter": "python",
   "pygments_lexer": "ipython3",
   "version": "3.9.12"
  },
  "toc": {
   "base_numbering": 1,
   "nav_menu": {},
   "number_sections": true,
   "sideBar": true,
   "skip_h1_title": true,
   "title_cell": "Table of Contents",
   "title_sidebar": "Contents",
   "toc_cell": false,
   "toc_position": {},
   "toc_section_display": true,
   "toc_window_display": true
  },
  "varInspector": {
   "cols": {
    "lenName": 16,
    "lenType": 16,
    "lenVar": 40
   },
   "kernels_config": {
    "python": {
     "delete_cmd_postfix": "",
     "delete_cmd_prefix": "del ",
     "library": "var_list.py",
     "varRefreshCmd": "print(var_dic_list())"
    },
    "r": {
     "delete_cmd_postfix": ") ",
     "delete_cmd_prefix": "rm(",
     "library": "var_list.r",
     "varRefreshCmd": "cat(var_dic_list()) "
    }
   },
   "types_to_exclude": [
    "module",
    "function",
    "builtin_function_or_method",
    "instance",
    "_Feature"
   ],
   "window_display": false
  }
 },
 "nbformat": 4,
 "nbformat_minor": 2
}
