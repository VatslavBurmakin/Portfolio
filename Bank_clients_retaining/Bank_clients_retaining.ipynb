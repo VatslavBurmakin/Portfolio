    "# Отток клиентов"
   ]
  },
  {
   "cell_type": "markdown",
   "metadata": {},
   "source": [
    "Из «Бета-Банка» стали уходить клиенты. Каждый месяц. Немного, но заметно. Банковские маркетологи посчитали: сохранять текущих клиентов дешевле, чем привлекать новых.\n",
    "\n",
    "Нужно спрогнозировать, уйдёт клиент из банка в ближайшее время или нет. Были предоставлены исторические данные о поведении клиентов и расторжении договоров с банком. \n",
    "\n",
    "В рамках работы планируется построить модель с предельно большим значением *F1*-меры(как минимум 0,59). \n",
    "\n",
    "Источник данных: [https://www.kaggle.com/barelydedicated/bank-customer-churn-modeling](https://www.kaggle.com/barelydedicated/bank-customer-churn-modeling)"
   ]
  },
  {
   "cell_type": "markdown",
   "metadata": {},
   "source": [
    "## Подготовка данных"
   ]
  },
  {
   "cell_type": "markdown",
   "metadata": {},
   "source": [
    "\n",
    "\n",
    "**Описание данных**\n",
    "\n",
    "Признаки\n",
    "- RowNumber — индекс строки в данных\n",
    "- CustomerId — уникальный идентификатор клиента\n",
    "- Surname — фамилия\n",
    "- CreditScore — кредитный рейтинг\n",
    "- Geography — страна проживания\n",
    "- Gender — пол\n",
    "- Age — возраст\n",
    "- Tenure — сколько лет человек является клиентом банка\n",
    "- Balance — баланс на счёте\n",
    "- NumOfProducts — количество продуктов банка, используемых клиентом\n",
    "- HasCrCard — наличие кредитной карты (1 - есть, 0 - нет)\n",
    "- IsActiveMember — активность клиента (1 - активный, 0 - нет)\n",
    "- EstimatedSalary — предполагаемая зарплата\n",
    "\n",
    "Целевой признак\n",
    "- Exited — факт ухода клиента\n",
    "\n"
   ]
  },
  {
   "cell_type": "code",
   "execution_count": 1,
   "metadata": {},
   "outputs": [],
   "source": [
    "import pandas as pd\n",
    "import numpy as np\n",
    "import matplotlib.pyplot as plt\n",
    "import seaborn as sns\n",
    "from IPython.display import display\n",
    "from tqdm import tqdm\n",
    "from sklearn.preprocessing import StandardScaler\n",
    "from sklearn.preprocessing import OneHotEncoder\n",
    "from sklearn.model_selection import train_test_split\n",
    "from sklearn.tree import DecisionTreeClassifier\n",
    "from sklearn.linear_model import LogisticRegression\n",
    "from sklearn.ensemble import RandomForestClassifier, RandomForestRegressor\n",
    "from sklearn.linear_model import LinearRegression\n",
    "from sklearn.svm import SVC\n",
    "from sklearn.metrics import accuracy_score, f1_score, roc_auc_score, r2_score, confusion_matrix, classification_report, roc_curve\n",
    "from sklearn.utils import shuffle\n",
    "from sklearn.model_selection import GridSearchCV\n",
    "from sklearn.model_selection import RepeatedStratifiedKFold\n",
    "from scipy.stats import loguniform\n",
    "from sklearn.model_selection import RandomizedSearchCV\n",
    "from sklearn.datasets import make_classification\n",
    "import warnings\n",
    "warnings.filterwarnings(\"ignore\")"
   ]
  },
  {
   "cell_type": "code",
   "execution_count": 2,
   "metadata": {
    "scrolled": false
   },
   "outputs": [
    {
     "name": "stdout",
     "output_type": "stream",
     "text": [
      "<class 'pandas.core.frame.DataFrame'>\n",
      "RangeIndex: 10000 entries, 0 to 9999\n",
      "Data columns (total 14 columns):\n",
      " #   Column           Non-Null Count  Dtype  \n",
      "---  ------           --------------  -----  \n",
      " 0   RowNumber        10000 non-null  int64  \n",
      " 1   CustomerId       10000 non-null  int64  \n",
      " 2   Surname          10000 non-null  object \n",
      " 3   CreditScore      10000 non-null  int64  \n",
      " 4   Geography        10000 non-null  object \n",
      " 5   Gender           10000 non-null  object \n",
      " 6   Age              10000 non-null  int64  \n",
      " 7   Tenure           9091 non-null   float64\n",
      " 8   Balance          10000 non-null  float64\n",
      " 9   NumOfProducts    10000 non-null  int64  \n",
      " 10  HasCrCard        10000 non-null  int64  \n",
      " 11  IsActiveMember   10000 non-null  int64  \n",
      " 12  EstimatedSalary  10000 non-null  float64\n",
      " 13  Exited           10000 non-null  int64  \n",
      "dtypes: float64(3), int64(8), object(3)\n",
      "memory usage: 1.1+ MB\n"
     ]
    },
    {
     "data": {
      "text/html": [
       "<div>\n",
       "<style scoped>\n",
       "    .dataframe tbody tr th:only-of-type {\n",
       "        vertical-align: middle;\n",
       "    }\n",
       "\n",
       "    .dataframe tbody tr th {\n",
       "        vertical-align: top;\n",
       "    }\n",
       "\n",
       "    .dataframe thead th {\n",
       "        text-align: right;\n",
       "    }\n",
       "</style>\n",
       "<table border=\"1\" class=\"dataframe\">\n",
       "  <thead>\n",
       "    <tr style=\"text-align: right;\">\n",
       "      <th></th>\n",
       "      <th>RowNumber</th>\n",
       "      <th>CustomerId</th>\n",
       "      <th>Surname</th>\n",
       "      <th>CreditScore</th>\n",
       "      <th>Geography</th>\n",
       "      <th>Gender</th>\n",
       "      <th>Age</th>\n",
       "      <th>Tenure</th>\n",
       "      <th>Balance</th>\n",
       "      <th>NumOfProducts</th>\n",
       "      <th>HasCrCard</th>\n",
       "      <th>IsActiveMember</th>\n",
       "      <th>EstimatedSalary</th>\n",
       "      <th>Exited</th>\n",
       "    </tr>\n",
       "  </thead>\n",
       "  <tbody>\n",
       "    <tr>\n",
       "      <th>0</th>\n",
       "      <td>1</td>\n",
       "      <td>15634602</td>\n",
       "      <td>Hargrave</td>\n",
       "      <td>619</td>\n",
       "      <td>France</td>\n",
       "      <td>Female</td>\n",
       "      <td>42</td>\n",
       "      <td>2.0</td>\n",
       "      <td>0.00</td>\n",
       "      <td>1</td>\n",
       "      <td>1</td>\n",
       "      <td>1</td>\n",
       "      <td>101348.88</td>\n",
       "      <td>1</td>\n",
       "    </tr>\n",
       "    <tr>\n",
       "      <th>1</th>\n",
       "      <td>2</td>\n",
       "      <td>15647311</td>\n",
       "      <td>Hill</td>\n",
       "      <td>608</td>\n",
       "      <td>Spain</td>\n",
       "      <td>Female</td>\n",
       "      <td>41</td>\n",
       "      <td>1.0</td>\n",
       "      <td>83807.86</td>\n",
       "      <td>1</td>\n",
       "      <td>0</td>\n",
       "      <td>1</td>\n",
       "      <td>112542.58</td>\n",
       "      <td>0</td>\n",
       "    </tr>\n",
       "    <tr>\n",
       "      <th>2</th>\n",
       "      <td>3</td>\n",
       "      <td>15619304</td>\n",
       "      <td>Onio</td>\n",
       "      <td>502</td>\n",
       "      <td>France</td>\n",
       "      <td>Female</td>\n",
       "      <td>42</td>\n",
       "      <td>8.0</td>\n",
       "      <td>159660.80</td>\n",
       "      <td>3</td>\n",
       "      <td>1</td>\n",
       "      <td>0</td>\n",
       "      <td>113931.57</td>\n",
       "      <td>1</td>\n",
       "    </tr>\n",
       "    <tr>\n",
       "      <th>3</th>\n",
       "      <td>4</td>\n",
       "      <td>15701354</td>\n",
       "      <td>Boni</td>\n",
       "      <td>699</td>\n",
       "      <td>France</td>\n",
       "      <td>Female</td>\n",
       "      <td>39</td>\n",
       "      <td>1.0</td>\n",
       "      <td>0.00</td>\n",
       "      <td>2</td>\n",
       "      <td>0</td>\n",
       "      <td>0</td>\n",
       "      <td>93826.63</td>\n",
       "      <td>0</td>\n",
       "    </tr>\n",
       "    <tr>\n",
       "      <th>4</th>\n",
       "      <td>5</td>\n",
       "      <td>15737888</td>\n",
       "      <td>Mitchell</td>\n",
       "      <td>850</td>\n",
       "      <td>Spain</td>\n",
       "      <td>Female</td>\n",
       "      <td>43</td>\n",
       "      <td>2.0</td>\n",
       "      <td>125510.82</td>\n",
       "      <td>1</td>\n",
       "      <td>1</td>\n",
       "      <td>1</td>\n",
       "      <td>79084.10</td>\n",
       "      <td>0</td>\n",
       "    </tr>\n",
       "    <tr>\n",
       "      <th>5</th>\n",
       "      <td>6</td>\n",
       "      <td>15574012</td>\n",
       "      <td>Chu</td>\n",
       "      <td>645</td>\n",
       "      <td>Spain</td>\n",
       "      <td>Male</td>\n",
       "      <td>44</td>\n",
       "      <td>8.0</td>\n",
       "      <td>113755.78</td>\n",
       "      <td>2</td>\n",
       "      <td>1</td>\n",
       "      <td>0</td>\n",
       "      <td>149756.71</td>\n",
       "      <td>1</td>\n",
       "    </tr>\n",
       "    <tr>\n",
       "      <th>6</th>\n",
       "      <td>7</td>\n",
       "      <td>15592531</td>\n",
       "      <td>Bartlett</td>\n",
       "      <td>822</td>\n",
       "      <td>France</td>\n",
       "      <td>Male</td>\n",
       "      <td>50</td>\n",
       "      <td>7.0</td>\n",
       "      <td>0.00</td>\n",
       "      <td>2</td>\n",
       "      <td>1</td>\n",
       "      <td>1</td>\n",
       "      <td>10062.80</td>\n",
       "      <td>0</td>\n",
       "    </tr>\n",
       "    <tr>\n",
       "      <th>7</th>\n",
       "      <td>8</td>\n",
       "      <td>15656148</td>\n",
       "      <td>Obinna</td>\n",
       "      <td>376</td>\n",
       "      <td>Germany</td>\n",
       "      <td>Female</td>\n",
       "      <td>29</td>\n",
       "      <td>4.0</td>\n",
       "      <td>115046.74</td>\n",
       "      <td>4</td>\n",
       "      <td>1</td>\n",
       "      <td>0</td>\n",
       "      <td>119346.88</td>\n",
       "      <td>1</td>\n",
       "    </tr>\n",
       "    <tr>\n",
       "      <th>8</th>\n",
       "      <td>9</td>\n",
       "      <td>15792365</td>\n",
       "      <td>He</td>\n",
       "      <td>501</td>\n",
       "      <td>France</td>\n",
       "      <td>Male</td>\n",
       "      <td>44</td>\n",
       "      <td>4.0</td>\n",
       "      <td>142051.07</td>\n",
       "      <td>2</td>\n",
       "      <td>0</td>\n",
       "      <td>1</td>\n",
       "      <td>74940.50</td>\n",
       "      <td>0</td>\n",
       "    </tr>\n",
       "    <tr>\n",
       "      <th>9</th>\n",
       "      <td>10</td>\n",
       "      <td>15592389</td>\n",
       "      <td>H?</td>\n",
       "      <td>684</td>\n",
       "      <td>France</td>\n",
       "      <td>Male</td>\n",
       "      <td>27</td>\n",
       "      <td>2.0</td>\n",
       "      <td>134603.88</td>\n",
       "      <td>1</td>\n",
       "      <td>1</td>\n",
       "      <td>1</td>\n",
       "      <td>71725.73</td>\n",
       "      <td>0</td>\n",
       "    </tr>\n",
       "    <tr>\n",
       "      <th>10</th>\n",
       "      <td>11</td>\n",
       "      <td>15767821</td>\n",
       "      <td>Bearce</td>\n",
       "      <td>528</td>\n",
       "      <td>France</td>\n",
       "      <td>Male</td>\n",
       "      <td>31</td>\n",
       "      <td>6.0</td>\n",
       "      <td>102016.72</td>\n",
       "      <td>2</td>\n",
       "      <td>0</td>\n",
       "      <td>0</td>\n",
       "      <td>80181.12</td>\n",
       "      <td>0</td>\n",
       "    </tr>\n",
       "    <tr>\n",
       "      <th>11</th>\n",
       "      <td>12</td>\n",
       "      <td>15737173</td>\n",
       "      <td>Andrews</td>\n",
       "      <td>497</td>\n",
       "      <td>Spain</td>\n",
       "      <td>Male</td>\n",
       "      <td>24</td>\n",
       "      <td>3.0</td>\n",
       "      <td>0.00</td>\n",
       "      <td>2</td>\n",
       "      <td>1</td>\n",
       "      <td>0</td>\n",
       "      <td>76390.01</td>\n",
       "      <td>0</td>\n",
       "    </tr>\n",
       "    <tr>\n",
       "      <th>12</th>\n",
       "      <td>13</td>\n",
       "      <td>15632264</td>\n",
       "      <td>Kay</td>\n",
       "      <td>476</td>\n",
       "      <td>France</td>\n",
       "      <td>Female</td>\n",
       "      <td>34</td>\n",
       "      <td>10.0</td>\n",
       "      <td>0.00</td>\n",
       "      <td>2</td>\n",
       "      <td>1</td>\n",
       "      <td>0</td>\n",
       "      <td>26260.98</td>\n",
       "      <td>0</td>\n",
       "    </tr>\n",
       "    <tr>\n",
       "      <th>13</th>\n",
       "      <td>14</td>\n",
       "      <td>15691483</td>\n",
       "      <td>Chin</td>\n",
       "      <td>549</td>\n",
       "      <td>France</td>\n",
       "      <td>Female</td>\n",
       "      <td>25</td>\n",
       "      <td>5.0</td>\n",
       "      <td>0.00</td>\n",
       "      <td>2</td>\n",
       "      <td>0</td>\n",
       "      <td>0</td>\n",
       "      <td>190857.79</td>\n",
       "      <td>0</td>\n",
       "    </tr>\n",
       "    <tr>\n",
       "      <th>14</th>\n",
       "      <td>15</td>\n",
       "      <td>15600882</td>\n",
       "      <td>Scott</td>\n",
       "      <td>635</td>\n",
       "      <td>Spain</td>\n",
       "      <td>Female</td>\n",
       "      <td>35</td>\n",
       "      <td>7.0</td>\n",
       "      <td>0.00</td>\n",
       "      <td>2</td>\n",
       "      <td>1</td>\n",
       "      <td>1</td>\n",
       "      <td>65951.65</td>\n",
       "      <td>0</td>\n",
       "    </tr>\n",
       "    <tr>\n",
       "      <th>15</th>\n",
       "      <td>16</td>\n",
       "      <td>15643966</td>\n",
       "      <td>Goforth</td>\n",
       "      <td>616</td>\n",
       "      <td>Germany</td>\n",
       "      <td>Male</td>\n",
       "      <td>45</td>\n",
       "      <td>3.0</td>\n",
       "      <td>143129.41</td>\n",
       "      <td>2</td>\n",
       "      <td>0</td>\n",
       "      <td>1</td>\n",
       "      <td>64327.26</td>\n",
       "      <td>0</td>\n",
       "    </tr>\n",
       "    <tr>\n",
       "      <th>16</th>\n",
       "      <td>17</td>\n",
       "      <td>15737452</td>\n",
       "      <td>Romeo</td>\n",
       "      <td>653</td>\n",
       "      <td>Germany</td>\n",
       "      <td>Male</td>\n",
       "      <td>58</td>\n",
       "      <td>1.0</td>\n",
       "      <td>132602.88</td>\n",
       "      <td>1</td>\n",
       "      <td>1</td>\n",
       "      <td>0</td>\n",
       "      <td>5097.67</td>\n",
       "      <td>1</td>\n",
       "    </tr>\n",
       "    <tr>\n",
       "      <th>17</th>\n",
       "      <td>18</td>\n",
       "      <td>15788218</td>\n",
       "      <td>Henderson</td>\n",
       "      <td>549</td>\n",
       "      <td>Spain</td>\n",
       "      <td>Female</td>\n",
       "      <td>24</td>\n",
       "      <td>9.0</td>\n",
       "      <td>0.00</td>\n",
       "      <td>2</td>\n",
       "      <td>1</td>\n",
       "      <td>1</td>\n",
       "      <td>14406.41</td>\n",
       "      <td>0</td>\n",
       "    </tr>\n",
       "    <tr>\n",
       "      <th>18</th>\n",
       "      <td>19</td>\n",
       "      <td>15661507</td>\n",
       "      <td>Muldrow</td>\n",
       "      <td>587</td>\n",
       "      <td>Spain</td>\n",
       "      <td>Male</td>\n",
       "      <td>45</td>\n",
       "      <td>6.0</td>\n",
       "      <td>0.00</td>\n",
       "      <td>1</td>\n",
       "      <td>0</td>\n",
       "      <td>0</td>\n",
       "      <td>158684.81</td>\n",
       "      <td>0</td>\n",
       "    </tr>\n",
       "    <tr>\n",
       "      <th>19</th>\n",
       "      <td>20</td>\n",
       "      <td>15568982</td>\n",
       "      <td>Hao</td>\n",
       "      <td>726</td>\n",
       "      <td>France</td>\n",
       "      <td>Female</td>\n",
       "      <td>24</td>\n",
       "      <td>6.0</td>\n",
       "      <td>0.00</td>\n",
       "      <td>2</td>\n",
       "      <td>1</td>\n",
       "      <td>1</td>\n",
       "      <td>54724.03</td>\n",
       "      <td>0</td>\n",
       "    </tr>\n",
       "  </tbody>\n",
       "</table>\n",
       "</div>"
      ],
      "text/plain": [
       "    RowNumber  CustomerId    Surname  CreditScore Geography  Gender  Age  \\\n",
       "0           1    15634602   Hargrave          619    France  Female   42   \n",
       "1           2    15647311       Hill          608     Spain  Female   41   \n",
       "2           3    15619304       Onio          502    France  Female   42   \n",
       "3           4    15701354       Boni          699    France  Female   39   \n",
       "4           5    15737888   Mitchell          850     Spain  Female   43   \n",
       "5           6    15574012        Chu          645     Spain    Male   44   \n",
       "6           7    15592531   Bartlett          822    France    Male   50   \n",
       "7           8    15656148     Obinna          376   Germany  Female   29   \n",
       "8           9    15792365         He          501    France    Male   44   \n",
       "9          10    15592389         H?          684    France    Male   27   \n",
       "10         11    15767821     Bearce          528    France    Male   31   \n",
       "11         12    15737173    Andrews          497     Spain    Male   24   \n",
       "12         13    15632264        Kay          476    France  Female   34   \n",
       "13         14    15691483       Chin          549    France  Female   25   \n",
       "14         15    15600882      Scott          635     Spain  Female   35   \n",
       "15         16    15643966    Goforth          616   Germany    Male   45   \n",
       "16         17    15737452      Romeo          653   Germany    Male   58   \n",
       "17         18    15788218  Henderson          549     Spain  Female   24   \n",
       "18         19    15661507    Muldrow          587     Spain    Male   45   \n",
       "19         20    15568982        Hao          726    France  Female   24   \n",
       "\n",
       "    Tenure    Balance  NumOfProducts  HasCrCard  IsActiveMember  \\\n",
       "0      2.0       0.00              1          1               1   \n",
       "1      1.0   83807.86              1          0               1   \n",
       "2      8.0  159660.80              3          1               0   \n",
       "3      1.0       0.00              2          0               0   \n",
       "4      2.0  125510.82              1          1               1   \n",
       "5      8.0  113755.78              2          1               0   \n",
       "6      7.0       0.00              2          1               1   \n",
       "7      4.0  115046.74              4          1               0   \n",
       "8      4.0  142051.07              2          0               1   \n",
       "9      2.0  134603.88              1          1               1   \n",
       "10     6.0  102016.72              2          0               0   \n",
       "11     3.0       0.00              2          1               0   \n",
       "12    10.0       0.00              2          1               0   \n",
       "13     5.0       0.00              2          0               0   \n",
       "14     7.0       0.00              2          1               1   \n",
       "15     3.0  143129.41              2          0               1   \n",
       "16     1.0  132602.88              1          1               0   \n",
       "17     9.0       0.00              2          1               1   \n",
       "18     6.0       0.00              1          0               0   \n",
       "19     6.0       0.00              2          1               1   \n",
       "\n",
       "    EstimatedSalary  Exited  \n",
       "0         101348.88       1  \n",
       "1         112542.58       0  \n",
       "2         113931.57       1  \n",
       "3          93826.63       0  \n",
       "4          79084.10       0  \n",
       "5         149756.71       1  \n",
       "6          10062.80       0  \n",
       "7         119346.88       1  \n",
       "8          74940.50       0  \n",
       "9          71725.73       0  \n",
       "10         80181.12       0  \n",
       "11         76390.01       0  \n",
       "12         26260.98       0  \n",
       "13        190857.79       0  \n",
       "14         65951.65       0  \n",
       "15         64327.26       0  \n",
       "16          5097.67       1  \n",
       "17         14406.41       0  \n",
       "18        158684.81       0  \n",
       "19         54724.03       0  "
      ]
     },
     "execution_count": 2,
     "metadata": {},
     "output_type": "execute_result"
    }
   ],
   "source": [
    "df = pd.read_csv('/datasets/Churn.csv')\n",
    "df.info()\n",
    "df.head(20)"
   ]
  },
  {
   "cell_type": "code",
   "execution_count": 3,
   "metadata": {},
   "outputs": [
    {
     "data": {
      "text/html": [
       "<div>\n",
       "<style scoped>\n",
       "    .dataframe tbody tr th:only-of-type {\n",
       "        vertical-align: middle;\n",
       "    }\n",
       "\n",
       "    .dataframe tbody tr th {\n",
       "        vertical-align: top;\n",
       "    }\n",
       "\n",
       "    .dataframe thead th {\n",
       "        text-align: right;\n",
       "    }\n",
       "</style>\n",
       "<table border=\"1\" class=\"dataframe\">\n",
       "  <thead>\n",
       "    <tr style=\"text-align: right;\">\n",
       "      <th></th>\n",
       "      <th>RowNumber</th>\n",
       "      <th>CustomerId</th>\n",
       "      <th>CreditScore</th>\n",
       "      <th>Age</th>\n",
       "      <th>Tenure</th>\n",
       "      <th>Balance</th>\n",
       "      <th>NumOfProducts</th>\n",
       "      <th>HasCrCard</th>\n",
       "      <th>IsActiveMember</th>\n",
       "      <th>EstimatedSalary</th>\n",
       "      <th>Exited</th>\n",
       "    </tr>\n",
       "  </thead>\n",
       "  <tbody>\n",
       "    <tr>\n",
       "      <th>count</th>\n",
       "      <td>10000.00000</td>\n",
       "      <td>1.000000e+04</td>\n",
       "      <td>10000.000000</td>\n",
       "      <td>10000.000000</td>\n",
       "      <td>9091.000000</td>\n",
       "      <td>10000.000000</td>\n",
       "      <td>10000.000000</td>\n",
       "      <td>10000.00000</td>\n",
       "      <td>10000.000000</td>\n",
       "      <td>10000.000000</td>\n",
       "      <td>10000.000000</td>\n",
       "    </tr>\n",
       "    <tr>\n",
       "      <th>mean</th>\n",
       "      <td>5000.50000</td>\n",
       "      <td>1.569094e+07</td>\n",
       "      <td>650.528800</td>\n",
       "      <td>38.921800</td>\n",
       "      <td>4.997690</td>\n",
       "      <td>76485.889288</td>\n",
       "      <td>1.530200</td>\n",
       "      <td>0.70550</td>\n",
       "      <td>0.515100</td>\n",
       "      <td>100090.239881</td>\n",
       "      <td>0.203700</td>\n",
       "    </tr>\n",
       "    <tr>\n",
       "      <th>std</th>\n",
       "      <td>2886.89568</td>\n",
       "      <td>7.193619e+04</td>\n",
       "      <td>96.653299</td>\n",
       "      <td>10.487806</td>\n",
       "      <td>2.894723</td>\n",
       "      <td>62397.405202</td>\n",
       "      <td>0.581654</td>\n",
       "      <td>0.45584</td>\n",
       "      <td>0.499797</td>\n",
       "      <td>57510.492818</td>\n",
       "      <td>0.402769</td>\n",
       "    </tr>\n",
       "    <tr>\n",
       "      <th>min</th>\n",
       "      <td>1.00000</td>\n",
       "      <td>1.556570e+07</td>\n",
       "      <td>350.000000</td>\n",
       "      <td>18.000000</td>\n",
       "      <td>0.000000</td>\n",
       "      <td>0.000000</td>\n",
       "      <td>1.000000</td>\n",
       "      <td>0.00000</td>\n",
       "      <td>0.000000</td>\n",
       "      <td>11.580000</td>\n",
       "      <td>0.000000</td>\n",
       "    </tr>\n",
       "    <tr>\n",
       "      <th>25%</th>\n",
       "      <td>2500.75000</td>\n",
       "      <td>1.562853e+07</td>\n",
       "      <td>584.000000</td>\n",
       "      <td>32.000000</td>\n",
       "      <td>2.000000</td>\n",
       "      <td>0.000000</td>\n",
       "      <td>1.000000</td>\n",
       "      <td>0.00000</td>\n",
       "      <td>0.000000</td>\n",
       "      <td>51002.110000</td>\n",
       "      <td>0.000000</td>\n",
       "    </tr>\n",
       "    <tr>\n",
       "      <th>50%</th>\n",
       "      <td>5000.50000</td>\n",
       "      <td>1.569074e+07</td>\n",
       "      <td>652.000000</td>\n",
       "      <td>37.000000</td>\n",
       "      <td>5.000000</td>\n",
       "      <td>97198.540000</td>\n",
       "      <td>1.000000</td>\n",
       "      <td>1.00000</td>\n",
       "      <td>1.000000</td>\n",
       "      <td>100193.915000</td>\n",
       "      <td>0.000000</td>\n",
       "    </tr>\n",
       "    <tr>\n",
       "      <th>75%</th>\n",
       "      <td>7500.25000</td>\n",
       "      <td>1.575323e+07</td>\n",
       "      <td>718.000000</td>\n",
       "      <td>44.000000</td>\n",
       "      <td>7.000000</td>\n",
       "      <td>127644.240000</td>\n",
       "      <td>2.000000</td>\n",
       "      <td>1.00000</td>\n",
       "      <td>1.000000</td>\n",
       "      <td>149388.247500</td>\n",
       "      <td>0.000000</td>\n",
       "    </tr>\n",
       "    <tr>\n",
       "      <th>max</th>\n",
       "      <td>10000.00000</td>\n",
       "      <td>1.581569e+07</td>\n",
       "      <td>850.000000</td>\n",
       "      <td>92.000000</td>\n",
       "      <td>10.000000</td>\n",
       "      <td>250898.090000</td>\n",
       "      <td>4.000000</td>\n",
       "      <td>1.00000</td>\n",
       "      <td>1.000000</td>\n",
       "      <td>199992.480000</td>\n",
       "      <td>1.000000</td>\n",
       "    </tr>\n",
       "  </tbody>\n",
       "</table>\n",
       "</div>"
      ],
      "text/plain": [
       "         RowNumber    CustomerId   CreditScore           Age       Tenure  \\\n",
       "count  10000.00000  1.000000e+04  10000.000000  10000.000000  9091.000000   \n",
       "mean    5000.50000  1.569094e+07    650.528800     38.921800     4.997690   \n",
       "std     2886.89568  7.193619e+04     96.653299     10.487806     2.894723   \n",
       "min        1.00000  1.556570e+07    350.000000     18.000000     0.000000   \n",
       "25%     2500.75000  1.562853e+07    584.000000     32.000000     2.000000   \n",
       "50%     5000.50000  1.569074e+07    652.000000     37.000000     5.000000   \n",
       "75%     7500.25000  1.575323e+07    718.000000     44.000000     7.000000   \n",
       "max    10000.00000  1.581569e+07    850.000000     92.000000    10.000000   \n",
       "\n",
       "             Balance  NumOfProducts    HasCrCard  IsActiveMember  \\\n",
       "count   10000.000000   10000.000000  10000.00000    10000.000000   \n",
       "mean    76485.889288       1.530200      0.70550        0.515100   \n",
       "std     62397.405202       0.581654      0.45584        0.499797   \n",
       "min         0.000000       1.000000      0.00000        0.000000   \n",
       "25%         0.000000       1.000000      0.00000        0.000000   \n",
       "50%     97198.540000       1.000000      1.00000        1.000000   \n",
       "75%    127644.240000       2.000000      1.00000        1.000000   \n",
       "max    250898.090000       4.000000      1.00000        1.000000   \n",
       "\n",
       "       EstimatedSalary        Exited  \n",
       "count     10000.000000  10000.000000  \n",
       "mean     100090.239881      0.203700  \n",
       "std       57510.492818      0.402769  \n",
       "min          11.580000      0.000000  \n",
       "25%       51002.110000      0.000000  \n",
       "50%      100193.915000      0.000000  \n",
       "75%      149388.247500      0.000000  \n",
       "max      199992.480000      1.000000  "
      ]
     },
     "execution_count": 3,
     "metadata": {},
     "output_type": "execute_result"
    }
   ],
   "source": [
    "df.describe()"
   ]
  },
  {
   "cell_type": "markdown",
   "metadata": {},
   "source": [
    "<div class=\"alert alert-success\" style=\"border-color: green; border-radius: 5px\">\n",
    "    <p><u><b>✅ КОММЕНТАРИЙ РЕВЬЮЕРА v.1</b></u></p>\n",
    "    <p>Данные загружены, отлично.</p>\n",
    "    <p>Хорошо, что применяешь метод <code>.head()</code> таким образом мы можем визуально оценить структуру датасета.</p>\n",
    "    <p>Методы <code>.info()</code> и <code>.describe()</code> также обязательны к применению в таких задачах, с их помощью можно получить первые инсайты. И они на месте.</p>\n",
    "</div>"
   ]
  },
  {
   "cell_type": "code",
   "execution_count": 4,
   "metadata": {},
   "outputs": [
    {
     "data": {
      "image/png": "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\n",
      "text/plain": [
       "<Figure size 432x288 with 2 Axes>"
      ]
     },
     "metadata": {
      "needs_background": "light"
     },
     "output_type": "display_data"
    }
   ],
   "source": [
    "colours = ['#008000', '#FF0000']\n",
    "sns.heatmap(df.isna(), cmap = sns.color_palette(colours));"
   ]
  },
  {
   "cell_type": "code",
   "execution_count": 5,
   "metadata": {},
   "outputs": [
    {
     "data": {
      "image/png": "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\n",
      "text/plain": [
       "<Figure size 720x576 with 1 Axes>"
      ]
     },
     "metadata": {},
     "output_type": "display_data"
    }
   ],
   "source": [
    "df.Exited.value_counts().plot(kind='pie', autopct='%1.1f%%', shadow=True, figsize=(10,8));\n",
    "plt.legend([\"Остался с банком\", 'Ушёл от банка'], fontsize=10, shadow=True, facecolor='w');\n",
    "plt.title('Распределение пользователей');\n",
    "plt.tight_layout();\n",
    "plt.axis('off');"
   ]
  },
  {
   "cell_type": "markdown",
   "metadata": {},
   "source": [
    "### Выводы после ознакомления:\n",
    "   1) В датасете 14 столбцов, из них 11 имеют вещественный тип данных, 3 тип object.\n",
    "   \n",
    "   2) Пропуски присутствуют в столбце Tenure(в районе 10%), причина неизвестна, возможно ошибка при выгрузке данных.\n",
    "   \n",
    "   3) 80% клиентов осталось с банком, 20% ушло, налицо дисбаланс классов в нашей задаче классификации(отношение 4:1)\n"
   ]
  },
  {
   "cell_type": "code",
   "execution_count": 6,
   "metadata": {
    "scrolled": true
   },
   "outputs": [
    {
     "data": {
      "text/plain": [
       "0"
      ]
     },
     "execution_count": 6,
     "metadata": {},
     "output_type": "execute_result"
    }
   ],
   "source": [
    "df.duplicated().sum()"
   ]
  },
  {
   "cell_type": "markdown",
   "metadata": {},
   "source": [
    "Дубликаты отсутствуют"
   ]
  },
  {
   "cell_type": "code",
   "execution_count": 7,
   "metadata": {},
   "outputs": [
    {
     "data": {
      "image/png": "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\n",
      "text/plain": [
       "<Figure size 720x720 with 2 Axes>"
      ]
     },
     "metadata": {
      "needs_background": "light"
     },
     "output_type": "display_data"
    }
   ],
   "source": [
    "Corr=df.corr()\n",
    "plt.figure(figsize=(10, 10))\n",
    "sns.heatmap(Corr, annot=True, fmt='.2f', cmap='coolwarm')\n",
    "plt.title('Корреляция между признаками');"
   ]
  },
  {
   "cell_type": "markdown",
   "metadata": {},
   "source": [
    "**Вывод**\n",
    "\n",
    "В целом, сильных корреляций не обнаружено, похоже на уход клиента влияют все признаки в совокупности. \n",
    "\n",
    "Но с уходом клиента есть слабая положительная корреляция у возраста клиента и баланса на его счете. То есть чем старше клиент и чем больше у него средств, тем вероятнее он покинет банк.\n",
    "\n",
    "Так же есть слабая отрицательная корреляцию между балансом и колличеством продуктов. Чем больше у человека продуктов банка, тем ниже его баланс.\n",
    "\n"
   ]
  },
  {
   "cell_type": "markdown",
   "metadata": {},
   "source": [
    "### Преобразование данных"
   ]
  },
  {
   "cell_type": "markdown",
   "metadata": {},
   "source": [
    "Заменим пропуски медианным значением:"
   ]
  },
  {
   "cell_type": "code",
   "execution_count": 8,
   "metadata": {},
   "outputs": [],
   "source": [
    "df.loc[df['Tenure'].isna(),'Tenure'] = df['Tenure'].median()"
   ]
  },
  {
   "cell_type": "markdown",
   "metadata": {},
   "source": [
    "Столбцы с номером, айди и фамилией клиента удалим - они не нужны для задачи классификации, так как несут только идентификационную роль, целевой признак от них не зависит."
   ]
  },
  {
   "cell_type": "code",
   "execution_count": 9,
   "metadata": {},
   "outputs": [],
   "source": [
    "df.drop(columns=['RowNumber', 'CustomerId', 'Surname'], inplace=True)"
   ]
  },
  {
   "cell_type": "markdown",
   "metadata": {},
   "source": [
    "Для удобства и экономии памяти преобразуем данные столбцов в формат int8:"
   ]
  },
  {
   "cell_type": "code",
   "execution_count": 10,
   "metadata": {},
   "outputs": [],
   "source": [
    "for column in ['NumOfProducts', 'HasCrCard', 'IsActiveMember', 'Exited']:\n",
    "    df[column] = df[column].astype('int8')"
   ]
  },
  {
   "cell_type": "markdown",
   "metadata": {},
   "source": [
    "Выделим количественные столбцы в список:"
   ]
  },
  {
   "cell_type": "code",
   "execution_count": 11,
   "metadata": {},
   "outputs": [],
   "source": [
    "numeric = ['CreditScore', 'Age', 'Balance', 'EstimatedSalary', 'Tenure', 'NumOfProducts']"
   ]
  },
  {
   "cell_type": "markdown",
   "metadata": {},
   "source": [
    "Разделим данные на признаки классификации и целевой признак:"
   ]
  },
  {
   "cell_type": "code",
   "execution_count": 12,
   "metadata": {},
   "outputs": [],
   "source": [
    "features = df.drop('Exited', axis=1)\n",
    "target = df['Exited']"
   ]
  },
  {
   "cell_type": "code",
   "execution_count": 13,
   "metadata": {},
   "outputs": [],
   "source": [
    "x_train, x_test, y_train, y_test = train_test_split(features, target, test_size=0.2, random_state=12345)\n"
   ]
  },
  {
   "cell_type": "code",
   "execution_count": 14,
   "metadata": {},
   "outputs": [
    {
     "name": "stdout",
     "output_type": "stream",
     "text": [
      "Размеры наборов данных:\n",
      "x_train:  (8000, 10)\n",
      "x_test:   (2000, 10)\n"
     ]
    }
   ],
   "source": [
    "print('Размеры наборов данных:')\n",
    "print('x_train: ', x_train.shape)\n",
    "print('x_test:  ', x_test.shape)"
   ]
  },
  {
   "cell_type": "markdown",
   "metadata": {},
   "source": [
    "**Вывод:** \n",
    "Так как далее будем использовать метод GridsearchCV, то разбиение данных проводим на тренировочную и тестовую выборки в соотношениее 4:1"
   ]
  },
  {
   "cell_type": "markdown",
   "metadata": {},
   "source": [
    "Масштабируем их:"
   ]
  },
  {
   "cell_type": "code",
   "execution_count": 15,
   "metadata": {},
   "outputs": [],
   "source": [
    "scaler = StandardScaler()\n",
    "scaler.fit(x_train[numeric])\n",
    "x_train[numeric] = scaler.transform(x_train[numeric])\n",
    "x_test[numeric] = scaler.transform(x_test[numeric])"
   ]
  },
  {
   "cell_type": "markdown",
   "metadata": {},
   "source": [
    "С помощью OHE преобразуем столбцы Geography и Gender(переведем признаки из категориальных в числовые): "
   ]
  },
  {
   "cell_type": "code",
   "execution_count": 16,
   "metadata": {},
   "outputs": [],
   "source": [
    "col = ['Gender', 'Geography']\n",
    "encoder = OneHotEncoder(drop= 'first', sparse = False)\n",
    "encoder.fit(x_train[col]);"
   ]
  },
  {
   "cell_type": "code",
   "execution_count": 17,
   "metadata": {},
   "outputs": [],
   "source": [
    "transformed = encoder.transform(x_train[col])\n",
    "ohe = pd.DataFrame(transformed, columns = ['Male', 'Germany', 'Spain',], index = x_train.index)\n",
    "x_train = pd.concat((ohe, x_train), axis = 1).drop(['Gender', 'Geography'], axis = 1)"
   ]
  },
  {
   "cell_type": "code",
   "execution_count": 18,
   "metadata": {},
   "outputs": [],
   "source": [
    "transformed = encoder.transform(x_test[col])\n",
    "ohe = pd.DataFrame(transformed, columns = ['Male', 'Germany', 'Spain',], index = x_test.index)\n",
    "x_test = pd.concat((ohe, x_test), axis = 1).drop(['Gender', 'Geography'], axis = 1)"
   ]
  },
  {
   "cell_type": "code",
   "execution_count": 19,
   "metadata": {
    "scrolled": true
   },
   "outputs": [
    {
     "name": "stdout",
     "output_type": "stream",
     "text": [
      "<class 'pandas.core.frame.DataFrame'>\n",
      "Int64Index: 8000 entries, 454 to 4578\n",
      "Data columns (total 11 columns):\n",
      " #   Column           Non-Null Count  Dtype  \n",
      "---  ------           --------------  -----  \n",
      " 0   Male             8000 non-null   float64\n",
      " 1   Germany          8000 non-null   float64\n",
      " 2   Spain            8000 non-null   float64\n",
      " 3   CreditScore      8000 non-null   float64\n",
      " 4   Age              8000 non-null   float64\n",
      " 5   Tenure           8000 non-null   float64\n",
      " 6   Balance          8000 non-null   float64\n",
      " 7   NumOfProducts    8000 non-null   float64\n",
      " 8   HasCrCard        8000 non-null   int8   \n",
      " 9   IsActiveMember   8000 non-null   int8   \n",
      " 10  EstimatedSalary  8000 non-null   float64\n",
      "dtypes: float64(9), int8(2)\n",
      "memory usage: 640.6 KB\n"
     ]
    },
    {
     "data": {
      "text/html": [
       "<div>\n",
       "<style scoped>\n",
       "    .dataframe tbody tr th:only-of-type {\n",
       "        vertical-align: middle;\n",
       "    }\n",
       "\n",
       "    .dataframe tbody tr th {\n",
       "        vertical-align: top;\n",
       "    }\n",
       "\n",
       "    .dataframe thead th {\n",
       "        text-align: right;\n",
       "    }\n",
       "</style>\n",
       "<table border=\"1\" class=\"dataframe\">\n",
       "  <thead>\n",
       "    <tr style=\"text-align: right;\">\n",
       "      <th></th>\n",
       "      <th>Male</th>\n",
       "      <th>Germany</th>\n",
       "      <th>Spain</th>\n",
       "      <th>CreditScore</th>\n",
       "      <th>Age</th>\n",
       "      <th>Tenure</th>\n",
       "      <th>Balance</th>\n",
       "      <th>NumOfProducts</th>\n",
       "      <th>HasCrCard</th>\n",
       "      <th>IsActiveMember</th>\n",
       "      <th>EstimatedSalary</th>\n",
       "    </tr>\n",
       "  </thead>\n",
       "  <tbody>\n",
       "    <tr>\n",
       "      <th>454</th>\n",
       "      <td>0.0</td>\n",
       "      <td>0.0</td>\n",
       "      <td>0.0</td>\n",
       "      <td>1.107585</td>\n",
       "      <td>0.011482</td>\n",
       "      <td>0.358552</td>\n",
       "      <td>0.819420</td>\n",
       "      <td>-0.899779</td>\n",
       "      <td>0</td>\n",
       "      <td>1</td>\n",
       "      <td>-0.757878</td>\n",
       "    </tr>\n",
       "    <tr>\n",
       "      <th>8307</th>\n",
       "      <td>1.0</td>\n",
       "      <td>0.0</td>\n",
       "      <td>0.0</td>\n",
       "      <td>-0.338704</td>\n",
       "      <td>-0.844298</td>\n",
       "      <td>-0.730444</td>\n",
       "      <td>0.923294</td>\n",
       "      <td>-0.899779</td>\n",
       "      <td>1</td>\n",
       "      <td>1</td>\n",
       "      <td>-1.194506</td>\n",
       "    </tr>\n",
       "    <tr>\n",
       "      <th>4811</th>\n",
       "      <td>0.0</td>\n",
       "      <td>0.0</td>\n",
       "      <td>1.0</td>\n",
       "      <td>-0.782922</td>\n",
       "      <td>-1.224645</td>\n",
       "      <td>0.721550</td>\n",
       "      <td>-1.220083</td>\n",
       "      <td>0.811234</td>\n",
       "      <td>1</td>\n",
       "      <td>0</td>\n",
       "      <td>0.212357</td>\n",
       "    </tr>\n",
       "    <tr>\n",
       "      <th>1132</th>\n",
       "      <td>1.0</td>\n",
       "      <td>0.0</td>\n",
       "      <td>0.0</td>\n",
       "      <td>-0.235398</td>\n",
       "      <td>-0.178692</td>\n",
       "      <td>-0.004447</td>\n",
       "      <td>-1.220083</td>\n",
       "      <td>0.811234</td>\n",
       "      <td>1</td>\n",
       "      <td>1</td>\n",
       "      <td>1.239310</td>\n",
       "    </tr>\n",
       "    <tr>\n",
       "      <th>9640</th>\n",
       "      <td>0.0</td>\n",
       "      <td>0.0</td>\n",
       "      <td>0.0</td>\n",
       "      <td>1.024940</td>\n",
       "      <td>-0.368865</td>\n",
       "      <td>-0.730444</td>\n",
       "      <td>-1.220083</td>\n",
       "      <td>-0.899779</td>\n",
       "      <td>1</td>\n",
       "      <td>0</td>\n",
       "      <td>1.583001</td>\n",
       "    </tr>\n",
       "    <tr>\n",
       "      <th>4192</th>\n",
       "      <td>1.0</td>\n",
       "      <td>0.0</td>\n",
       "      <td>0.0</td>\n",
       "      <td>-0.194075</td>\n",
       "      <td>2.008302</td>\n",
       "      <td>-1.093442</td>\n",
       "      <td>-1.220083</td>\n",
       "      <td>0.811234</td>\n",
       "      <td>0</td>\n",
       "      <td>1</td>\n",
       "      <td>-1.703150</td>\n",
       "    </tr>\n",
       "    <tr>\n",
       "      <th>4159</th>\n",
       "      <td>1.0</td>\n",
       "      <td>0.0</td>\n",
       "      <td>0.0</td>\n",
       "      <td>1.035271</td>\n",
       "      <td>-0.939385</td>\n",
       "      <td>-0.730444</td>\n",
       "      <td>1.335706</td>\n",
       "      <td>-0.899779</td>\n",
       "      <td>1</td>\n",
       "      <td>0</td>\n",
       "      <td>-1.046578</td>\n",
       "    </tr>\n",
       "    <tr>\n",
       "      <th>541</th>\n",
       "      <td>1.0</td>\n",
       "      <td>0.0</td>\n",
       "      <td>0.0</td>\n",
       "      <td>-0.297382</td>\n",
       "      <td>-1.224645</td>\n",
       "      <td>-0.004447</td>\n",
       "      <td>-1.220083</td>\n",
       "      <td>0.811234</td>\n",
       "      <td>1</td>\n",
       "      <td>1</td>\n",
       "      <td>0.918903</td>\n",
       "    </tr>\n",
       "    <tr>\n",
       "      <th>5129</th>\n",
       "      <td>0.0</td>\n",
       "      <td>1.0</td>\n",
       "      <td>0.0</td>\n",
       "      <td>-0.648623</td>\n",
       "      <td>0.296742</td>\n",
       "      <td>-1.093442</td>\n",
       "      <td>1.411136</td>\n",
       "      <td>-0.899779</td>\n",
       "      <td>1</td>\n",
       "      <td>0</td>\n",
       "      <td>-0.898022</td>\n",
       "    </tr>\n",
       "    <tr>\n",
       "      <th>1045</th>\n",
       "      <td>1.0</td>\n",
       "      <td>0.0</td>\n",
       "      <td>1.0</td>\n",
       "      <td>-0.648623</td>\n",
       "      <td>-0.463952</td>\n",
       "      <td>0.358552</td>\n",
       "      <td>0.719725</td>\n",
       "      <td>0.811234</td>\n",
       "      <td>1</td>\n",
       "      <td>0</td>\n",
       "      <td>-0.239489</td>\n",
       "    </tr>\n",
       "  </tbody>\n",
       "</table>\n",
       "</div>"
      ],
      "text/plain": [
       "      Male  Germany  Spain  CreditScore       Age    Tenure   Balance  \\\n",
       "454    0.0      0.0    0.0     1.107585  0.011482  0.358552  0.819420   \n",
       "8307   1.0      0.0    0.0    -0.338704 -0.844298 -0.730444  0.923294   \n",
       "4811   0.0      0.0    1.0    -0.782922 -1.224645  0.721550 -1.220083   \n",
       "1132   1.0      0.0    0.0    -0.235398 -0.178692 -0.004447 -1.220083   \n",
       "9640   0.0      0.0    0.0     1.024940 -0.368865 -0.730444 -1.220083   \n",
       "4192   1.0      0.0    0.0    -0.194075  2.008302 -1.093442 -1.220083   \n",
       "4159   1.0      0.0    0.0     1.035271 -0.939385 -0.730444  1.335706   \n",
       "541    1.0      0.0    0.0    -0.297382 -1.224645 -0.004447 -1.220083   \n",
       "5129   0.0      1.0    0.0    -0.648623  0.296742 -1.093442  1.411136   \n",
       "1045   1.0      0.0    1.0    -0.648623 -0.463952  0.358552  0.719725   \n",
       "\n",
       "      NumOfProducts  HasCrCard  IsActiveMember  EstimatedSalary  \n",
       "454       -0.899779          0               1        -0.757878  \n",
       "8307      -0.899779          1               1        -1.194506  \n",
       "4811       0.811234          1               0         0.212357  \n",
       "1132       0.811234          1               1         1.239310  \n",
       "9640      -0.899779          1               0         1.583001  \n",
       "4192       0.811234          0               1        -1.703150  \n",
       "4159      -0.899779          1               0        -1.046578  \n",
       "541        0.811234          1               1         0.918903  \n",
       "5129      -0.899779          1               0        -0.898022  \n",
       "1045       0.811234          1               0        -0.239489  "
      ]
     },
     "execution_count": 19,
     "metadata": {},
     "output_type": "execute_result"
    }
   ],
   "source": [
    "x_train.info()\n",
    "x_train.head(10)"
   ]
  },
  {
   "cell_type": "code",
   "execution_count": 20,
   "metadata": {},
   "outputs": [
    {
     "name": "stdout",
     "output_type": "stream",
     "text": [
      "<class 'pandas.core.frame.DataFrame'>\n",
      "Int64Index: 2000 entries, 7867 to 694\n",
      "Data columns (total 11 columns):\n",
      " #   Column           Non-Null Count  Dtype  \n",
      "---  ------           --------------  -----  \n",
      " 0   Male             2000 non-null   float64\n",
      " 1   Germany          2000 non-null   float64\n",
      " 2   Spain            2000 non-null   float64\n",
      " 3   CreditScore      2000 non-null   float64\n",
      " 4   Age              2000 non-null   float64\n",
      " 5   Tenure           2000 non-null   float64\n",
      " 6   Balance          2000 non-null   float64\n",
      " 7   NumOfProducts    2000 non-null   float64\n",
      " 8   HasCrCard        2000 non-null   int8   \n",
      " 9   IsActiveMember   2000 non-null   int8   \n",
      " 10  EstimatedSalary  2000 non-null   float64\n",
      "dtypes: float64(9), int8(2)\n",
      "memory usage: 160.2 KB\n"
     ]
    },
    {
     "data": {
      "text/html": [
       "<div>\n",
       "<style scoped>\n",
       "    .dataframe tbody tr th:only-of-type {\n",
       "        vertical-align: middle;\n",
       "    }\n",
       "\n",
       "    .dataframe tbody tr th {\n",
       "        vertical-align: top;\n",
       "    }\n",
       "\n",
       "    .dataframe thead th {\n",
       "        text-align: right;\n",
       "    }\n",
       "</style>\n",
       "<table border=\"1\" class=\"dataframe\">\n",
       "  <thead>\n",
       "    <tr style=\"text-align: right;\">\n",
       "      <th></th>\n",
       "      <th>Male</th>\n",
       "      <th>Germany</th>\n",
       "      <th>Spain</th>\n",
       "      <th>CreditScore</th>\n",
       "      <th>Age</th>\n",
       "      <th>Tenure</th>\n",
       "      <th>Balance</th>\n",
       "      <th>NumOfProducts</th>\n",
       "      <th>HasCrCard</th>\n",
       "      <th>IsActiveMember</th>\n",
       "      <th>EstimatedSalary</th>\n",
       "    </tr>\n",
       "  </thead>\n",
       "  <tbody>\n",
       "    <tr>\n",
       "      <th>7867</th>\n",
       "      <td>0.0</td>\n",
       "      <td>0.0</td>\n",
       "      <td>1.0</td>\n",
       "      <td>-0.111430</td>\n",
       "      <td>0.677088</td>\n",
       "      <td>-0.730444</td>\n",
       "      <td>-1.220083</td>\n",
       "      <td>-0.899779</td>\n",
       "      <td>1</td>\n",
       "      <td>1</td>\n",
       "      <td>0.971335</td>\n",
       "    </tr>\n",
       "    <tr>\n",
       "      <th>1402</th>\n",
       "      <td>1.0</td>\n",
       "      <td>0.0</td>\n",
       "      <td>0.0</td>\n",
       "      <td>1.097255</td>\n",
       "      <td>-0.939385</td>\n",
       "      <td>1.084549</td>\n",
       "      <td>0.866641</td>\n",
       "      <td>-0.899779</td>\n",
       "      <td>1</td>\n",
       "      <td>0</td>\n",
       "      <td>-0.395456</td>\n",
       "    </tr>\n",
       "    <tr>\n",
       "      <th>8606</th>\n",
       "      <td>1.0</td>\n",
       "      <td>0.0</td>\n",
       "      <td>1.0</td>\n",
       "      <td>1.613787</td>\n",
       "      <td>0.296742</td>\n",
       "      <td>-0.004447</td>\n",
       "      <td>-1.220083</td>\n",
       "      <td>0.811234</td>\n",
       "      <td>1</td>\n",
       "      <td>1</td>\n",
       "      <td>-0.440011</td>\n",
       "    </tr>\n",
       "    <tr>\n",
       "      <th>8885</th>\n",
       "      <td>1.0</td>\n",
       "      <td>0.0</td>\n",
       "      <td>1.0</td>\n",
       "      <td>0.177828</td>\n",
       "      <td>0.582002</td>\n",
       "      <td>-0.367445</td>\n",
       "      <td>0.421128</td>\n",
       "      <td>0.811234</td>\n",
       "      <td>1</td>\n",
       "      <td>1</td>\n",
       "      <td>1.008096</td>\n",
       "    </tr>\n",
       "    <tr>\n",
       "      <th>6494</th>\n",
       "      <td>1.0</td>\n",
       "      <td>0.0</td>\n",
       "      <td>0.0</td>\n",
       "      <td>0.498078</td>\n",
       "      <td>-1.034472</td>\n",
       "      <td>0.721550</td>\n",
       "      <td>-1.220083</td>\n",
       "      <td>0.811234</td>\n",
       "      <td>1</td>\n",
       "      <td>1</td>\n",
       "      <td>-1.345810</td>\n",
       "    </tr>\n",
       "    <tr>\n",
       "      <th>9628</th>\n",
       "      <td>0.0</td>\n",
       "      <td>0.0</td>\n",
       "      <td>0.0</td>\n",
       "      <td>0.115844</td>\n",
       "      <td>-1.604992</td>\n",
       "      <td>1.447547</td>\n",
       "      <td>-1.220083</td>\n",
       "      <td>0.811234</td>\n",
       "      <td>1</td>\n",
       "      <td>1</td>\n",
       "      <td>-0.969501</td>\n",
       "    </tr>\n",
       "    <tr>\n",
       "      <th>7459</th>\n",
       "      <td>0.0</td>\n",
       "      <td>0.0</td>\n",
       "      <td>1.0</td>\n",
       "      <td>-0.059777</td>\n",
       "      <td>-0.939385</td>\n",
       "      <td>-0.367445</td>\n",
       "      <td>-1.220083</td>\n",
       "      <td>0.811234</td>\n",
       "      <td>1</td>\n",
       "      <td>1</td>\n",
       "      <td>-0.449635</td>\n",
       "    </tr>\n",
       "    <tr>\n",
       "      <th>3964</th>\n",
       "      <td>1.0</td>\n",
       "      <td>0.0</td>\n",
       "      <td>0.0</td>\n",
       "      <td>-1.805655</td>\n",
       "      <td>-0.178692</td>\n",
       "      <td>-0.367445</td>\n",
       "      <td>-1.220083</td>\n",
       "      <td>-0.899779</td>\n",
       "      <td>1</td>\n",
       "      <td>1</td>\n",
       "      <td>-0.771776</td>\n",
       "    </tr>\n",
       "    <tr>\n",
       "      <th>7000</th>\n",
       "      <td>1.0</td>\n",
       "      <td>0.0</td>\n",
       "      <td>0.0</td>\n",
       "      <td>1.283206</td>\n",
       "      <td>-1.034472</td>\n",
       "      <td>1.447547</td>\n",
       "      <td>0.560153</td>\n",
       "      <td>-0.899779</td>\n",
       "      <td>1</td>\n",
       "      <td>0</td>\n",
       "      <td>0.851135</td>\n",
       "    </tr>\n",
       "    <tr>\n",
       "      <th>4470</th>\n",
       "      <td>0.0</td>\n",
       "      <td>1.0</td>\n",
       "      <td>0.0</td>\n",
       "      <td>-1.392429</td>\n",
       "      <td>1.342695</td>\n",
       "      <td>-0.004447</td>\n",
       "      <td>1.288893</td>\n",
       "      <td>-0.899779</td>\n",
       "      <td>1</td>\n",
       "      <td>0</td>\n",
       "      <td>0.316347</td>\n",
       "    </tr>\n",
       "  </tbody>\n",
       "</table>\n",
       "</div>"
      ],
      "text/plain": [
       "      Male  Germany  Spain  CreditScore       Age    Tenure   Balance  \\\n",
       "7867   0.0      0.0    1.0    -0.111430  0.677088 -0.730444 -1.220083   \n",
       "1402   1.0      0.0    0.0     1.097255 -0.939385  1.084549  0.866641   \n",
       "8606   1.0      0.0    1.0     1.613787  0.296742 -0.004447 -1.220083   \n",
       "8885   1.0      0.0    1.0     0.177828  0.582002 -0.367445  0.421128   \n",
       "6494   1.0      0.0    0.0     0.498078 -1.034472  0.721550 -1.220083   \n",
       "9628   0.0      0.0    0.0     0.115844 -1.604992  1.447547 -1.220083   \n",
       "7459   0.0      0.0    1.0    -0.059777 -0.939385 -0.367445 -1.220083   \n",
       "3964   1.0      0.0    0.0    -1.805655 -0.178692 -0.367445 -1.220083   \n",
       "7000   1.0      0.0    0.0     1.283206 -1.034472  1.447547  0.560153   \n",
       "4470   0.0      1.0    0.0    -1.392429  1.342695 -0.004447  1.288893   \n",
       "\n",
       "      NumOfProducts  HasCrCard  IsActiveMember  EstimatedSalary  \n",
       "7867      -0.899779          1               1         0.971335  \n",
       "1402      -0.899779          1               0        -0.395456  \n",
       "8606       0.811234          1               1        -0.440011  \n",
       "8885       0.811234          1               1         1.008096  \n",
       "6494       0.811234          1               1        -1.345810  \n",
       "9628       0.811234          1               1        -0.969501  \n",
       "7459       0.811234          1               1        -0.449635  \n",
       "3964      -0.899779          1               1        -0.771776  \n",
       "7000      -0.899779          1               0         0.851135  \n",
       "4470      -0.899779          1               0         0.316347  "
      ]
     },
     "execution_count": 20,
     "metadata": {},
     "output_type": "execute_result"
    }
   ],
   "source": [
    "x_test.info()\n",
    "x_test.head(10)"
   ]
  },
  {
   "cell_type": "markdown",
   "metadata": {},
   "source": [
    "**Вывод:**\n",
    "Все получилось, мы избавились от столбцов с типом данных object, провели масштабирование данных и уменьшили объем занимаемой памяти более, чем в два раза, а также перекодировали столбцы Geography и Gender."
   ]
  },
  {
   "cell_type": "markdown",
   "metadata": {},
   "source": [
    "## Исследование задачи"
   ]
  },
  {
   "cell_type": "markdown",
   "metadata": {},
   "source": [
    "Начнем обучение моделей с Логистической регрессии (так как убрали валидационную выборку, проверим на тестовой):"
   ]
  },
  {
   "cell_type": "code",
   "execution_count": 21,
   "metadata": {
    "scrolled": true
   },
   "outputs": [
    {
     "name": "stdout",
     "output_type": "stream",
     "text": [
      "Наилучшая метрика f1: 0.286\n",
      "Параметры модели:\n",
      "   C = 1 \n",
      "Наилучшая метрика roc_auc: 0.758\n",
      "Параметры модели:\n",
      "   C = 1 \n",
      "CPU times: user 814 ms, sys: 1.77 s, total: 2.58 s\n",
      "Wall time: 2.54 s\n"
     ]
    }
   ],
   "source": [
    "%%time\n",
    "best_params_f1 = []\n",
    "best_f1 = 0\n",
    "best_params_roc_auc = []\n",
    "best_roc_auc = 0.5\n",
    "\n",
    "cs = range(1, 10)\n",
    "for C in cs:\n",
    "    model_lr_clf = LogisticRegression(random_state=12345,\n",
    "                                      C=C,\n",
    "                                      max_iter=1000)\n",
    "    model_lr_clf.fit(x_train, y_train)\n",
    "    predictions = model_lr_clf.predict(x_test)\n",
    "\n",
    "    f1 = f1_score(y_test, predictions)\n",
    "    \n",
    "    if f1 > best_f1:\n",
    "        best_params_f1 = [C]\n",
    "        best_f1 = f1\n",
    "    pred_prob = model_lr_clf.predict_proba(x_test) #Поправил\n",
    "    roc_auc = roc_auc_score(y_test, pred_prob[:,1])\n",
    "    if roc_auc > best_roc_auc:\n",
    "        best_params_roc_auc = [C]\n",
    "        best_roc_auc = roc_auc\n",
    "        \n",
    "print('''Наилучшая метрика f1: {}\n",
    "Параметры модели:\n",
    "   C = {} '''.format(round(best_f1, 3),\n",
    "                             best_params_f1[0]\n",
    "                            ))\n",
    "\n",
    "print('''Наилучшая метрика roc_auc: {}\n",
    "Параметры модели:\n",
    "   C = {} '''.format(round(best_roc_auc, 3),\n",
    "                             best_params_roc_auc[0]\n",
    "                            ))"
   ]
  },
  {
   "cell_type": "code",
   "execution_count": 43,
   "metadata": {},
   "outputs": [
    {
     "name": "stdout",
     "output_type": "stream",
     "text": [
      "Tuned Hyperparameters : {'C': 10.0, 'solver': 'newton-cg'}\n",
      "F1: 0.3232\n",
      "AUC-ROC: 0.7647\n",
      "CPU times: user 6.54 s, sys: 13.4 s, total: 19.9 s\n",
      "Wall time: 19.9 s\n"
     ]
    }
   ],
   "source": [
    "сс"
   ]
  },
  {
   "cell_type": "markdown",
   "metadata": {},
   "source": [
    "**Вывод:** Логистическая регрессия показывает результаты(f1 = 0.3234), которые очень далеки от необходимого порога(0,59). Не будем ее использовать в дальнейшем. "
   ]
  },
  {
   "cell_type": "code",
   "execution_count": 23,
   "metadata": {},
   "outputs": [
    {
     "name": "stdout",
     "output_type": "stream",
     "text": [
      "F1: 0.5809\n",
      "AUC-ROC: 0.8414\n",
      "max_depth       16\n",
      "n_estimators    45\n",
      "dtype: int64\n",
      "CPU times: user 1min 34s, sys: 1.68 s, total: 1min 36s\n",
      "Wall time: 1min 36s\n"
     ]
    }
   ],
   "source": [
    "%%time\n",
    "# Код ревьюера\n",
    "parameters = {\n",
    "    'n_estimators': range(10, 61, 5),\n",
    "    'max_depth': range(2, 21, 2),\n",
    "}\n",
    "\n",
    "model = RandomForestClassifier(random_state=96)\n",
    "\n",
    "metrics = ['f1', 'roc_auc']\n",
    "\n",
    "# Обрати внимание я указал в scoring список мужных метрик,\n",
    "# А в refit указал 'f1', теперь GridSearchCV будет оптимизировать эту метрику\n",
    "search = GridSearchCV(model, parameters, cv=4, scoring=metrics, refit='f1')\n",
    "search.fit(x_train, y_train)\n",
    "results = search.cv_results_\n",
    "# Печатаем лучшие значения метрик и гиперпараметры\n",
    "print('F1:', '%.4f' %search.best_score_)\n",
    "print('AUC-ROC:', '%.4f' %results['mean_test_roc_auc'].mean())\n",
    "print(pd.Series(search.best_params_))"
   ]
  },
  {
   "cell_type": "markdown",
   "metadata": {},
   "source": [
    "**Вывод:** Лучшая модель случайного леса с max_depth = 16, n_estimators = 45, показывает значение f1 = 0,5809 и auc-roc = 0,8414."
   ]
  },
  {
   "cell_type": "markdown",
   "metadata": {},
   "source": [
    "Проверим ее на тестовой выборке:"
   ]
  },
  {
   "cell_type": "code",
   "execution_count": 24,
   "metadata": {},
   "outputs": [
    {
     "name": "stdout",
     "output_type": "stream",
     "text": [
      " f1 = 0.56, \n",
      " roc_auc = 0.86\n"
     ]
    }
   ],
   "source": [
    "model_rfc = RandomForestClassifier(random_state=12345,\n",
    "                                         n_estimators=45,\n",
    "                                         max_depth=16)\n",
    "model_rfc.fit(x_train, y_train)\n",
    "predictions = model_rfc.predict(x_test)\n",
    "pred_prob = model_rfc.predict_proba(x_test) #Поправил\n",
    "roc_auc = roc_auc_score(y_test, pred_prob[:,1])\n",
    "f1 = f1_score(y_test, predictions)\n",
    "print(' f1 = {}, \\n roc_auc = {}'.format(round(f1,2), round(roc_auc,2)))\n",
    "\n"
   ]
  },
  {
   "cell_type": "markdown",
   "metadata": {},
   "source": [
    "**Вывод:** пороговое значение не преодолено, надо устранять дисбаланс классов."
   ]
  },
  {
   "cell_type": "code",
   "execution_count": 25,
   "metadata": {},
   "outputs": [
    {
     "name": "stdout",
     "output_type": "stream",
     "text": [
      "F1: 0.5564\n",
      "AUC-ROC: 0.7648\n",
      "max_depth            7\n",
      "min_samples_leaf     1\n",
      "min_samples_split    3\n",
      "dtype: int64\n",
      "CPU times: user 44.9 s, sys: 393 ms, total: 45.3 s\n",
      "Wall time: 45.4 s\n"
     ]
    }
   ],
   "source": [
    "%%time\n",
    "parameters = {\n",
    "    'max_depth': range (1,21), \n",
    "    'min_samples_split': range(2,6), \n",
    "    'min_samples_leaf': range(1,5)}\n",
    "clf_dtc = DecisionTreeClassifier(random_state = 69)\n",
    "\n",
    "metrics = ['f1', 'roc_auc']\n",
    "\n",
    "search = GridSearchCV(clf_dtc, parameters, cv=5, scoring=metrics, n_jobs=-1, refit='f1')\n",
    "search.fit(x_train, y_train)\n",
    "results = search.cv_results_\n",
    "# Печатаем лучшие значения метрик и гиперпараметры\n",
    "print('F1:', '%.4f' %search.best_score_)\n",
    "print('AUC-ROC:', '%.4f' %results['mean_test_roc_auc'].mean())\n",
    "print(pd.Series(search.best_params_))"
   ]
  },
  {
   "cell_type": "markdown",
   "metadata": {},
   "source": [
    "**Вывод:** Для лучшей модели дерева решений f1 = 0,5564. Результат чуть похуже, а roc_auc = 0,7648 и тоже меньше, чем у модели случайного леса."
   ]
  },
  {
   "cell_type": "markdown",
   "metadata": {},
   "source": [
    "Тоже проверим на тестовой выборке:"
   ]
  },
  {
   "cell_type": "code",
   "execution_count": 26,
   "metadata": {},
   "outputs": [
    {
     "name": "stdout",
     "output_type": "stream",
     "text": [
      " f1 = 0.53, \n",
      " roc_auc = 0.83\n"
     ]
    }
   ],
   "source": [
    "model = DecisionTreeClassifier(random_state=69,\n",
    "                                         max_depth = 7,\n",
    "                                   min_samples_leaf = 1,\n",
    "                                   min_samples_split = 3)\n",
    "model.fit(x_train, y_train)\n",
    "predictions = model.predict(x_test)\n",
    "pred_prob = model.predict_proba(x_test) #Поправил\n",
    "roc_auc = roc_auc_score(y_test, pred_prob[:,1])\n",
    "f1 = f1_score(y_test, predictions)\n",
    "print(' f1 = {}, \\n roc_auc = {}'.format(round(f1,2), round(roc_auc,2)))\n",
    "\n"
   ]
  },
  {
   "cell_type": "markdown",
   "metadata": {},
   "source": [
    "### Вывод по моделям с дисбалансом:\n",
    "Логистическая регрессия показывает неудовлетворительные результаты (f1 = 0,3234), случайный лес и дерево решений близки к преодолению порогового значения(F1: 0.5809 и, f1 = 0,5564 соответственно). Устраним дисбаланс и посмотрим, как поменяются результаты."
   ]
  },
  {
   "cell_type": "markdown",
   "metadata": {},
   "source": [
    "## Борьба с дисбалансом"
   ]
  },
  {
   "cell_type": "markdown",
   "metadata": {},
   "source": [
    "Определим функции для апсэмплинга и даунсэмплинга:"
   ]
  },
  {
   "cell_type": "code",
   "execution_count": 27,
   "metadata": {},
   "outputs": [],
   "source": [
    "def upsample(features, target, repeat):\n",
    "  \n",
    "    features_zeros = features[target == 0]\n",
    "    features_ones = features[target == 1]\n",
    "    target_zeros = target[target == 0]\n",
    "    target_ones = target[target == 1]\n",
    "    \n",
    "    features_upsampled = pd.concat([features_zeros] + [features_ones] * repeat)\n",
    "    target_upsampled = pd.concat([target_zeros] + [target_ones] * repeat)\n",
    "    \n",
    "    features_upsampled, target_upsampled = shuffle(\n",
    "        features_upsampled, target_upsampled, random_state=12345)\n",
    "    return features_upsampled, target_upsampled"
   ]
  },
  {
   "cell_type": "code",
   "execution_count": 28,
   "metadata": {},
   "outputs": [],
   "source": [
    "def downsample(features, target, fraction):\n",
    "   \n",
    "    features_zeros = features[target == 0]\n",
    "    features_ones = features[target == 1]\n",
    "    target_zeros = target[target == 0]\n",
    "    target_ones = target[target == 1]\n",
    "    \n",
    "    features_downsampled = pd.concat(\n",
    "        [features_zeros.sample(frac=fraction, random_state=12345)] + [features_ones])\n",
    "    target_downsampled = pd.concat(\n",
    "        [target_zeros.sample(frac=fraction, random_state=12345)] + [target_ones])\n",
    "    \n",
    "    features_downsampled, target_downsampled = shuffle(\n",
    "        features_downsampled, target_downsampled, random_state=12345)\n",
    "    return features_downsampled, target_downsampled"
   ]
  },
  {
   "cell_type": "markdown",
   "metadata": {},
   "source": [
    "### Использование взвешивания классов"
   ]
  },
  {
   "cell_type": "markdown",
   "metadata": {},
   "source": [
    "Проведем подбор гиперпараметров для дерева решений, со сбалансированным весом классов:"
   ]
  },
  {
   "cell_type": "code",
   "execution_count": 29,
   "metadata": {},
   "outputs": [
    {
     "name": "stdout",
     "output_type": "stream",
     "text": [
      "F1: 0.5644\n",
      "AUC-ROC: 0.7594\n",
      "max_depth            6\n",
      "min_samples_leaf     4\n",
      "min_samples_split    2\n",
      "dtype: int64\n",
      "CPU times: user 44.9 s, sys: 544 ms, total: 45.4 s\n",
      "Wall time: 45.4 s\n"
     ]
    }
   ],
   "source": [
    "%%time\n",
    "parameters = {\n",
    "    'max_depth': range (1,21), \n",
    "    'min_samples_split': range(2,6), \n",
    "    'min_samples_leaf': range(1,5)}\n",
    "clf_dtc = DecisionTreeClassifier(random_state = 69, class_weight = 'balanced')\n",
    "\n",
    "metrics = ['f1', 'roc_auc']\n",
    "\n",
    "search = GridSearchCV(clf_dtc, parameters, cv=5, scoring=metrics, n_jobs=-1, refit='f1')\n",
    "search.fit(x_train, y_train)\n",
    "results = search.cv_results_\n",
    "# Печатаем лучшие значения метрик и гиперпараметры\n",
    "print('F1:', '%.4f' %search.best_score_)\n",
    "print('AUC-ROC:', '%.4f' %results['mean_test_roc_auc'].mean())\n",
    "print(pd.Series(search.best_params_))"
   ]
  },
  {
   "cell_type": "markdown",
   "metadata": {},
   "source": [
    "**Вывод**: Для лучшей модели дерева решений f1 подросло с 0,5564 до 0,5644. Результат все еще хуже, чем у случайного леса."
   ]
  },
  {
   "cell_type": "code",
   "execution_count": 30,
   "metadata": {},
   "outputs": [
    {
     "name": "stdout",
     "output_type": "stream",
     "text": [
      "F1: 0.6134\n",
      "AUC-ROC: 0.8418\n",
      "max_depth        8\n",
      "n_estimators    50\n",
      "dtype: int64\n",
      "CPU times: user 1min 35s, sys: 1.42 s, total: 1min 36s\n",
      "Wall time: 1min 36s\n"
     ]
    }
   ],
   "source": [
    "%%time\n",
    "parameters = {\n",
    "    'n_estimators': range(10, 61, 5),\n",
    "    'max_depth': range(2, 21, 2),\n",
    "}\n",
    "\n",
    "model = RandomForestClassifier(random_state=96, class_weight='balanced')\n",
    "\n",
    "metrics = ['f1', 'roc_auc']\n",
    "\n",
    "# Обрати внимание я указал в scoring список мужных метрик,\n",
    "# А в refit указал 'f1', теперь GridSearchCV будет оптимизировать эту метрику\n",
    "search = GridSearchCV(model, parameters, cv=4, scoring=metrics, refit='f1')\n",
    "search.fit(x_train, y_train)\n",
    "results = search.cv_results_\n",
    "# Печатаем лучшие значения метрик и гиперпараметры\n",
    "print('F1:', '%.4f' %search.best_score_)\n",
    "print('AUC-ROC:', '%.4f' %results['mean_test_roc_auc'].mean())\n",
    "print(pd.Series(search.best_params_))"
   ]
  },
  {
   "cell_type": "markdown",
   "metadata": {},
   "source": [
    "**Вывод:** F1 мера подросла до 0,6134, что уже выше порогового значения.\n",
    "\n",
    "Попробуем теперь другой способ устранения дисбаланса."
   ]
  },
  {
   "cell_type": "markdown",
   "metadata": {},
   "source": [
    "### Использование даунсэмплинга классов"
   ]
  },
  {
   "cell_type": "markdown",
   "metadata": {},
   "source": [
    "Уменьшим количество объектов класса \"ноль\" примерно в 4 раза."
   ]
  },
  {
   "cell_type": "code",
   "execution_count": 31,
   "metadata": {},
   "outputs": [],
   "source": [
    "x_train_balanced, y_train_balanced = downsample(x_train, y_train, 0.252)"
   ]
  },
  {
   "cell_type": "code",
   "execution_count": 44,
   "metadata": {},
   "outputs": [
    {
     "data": {
      "text/plain": [
       "0    0.5\n",
       "1    0.5\n",
       "Name: Exited, dtype: float64"
      ]
     },
     "execution_count": 44,
     "metadata": {},
     "output_type": "execute_result"
    }
   ],
   "source": [
    "y_train_balanced.value_counts(normalize=True)"
   ]
  },
  {
   "cell_type": "markdown",
   "metadata": {},
   "source": [
    "Обучим теперь наши модели на сбалансированных данных и найдем лучшие:"
   ]
  },
  {
   "cell_type": "code",
   "execution_count": 33,
   "metadata": {},
   "outputs": [
    {
     "name": "stdout",
     "output_type": "stream",
     "text": [
      "F1: 0.7774\n",
      "AUC-ROC: 0.8463\n",
      "max_depth       10\n",
      "n_estimators    35\n",
      "dtype: int64\n",
      "CPU times: user 52.2 s, sys: 672 ms, total: 52.9 s\n",
      "Wall time: 52.9 s\n"
     ]
    }
   ],
   "source": [
    "%%time\n",
    "parameters = {\n",
    "    'n_estimators': range(10, 61, 5),\n",
    "    'max_depth': range(2, 21, 2),\n",
    "}\n",
    "\n",
    "model = RandomForestClassifier(random_state=96)\n",
    "\n",
    "metrics = ['f1', 'roc_auc']\n",
    "\n",
    "search = GridSearchCV(model, parameters, cv=4, scoring=metrics, refit='f1')\n",
    "search.fit(x_train_balanced, y_train_balanced)\n",
    "results = search.cv_results_\n",
    "# Печатаем лучшие значения метрик и гиперпараметры\n",
    "print('F1:', '%.4f' %search.best_score_)\n",
    "print('AUC-ROC:', '%.4f' %results['mean_test_roc_auc'].mean())\n",
    "print(pd.Series(search.best_params_))"
   ]
  },
  {
   "cell_type": "markdown",
   "metadata": {},
   "source": [
    "**Вывод:** Для случайного леса значение метрик равны F1: 0.7774, AUC-ROC: 0.8463. Для тестирования оставляем модель случайного леса с параметрами('max_depth': 10, 'n_estimators': 35). "
   ]
  },
  {
   "cell_type": "code",
   "execution_count": 34,
   "metadata": {},
   "outputs": [
    {
     "name": "stdout",
     "output_type": "stream",
     "text": [
      "F1: 0.7415\n",
      "AUC-ROC: 0.7609\n",
      "max_depth            7\n",
      "min_samples_leaf     3\n",
      "min_samples_split    2\n",
      "dtype: int64\n",
      "CPU times: user 24.3 s, sys: 217 ms, total: 24.5 s\n",
      "Wall time: 24.6 s\n"
     ]
    }
   ],
   "source": [
    "%%time\n",
    "parameters = {\n",
    "    'max_depth': range (1,21), \n",
    "    'min_samples_split': range(2,6), \n",
    "    'min_samples_leaf': range(1,5)}\n",
    "clf_dtc = DecisionTreeClassifier(random_state = 69)\n",
    "\n",
    "metrics = ['f1', 'roc_auc']\n",
    "\n",
    "search = GridSearchCV(clf_dtc, parameters, cv=5, scoring=metrics, n_jobs=-1, refit='f1')\n",
    "search.fit(x_train_balanced, y_train_balanced)\n",
    "results = search.cv_results_\n",
    "# Печатаем лучшие значения метрик и гиперпараметры\n",
    "print('F1:', '%.4f' %search.best_score_)\n",
    "print('AUC-ROC:', '%.4f' %results['mean_test_roc_auc'].mean())\n",
    "print(pd.Series(search.best_params_))"
   ]
  },
  {
   "cell_type": "markdown",
   "metadata": {},
   "source": [
    "**Вывод:** Дерево решений показывает F1: 0.7415, AUC-ROC: 0.7609. Чуть хуже, чем у леса, для финального тестирования оставляем отобранную модель случайного леса."
   ]
  },
  {
   "cell_type": "markdown",
   "metadata": {},
   "source": [
    "Теперь посмотрими, какие результаты будут на тестовой выборке."
   ]
  },
  {
   "cell_type": "markdown",
   "metadata": {},
   "source": [
    "## Тестирование модели"
   ]
  },
  {
   "cell_type": "markdown",
   "metadata": {},
   "source": [
    "Протестируем лучшую модель случайного леса на тестовой выборке:"
   ]
  },
  {
   "cell_type": "code",
   "execution_count": 35,
   "metadata": {},
   "outputs": [
    {
     "name": "stdout",
     "output_type": "stream",
     "text": [
      " f1 = 0.61, \n",
      " roc_auc = 0.86\n"
     ]
    }
   ],
   "source": [
    "model_rfc_final = RandomForestClassifier(random_state=12345,\n",
    "                                         n_estimators=35,\n",
    "                                         max_depth=10)\n",
    "model_rfc_final.fit(x_train_balanced, y_train_balanced)\n",
    "predictions = model_rfc_final.predict(x_test)\n",
    "f1 = f1_score(y_test, predictions)\n",
    "pred_prob = model_rfc.predict_proba(x_test) #Поправил\n",
    "roc_auc = roc_auc_score(y_test, pred_prob[:,1])\n",
    "f1 = f1_score(y_test, predictions)\n",
    "print(' f1 = {}, \\n roc_auc = {}'.format(round(f1,2), round(roc_auc,2)))\n",
    "\n"
   ]
  },
  {
   "cell_type": "markdown",
   "metadata": {},
   "source": [
    "**Вывод:** Мы преодолели необходимую планку: F1 мера составила 0,61, а roc_auc 0,86, что свидетельствует о том, что наша модель предсказывает значительно лучше случайной."
   ]
  },
  {
   "cell_type": "code",
   "execution_count": 36,
   "metadata": {},
   "outputs": [
    {
     "name": "stdout",
     "output_type": "stream",
     "text": [
      "              precision    recall  f1-score   support\n",
      "\n",
      "           0       0.93      0.79      0.86      1573\n",
      "           1       0.51      0.78      0.61       427\n",
      "\n",
      "    accuracy                           0.79      2000\n",
      "   macro avg       0.72      0.79      0.74      2000\n",
      "weighted avg       0.84      0.79      0.80      2000\n",
      "\n"
     ]
    }
   ],
   "source": [
    "print(classification_report(y_test,predictions))"
   ]
  },
  {
   "cell_type": "code",
   "execution_count": 37,
   "metadata": {},
   "outputs": [],
   "source": [
    "def draw_ROC(target, features, model):\n",
    "    fpr, tpr, thresholds = roc_curve(target, model.predict_proba(features)[:,1], pos_label=1)\n",
    "    plt.figure(figsize=(12, 10))\n",
    "    plt.plot(fpr, tpr)\n",
    "    plt.xlim([0.0, 1.0])\n",
    "    plt.ylim([0.0, 1.0])\n",
    "    plt.xlabel('False Positive Rate')\n",
    "    plt.ylabel('True Positive Rate')\n",
    "    plt.title('ROC-кривая')\n",
    "    plt.plot([0, 1], [0, 1], linestyle='--')\n",
    "    plt.show() "
   ]
  },
  {
   "cell_type": "code",
   "execution_count": 38,
   "metadata": {
    "scrolled": false
   },
   "outputs": [
    {
     "data": {
      "image/png": "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\n",
      "text/plain": [
       "<Figure size 864x720 with 1 Axes>"
      ]
     },
     "metadata": {
      "needs_background": "light"
     },
     "output_type": "display_data"
    }
   ],
   "source": [
    "draw_ROC(y_test, x_test, model_rfc_final)"
   ]
  },
  {
   "cell_type": "code",
   "execution_count": 39,
   "metadata": {},
   "outputs": [
    {
     "data": {
      "image/png": "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\n",
      "text/plain": [
       "<Figure size 432x288 with 2 Axes>"
      ]
     },
     "metadata": {
      "needs_background": "light"
     },
     "output_type": "display_data"
    }
   ],
   "source": [
    "sns.heatmap(confusion_matrix(y_test, predictions),annot=True,fmt='3.0f',cmap=\"summer\")\n",
    "plt.title('Confusion_matrix', y=1.05, size=15);"
   ]
  },
  {
   "cell_type": "markdown",
   "metadata": {},
   "source": [
    "## Общий Вывод:\n",
    "В рамках исследования было сделано:\n",
    "1. Произведена предобработка данных (Числовые признаки приведены к стандартному виду  Категориальные признаки преобразованы методом One-Hot Encoder.\n",
    "\n",
    "2. Было установлено, что целевой признак имеет дисбаланс классов и распределен в сооотношении 4:1\n",
    "\n",
    "3. В столбце Tenure(количество лет, которые человек является клиентом банка) обнаружено около 10% пропусков. Проведена замена на медианное значение.\n",
    "\n",
    "4. Проведён анализ моделей без учёта дисбаланса классов.Обучены модели \"Решающее Дерево\", \"Случайный лес\", \"Логистическая Регрессия\" без учёта дисбаланса классов. Максимальное значение метрики f1 = 0.58 получено при обучении модели случайного леса.\n",
    "5. Проведён анализ дисбаланса классов. Взвешивание классов дало небольшой прирост f1, а downsampling отрицательного класса в четыре раза позволил сбалансировать классы. \n",
    "6. На новых данных отобрана лучшая модель(случайный лес, 'max_depth': 10, 'n_estimators': 35, которая показала  f1 = 0.61, roc_auc = 0.86 на тестовой выборке)\n",
    "7. Предлагаем использовать эту модель для анализа потенциального ухода клиентов."
   ]
  }
 ],
 "metadata": {
  "ExecuteTimeLog": [
   {
    "duration": 1183,
    "start_time": "2023-01-17T15:16:40.458Z"
   },
   {
    "duration": 198,
    "start_time": "2023-01-17T15:16:41.643Z"
   },
   {
    "duration": 602,
    "start_time": "2023-01-17T15:21:58.834Z"
   },
   {
    "duration": 12,
    "start_time": "2023-01-17T15:24:05.661Z"
   },
   {
    "duration": 1649,
    "start_time": "2023-01-23T21:00:21.244Z"
   },
   {
    "duration": 111,
    "start_time": "2023-01-23T21:00:22.895Z"
   },
   {
    "duration": 127,
    "start_time": "2023-01-23T21:03:22.420Z"
   },
   {
    "duration": 13,
    "start_time": "2023-01-23T21:03:39.847Z"
   },
   {
    "duration": 62,
    "start_time": "2023-01-23T21:03:40.965Z"
   },
   {
    "duration": 17,
    "start_time": "2023-01-23T21:03:47.482Z"
   },
   {
    "duration": 7,
    "start_time": "2023-01-23T21:04:12.272Z"
   },
   {
    "duration": 45,
    "start_time": "2023-01-23T21:05:42.044Z"
   },
   {
    "duration": 51,
    "start_time": "2023-01-23T21:08:51.769Z"
   },
   {
    "duration": 456,
    "start_time": "2023-01-23T21:09:52.590Z"
   },
   {
    "duration": 377,
    "start_time": "2023-01-23T21:10:00.244Z"
   },
   {
    "duration": 375,
    "start_time": "2023-01-23T21:10:09.852Z"
   },
   {
    "duration": 249,
    "start_time": "2023-01-23T21:10:18.885Z"
   },
   {
    "duration": 401,
    "start_time": "2023-01-23T21:10:24.601Z"
   },
   {
    "duration": 398,
    "start_time": "2023-01-23T21:10:28.300Z"
   },
   {
    "duration": 401,
    "start_time": "2023-01-23T21:10:32.641Z"
   },
   {
    "duration": 373,
    "start_time": "2023-01-23T21:10:42.832Z"
   },
   {
    "duration": 393,
    "start_time": "2023-01-23T21:10:47.444Z"
   },
   {
    "duration": 149,
    "start_time": "2023-01-23T21:10:55.384Z"
   },
   {
    "duration": 373,
    "start_time": "2023-01-23T21:11:02.844Z"
   },
   {
    "duration": 5,
    "start_time": "2023-01-23T21:21:33.553Z"
   },
   {
    "duration": 5,
    "start_time": "2023-01-23T21:26:33.314Z"
   },
   {
    "duration": 882,
    "start_time": "2023-01-23T21:27:52.985Z"
   },
   {
    "duration": 942,
    "start_time": "2023-01-23T21:27:58.407Z"
   },
   {
    "duration": 941,
    "start_time": "2023-01-23T21:31:52.652Z"
   },
   {
    "duration": 13,
    "start_time": "2023-01-23T21:40:29.333Z"
   },
   {
    "duration": 6,
    "start_time": "2023-01-23T21:40:42.693Z"
   },
   {
    "duration": 3,
    "start_time": "2023-01-23T21:41:57.145Z"
   },
   {
    "duration": 13,
    "start_time": "2023-01-23T21:41:57.945Z"
   },
   {
    "duration": 4,
    "start_time": "2023-01-23T21:42:28.025Z"
   },
   {
    "duration": 59,
    "start_time": "2023-01-23T21:42:28.400Z"
   },
   {
    "duration": 42,
    "start_time": "2023-01-23T21:42:28.518Z"
   },
   {
    "duration": 631,
    "start_time": "2023-01-23T21:42:28.659Z"
   },
   {
    "duration": 419,
    "start_time": "2023-01-23T21:42:29.292Z"
   },
   {
    "duration": 16,
    "start_time": "2023-01-23T21:42:29.713Z"
   },
   {
    "duration": 1075,
    "start_time": "2023-01-23T21:42:30.352Z"
   },
   {
    "duration": 5,
    "start_time": "2023-01-23T21:42:31.452Z"
   },
   {
    "duration": 4,
    "start_time": "2023-01-23T21:42:32.640Z"
   },
   {
    "duration": 7,
    "start_time": "2023-01-23T21:42:33.447Z"
   },
   {
    "duration": 3,
    "start_time": "2023-01-23T21:42:36.161Z"
   },
   {
    "duration": 18,
    "start_time": "2023-01-23T21:42:37.359Z"
   },
   {
    "duration": 35,
    "start_time": "2023-01-23T21:43:34.852Z"
   },
   {
    "duration": 14,
    "start_time": "2023-01-23T21:44:50.487Z"
   },
   {
    "duration": 22,
    "start_time": "2023-01-23T21:44:52.005Z"
   },
   {
    "duration": 7,
    "start_time": "2023-01-23T21:51:55.693Z"
   },
   {
    "duration": 33,
    "start_time": "2023-01-23T21:51:56.324Z"
   },
   {
    "duration": 1267,
    "start_time": "2023-01-23T21:56:16.087Z"
   },
   {
    "duration": 6,
    "start_time": "2023-01-23T21:56:37.628Z"
   },
   {
    "duration": 61,
    "start_time": "2023-01-23T21:56:37.644Z"
   },
   {
    "duration": 62,
    "start_time": "2023-01-23T21:56:37.708Z"
   },
   {
    "duration": 661,
    "start_time": "2023-01-23T21:56:37.772Z"
   },
   {
    "duration": 423,
    "start_time": "2023-01-23T21:56:38.441Z"
   },
   {
    "duration": 15,
    "start_time": "2023-01-23T21:56:38.868Z"
   },
   {
    "duration": 1264,
    "start_time": "2023-01-23T21:56:38.885Z"
   },
   {
    "duration": 5,
    "start_time": "2023-01-23T21:56:40.152Z"
   },
   {
    "duration": 11,
    "start_time": "2023-01-23T21:56:40.159Z"
   },
   {
    "duration": 12,
    "start_time": "2023-01-23T21:56:40.173Z"
   },
   {
    "duration": 6,
    "start_time": "2023-01-23T21:56:40.187Z"
   },
   {
    "duration": 20,
    "start_time": "2023-01-23T21:56:40.195Z"
   },
   {
    "duration": 32,
    "start_time": "2023-01-23T21:56:40.217Z"
   },
   {
    "duration": 25,
    "start_time": "2023-01-23T21:56:40.251Z"
   },
   {
    "duration": 11,
    "start_time": "2023-01-23T21:58:02.265Z"
   },
   {
    "duration": 5,
    "start_time": "2023-01-23T21:58:13.124Z"
   },
   {
    "duration": 5,
    "start_time": "2023-01-23T21:58:45.084Z"
   },
   {
    "duration": 10,
    "start_time": "2023-01-23T21:59:08.264Z"
   },
   {
    "duration": 6,
    "start_time": "2023-01-23T21:59:57.405Z"
   },
   {
    "duration": 11,
    "start_time": "2023-01-23T22:02:41.284Z"
   },
   {
    "duration": 14,
    "start_time": "2023-01-23T22:03:11.440Z"
   },
   {
    "duration": 65118,
    "start_time": "2023-01-23T22:03:25.613Z"
   },
   {
    "duration": 36,
    "start_time": "2023-01-23T22:06:22.532Z"
   },
   {
    "duration": 64106,
    "start_time": "2023-01-23T22:06:33.765Z"
   },
   {
    "duration": 6,
    "start_time": "2023-01-23T22:08:20.744Z"
   },
   {
    "duration": 6,
    "start_time": "2023-01-23T22:08:30.238Z"
   },
   {
    "duration": 21,
    "start_time": "2023-01-23T22:08:52.084Z"
   },
   {
    "duration": 11,
    "start_time": "2023-01-23T22:11:06.678Z"
   },
   {
    "duration": 3467,
    "start_time": "2023-01-23T22:11:34.487Z"
   },
   {
    "duration": 12,
    "start_time": "2023-01-23T22:14:04.104Z"
   },
   {
    "duration": 4,
    "start_time": "2023-01-23T22:16:56.184Z"
   },
   {
    "duration": 10,
    "start_time": "2023-01-23T22:16:57.392Z"
   },
   {
    "duration": 5,
    "start_time": "2023-01-23T22:16:58.245Z"
   },
   {
    "duration": 20,
    "start_time": "2023-01-23T22:18:41.568Z"
   },
   {
    "duration": 85,
    "start_time": "2023-01-23T22:18:41.590Z"
   },
   {
    "duration": 39,
    "start_time": "2023-01-23T22:18:41.677Z"
   },
   {
    "duration": 578,
    "start_time": "2023-01-23T22:18:41.717Z"
   },
   {
    "duration": 380,
    "start_time": "2023-01-23T22:18:42.299Z"
   },
   {
    "duration": 12,
    "start_time": "2023-01-23T22:18:42.681Z"
   },
   {
    "duration": 1069,
    "start_time": "2023-01-23T22:18:42.695Z"
   },
   {
    "duration": 5,
    "start_time": "2023-01-23T22:18:43.765Z"
   },
   {
    "duration": 47,
    "start_time": "2023-01-23T22:18:43.772Z"
   },
   {
    "duration": 45,
    "start_time": "2023-01-23T22:18:43.821Z"
   },
   {
    "duration": 48,
    "start_time": "2023-01-23T22:18:43.868Z"
   },
   {
    "duration": 58,
    "start_time": "2023-01-23T22:18:43.918Z"
   },
   {
    "duration": 61,
    "start_time": "2023-01-23T22:18:43.977Z"
   },
   {
    "duration": 53,
    "start_time": "2023-01-23T22:18:44.039Z"
   },
   {
    "duration": 15,
    "start_time": "2023-01-23T22:18:44.094Z"
   },
   {
    "duration": 51,
    "start_time": "2023-01-23T22:18:44.110Z"
   },
   {
    "duration": 58,
    "start_time": "2023-01-23T22:18:44.164Z"
   },
   {
    "duration": 62816,
    "start_time": "2023-01-23T22:18:44.224Z"
   },
   {
    "duration": 3517,
    "start_time": "2023-01-23T22:19:47.041Z"
   },
   {
    "duration": 34487,
    "start_time": "2023-01-23T22:19:50.560Z"
   },
   {
    "duration": 101,
    "start_time": "2023-01-23T22:20:25.049Z"
   },
   {
    "duration": 0,
    "start_time": "2023-01-23T22:20:25.153Z"
   },
   {
    "duration": 0,
    "start_time": "2023-01-23T22:20:25.240Z"
   },
   {
    "duration": 0,
    "start_time": "2023-01-23T22:20:25.241Z"
   },
   {
    "duration": 5,
    "start_time": "2023-01-23T22:21:12.912Z"
   },
   {
    "duration": 61,
    "start_time": "2023-01-23T22:21:12.919Z"
   },
   {
    "duration": 46,
    "start_time": "2023-01-23T22:21:12.982Z"
   },
   {
    "duration": 553,
    "start_time": "2023-01-23T22:21:13.029Z"
   },
   {
    "duration": 401,
    "start_time": "2023-01-23T22:21:13.584Z"
   },
   {
    "duration": 11,
    "start_time": "2023-01-23T22:21:13.987Z"
   },
   {
    "duration": 1065,
    "start_time": "2023-01-23T22:21:13.999Z"
   },
   {
    "duration": 6,
    "start_time": "2023-01-23T22:21:15.066Z"
   },
   {
    "duration": 25,
    "start_time": "2023-01-23T22:21:15.074Z"
   },
   {
    "duration": 35,
    "start_time": "2023-01-23T22:21:15.101Z"
   },
   {
    "duration": 24,
    "start_time": "2023-01-23T22:21:15.138Z"
   },
   {
    "duration": 45,
    "start_time": "2023-01-23T22:21:15.164Z"
   },
   {
    "duration": 17,
    "start_time": "2023-01-23T22:21:15.211Z"
   },
   {
    "duration": 44,
    "start_time": "2023-01-23T22:21:15.231Z"
   },
   {
    "duration": 13,
    "start_time": "2023-01-23T22:21:15.277Z"
   },
   {
    "duration": 34,
    "start_time": "2023-01-23T22:21:15.291Z"
   },
   {
    "duration": 50,
    "start_time": "2023-01-23T22:21:15.327Z"
   },
   {
    "duration": 63338,
    "start_time": "2023-01-23T22:21:15.379Z"
   },
   {
    "duration": 3553,
    "start_time": "2023-01-23T22:22:18.719Z"
   },
   {
    "duration": 31775,
    "start_time": "2023-01-23T22:22:22.274Z"
   },
   {
    "duration": 186,
    "start_time": "2023-01-23T22:22:54.054Z"
   },
   {
    "duration": 0,
    "start_time": "2023-01-23T22:22:54.242Z"
   },
   {
    "duration": 0,
    "start_time": "2023-01-23T22:22:54.244Z"
   },
   {
    "duration": 0,
    "start_time": "2023-01-23T22:22:54.245Z"
   },
   {
    "duration": 5,
    "start_time": "2023-01-23T22:24:22.964Z"
   },
   {
    "duration": 63671,
    "start_time": "2023-01-23T22:24:38.264Z"
   },
   {
    "duration": 41,
    "start_time": "2023-01-23T22:27:40.720Z"
   },
   {
    "duration": 625,
    "start_time": "2023-01-23T22:27:56.727Z"
   },
   {
    "duration": 278,
    "start_time": "2023-01-23T22:28:15.164Z"
   },
   {
    "duration": 27703,
    "start_time": "2023-01-23T22:31:09.446Z"
   },
   {
    "duration": 689,
    "start_time": "2023-01-23T22:31:37.151Z"
   },
   {
    "duration": 330,
    "start_time": "2023-01-23T22:31:56.512Z"
   },
   {
    "duration": 617,
    "start_time": "2023-01-23T22:33:07.129Z"
   },
   {
    "duration": 765,
    "start_time": "2023-01-23T22:34:02.984Z"
   },
   {
    "duration": 13,
    "start_time": "2023-01-23T22:35:22.364Z"
   },
   {
    "duration": 767,
    "start_time": "2023-01-23T22:35:37.784Z"
   },
   {
    "duration": 397,
    "start_time": "2023-01-23T22:36:03.845Z"
   },
   {
    "duration": 398,
    "start_time": "2023-01-23T22:37:18.345Z"
   },
   {
    "duration": 82799,
    "start_time": "2023-01-23T22:39:17.247Z"
   },
   {
    "duration": 5,
    "start_time": "2023-01-23T22:40:54.852Z"
   },
   {
    "duration": 1484,
    "start_time": "2023-01-23T22:52:44.034Z"
   },
   {
    "duration": 68,
    "start_time": "2023-01-23T22:52:45.520Z"
   },
   {
    "duration": 50,
    "start_time": "2023-01-23T22:52:45.590Z"
   },
   {
    "duration": 569,
    "start_time": "2023-01-23T22:52:45.641Z"
   },
   {
    "duration": 397,
    "start_time": "2023-01-23T22:52:46.212Z"
   },
   {
    "duration": 12,
    "start_time": "2023-01-23T22:52:46.611Z"
   },
   {
    "duration": 1154,
    "start_time": "2023-01-23T22:52:46.624Z"
   },
   {
    "duration": 6,
    "start_time": "2023-01-23T22:52:47.779Z"
   },
   {
    "duration": 17,
    "start_time": "2023-01-23T22:52:47.786Z"
   },
   {
    "duration": 27,
    "start_time": "2023-01-23T22:52:47.805Z"
   },
   {
    "duration": 18,
    "start_time": "2023-01-23T22:52:47.834Z"
   },
   {
    "duration": 36,
    "start_time": "2023-01-23T22:52:47.854Z"
   },
   {
    "duration": 23,
    "start_time": "2023-01-23T22:52:47.892Z"
   },
   {
    "duration": 36,
    "start_time": "2023-01-23T22:52:47.918Z"
   },
   {
    "duration": 5,
    "start_time": "2023-01-23T22:52:47.956Z"
   },
   {
    "duration": 17,
    "start_time": "2023-01-23T22:52:47.963Z"
   },
   {
    "duration": 126,
    "start_time": "2023-01-23T22:52:47.982Z"
   },
   {
    "duration": 0,
    "start_time": "2023-01-23T22:52:48.109Z"
   },
   {
    "duration": 0,
    "start_time": "2023-01-23T22:52:48.111Z"
   },
   {
    "duration": 0,
    "start_time": "2023-01-23T22:52:48.113Z"
   },
   {
    "duration": 0,
    "start_time": "2023-01-23T22:52:48.114Z"
   },
   {
    "duration": 0,
    "start_time": "2023-01-23T22:52:48.115Z"
   },
   {
    "duration": 0,
    "start_time": "2023-01-23T22:52:48.116Z"
   },
   {
    "duration": 4,
    "start_time": "2023-01-23T22:53:32.568Z"
   },
   {
    "duration": 63135,
    "start_time": "2023-01-23T22:53:38.853Z"
   },
   {
    "duration": 3427,
    "start_time": "2023-01-23T22:54:51.768Z"
   },
   {
    "duration": 936,
    "start_time": "2023-01-23T22:54:58.809Z"
   },
   {
    "duration": 8010,
    "start_time": "2023-01-23T22:55:16.033Z"
   },
   {
    "duration": 52735,
    "start_time": "2023-01-23T22:58:11.812Z"
   },
   {
    "duration": 5123,
    "start_time": "2023-01-23T22:59:25.527Z"
   },
   {
    "duration": 1481,
    "start_time": "2023-01-23T23:03:53.233Z"
   },
   {
    "duration": 74,
    "start_time": "2023-01-23T23:03:54.716Z"
   },
   {
    "duration": 52,
    "start_time": "2023-01-23T23:03:54.791Z"
   },
   {
    "duration": 597,
    "start_time": "2023-01-23T23:03:54.846Z"
   },
   {
    "duration": 420,
    "start_time": "2023-01-23T23:03:55.446Z"
   },
   {
    "duration": 12,
    "start_time": "2023-01-23T23:03:55.868Z"
   },
   {
    "duration": 1200,
    "start_time": "2023-01-23T23:03:55.882Z"
   },
   {
    "duration": 7,
    "start_time": "2023-01-23T23:03:57.085Z"
   },
   {
    "duration": 24,
    "start_time": "2023-01-23T23:03:57.094Z"
   },
   {
    "duration": 25,
    "start_time": "2023-01-23T23:03:57.121Z"
   },
   {
    "duration": 12,
    "start_time": "2023-01-23T23:03:57.149Z"
   },
   {
    "duration": 47,
    "start_time": "2023-01-23T23:03:57.163Z"
   },
   {
    "duration": 13,
    "start_time": "2023-01-23T23:03:57.213Z"
   },
   {
    "duration": 39,
    "start_time": "2023-01-23T23:03:57.230Z"
   },
   {
    "duration": 5,
    "start_time": "2023-01-23T23:03:57.271Z"
   },
   {
    "duration": 24,
    "start_time": "2023-01-23T23:03:57.278Z"
   },
   {
    "duration": 27,
    "start_time": "2023-01-23T23:03:57.305Z"
   },
   {
    "duration": 4107,
    "start_time": "2023-01-23T23:03:57.334Z"
   },
   {
    "duration": 1461,
    "start_time": "2023-01-23T23:05:21.466Z"
   },
   {
    "duration": 67,
    "start_time": "2023-01-23T23:05:22.929Z"
   },
   {
    "duration": 42,
    "start_time": "2023-01-23T23:05:22.997Z"
   },
   {
    "duration": 579,
    "start_time": "2023-01-23T23:05:23.040Z"
   },
   {
    "duration": 392,
    "start_time": "2023-01-23T23:05:23.621Z"
   },
   {
    "duration": 13,
    "start_time": "2023-01-23T23:05:24.015Z"
   },
   {
    "duration": 1126,
    "start_time": "2023-01-23T23:05:24.039Z"
   },
   {
    "duration": 6,
    "start_time": "2023-01-23T23:05:25.166Z"
   },
   {
    "duration": 15,
    "start_time": "2023-01-23T23:05:25.174Z"
   },
   {
    "duration": 23,
    "start_time": "2023-01-23T23:05:25.191Z"
   },
   {
    "duration": 18,
    "start_time": "2023-01-23T23:05:25.216Z"
   },
   {
    "duration": 32,
    "start_time": "2023-01-23T23:05:25.236Z"
   },
   {
    "duration": 19,
    "start_time": "2023-01-23T23:05:25.270Z"
   },
   {
    "duration": 37,
    "start_time": "2023-01-23T23:05:25.292Z"
   },
   {
    "duration": 6,
    "start_time": "2023-01-23T23:05:25.331Z"
   },
   {
    "duration": 30,
    "start_time": "2023-01-23T23:05:25.339Z"
   },
   {
    "duration": 51,
    "start_time": "2023-01-23T23:05:25.371Z"
   },
   {
    "duration": 3630,
    "start_time": "2023-01-23T23:05:25.424Z"
   },
   {
    "duration": 2099,
    "start_time": "2023-01-23T23:06:32.848Z"
   },
   {
    "duration": 5,
    "start_time": "2023-01-23T23:06:34.949Z"
   },
   {
    "duration": 6,
    "start_time": "2023-01-23T23:06:34.956Z"
   },
   {
    "duration": 133,
    "start_time": "2023-01-23T23:06:34.963Z"
   },
   {
    "duration": 0,
    "start_time": "2023-01-23T23:06:35.100Z"
   },
   {
    "duration": 63654,
    "start_time": "2023-01-23T23:07:02.372Z"
   },
   {
    "duration": 26,
    "start_time": "2023-01-23T23:08:06.028Z"
   },
   {
    "duration": 6,
    "start_time": "2023-01-23T23:09:36.063Z"
   },
   {
    "duration": 66,
    "start_time": "2023-01-23T23:09:36.071Z"
   },
   {
    "duration": 49,
    "start_time": "2023-01-23T23:09:36.139Z"
   },
   {
    "duration": 641,
    "start_time": "2023-01-23T23:09:36.190Z"
   },
   {
    "duration": 389,
    "start_time": "2023-01-23T23:09:36.833Z"
   },
   {
    "duration": 20,
    "start_time": "2023-01-23T23:09:37.224Z"
   },
   {
    "duration": 1098,
    "start_time": "2023-01-23T23:09:37.247Z"
   },
   {
    "duration": 5,
    "start_time": "2023-01-23T23:09:38.347Z"
   },
   {
    "duration": 33,
    "start_time": "2023-01-23T23:09:38.356Z"
   },
   {
    "duration": 21,
    "start_time": "2023-01-23T23:09:38.391Z"
   },
   {
    "duration": 24,
    "start_time": "2023-01-23T23:09:38.414Z"
   },
   {
    "duration": 57,
    "start_time": "2023-01-23T23:09:38.440Z"
   },
   {
    "duration": 24,
    "start_time": "2023-01-23T23:09:38.499Z"
   },
   {
    "duration": 38,
    "start_time": "2023-01-23T23:09:38.525Z"
   },
   {
    "duration": 8,
    "start_time": "2023-01-23T23:09:38.566Z"
   },
   {
    "duration": 32,
    "start_time": "2023-01-23T23:09:38.576Z"
   },
   {
    "duration": 27,
    "start_time": "2023-01-23T23:09:38.610Z"
   },
   {
    "duration": 6510,
    "start_time": "2023-01-23T23:09:38.639Z"
   },
   {
    "duration": 71,
    "start_time": "2023-01-23T23:11:28.800Z"
   },
   {
    "duration": 1441,
    "start_time": "2023-01-23T23:11:42.285Z"
   },
   {
    "duration": 69,
    "start_time": "2023-01-23T23:11:50.033Z"
   },
   {
    "duration": 44,
    "start_time": "2023-01-23T23:11:50.880Z"
   },
   {
    "duration": 591,
    "start_time": "2023-01-23T23:11:51.528Z"
   },
   {
    "duration": 404,
    "start_time": "2023-01-23T23:11:52.121Z"
   },
   {
    "duration": 11,
    "start_time": "2023-01-23T23:11:53.144Z"
   },
   {
    "duration": 1103,
    "start_time": "2023-01-23T23:11:55.453Z"
   },
   {
    "duration": 7,
    "start_time": "2023-01-23T23:11:57.813Z"
   },
   {
    "duration": 5,
    "start_time": "2023-01-23T23:12:02.160Z"
   },
   {
    "duration": 6,
    "start_time": "2023-01-23T23:12:04.093Z"
   },
   {
    "duration": 3,
    "start_time": "2023-01-23T23:12:06.160Z"
   },
   {
    "duration": 16,
    "start_time": "2023-01-23T23:12:07.600Z"
   },
   {
    "duration": 11,
    "start_time": "2023-01-23T23:12:12.744Z"
   },
   {
    "duration": 25,
    "start_time": "2023-01-23T23:12:14.241Z"
   },
   {
    "duration": 6,
    "start_time": "2023-01-23T23:12:17.125Z"
   },
   {
    "duration": 8,
    "start_time": "2023-01-23T23:12:23.252Z"
   },
   {
    "duration": 5,
    "start_time": "2023-01-23T23:12:24.032Z"
   },
   {
    "duration": 3702,
    "start_time": "2023-01-23T23:12:27.940Z"
   },
   {
    "duration": 63727,
    "start_time": "2023-01-23T23:12:42.445Z"
   },
   {
    "duration": 2153,
    "start_time": "2023-01-23T23:15:25.440Z"
   },
   {
    "duration": 5,
    "start_time": "2023-01-23T23:17:55.072Z"
   },
   {
    "duration": 6,
    "start_time": "2023-01-23T23:18:05.052Z"
   },
   {
    "duration": 107,
    "start_time": "2023-01-23T23:18:05.945Z"
   },
   {
    "duration": 6,
    "start_time": "2023-01-23T23:18:57.172Z"
   },
   {
    "duration": 20,
    "start_time": "2023-01-23T23:18:57.864Z"
   },
   {
    "duration": 6,
    "start_time": "2023-01-23T23:19:08.693Z"
   },
   {
    "duration": 17,
    "start_time": "2023-01-23T23:19:09.473Z"
   },
   {
    "duration": 10,
    "start_time": "2023-01-23T23:19:15.205Z"
   },
   {
    "duration": 7,
    "start_time": "2023-01-23T23:19:28.160Z"
   },
   {
    "duration": 7,
    "start_time": "2023-01-23T23:20:00.025Z"
   },
   {
    "duration": 21,
    "start_time": "2023-01-23T23:20:31.045Z"
   },
   {
    "duration": 7,
    "start_time": "2023-01-23T23:20:31.840Z"
   },
   {
    "duration": 8,
    "start_time": "2023-01-23T23:20:41.999Z"
   },
   {
    "duration": 5,
    "start_time": "2023-01-23T23:20:49.173Z"
   },
   {
    "duration": 4,
    "start_time": "2023-01-23T23:20:50.008Z"
   },
   {
    "duration": 16,
    "start_time": "2023-01-23T23:20:51.232Z"
   },
   {
    "duration": 8,
    "start_time": "2023-01-23T23:20:53.648Z"
   },
   {
    "duration": 55,
    "start_time": "2023-01-23T23:21:54.245Z"
   },
   {
    "duration": 1714,
    "start_time": "2023-01-23T23:22:10.568Z"
   },
   {
    "duration": 54208,
    "start_time": "2023-01-23T23:22:50.593Z"
   },
   {
    "duration": 10,
    "start_time": "2023-01-23T23:25:30.773Z"
   },
   {
    "duration": 475,
    "start_time": "2023-01-23T23:26:17.520Z"
   },
   {
    "duration": 460,
    "start_time": "2023-01-23T23:28:00.193Z"
   },
   {
    "duration": 467,
    "start_time": "2023-01-23T23:28:15.526Z"
   },
   {
    "duration": 481,
    "start_time": "2023-01-23T23:28:18.560Z"
   },
   {
    "duration": 447,
    "start_time": "2023-01-23T23:28:25.385Z"
   },
   {
    "duration": 442,
    "start_time": "2023-01-23T23:28:31.600Z"
   },
   {
    "duration": 57,
    "start_time": "2023-01-23T23:29:23.293Z"
   },
   {
    "duration": 52,
    "start_time": "2023-01-23T23:29:35.528Z"
   },
   {
    "duration": 50,
    "start_time": "2023-01-23T23:29:39.685Z"
   },
   {
    "duration": 460,
    "start_time": "2023-01-23T23:29:47.048Z"
   },
   {
    "duration": 49,
    "start_time": "2023-01-23T23:30:15.625Z"
   },
   {
    "duration": 58,
    "start_time": "2023-01-23T23:30:24.093Z"
   },
   {
    "duration": 48,
    "start_time": "2023-01-23T23:30:29.165Z"
   },
   {
    "duration": 46,
    "start_time": "2023-01-23T23:30:32.525Z"
   },
   {
    "duration": 50,
    "start_time": "2023-01-23T23:30:46.093Z"
   },
   {
    "duration": 439,
    "start_time": "2023-01-23T23:31:54.293Z"
   },
   {
    "duration": 50,
    "start_time": "2023-01-23T23:33:14.088Z"
   },
   {
    "duration": 55,
    "start_time": "2023-01-23T23:33:36.573Z"
   },
   {
    "duration": 47,
    "start_time": "2023-01-23T23:33:43.165Z"
   },
   {
    "duration": 24,
    "start_time": "2023-01-23T23:34:22.168Z"
   },
   {
    "duration": 43,
    "start_time": "2023-01-23T23:34:37.305Z"
   },
   {
    "duration": 110,
    "start_time": "2023-01-23T23:35:06.993Z"
   },
   {
    "duration": 44,
    "start_time": "2023-01-23T23:35:14.808Z"
   },
   {
    "duration": 47,
    "start_time": "2023-01-23T23:35:30.186Z"
   },
   {
    "duration": 43,
    "start_time": "2023-01-23T23:35:40.320Z"
   },
   {
    "duration": 9,
    "start_time": "2023-01-23T23:36:37.065Z"
   },
   {
    "duration": 4,
    "start_time": "2023-01-23T23:38:04.853Z"
   },
   {
    "duration": 9,
    "start_time": "2023-01-23T23:38:13.093Z"
   },
   {
    "duration": 12,
    "start_time": "2023-01-23T23:38:28.889Z"
   },
   {
    "duration": 10,
    "start_time": "2023-01-23T23:38:49.440Z"
   },
   {
    "duration": 5,
    "start_time": "2023-01-23T23:39:07.093Z"
   },
   {
    "duration": 65,
    "start_time": "2023-01-23T23:39:07.100Z"
   },
   {
    "duration": 44,
    "start_time": "2023-01-23T23:39:07.166Z"
   },
   {
    "duration": 575,
    "start_time": "2023-01-23T23:39:07.213Z"
   },
   {
    "duration": 411,
    "start_time": "2023-01-23T23:39:07.789Z"
   },
   {
    "duration": 12,
    "start_time": "2023-01-23T23:39:08.201Z"
   },
   {
    "duration": 1097,
    "start_time": "2023-01-23T23:39:08.215Z"
   },
   {
    "duration": 4,
    "start_time": "2023-01-23T23:39:09.314Z"
   },
   {
    "duration": 4,
    "start_time": "2023-01-23T23:39:09.321Z"
   },
   {
    "duration": 10,
    "start_time": "2023-01-23T23:39:09.339Z"
   },
   {
    "duration": 3,
    "start_time": "2023-01-23T23:39:09.351Z"
   },
   {
    "duration": 16,
    "start_time": "2023-01-23T23:39:09.356Z"
   },
   {
    "duration": 9,
    "start_time": "2023-01-23T23:39:09.374Z"
   },
   {
    "duration": 23,
    "start_time": "2023-01-23T23:39:09.385Z"
   },
   {
    "duration": 33,
    "start_time": "2023-01-23T23:39:09.410Z"
   },
   {
    "duration": 8,
    "start_time": "2023-01-23T23:39:09.445Z"
   },
   {
    "duration": 8,
    "start_time": "2023-01-23T23:39:09.454Z"
   },
   {
    "duration": 7979,
    "start_time": "2023-01-23T23:39:09.463Z"
   },
   {
    "duration": 62161,
    "start_time": "2023-01-23T23:39:17.445Z"
   },
   {
    "duration": 2066,
    "start_time": "2023-01-23T23:40:19.608Z"
   },
   {
    "duration": 4,
    "start_time": "2023-01-23T23:40:21.676Z"
   },
   {
    "duration": 6,
    "start_time": "2023-01-23T23:40:21.682Z"
   },
   {
    "duration": 18,
    "start_time": "2023-01-23T23:40:21.690Z"
   },
   {
    "duration": 6,
    "start_time": "2023-01-23T23:40:21.711Z"
   },
   {
    "duration": 1643,
    "start_time": "2023-01-23T23:40:21.741Z"
   },
   {
    "duration": 52871,
    "start_time": "2023-01-23T23:40:23.386Z"
   },
   {
    "duration": 469,
    "start_time": "2023-01-23T23:41:16.259Z"
   },
   {
    "duration": 13,
    "start_time": "2023-01-23T23:41:16.730Z"
   },
   {
    "duration": 45,
    "start_time": "2023-01-23T23:41:16.744Z"
   },
   {
    "duration": 10,
    "start_time": "2023-01-23T23:41:16.791Z"
   },
   {
    "duration": 47,
    "start_time": "2023-01-23T23:42:07.333Z"
   },
   {
    "duration": 40,
    "start_time": "2023-01-23T23:42:13.085Z"
   },
   {
    "duration": 448,
    "start_time": "2023-01-23T23:46:28.986Z"
   },
   {
    "duration": 6,
    "start_time": "2023-01-23T23:47:51.133Z"
   },
   {
    "duration": 15,
    "start_time": "2023-01-23T23:47:56.089Z"
   },
   {
    "duration": 7,
    "start_time": "2023-01-23T23:47:56.985Z"
   },
   {
    "duration": 17,
    "start_time": "2023-01-23T23:48:02.248Z"
   },
   {
    "duration": 6,
    "start_time": "2023-01-23T23:48:02.685Z"
   },
   {
    "duration": 16,
    "start_time": "2023-01-23T23:48:07.473Z"
   },
   {
    "duration": 7,
    "start_time": "2023-01-23T23:48:08.080Z"
   },
   {
    "duration": 1724,
    "start_time": "2023-01-23T23:48:22.525Z"
   },
   {
    "duration": 30,
    "start_time": "2023-01-23T23:56:52.373Z"
   },
   {
    "duration": 233,
    "start_time": "2023-01-23T23:59:02.249Z"
   },
   {
    "duration": 1441,
    "start_time": "2023-01-23T23:59:26.985Z"
   },
   {
    "duration": 76,
    "start_time": "2023-01-23T23:59:28.429Z"
   },
   {
    "duration": 40,
    "start_time": "2023-01-23T23:59:28.507Z"
   },
   {
    "duration": 583,
    "start_time": "2023-01-23T23:59:28.549Z"
   },
   {
    "duration": 376,
    "start_time": "2023-01-23T23:59:29.133Z"
   },
   {
    "duration": 13,
    "start_time": "2023-01-23T23:59:29.512Z"
   },
   {
    "duration": 1081,
    "start_time": "2023-01-23T23:59:29.539Z"
   },
   {
    "duration": 19,
    "start_time": "2023-01-23T23:59:30.622Z"
   },
   {
    "duration": 4,
    "start_time": "2023-01-23T23:59:30.643Z"
   },
   {
    "duration": 25,
    "start_time": "2023-01-23T23:59:30.650Z"
   },
   {
    "duration": 28,
    "start_time": "2023-01-23T23:59:30.677Z"
   },
   {
    "duration": 52,
    "start_time": "2023-01-23T23:59:30.707Z"
   },
   {
    "duration": 40,
    "start_time": "2023-01-23T23:59:30.761Z"
   },
   {
    "duration": 56,
    "start_time": "2023-01-23T23:59:30.803Z"
   },
   {
    "duration": 17,
    "start_time": "2023-01-23T23:59:30.861Z"
   },
   {
    "duration": 27,
    "start_time": "2023-01-23T23:59:30.880Z"
   },
   {
    "duration": 33,
    "start_time": "2023-01-23T23:59:30.909Z"
   },
   {
    "duration": 4903,
    "start_time": "2023-01-23T23:59:30.944Z"
   },
   {
    "duration": 61961,
    "start_time": "2023-01-23T23:59:35.849Z"
   },
   {
    "duration": 317,
    "start_time": "2023-01-24T00:00:37.812Z"
   },
   {
    "duration": 0,
    "start_time": "2023-01-24T00:00:38.131Z"
   },
   {
    "duration": 0,
    "start_time": "2023-01-24T00:00:38.140Z"
   },
   {
    "duration": 0,
    "start_time": "2023-01-24T00:00:38.142Z"
   },
   {
    "duration": 0,
    "start_time": "2023-01-24T00:00:38.143Z"
   },
   {
    "duration": 0,
    "start_time": "2023-01-24T00:00:38.144Z"
   },
   {
    "duration": 0,
    "start_time": "2023-01-24T00:00:38.145Z"
   },
   {
    "duration": 0,
    "start_time": "2023-01-24T00:00:38.146Z"
   },
   {
    "duration": 0,
    "start_time": "2023-01-24T00:00:38.147Z"
   },
   {
    "duration": 1,
    "start_time": "2023-01-24T00:00:38.148Z"
   },
   {
    "duration": 0,
    "start_time": "2023-01-24T00:00:38.149Z"
   },
   {
    "duration": 0,
    "start_time": "2023-01-24T00:00:38.150Z"
   },
   {
    "duration": 0,
    "start_time": "2023-01-24T00:00:38.151Z"
   },
   {
    "duration": 0,
    "start_time": "2023-01-24T00:00:38.153Z"
   },
   {
    "duration": 404,
    "start_time": "2023-01-24T00:00:49.313Z"
   },
   {
    "duration": 420,
    "start_time": "2023-01-24T00:01:00.593Z"
   },
   {
    "duration": 2019,
    "start_time": "2023-01-24T00:02:01.536Z"
   },
   {
    "duration": 30,
    "start_time": "2023-01-24T00:02:32.745Z"
   },
   {
    "duration": 61147,
    "start_time": "2023-01-24T00:02:42.853Z"
   },
   {
    "duration": 396,
    "start_time": "2023-01-24T00:06:09.953Z"
   },
   {
    "duration": 397,
    "start_time": "2023-01-24T00:06:16.826Z"
   },
   {
    "duration": 450,
    "start_time": "2023-01-24T00:06:21.209Z"
   },
   {
    "duration": 424,
    "start_time": "2023-01-24T00:06:25.925Z"
   },
   {
    "duration": 403,
    "start_time": "2023-01-24T00:06:30.844Z"
   },
   {
    "duration": 1971,
    "start_time": "2023-01-24T00:06:51.840Z"
   },
   {
    "duration": 31,
    "start_time": "2023-01-24T00:06:58.372Z"
   },
   {
    "duration": 5,
    "start_time": "2023-01-24T00:12:44.719Z"
   },
   {
    "duration": 4,
    "start_time": "2023-01-24T00:12:47.692Z"
   },
   {
    "duration": 15,
    "start_time": "2023-01-24T00:15:00.252Z"
   },
   {
    "duration": 7,
    "start_time": "2023-01-24T00:15:03.119Z"
   },
   {
    "duration": 1711,
    "start_time": "2023-01-24T00:15:10.895Z"
   },
   {
    "duration": 1686,
    "start_time": "2023-01-24T00:15:41.285Z"
   },
   {
    "duration": 462,
    "start_time": "2023-01-24T00:16:40.239Z"
   },
   {
    "duration": 53805,
    "start_time": "2023-01-24T00:16:58.857Z"
   },
   {
    "duration": 457,
    "start_time": "2023-01-24T00:20:31.725Z"
   },
   {
    "duration": 41,
    "start_time": "2023-01-24T00:20:58.940Z"
   },
   {
    "duration": 56,
    "start_time": "2023-01-24T00:21:03.890Z"
   },
   {
    "duration": 437,
    "start_time": "2023-01-24T00:22:01.972Z"
   },
   {
    "duration": 11,
    "start_time": "2023-01-24T00:22:23.144Z"
   },
   {
    "duration": 11,
    "start_time": "2023-01-24T00:24:01.572Z"
   },
   {
    "duration": 4,
    "start_time": "2023-01-24T00:24:26.284Z"
   },
   {
    "duration": 5,
    "start_time": "2023-01-24T00:24:31.679Z"
   },
   {
    "duration": 196,
    "start_time": "2023-01-24T00:24:43.864Z"
   },
   {
    "duration": 10,
    "start_time": "2023-01-24T00:35:23.135Z"
   },
   {
    "duration": 258,
    "start_time": "2023-01-24T00:35:34.344Z"
   },
   {
    "duration": 267,
    "start_time": "2023-01-24T00:36:49.020Z"
   },
   {
    "duration": 403,
    "start_time": "2023-01-24T00:46:02.807Z"
   },
   {
    "duration": 38,
    "start_time": "2023-01-24T00:48:41.520Z"
   },
   {
    "duration": 28,
    "start_time": "2023-01-24T00:48:53.073Z"
   },
   {
    "duration": 392,
    "start_time": "2023-01-24T00:49:06.352Z"
   },
   {
    "duration": 37,
    "start_time": "2023-01-24T00:52:15.960Z"
   },
   {
    "duration": 31,
    "start_time": "2023-01-24T00:52:29.544Z"
   },
   {
    "duration": 24,
    "start_time": "2023-01-24T00:52:39.704Z"
   },
   {
    "duration": 25,
    "start_time": "2023-01-24T00:52:45.073Z"
   },
   {
    "duration": 30,
    "start_time": "2023-01-24T00:52:51.688Z"
   },
   {
    "duration": 42,
    "start_time": "2023-01-24T00:53:35.392Z"
   },
   {
    "duration": 355,
    "start_time": "2023-01-24T00:55:34.764Z"
   },
   {
    "duration": 349,
    "start_time": "2023-01-24T00:55:46.165Z"
   },
   {
    "duration": 342,
    "start_time": "2023-01-24T00:55:52.512Z"
   },
   {
    "duration": 342,
    "start_time": "2023-01-24T00:55:56.584Z"
   },
   {
    "duration": 330,
    "start_time": "2023-01-24T00:56:01.928Z"
   },
   {
    "duration": 336,
    "start_time": "2023-01-24T00:56:08.335Z"
   },
   {
    "duration": 340,
    "start_time": "2023-01-24T00:56:15.313Z"
   },
   {
    "duration": 356,
    "start_time": "2023-01-24T00:56:19.045Z"
   },
   {
    "duration": 346,
    "start_time": "2023-01-24T00:56:25.245Z"
   },
   {
    "duration": 87,
    "start_time": "2023-01-24T00:57:26.293Z"
   },
   {
    "duration": 1530,
    "start_time": "2023-01-24T01:00:56.134Z"
   },
   {
    "duration": 71,
    "start_time": "2023-01-24T01:00:57.667Z"
   },
   {
    "duration": 44,
    "start_time": "2023-01-24T01:00:57.740Z"
   },
   {
    "duration": 656,
    "start_time": "2023-01-24T01:00:57.786Z"
   },
   {
    "duration": 455,
    "start_time": "2023-01-24T01:00:58.444Z"
   },
   {
    "duration": 13,
    "start_time": "2023-01-24T01:00:58.901Z"
   },
   {
    "duration": 1171,
    "start_time": "2023-01-24T01:00:58.916Z"
   },
   {
    "duration": 6,
    "start_time": "2023-01-24T01:01:00.089Z"
   },
   {
    "duration": 15,
    "start_time": "2023-01-24T01:01:00.097Z"
   },
   {
    "duration": 13,
    "start_time": "2023-01-24T01:01:00.113Z"
   },
   {
    "duration": 16,
    "start_time": "2023-01-24T01:01:00.128Z"
   },
   {
    "duration": 22,
    "start_time": "2023-01-24T01:01:00.146Z"
   },
   {
    "duration": 16,
    "start_time": "2023-01-24T01:01:00.169Z"
   },
   {
    "duration": 27,
    "start_time": "2023-01-24T01:01:00.188Z"
   },
   {
    "duration": 8,
    "start_time": "2023-01-24T01:01:00.217Z"
   },
   {
    "duration": 16,
    "start_time": "2023-01-24T01:01:00.227Z"
   },
   {
    "duration": 24,
    "start_time": "2023-01-24T01:01:00.244Z"
   },
   {
    "duration": 4377,
    "start_time": "2023-01-24T01:01:00.270Z"
   },
   {
    "duration": 61750,
    "start_time": "2023-01-24T01:01:04.649Z"
   },
   {
    "duration": 89,
    "start_time": "2023-01-24T01:02:06.401Z"
   },
   {
    "duration": 0,
    "start_time": "2023-01-24T01:02:06.492Z"
   },
   {
    "duration": 0,
    "start_time": "2023-01-24T01:02:06.493Z"
   },
   {
    "duration": 0,
    "start_time": "2023-01-24T01:02:06.495Z"
   },
   {
    "duration": 0,
    "start_time": "2023-01-24T01:02:06.496Z"
   },
   {
    "duration": 0,
    "start_time": "2023-01-24T01:02:06.497Z"
   },
   {
    "duration": 0,
    "start_time": "2023-01-24T01:02:06.498Z"
   },
   {
    "duration": 0,
    "start_time": "2023-01-24T01:02:06.499Z"
   },
   {
    "duration": 0,
    "start_time": "2023-01-24T01:02:06.500Z"
   },
   {
    "duration": 0,
    "start_time": "2023-01-24T01:02:06.501Z"
   },
   {
    "duration": 0,
    "start_time": "2023-01-24T01:02:06.502Z"
   },
   {
    "duration": 0,
    "start_time": "2023-01-24T01:02:06.503Z"
   },
   {
    "duration": 0,
    "start_time": "2023-01-24T01:02:06.504Z"
   },
   {
    "duration": 0,
    "start_time": "2023-01-24T01:02:06.505Z"
   },
   {
    "duration": 0,
    "start_time": "2023-01-24T01:02:06.506Z"
   },
   {
    "duration": 10,
    "start_time": "2023-01-24T01:02:38.725Z"
   },
   {
    "duration": 364,
    "start_time": "2023-01-24T01:02:48.445Z"
   },
   {
    "duration": 349,
    "start_time": "2023-01-24T01:04:11.165Z"
   },
   {
    "duration": 687,
    "start_time": "2023-01-24T01:04:17.644Z"
   },
   {
    "duration": 81,
    "start_time": "2023-01-24T01:04:23.364Z"
   },
   {
    "duration": 220,
    "start_time": "2023-01-24T01:04:28.204Z"
   },
   {
    "duration": 402,
    "start_time": "2023-01-24T01:04:37.084Z"
   },
   {
    "duration": 422,
    "start_time": "2023-01-24T01:04:48.102Z"
   },
   {
    "duration": 42,
    "start_time": "2023-01-24T01:04:55.785Z"
   },
   {
    "duration": 341,
    "start_time": "2023-01-24T01:05:00.640Z"
   },
   {
    "duration": 430,
    "start_time": "2023-01-24T01:05:10.884Z"
   },
   {
    "duration": 344,
    "start_time": "2023-01-24T01:05:15.844Z"
   },
   {
    "duration": 352,
    "start_time": "2023-01-24T01:05:19.725Z"
   },
   {
    "duration": 94283,
    "start_time": "2023-01-24T01:06:25.919Z"
   },
   {
    "duration": 93,
    "start_time": "2023-01-24T01:08:14.089Z"
   },
   {
    "duration": 48917,
    "start_time": "2023-01-24T01:08:34.572Z"
   },
   {
    "duration": 300,
    "start_time": "2023-01-24T01:09:54.120Z"
   },
   {
    "duration": 2075,
    "start_time": "2023-01-24T01:10:09.900Z"
   },
   {
    "duration": 30,
    "start_time": "2023-01-24T01:10:17.644Z"
   },
   {
    "duration": 32535,
    "start_time": "2023-01-24T01:13:05.280Z"
   },
   {
    "duration": 31,
    "start_time": "2023-01-24T01:14:19.864Z"
   },
   {
    "duration": 30,
    "start_time": "2023-01-24T01:14:51.927Z"
   },
   {
    "duration": 5,
    "start_time": "2023-01-24T01:14:55.004Z"
   },
   {
    "duration": 4,
    "start_time": "2023-01-24T01:14:55.872Z"
   },
   {
    "duration": 16,
    "start_time": "2023-01-24T01:14:57.304Z"
   },
   {
    "duration": 7,
    "start_time": "2023-01-24T01:14:57.919Z"
   },
   {
    "duration": 1731,
    "start_time": "2023-01-24T01:14:59.792Z"
   },
   {
    "duration": 26633,
    "start_time": "2023-01-24T01:15:30.664Z"
   },
   {
    "duration": 46,
    "start_time": "2023-01-24T01:17:51.205Z"
   },
   {
    "duration": 54,
    "start_time": "2023-01-24T01:18:08.087Z"
   },
   {
    "duration": 300,
    "start_time": "2023-01-24T01:19:08.887Z"
   },
   {
    "duration": 27,
    "start_time": "2023-01-24T01:19:18.728Z"
   },
   {
    "duration": 54674,
    "start_time": "2023-01-24T01:24:17.936Z"
   },
   {
    "duration": 477,
    "start_time": "2023-01-24T01:26:56.532Z"
   },
   {
    "duration": 11,
    "start_time": "2023-01-24T01:27:00.583Z"
   },
   {
    "duration": 4,
    "start_time": "2023-01-24T01:27:02.752Z"
   },
   {
    "duration": 191,
    "start_time": "2023-01-24T01:27:04.664Z"
   },
   {
    "duration": 360,
    "start_time": "2023-01-24T01:27:06.025Z"
   },
   {
    "duration": 293,
    "start_time": "2023-01-24T01:28:03.928Z"
   },
   {
    "duration": 1470,
    "start_time": "2023-01-24T01:28:46.459Z"
   },
   {
    "duration": 69,
    "start_time": "2023-01-24T01:28:47.931Z"
   },
   {
    "duration": 45,
    "start_time": "2023-01-24T01:28:48.002Z"
   },
   {
    "duration": 615,
    "start_time": "2023-01-24T01:28:48.049Z"
   },
   {
    "duration": 440,
    "start_time": "2023-01-24T01:28:48.666Z"
   },
   {
    "duration": 11,
    "start_time": "2023-01-24T01:28:49.108Z"
   },
   {
    "duration": 1185,
    "start_time": "2023-01-24T01:28:49.120Z"
   },
   {
    "duration": 6,
    "start_time": "2023-01-24T01:28:50.308Z"
   },
   {
    "duration": 7,
    "start_time": "2023-01-24T01:28:50.316Z"
   },
   {
    "duration": 6,
    "start_time": "2023-01-24T01:28:50.340Z"
   },
   {
    "duration": 4,
    "start_time": "2023-01-24T01:28:50.348Z"
   },
   {
    "duration": 23,
    "start_time": "2023-01-24T01:28:50.354Z"
   },
   {
    "duration": 14,
    "start_time": "2023-01-24T01:28:50.379Z"
   },
   {
    "duration": 61,
    "start_time": "2023-01-24T01:28:50.395Z"
   },
   {
    "duration": 7,
    "start_time": "2023-01-24T01:28:50.458Z"
   },
   {
    "duration": 13,
    "start_time": "2023-01-24T01:28:50.466Z"
   },
   {
    "duration": 11,
    "start_time": "2023-01-24T01:28:50.480Z"
   },
   {
    "duration": 3573,
    "start_time": "2023-01-24T01:28:50.492Z"
   },
   {
    "duration": 49073,
    "start_time": "2023-01-24T01:28:54.144Z"
   },
   {
    "duration": 304,
    "start_time": "2023-01-24T01:29:43.219Z"
   },
   {
    "duration": 32196,
    "start_time": "2023-01-24T01:29:43.525Z"
   },
   {
    "duration": 39,
    "start_time": "2023-01-24T01:30:15.723Z"
   },
   {
    "duration": 4,
    "start_time": "2023-01-24T01:30:15.763Z"
   },
   {
    "duration": 16,
    "start_time": "2023-01-24T01:30:15.768Z"
   },
   {
    "duration": 36,
    "start_time": "2023-01-24T01:30:15.786Z"
   },
   {
    "duration": 19,
    "start_time": "2023-01-24T01:30:15.824Z"
   },
   {
    "duration": 26410,
    "start_time": "2023-01-24T01:30:15.844Z"
   },
   {
    "duration": 53413,
    "start_time": "2023-01-24T01:30:42.257Z"
   },
   {
    "duration": 251,
    "start_time": "2023-01-24T01:31:35.672Z"
   },
   {
    "duration": 470,
    "start_time": "2023-01-24T01:31:35.925Z"
   },
   {
    "duration": 9,
    "start_time": "2023-01-24T01:31:36.397Z"
   },
   {
    "duration": 48,
    "start_time": "2023-01-24T01:31:36.408Z"
   },
   {
    "duration": 242,
    "start_time": "2023-01-24T01:31:36.458Z"
   },
   {
    "duration": 301,
    "start_time": "2023-01-24T01:31:36.702Z"
   },
   {
    "duration": 281,
    "start_time": "2023-01-24T01:31:58.691Z"
   },
   {
    "duration": 247,
    "start_time": "2023-01-24T01:32:41.128Z"
   },
   {
    "duration": 1496,
    "start_time": "2023-01-24T01:32:56.217Z"
   },
   {
    "duration": 69,
    "start_time": "2023-01-24T01:32:57.715Z"
   },
   {
    "duration": 55,
    "start_time": "2023-01-24T01:32:57.786Z"
   },
   {
    "duration": 570,
    "start_time": "2023-01-24T01:32:57.843Z"
   },
   {
    "duration": 373,
    "start_time": "2023-01-24T01:32:58.415Z"
   },
   {
    "duration": 15,
    "start_time": "2023-01-24T01:32:58.790Z"
   },
   {
    "duration": 1153,
    "start_time": "2023-01-24T01:32:58.807Z"
   },
   {
    "duration": 5,
    "start_time": "2023-01-24T01:32:59.962Z"
   },
   {
    "duration": 13,
    "start_time": "2023-01-24T01:32:59.969Z"
   },
   {
    "duration": 37,
    "start_time": "2023-01-24T01:32:59.985Z"
   },
   {
    "duration": 27,
    "start_time": "2023-01-24T01:33:00.024Z"
   },
   {
    "duration": 39,
    "start_time": "2023-01-24T01:33:00.053Z"
   },
   {
    "duration": 22,
    "start_time": "2023-01-24T01:33:00.094Z"
   },
   {
    "duration": 38,
    "start_time": "2023-01-24T01:33:00.118Z"
   },
   {
    "duration": 6,
    "start_time": "2023-01-24T01:33:00.160Z"
   },
   {
    "duration": 38,
    "start_time": "2023-01-24T01:33:00.167Z"
   },
   {
    "duration": 25,
    "start_time": "2023-01-24T01:33:00.207Z"
   },
   {
    "duration": 7208,
    "start_time": "2023-01-24T01:33:00.234Z"
   },
   {
    "duration": 48564,
    "start_time": "2023-01-24T01:33:07.444Z"
   },
   {
    "duration": 464,
    "start_time": "2023-01-24T01:33:56.009Z"
   },
   {
    "duration": 32438,
    "start_time": "2023-01-24T01:33:56.475Z"
   },
   {
    "duration": 40,
    "start_time": "2023-01-24T01:34:28.915Z"
   },
   {
    "duration": 4,
    "start_time": "2023-01-24T01:34:28.957Z"
   },
   {
    "duration": 15,
    "start_time": "2023-01-24T01:34:28.962Z"
   },
   {
    "duration": 20,
    "start_time": "2023-01-24T01:34:28.978Z"
   },
   {
    "duration": 6,
    "start_time": "2023-01-24T01:34:29.000Z"
   },
   {
    "duration": 26334,
    "start_time": "2023-01-24T01:34:29.007Z"
   },
   {
    "duration": 53023,
    "start_time": "2023-01-24T01:34:55.345Z"
   },
   {
    "duration": 370,
    "start_time": "2023-01-24T01:35:48.370Z"
   },
   {
    "duration": 500,
    "start_time": "2023-01-24T01:35:48.742Z"
   },
   {
    "duration": 9,
    "start_time": "2023-01-24T01:35:49.243Z"
   },
   {
    "duration": 4,
    "start_time": "2023-01-24T01:35:49.254Z"
   },
   {
    "duration": 207,
    "start_time": "2023-01-24T01:35:49.259Z"
   },
   {
    "duration": 250,
    "start_time": "2023-01-24T01:35:49.467Z"
   },
   {
    "duration": 1339,
    "start_time": "2023-01-24T01:37:51.768Z"
   },
   {
    "duration": 67,
    "start_time": "2023-01-24T01:37:53.109Z"
   },
   {
    "duration": 39,
    "start_time": "2023-01-24T01:37:53.178Z"
   },
   {
    "duration": 560,
    "start_time": "2023-01-24T01:37:53.219Z"
   },
   {
    "duration": 411,
    "start_time": "2023-01-24T01:37:53.781Z"
   },
   {
    "duration": 10,
    "start_time": "2023-01-24T01:37:54.194Z"
   },
   {
    "duration": 1123,
    "start_time": "2023-01-24T01:37:54.205Z"
   },
   {
    "duration": 11,
    "start_time": "2023-01-24T01:37:55.329Z"
   },
   {
    "duration": 21,
    "start_time": "2023-01-24T01:37:55.341Z"
   },
   {
    "duration": 16,
    "start_time": "2023-01-24T01:37:55.364Z"
   },
   {
    "duration": 11,
    "start_time": "2023-01-24T01:37:55.382Z"
   },
   {
    "duration": 21,
    "start_time": "2023-01-24T01:37:55.395Z"
   },
   {
    "duration": 10,
    "start_time": "2023-01-24T01:37:55.418Z"
   },
   {
    "duration": 29,
    "start_time": "2023-01-24T01:37:55.431Z"
   },
   {
    "duration": 5,
    "start_time": "2023-01-24T01:37:55.462Z"
   },
   {
    "duration": 16,
    "start_time": "2023-01-24T01:37:55.468Z"
   },
   {
    "duration": 6,
    "start_time": "2023-01-24T01:37:55.486Z"
   },
   {
    "duration": 4548,
    "start_time": "2023-01-24T01:37:55.494Z"
   },
   {
    "duration": 48403,
    "start_time": "2023-01-24T01:38:00.044Z"
   },
   {
    "duration": 465,
    "start_time": "2023-01-24T01:38:48.449Z"
   },
   {
    "duration": 32256,
    "start_time": "2023-01-24T01:38:48.916Z"
   },
   {
    "duration": 28,
    "start_time": "2023-01-24T01:39:21.173Z"
   },
   {
    "duration": 9,
    "start_time": "2023-01-24T01:39:21.203Z"
   },
   {
    "duration": 35,
    "start_time": "2023-01-24T01:39:21.214Z"
   },
   {
    "duration": 41,
    "start_time": "2023-01-24T01:39:21.251Z"
   },
   {
    "duration": 25,
    "start_time": "2023-01-24T01:39:21.293Z"
   },
   {
    "duration": 26287,
    "start_time": "2023-01-24T01:39:21.320Z"
   },
   {
    "duration": 53141,
    "start_time": "2023-01-24T01:39:47.609Z"
   },
   {
    "duration": 355,
    "start_time": "2023-01-24T01:40:40.751Z"
   },
   {
    "duration": 454,
    "start_time": "2023-01-24T01:40:41.108Z"
   },
   {
    "duration": 8,
    "start_time": "2023-01-24T01:40:41.564Z"
   },
   {
    "duration": 22,
    "start_time": "2023-01-24T01:40:41.574Z"
   },
   {
    "duration": 191,
    "start_time": "2023-01-24T01:40:41.598Z"
   },
   {
    "duration": 279,
    "start_time": "2023-01-24T01:40:41.791Z"
   },
   {
    "duration": 1943,
    "start_time": "2023-01-24T16:34:39.022Z"
   },
   {
    "duration": 215,
    "start_time": "2023-01-24T16:34:40.967Z"
   },
   {
    "duration": 47,
    "start_time": "2023-01-24T16:34:41.184Z"
   },
   {
    "duration": 713,
    "start_time": "2023-01-24T16:34:41.233Z"
   },
   {
    "duration": 443,
    "start_time": "2023-01-24T16:34:41.948Z"
   },
   {
    "duration": 14,
    "start_time": "2023-01-24T16:34:42.393Z"
   },
   {
    "duration": 1342,
    "start_time": "2023-01-24T16:34:42.409Z"
   },
   {
    "duration": 6,
    "start_time": "2023-01-24T16:34:43.754Z"
   },
   {
    "duration": 38,
    "start_time": "2023-01-24T16:34:43.762Z"
   },
   {
    "duration": 50,
    "start_time": "2023-01-24T16:34:43.804Z"
   },
   {
    "duration": 22,
    "start_time": "2023-01-24T16:34:43.856Z"
   },
   {
    "duration": 24,
    "start_time": "2023-01-24T16:34:43.879Z"
   },
   {
    "duration": 12,
    "start_time": "2023-01-24T16:34:43.905Z"
   },
   {
    "duration": 40,
    "start_time": "2023-01-24T16:34:43.918Z"
   },
   {
    "duration": 16,
    "start_time": "2023-01-24T16:34:43.960Z"
   },
   {
    "duration": 22,
    "start_time": "2023-01-24T16:34:43.978Z"
   },
   {
    "duration": 13,
    "start_time": "2023-01-24T16:34:44.002Z"
   },
   {
    "duration": 11437,
    "start_time": "2023-01-24T16:34:44.017Z"
   },
   {
    "duration": 54266,
    "start_time": "2023-01-24T16:34:55.462Z"
   },
   {
    "duration": 479,
    "start_time": "2023-01-24T16:35:49.730Z"
   },
   {
    "duration": 35199,
    "start_time": "2023-01-24T16:35:50.211Z"
   },
   {
    "duration": 44,
    "start_time": "2023-01-24T16:36:25.412Z"
   },
   {
    "duration": 4,
    "start_time": "2023-01-24T16:36:25.458Z"
   },
   {
    "duration": 11,
    "start_time": "2023-01-24T16:36:25.464Z"
   },
   {
    "duration": 39,
    "start_time": "2023-01-24T16:36:25.478Z"
   },
   {
    "duration": 32,
    "start_time": "2023-01-24T16:36:25.519Z"
   },
   {
    "duration": 28565,
    "start_time": "2023-01-24T16:36:25.553Z"
   },
   {
    "duration": 44003,
    "start_time": "2023-01-24T16:36:54.123Z"
   },
   {
    "duration": 391,
    "start_time": "2023-01-24T16:37:38.128Z"
   },
   {
    "duration": 513,
    "start_time": "2023-01-24T16:37:38.521Z"
   },
   {
    "duration": 13,
    "start_time": "2023-01-24T16:37:39.038Z"
   },
   {
    "duration": 19,
    "start_time": "2023-01-24T16:37:39.053Z"
   },
   {
    "duration": 233,
    "start_time": "2023-01-24T16:37:39.074Z"
   },
   {
    "duration": 284,
    "start_time": "2023-01-24T16:37:39.309Z"
   },
   {
    "duration": 46,
    "start_time": "2023-01-24T18:20:38.441Z"
   },
   {
    "duration": 1397,
    "start_time": "2023-01-24T18:20:47.180Z"
   },
   {
    "duration": 101,
    "start_time": "2023-01-24T18:20:48.579Z"
   },
   {
    "duration": 35,
    "start_time": "2023-01-24T18:20:48.682Z"
   },
   {
    "duration": 566,
    "start_time": "2023-01-24T18:20:49.613Z"
   },
   {
    "duration": 346,
    "start_time": "2023-01-24T18:20:50.237Z"
   },
   {
    "duration": 9,
    "start_time": "2023-01-24T18:20:50.991Z"
   },
   {
    "duration": 967,
    "start_time": "2023-01-24T18:20:51.340Z"
   },
   {
    "duration": 5,
    "start_time": "2023-01-24T18:20:52.309Z"
   },
   {
    "duration": 4,
    "start_time": "2023-01-24T18:20:53.779Z"
   },
   {
    "duration": 5,
    "start_time": "2023-01-24T18:20:54.394Z"
   },
   {
    "duration": 2,
    "start_time": "2023-01-24T18:20:55.356Z"
   },
   {
    "duration": 15,
    "start_time": "2023-01-24T18:21:02.492Z"
   },
   {
    "duration": 10,
    "start_time": "2023-01-24T18:21:04.154Z"
   },
   {
    "duration": 21,
    "start_time": "2023-01-24T18:21:18.111Z"
   },
   {
    "duration": 4,
    "start_time": "2023-01-24T18:21:22.109Z"
   },
   {
    "duration": 9,
    "start_time": "2023-01-24T18:21:22.633Z"
   },
   {
    "duration": 4,
    "start_time": "2023-01-24T18:21:23.485Z"
   },
   {
    "duration": 16582,
    "start_time": "2023-01-24T18:21:25.767Z"
   },
   {
    "duration": 43377,
    "start_time": "2023-01-24T18:21:56.680Z"
   },
   {
    "duration": 114,
    "start_time": "2023-01-24T18:25:17.732Z"
   },
   {
    "duration": 152288,
    "start_time": "2023-01-24T18:26:04.770Z"
   },
   {
    "duration": 68894,
    "start_time": "2023-01-24T18:30:26.453Z"
   },
   {
    "duration": 65,
    "start_time": "2023-01-24T19:14:19.411Z"
   },
   {
    "duration": 1318,
    "start_time": "2023-01-24T19:14:33.314Z"
   },
   {
    "duration": 60,
    "start_time": "2023-01-24T19:14:36.765Z"
   },
   {
    "duration": 38,
    "start_time": "2023-01-24T19:14:37.417Z"
   },
   {
    "duration": 519,
    "start_time": "2023-01-24T19:14:39.357Z"
   },
   {
    "duration": 383,
    "start_time": "2023-01-24T19:14:39.878Z"
   },
   {
    "duration": 10,
    "start_time": "2023-01-24T19:14:40.790Z"
   },
   {
    "duration": 996,
    "start_time": "2023-01-24T19:14:41.148Z"
   },
   {
    "duration": 8,
    "start_time": "2023-01-24T19:14:42.551Z"
   },
   {
    "duration": 4,
    "start_time": "2023-01-24T19:14:43.530Z"
   },
   {
    "duration": 6,
    "start_time": "2023-01-24T19:14:44.069Z"
   },
   {
    "duration": 2,
    "start_time": "2023-01-24T19:14:44.753Z"
   },
   {
    "duration": 14,
    "start_time": "2023-01-24T19:14:46.032Z"
   },
   {
    "duration": 11,
    "start_time": "2023-01-24T19:14:47.510Z"
   },
   {
    "duration": 20,
    "start_time": "2023-01-24T19:14:49.235Z"
   },
   {
    "duration": 5,
    "start_time": "2023-01-24T19:14:50.968Z"
   },
   {
    "duration": 7,
    "start_time": "2023-01-24T19:14:51.163Z"
   },
   {
    "duration": 4,
    "start_time": "2023-01-24T19:14:51.877Z"
   },
   {
    "duration": 3511,
    "start_time": "2023-01-24T19:14:54.928Z"
   },
   {
    "duration": 87,
    "start_time": "2023-01-24T19:15:02.390Z"
   },
   {
    "duration": 6,
    "start_time": "2023-01-24T19:15:49.811Z"
   },
   {
    "duration": 11,
    "start_time": "2023-01-24T19:15:58.758Z"
   },
   {
    "duration": 5,
    "start_time": "2023-01-24T19:16:48.820Z"
   },
   {
    "duration": 12,
    "start_time": "2023-01-24T19:16:58.962Z"
   },
   {
    "duration": 4,
    "start_time": "2023-01-24T19:17:38.362Z"
   },
   {
    "duration": 1313,
    "start_time": "2023-01-24T19:20:39.223Z"
   },
   {
    "duration": 61,
    "start_time": "2023-01-24T19:20:40.538Z"
   },
   {
    "duration": 38,
    "start_time": "2023-01-24T19:20:40.600Z"
   },
   {
    "duration": 529,
    "start_time": "2023-01-24T19:20:40.640Z"
   },
   {
    "duration": 403,
    "start_time": "2023-01-24T19:20:41.170Z"
   },
   {
    "duration": 22,
    "start_time": "2023-01-24T19:20:41.575Z"
   },
   {
    "duration": 1192,
    "start_time": "2023-01-24T19:20:41.600Z"
   },
   {
    "duration": 7,
    "start_time": "2023-01-24T19:20:42.794Z"
   },
   {
    "duration": 11,
    "start_time": "2023-01-24T19:20:42.803Z"
   },
   {
    "duration": 17,
    "start_time": "2023-01-24T19:20:42.816Z"
   },
   {
    "duration": 8,
    "start_time": "2023-01-24T19:20:42.835Z"
   },
   {
    "duration": 20,
    "start_time": "2023-01-24T19:20:42.844Z"
   },
   {
    "duration": 13,
    "start_time": "2023-01-24T19:20:42.865Z"
   },
   {
    "duration": 32,
    "start_time": "2023-01-24T19:20:42.880Z"
   },
   {
    "duration": 5,
    "start_time": "2023-01-24T19:20:42.914Z"
   },
   {
    "duration": 11,
    "start_time": "2023-01-24T19:20:42.937Z"
   },
   {
    "duration": 11,
    "start_time": "2023-01-24T19:20:42.950Z"
   },
   {
    "duration": 7079,
    "start_time": "2023-01-24T19:20:42.962Z"
   },
   {
    "duration": 196,
    "start_time": "2023-01-24T19:20:50.043Z"
   },
   {
    "duration": 0,
    "start_time": "2023-01-24T19:20:50.241Z"
   },
   {
    "duration": 0,
    "start_time": "2023-01-24T19:20:50.243Z"
   },
   {
    "duration": 0,
    "start_time": "2023-01-24T19:20:50.244Z"
   },
   {
    "duration": 0,
    "start_time": "2023-01-24T19:20:50.246Z"
   },
   {
    "duration": 0,
    "start_time": "2023-01-24T19:20:50.248Z"
   },
   {
    "duration": 0,
    "start_time": "2023-01-24T19:20:50.249Z"
   },
   {
    "duration": 0,
    "start_time": "2023-01-24T19:20:50.252Z"
   },
   {
    "duration": 0,
    "start_time": "2023-01-24T19:20:50.253Z"
   },
   {
    "duration": 0,
    "start_time": "2023-01-24T19:20:50.257Z"
   },
   {
    "duration": 0,
    "start_time": "2023-01-24T19:20:50.259Z"
   },
   {
    "duration": 0,
    "start_time": "2023-01-24T19:20:50.260Z"
   },
   {
    "duration": 0,
    "start_time": "2023-01-24T19:20:50.261Z"
   },
   {
    "duration": 0,
    "start_time": "2023-01-24T19:20:50.262Z"
   },
   {
    "duration": 0,
    "start_time": "2023-01-24T19:20:50.262Z"
   },
   {
    "duration": 0,
    "start_time": "2023-01-24T19:20:50.264Z"
   },
   {
    "duration": 0,
    "start_time": "2023-01-24T19:20:50.266Z"
   },
   {
    "duration": 0,
    "start_time": "2023-01-24T19:20:50.267Z"
   },
   {
    "duration": 1330,
    "start_time": "2023-01-24T19:26:01.173Z"
   },
   {
    "duration": 74,
    "start_time": "2023-01-24T19:26:02.506Z"
   },
   {
    "duration": 67,
    "start_time": "2023-01-24T19:26:02.582Z"
   },
   {
    "duration": 498,
    "start_time": "2023-01-24T19:26:02.650Z"
   },
   {
    "duration": 420,
    "start_time": "2023-01-24T19:26:03.150Z"
   },
   {
    "duration": 11,
    "start_time": "2023-01-24T19:26:03.571Z"
   },
   {
    "duration": 1061,
    "start_time": "2023-01-24T19:26:03.583Z"
   },
   {
    "duration": 5,
    "start_time": "2023-01-24T19:26:04.645Z"
   },
   {
    "duration": 8,
    "start_time": "2023-01-24T19:26:04.651Z"
   },
   {
    "duration": 7,
    "start_time": "2023-01-24T19:26:04.661Z"
   },
   {
    "duration": 3,
    "start_time": "2023-01-24T19:26:04.669Z"
   },
   {
    "duration": 14,
    "start_time": "2023-01-24T19:26:04.674Z"
   },
   {
    "duration": 9,
    "start_time": "2023-01-24T19:26:04.690Z"
   },
   {
    "duration": 38,
    "start_time": "2023-01-24T19:26:04.702Z"
   },
   {
    "duration": 4,
    "start_time": "2023-01-24T19:26:04.741Z"
   },
   {
    "duration": 12,
    "start_time": "2023-01-24T19:26:04.746Z"
   },
   {
    "duration": 4,
    "start_time": "2023-01-24T19:26:04.760Z"
   },
   {
    "duration": 3380,
    "start_time": "2023-01-24T19:26:04.765Z"
   },
   {
    "duration": 517082,
    "start_time": "2023-01-24T19:26:08.147Z"
   },
   {
    "duration": 0,
    "start_time": "2023-01-24T19:34:45.242Z"
   },
   {
    "duration": 0,
    "start_time": "2023-01-24T19:34:45.243Z"
   },
   {
    "duration": 0,
    "start_time": "2023-01-24T19:34:45.244Z"
   },
   {
    "duration": 0,
    "start_time": "2023-01-24T19:34:45.246Z"
   },
   {
    "duration": 0,
    "start_time": "2023-01-24T19:34:45.249Z"
   },
   {
    "duration": 0,
    "start_time": "2023-01-24T19:34:45.252Z"
   },
   {
    "duration": 0,
    "start_time": "2023-01-24T19:34:45.255Z"
   },
   {
    "duration": 0,
    "start_time": "2023-01-24T19:34:45.256Z"
   },
   {
    "duration": 0,
    "start_time": "2023-01-24T19:34:45.257Z"
   },
   {
    "duration": 0,
    "start_time": "2023-01-24T19:34:45.258Z"
   },
   {
    "duration": 0,
    "start_time": "2023-01-24T19:34:45.259Z"
   },
   {
    "duration": 0,
    "start_time": "2023-01-24T19:34:45.259Z"
   },
   {
    "duration": 0,
    "start_time": "2023-01-24T19:34:45.260Z"
   },
   {
    "duration": 0,
    "start_time": "2023-01-24T19:34:45.261Z"
   },
   {
    "duration": 0,
    "start_time": "2023-01-24T19:34:45.262Z"
   },
   {
    "duration": 0,
    "start_time": "2023-01-24T19:34:45.263Z"
   },
   {
    "duration": 0,
    "start_time": "2023-01-24T19:34:45.264Z"
   },
   {
    "duration": 43,
    "start_time": "2023-01-24T19:42:08.174Z"
   },
   {
    "duration": 34658,
    "start_time": "2023-01-24T19:43:01.347Z"
   },
   {
    "duration": 110823,
    "start_time": "2023-01-24T19:43:47.265Z"
   },
   {
    "duration": 728898,
    "start_time": "2023-01-24T19:50:00.605Z"
   },
   {
    "duration": 100994,
    "start_time": "2023-01-24T20:02:29.560Z"
   },
   {
    "duration": 113687,
    "start_time": "2023-01-24T20:10:36.975Z"
   },
   {
    "duration": 107625,
    "start_time": "2023-01-24T20:13:34.885Z"
   },
   {
    "duration": 113559,
    "start_time": "2023-01-24T20:15:59.887Z"
   },
   {
    "duration": 1416,
    "start_time": "2023-01-24T20:20:11.782Z"
   },
   {
    "duration": 6,
    "start_time": "2023-01-24T20:20:31.171Z"
   },
   {
    "duration": 72,
    "start_time": "2023-01-24T20:20:32.318Z"
   },
   {
    "duration": 64,
    "start_time": "2023-01-24T20:20:33.312Z"
   },
   {
    "duration": 599,
    "start_time": "2023-01-24T20:20:34.107Z"
   },
   {
    "duration": 346,
    "start_time": "2023-01-24T20:20:34.970Z"
   },
   {
    "duration": 12,
    "start_time": "2023-01-24T20:20:36.073Z"
   },
   {
    "duration": 1130,
    "start_time": "2023-01-24T20:20:36.838Z"
   },
   {
    "duration": 8,
    "start_time": "2023-01-24T20:20:38.569Z"
   },
   {
    "duration": 3,
    "start_time": "2023-01-24T20:20:42.112Z"
   },
   {
    "duration": 15,
    "start_time": "2023-01-24T20:20:43.833Z"
   },
   {
    "duration": 2,
    "start_time": "2023-01-24T20:20:46.194Z"
   },
   {
    "duration": 16,
    "start_time": "2023-01-24T20:20:46.712Z"
   },
   {
    "duration": 9,
    "start_time": "2023-01-24T20:20:49.299Z"
   },
   {
    "duration": 19,
    "start_time": "2023-01-24T20:20:53.888Z"
   },
   {
    "duration": 5,
    "start_time": "2023-01-24T20:20:58.390Z"
   },
   {
    "duration": 8,
    "start_time": "2023-01-24T20:20:59.091Z"
   },
   {
    "duration": 4,
    "start_time": "2023-01-24T20:21:00.067Z"
   },
   {
    "duration": 1679,
    "start_time": "2023-01-24T20:21:07.823Z"
   },
   {
    "duration": 11117,
    "start_time": "2023-01-24T20:22:55.947Z"
   },
   {
    "duration": 1089,
    "start_time": "2023-01-24T20:24:44.404Z"
   },
   {
    "duration": 17456,
    "start_time": "2023-01-24T20:25:37.601Z"
   },
   {
    "duration": 28037,
    "start_time": "2023-01-24T20:31:44.208Z"
   },
   {
    "duration": 47102,
    "start_time": "2023-01-24T20:34:41.960Z"
   },
   {
    "duration": 47,
    "start_time": "2023-01-24T20:36:28.065Z"
   },
   {
    "duration": 3,
    "start_time": "2023-01-24T20:38:47.395Z"
   },
   {
    "duration": 1277,
    "start_time": "2023-01-24T20:41:08.445Z"
   },
   {
    "duration": 60,
    "start_time": "2023-01-24T20:41:13.505Z"
   },
   {
    "duration": 37,
    "start_time": "2023-01-24T20:41:14.937Z"
   },
   {
    "duration": 572,
    "start_time": "2023-01-24T20:41:16.290Z"
   },
   {
    "duration": 371,
    "start_time": "2023-01-24T20:41:16.992Z"
   },
   {
    "duration": 9,
    "start_time": "2023-01-24T20:41:18.890Z"
   },
   {
    "duration": 984,
    "start_time": "2023-01-24T20:41:20.755Z"
   },
   {
    "duration": 4,
    "start_time": "2023-01-24T20:41:24.016Z"
   },
   {
    "duration": 4,
    "start_time": "2023-01-24T20:41:25.637Z"
   },
   {
    "duration": 6,
    "start_time": "2023-01-24T20:41:47.760Z"
   },
   {
    "duration": 5,
    "start_time": "2023-01-24T20:42:15.108Z"
   },
   {
    "duration": 2,
    "start_time": "2023-01-24T20:42:17.764Z"
   },
   {
    "duration": 5,
    "start_time": "2023-01-24T20:42:25.630Z"
   },
   {
    "duration": 7,
    "start_time": "2023-01-24T20:42:28.675Z"
   },
   {
    "duration": 4,
    "start_time": "2023-01-24T20:42:38.662Z"
   },
   {
    "duration": 4,
    "start_time": "2023-01-24T20:45:01.376Z"
   },
   {
    "duration": 7,
    "start_time": "2023-01-24T20:45:02.329Z"
   },
   {
    "duration": 4,
    "start_time": "2023-01-24T20:45:02.964Z"
   },
   {
    "duration": 616,
    "start_time": "2023-01-24T20:46:57.013Z"
   },
   {
    "duration": 68,
    "start_time": "2023-01-24T20:47:22.846Z"
   },
   {
    "duration": 1291,
    "start_time": "2023-01-24T20:48:27.484Z"
   },
   {
    "duration": 60,
    "start_time": "2023-01-24T20:48:28.777Z"
   },
   {
    "duration": 37,
    "start_time": "2023-01-24T20:48:28.839Z"
   },
   {
    "duration": 571,
    "start_time": "2023-01-24T20:48:28.878Z"
   },
   {
    "duration": 347,
    "start_time": "2023-01-24T20:48:29.452Z"
   },
   {
    "duration": 11,
    "start_time": "2023-01-24T20:48:29.801Z"
   },
   {
    "duration": 1075,
    "start_time": "2023-01-24T20:48:29.813Z"
   },
   {
    "duration": 6,
    "start_time": "2023-01-24T20:48:30.889Z"
   },
   {
    "duration": 16,
    "start_time": "2023-01-24T20:48:30.896Z"
   },
   {
    "duration": 26,
    "start_time": "2023-01-24T20:48:30.914Z"
   },
   {
    "duration": 5,
    "start_time": "2023-01-24T20:48:30.942Z"
   },
   {
    "duration": 7,
    "start_time": "2023-01-24T20:48:30.949Z"
   },
   {
    "duration": 11,
    "start_time": "2023-01-24T20:48:30.957Z"
   },
   {
    "duration": 15,
    "start_time": "2023-01-24T20:48:30.970Z"
   },
   {
    "duration": 23,
    "start_time": "2023-01-24T20:48:30.987Z"
   },
   {
    "duration": 13,
    "start_time": "2023-01-24T20:48:31.012Z"
   },
   {
    "duration": 38,
    "start_time": "2023-01-24T20:48:31.026Z"
   },
   {
    "duration": 166,
    "start_time": "2023-01-24T20:48:31.066Z"
   },
   {
    "duration": 515,
    "start_time": "2023-01-24T20:48:31.234Z"
   },
   {
    "duration": 1251,
    "start_time": "2023-01-24T20:48:31.751Z"
   },
   {
    "duration": 1516,
    "start_time": "2023-01-24T20:48:33.004Z"
   },
   {
    "duration": 20,
    "start_time": "2023-01-24T20:48:34.522Z"
   },
   {
    "duration": 0,
    "start_time": "2023-01-24T20:48:34.543Z"
   },
   {
    "duration": 0,
    "start_time": "2023-01-24T20:48:34.545Z"
   },
   {
    "duration": 0,
    "start_time": "2023-01-24T20:48:34.546Z"
   },
   {
    "duration": 0,
    "start_time": "2023-01-24T20:48:34.547Z"
   },
   {
    "duration": 0,
    "start_time": "2023-01-24T20:48:34.548Z"
   },
   {
    "duration": 0,
    "start_time": "2023-01-24T20:48:34.549Z"
   },
   {
    "duration": 0,
    "start_time": "2023-01-24T20:48:34.550Z"
   },
   {
    "duration": 0,
    "start_time": "2023-01-24T20:48:34.551Z"
   },
   {
    "duration": 0,
    "start_time": "2023-01-24T20:48:34.552Z"
   },
   {
    "duration": 0,
    "start_time": "2023-01-24T20:48:34.554Z"
   },
   {
    "duration": 0,
    "start_time": "2023-01-24T20:48:34.556Z"
   },
   {
    "duration": 0,
    "start_time": "2023-01-24T20:48:34.556Z"
   },
   {
    "duration": 0,
    "start_time": "2023-01-24T20:48:34.557Z"
   },
   {
    "duration": 0,
    "start_time": "2023-01-24T20:48:34.558Z"
   },
   {
    "duration": 3,
    "start_time": "2023-01-24T21:25:49.134Z"
   },
   {
    "duration": 5,
    "start_time": "2023-01-24T21:25:50.739Z"
   },
   {
    "duration": 5,
    "start_time": "2023-01-24T21:25:51.770Z"
   },
   {
    "duration": 3,
    "start_time": "2023-01-24T21:25:52.867Z"
   },
   {
    "duration": 18,
    "start_time": "2023-01-24T21:28:55.706Z"
   },
   {
    "duration": 9,
    "start_time": "2023-01-24T21:32:41.288Z"
   },
   {
    "duration": 5,
    "start_time": "2023-01-24T21:33:32.257Z"
   },
   {
    "duration": 52,
    "start_time": "2023-01-24T21:33:34.869Z"
   },
   {
    "duration": 36,
    "start_time": "2023-01-24T21:33:35.290Z"
   },
   {
    "duration": 545,
    "start_time": "2023-01-24T21:33:37.821Z"
   },
   {
    "duration": 324,
    "start_time": "2023-01-24T21:33:38.450Z"
   },
   {
    "duration": 10,
    "start_time": "2023-01-24T21:33:39.674Z"
   },
   {
    "duration": 898,
    "start_time": "2023-01-24T21:33:40.086Z"
   },
   {
    "duration": 5,
    "start_time": "2023-01-24T21:33:41.052Z"
   },
   {
    "duration": 4,
    "start_time": "2023-01-24T21:33:42.350Z"
   },
   {
    "duration": 5,
    "start_time": "2023-01-24T21:33:43.619Z"
   },
   {
    "duration": 2,
    "start_time": "2023-01-24T21:33:45.463Z"
   },
   {
    "duration": 4,
    "start_time": "2023-01-24T21:33:48.367Z"
   },
   {
    "duration": 5,
    "start_time": "2023-01-24T21:33:49.369Z"
   },
   {
    "duration": 4,
    "start_time": "2023-01-24T21:33:50.697Z"
   },
   {
    "duration": 20,
    "start_time": "2023-01-24T21:33:53.674Z"
   },
   {
    "duration": 7,
    "start_time": "2023-01-24T21:33:58.683Z"
   },
   {
    "duration": 5,
    "start_time": "2023-01-24T21:34:04.443Z"
   },
   {
    "duration": 12,
    "start_time": "2023-01-24T21:37:50.625Z"
   },
   {
    "duration": 8,
    "start_time": "2023-01-24T21:39:09.851Z"
   },
   {
    "duration": 20,
    "start_time": "2023-01-24T21:42:13.106Z"
   },
   {
    "duration": 22,
    "start_time": "2023-01-24T21:42:25.008Z"
   },
   {
    "duration": 21,
    "start_time": "2023-01-24T21:42:41.815Z"
   },
   {
    "duration": 5,
    "start_time": "2023-01-24T21:42:48.004Z"
   },
   {
    "duration": 67,
    "start_time": "2023-01-24T21:42:48.012Z"
   },
   {
    "duration": 40,
    "start_time": "2023-01-24T21:42:48.080Z"
   },
   {
    "duration": 513,
    "start_time": "2023-01-24T21:42:48.121Z"
   },
   {
    "duration": 330,
    "start_time": "2023-01-24T21:42:48.636Z"
   },
   {
    "duration": 10,
    "start_time": "2023-01-24T21:42:48.968Z"
   },
   {
    "duration": 883,
    "start_time": "2023-01-24T21:42:48.979Z"
   },
   {
    "duration": 5,
    "start_time": "2023-01-24T21:42:49.863Z"
   },
   {
    "duration": 6,
    "start_time": "2023-01-24T21:42:49.869Z"
   },
   {
    "duration": 6,
    "start_time": "2023-01-24T21:42:49.876Z"
   },
   {
    "duration": 3,
    "start_time": "2023-01-24T21:42:49.884Z"
   },
   {
    "duration": 9,
    "start_time": "2023-01-24T21:42:49.888Z"
   },
   {
    "duration": 8,
    "start_time": "2023-01-24T21:42:49.899Z"
   },
   {
    "duration": 4,
    "start_time": "2023-01-24T21:42:49.908Z"
   },
   {
    "duration": 33,
    "start_time": "2023-01-24T21:42:49.914Z"
   },
   {
    "duration": 4,
    "start_time": "2023-01-24T21:42:49.949Z"
   },
   {
    "duration": 13,
    "start_time": "2023-01-24T21:42:49.955Z"
   },
   {
    "duration": 7,
    "start_time": "2023-01-24T21:42:49.969Z"
   },
   {
    "duration": 18,
    "start_time": "2023-01-24T21:42:49.978Z"
   },
   {
    "duration": 340,
    "start_time": "2023-01-24T21:42:49.998Z"
   },
   {
    "duration": 1249,
    "start_time": "2023-01-24T21:43:08.964Z"
   },
   {
    "duration": 58,
    "start_time": "2023-01-24T21:43:13.219Z"
   },
   {
    "duration": 36,
    "start_time": "2023-01-24T21:43:17.074Z"
   },
   {
    "duration": 604,
    "start_time": "2023-01-24T21:43:19.486Z"
   },
   {
    "duration": 335,
    "start_time": "2023-01-24T21:43:27.236Z"
   },
   {
    "duration": 10,
    "start_time": "2023-01-24T21:43:34.502Z"
   },
   {
    "duration": 991,
    "start_time": "2023-01-24T21:43:35.805Z"
   },
   {
    "duration": 5,
    "start_time": "2023-01-24T21:43:41.811Z"
   },
   {
    "duration": 5,
    "start_time": "2023-01-24T21:43:47.041Z"
   },
   {
    "duration": 3,
    "start_time": "2023-01-24T21:43:51.060Z"
   },
   {
    "duration": 4,
    "start_time": "2023-01-24T21:43:57.815Z"
   },
   {
    "duration": 2,
    "start_time": "2023-01-24T21:44:04.402Z"
   },
   {
    "duration": 4,
    "start_time": "2023-01-24T21:44:09.624Z"
   },
   {
    "duration": 5,
    "start_time": "2023-01-24T21:44:28.373Z"
   },
   {
    "duration": 3,
    "start_time": "2023-01-24T21:44:29.629Z"
   },
   {
    "duration": 20,
    "start_time": "2023-01-24T21:44:33.827Z"
   },
   {
    "duration": 5,
    "start_time": "2023-01-24T21:44:39.898Z"
   },
   {
    "duration": 12,
    "start_time": "2023-01-24T21:44:41.921Z"
   },
   {
    "duration": 9,
    "start_time": "2023-01-24T21:44:43.829Z"
   },
   {
    "duration": 20,
    "start_time": "2023-01-24T21:45:02.087Z"
   },
   {
    "duration": 19,
    "start_time": "2023-01-24T21:45:29.973Z"
   },
   {
    "duration": 392,
    "start_time": "2023-01-24T21:48:19.652Z"
   },
   {
    "duration": 224,
    "start_time": "2023-01-24T21:49:13.218Z"
   },
   {
    "duration": 2334,
    "start_time": "2023-01-24T21:49:28.006Z"
   },
   {
    "duration": 27198,
    "start_time": "2023-01-24T21:49:45.558Z"
   },
   {
    "duration": 25818,
    "start_time": "2023-01-24T21:50:30.720Z"
   },
   {
    "duration": 25291,
    "start_time": "2023-01-24T21:53:44.956Z"
   },
   {
    "duration": 25910,
    "start_time": "2023-01-24T21:55:12.485Z"
   },
   {
    "duration": 24701,
    "start_time": "2023-01-24T21:55:52.851Z"
   },
   {
    "duration": 80790,
    "start_time": "2023-01-24T21:57:15.496Z"
   },
   {
    "duration": 346,
    "start_time": "2023-01-24T21:59:36.315Z"
   },
   {
    "duration": 51031,
    "start_time": "2023-01-24T21:59:56.367Z"
   },
   {
    "duration": 37210,
    "start_time": "2023-01-24T22:08:36.939Z"
   },
   {
    "duration": 437,
    "start_time": "2023-01-24T22:13:25.254Z"
   },
   {
    "duration": 30,
    "start_time": "2023-01-24T22:14:37.793Z"
   },
   {
    "duration": 28,
    "start_time": "2023-01-24T22:15:17.309Z"
   },
   {
    "duration": 9,
    "start_time": "2023-01-24T22:19:17.466Z"
   },
   {
    "duration": 4,
    "start_time": "2023-01-24T22:19:29.360Z"
   },
   {
    "duration": 5,
    "start_time": "2023-01-24T22:19:31.719Z"
   },
   {
    "duration": 9,
    "start_time": "2023-01-24T22:19:36.583Z"
   },
   {
    "duration": 10,
    "start_time": "2023-01-24T22:19:50.506Z"
   },
   {
    "duration": 6,
    "start_time": "2023-01-24T22:20:00.248Z"
   },
   {
    "duration": 8,
    "start_time": "2023-01-24T22:20:05.229Z"
   },
   {
    "duration": 6,
    "start_time": "2023-01-24T22:20:05.926Z"
   },
   {
    "duration": 8,
    "start_time": "2023-01-24T22:20:10.007Z"
   },
   {
    "duration": 6,
    "start_time": "2023-01-24T22:20:10.568Z"
   },
   {
    "duration": 9,
    "start_time": "2023-01-24T22:20:15.012Z"
   },
   {
    "duration": 5,
    "start_time": "2023-01-24T22:20:16.775Z"
   },
   {
    "duration": 9,
    "start_time": "2023-01-24T22:20:22.222Z"
   },
   {
    "duration": 5,
    "start_time": "2023-01-24T22:20:22.784Z"
   },
   {
    "duration": 10,
    "start_time": "2023-01-24T22:20:27.774Z"
   },
   {
    "duration": 6,
    "start_time": "2023-01-24T22:20:28.177Z"
   },
   {
    "duration": 9,
    "start_time": "2023-01-24T22:20:31.852Z"
   },
   {
    "duration": 7,
    "start_time": "2023-01-24T22:20:32.466Z"
   },
   {
    "duration": 8,
    "start_time": "2023-01-24T22:20:36.665Z"
   },
   {
    "duration": 5,
    "start_time": "2023-01-24T22:20:37.113Z"
   },
   {
    "duration": 8,
    "start_time": "2023-01-24T22:20:41.015Z"
   },
   {
    "duration": 5,
    "start_time": "2023-01-24T22:20:41.372Z"
   },
   {
    "duration": 9,
    "start_time": "2023-01-24T22:20:45.655Z"
   },
   {
    "duration": 6,
    "start_time": "2023-01-24T22:20:46.244Z"
   },
   {
    "duration": 11,
    "start_time": "2023-01-24T22:20:50.312Z"
   },
   {
    "duration": 6,
    "start_time": "2023-01-24T22:20:50.684Z"
   },
   {
    "duration": 9,
    "start_time": "2023-01-24T22:20:55.527Z"
   },
   {
    "duration": 6,
    "start_time": "2023-01-24T22:20:55.960Z"
   },
   {
    "duration": 6,
    "start_time": "2023-01-24T22:21:03.759Z"
   },
   {
    "duration": 44314,
    "start_time": "2023-01-24T22:22:05.500Z"
   },
   {
    "duration": 37510,
    "start_time": "2023-01-24T22:24:24.214Z"
   },
   {
    "duration": 11,
    "start_time": "2023-01-24T22:26:38.075Z"
   },
   {
    "duration": 20437,
    "start_time": "2023-01-24T22:27:09.511Z"
   },
   {
    "duration": 144,
    "start_time": "2023-01-24T22:30:54.955Z"
   },
   {
    "duration": 10,
    "start_time": "2023-01-24T22:34:26.765Z"
   },
   {
    "duration": 5,
    "start_time": "2023-01-24T22:34:27.788Z"
   },
   {
    "duration": 4,
    "start_time": "2023-01-24T22:34:36.917Z"
   },
   {
    "duration": 5,
    "start_time": "2023-01-24T22:34:41.810Z"
   },
   {
    "duration": 46,
    "start_time": "2023-01-24T22:35:54.653Z"
   },
   {
    "duration": 38919,
    "start_time": "2023-01-24T22:38:02.352Z"
   },
   {
    "duration": 100,
    "start_time": "2023-01-24T22:40:20.032Z"
   },
   {
    "duration": 32,
    "start_time": "2023-01-24T22:40:32.498Z"
   },
   {
    "duration": 10,
    "start_time": "2023-01-24T22:43:32.391Z"
   },
   {
    "duration": 4,
    "start_time": "2023-01-24T22:43:52.236Z"
   },
   {
    "duration": 143,
    "start_time": "2023-01-24T22:44:03.800Z"
   },
   {
    "duration": 240,
    "start_time": "2023-01-24T22:44:07.300Z"
   },
   {
    "duration": 57,
    "start_time": "2023-01-24T22:49:05.861Z"
   },
   {
    "duration": 12,
    "start_time": "2023-01-24T22:49:22.472Z"
   },
   {
    "duration": 107,
    "start_time": "2023-01-24T22:51:01.666Z"
   },
   {
    "duration": 79894,
    "start_time": "2023-01-24T22:51:32.073Z"
   },
   {
    "duration": 1310,
    "start_time": "2023-01-24T22:55:01.949Z"
   },
   {
    "duration": 59,
    "start_time": "2023-01-24T22:55:03.261Z"
   },
   {
    "duration": 34,
    "start_time": "2023-01-24T22:55:03.322Z"
   },
   {
    "duration": 477,
    "start_time": "2023-01-24T22:55:03.358Z"
   },
   {
    "duration": 330,
    "start_time": "2023-01-24T22:55:03.837Z"
   },
   {
    "duration": 9,
    "start_time": "2023-01-24T22:55:04.169Z"
   },
   {
    "duration": 957,
    "start_time": "2023-01-24T22:55:04.179Z"
   },
   {
    "duration": 6,
    "start_time": "2023-01-24T22:55:05.137Z"
   },
   {
    "duration": 7,
    "start_time": "2023-01-24T22:55:05.145Z"
   },
   {
    "duration": 5,
    "start_time": "2023-01-24T22:55:05.156Z"
   },
   {
    "duration": 5,
    "start_time": "2023-01-24T22:55:05.163Z"
   },
   {
    "duration": 14,
    "start_time": "2023-01-24T22:55:05.169Z"
   },
   {
    "duration": 6,
    "start_time": "2023-01-24T22:55:05.185Z"
   },
   {
    "duration": 4,
    "start_time": "2023-01-24T22:55:05.193Z"
   },
   {
    "duration": 23,
    "start_time": "2023-01-24T22:55:05.198Z"
   },
   {
    "duration": 5,
    "start_time": "2023-01-24T22:55:05.236Z"
   },
   {
    "duration": 18,
    "start_time": "2023-01-24T22:55:05.242Z"
   },
   {
    "duration": 7,
    "start_time": "2023-01-24T22:55:05.262Z"
   },
   {
    "duration": 24,
    "start_time": "2023-01-24T22:55:05.270Z"
   },
   {
    "duration": 18,
    "start_time": "2023-01-24T22:55:05.296Z"
   },
   {
    "duration": 2422,
    "start_time": "2023-01-24T22:55:05.316Z"
   },
   {
    "duration": 27799,
    "start_time": "2023-01-24T22:55:07.739Z"
   },
   {
    "duration": 79814,
    "start_time": "2023-01-24T22:55:35.539Z"
   },
   {
    "duration": 374,
    "start_time": "2023-01-24T22:56:55.354Z"
   },
   {
    "duration": 37804,
    "start_time": "2023-01-24T22:56:55.730Z"
   },
   {
    "duration": 29,
    "start_time": "2023-01-24T22:57:33.537Z"
   },
   {
    "duration": 3,
    "start_time": "2023-01-24T22:57:33.567Z"
   },
   {
    "duration": 8,
    "start_time": "2023-01-24T22:57:33.573Z"
   },
   {
    "duration": 38763,
    "start_time": "2023-01-24T22:57:33.583Z"
   },
   {
    "duration": 81061,
    "start_time": "2023-01-24T22:58:12.349Z"
   },
   {
    "duration": 9,
    "start_time": "2023-01-24T22:59:33.412Z"
   },
   {
    "duration": 16,
    "start_time": "2023-01-24T22:59:33.423Z"
   },
   {
    "duration": 44055,
    "start_time": "2023-01-24T22:59:33.440Z"
   },
   {
    "duration": 20655,
    "start_time": "2023-01-24T23:00:17.496Z"
   },
   {
    "duration": 150,
    "start_time": "2023-01-24T23:00:38.153Z"
   },
   {
    "duration": 8,
    "start_time": "2023-01-24T23:00:38.304Z"
   },
   {
    "duration": 5,
    "start_time": "2023-01-24T23:00:38.313Z"
   },
   {
    "duration": 164,
    "start_time": "2023-01-24T23:00:38.319Z"
   },
   {
    "duration": 209,
    "start_time": "2023-01-24T23:00:38.484Z"
   },
   {
    "duration": 1746,
    "start_time": "2023-01-25T16:24:59.233Z"
   },
   {
    "duration": 109,
    "start_time": "2023-01-25T16:25:00.981Z"
   },
   {
    "duration": 46,
    "start_time": "2023-01-25T16:25:01.092Z"
   },
   {
    "duration": 639,
    "start_time": "2023-01-25T16:25:01.140Z"
   },
   {
    "duration": 459,
    "start_time": "2023-01-25T16:25:01.781Z"
   },
   {
    "duration": 10,
    "start_time": "2023-01-25T16:25:02.242Z"
   },
   {
    "duration": 1046,
    "start_time": "2023-01-25T16:25:02.254Z"
   },
   {
    "duration": 6,
    "start_time": "2023-01-25T16:25:03.302Z"
   },
   {
    "duration": 21,
    "start_time": "2023-01-25T16:25:03.310Z"
   },
   {
    "duration": 16,
    "start_time": "2023-01-25T16:25:03.334Z"
   },
   {
    "duration": 3,
    "start_time": "2023-01-25T16:25:03.353Z"
   },
   {
    "duration": 18,
    "start_time": "2023-01-25T16:25:03.358Z"
   },
   {
    "duration": 21,
    "start_time": "2023-01-25T16:25:03.377Z"
   },
   {
    "duration": 6,
    "start_time": "2023-01-25T16:25:03.402Z"
   },
   {
    "duration": 40,
    "start_time": "2023-01-25T16:25:03.410Z"
   },
   {
    "duration": 7,
    "start_time": "2023-01-25T16:25:03.452Z"
   },
   {
    "duration": 27,
    "start_time": "2023-01-25T16:25:03.460Z"
   },
   {
    "duration": 18,
    "start_time": "2023-01-25T16:25:03.489Z"
   },
   {
    "duration": 28,
    "start_time": "2023-01-25T16:25:03.509Z"
   },
   {
    "duration": 22,
    "start_time": "2023-01-25T16:25:03.540Z"
   },
   {
    "duration": 2636,
    "start_time": "2023-01-25T16:25:03.563Z"
   },
   {
    "duration": 37798,
    "start_time": "2023-01-25T16:25:06.203Z"
   },
   {
    "duration": 96394,
    "start_time": "2023-01-25T16:25:44.003Z"
   },
   {
    "duration": 461,
    "start_time": "2023-01-25T16:27:20.399Z"
   },
   {
    "duration": 45441,
    "start_time": "2023-01-25T16:27:20.862Z"
   },
   {
    "duration": 33,
    "start_time": "2023-01-25T16:28:06.305Z"
   },
   {
    "duration": 9,
    "start_time": "2023-01-25T16:28:06.340Z"
   },
   {
    "duration": 16,
    "start_time": "2023-01-25T16:28:06.351Z"
   },
   {
    "duration": 45466,
    "start_time": "2023-01-25T16:28:06.369Z"
   },
   {
    "duration": 96637,
    "start_time": "2023-01-25T16:28:51.837Z"
   },
   {
    "duration": 9,
    "start_time": "2023-01-25T16:30:28.475Z"
   },
   {
    "duration": 40,
    "start_time": "2023-01-25T16:30:28.485Z"
   },
   {
    "duration": 52949,
    "start_time": "2023-01-25T16:30:28.527Z"
   },
   {
    "duration": 24652,
    "start_time": "2023-01-25T16:31:21.478Z"
   },
   {
    "duration": 177,
    "start_time": "2023-01-25T16:31:46.132Z"
   },
   {
    "duration": 11,
    "start_time": "2023-01-25T16:31:46.311Z"
   },
   {
    "duration": 4,
    "start_time": "2023-01-25T16:31:46.324Z"
   },
   {
    "duration": 176,
    "start_time": "2023-01-25T16:31:46.329Z"
   },
   {
    "duration": 244,
    "start_time": "2023-01-25T16:31:46.513Z"
   },
   {
    "duration": 5680,
    "start_time": "2023-01-25T16:59:41.330Z"
   },
   {
    "duration": 22263,
    "start_time": "2023-01-25T17:00:40.136Z"
   },
   {
    "duration": 39166,
    "start_time": "2023-01-25T17:01:11.237Z"
   },
   {
    "duration": 19894,
    "start_time": "2023-01-25T17:02:24.714Z"
   },
   {
    "duration": 7,
    "start_time": "2023-01-25T17:08:01.110Z"
   }
  ],
  "kernelspec": {
   "display_name": "Python 3 (ipykernel)",
   "language": "python",
   "name": "python3"
  },
  "language_info": {
   "codemirror_mode": {
    "name": "ipython",
    "version": 3
   },
   "file_extension": ".py",
   "mimetype": "text/x-python",
   "name": "python",
   "nbconvert_exporter": "python",
   "pygments_lexer": "ipython3",
   "version": "3.9.12"
  },
  "toc": {
   "base_numbering": 1,
   "nav_menu": {},
   "number_sections": true,
   "sideBar": true,
   "skip_h1_title": true,
   "title_cell": "Содержание",
   "title_sidebar": "Contents",
   "toc_cell": true,
   "toc_position": {
    "height": "calc(100% - 180px)",
    "left": "10px",
    "top": "150px",
    "width": "280.25px"
   },
   "toc_section_display": true,
   "toc_window_display": false
  },
  "varInspector": {
   "cols": {
    "lenName": 16,
    "lenType": 16,
    "lenVar": 40
   },
   "kernels_config": {
    "python": {
     "delete_cmd_postfix": "",
     "delete_cmd_prefix": "del ",
     "library": "var_list.py",
     "varRefreshCmd": "print(var_dic_list())"
    },
    "r": {
     "delete_cmd_postfix": ") ",
     "delete_cmd_prefix": "rm(",
     "library": "var_list.r",
     "varRefreshCmd": "cat(var_dic_list()) "
    }
   },
   "types_to_exclude": [
    "module",
    "function",
    "builtin_function_or_method",
    "instance",
    "_Feature"
   ],
   "window_display": false
  }
 },
 "nbformat": 4,
 "nbformat_minor": 2
}
