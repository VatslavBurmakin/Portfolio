{
 "cells": [
  {
   "cell_type": "markdown",
   "metadata": {},
   "source": [
    "# Восстановление золота из руды"
   ]
  },
  {
   "cell_type": "markdown",
   "metadata": {},
   "source": [
    "Подготовьте прототип модели машинного обучения для «Цифры». Компания разрабатывает решения для эффективной работы промышленных предприятий.\n",
    "\n",
    "Модель должна предсказать коэффициент восстановления золота из золотосодержащей руды. Используйте данные с параметрами добычи и очистки. \n",
    "\n",
    "Модель поможет оптимизировать производство, чтобы не запускать предприятие с убыточными характеристиками."
   ]
  },
  {
   "cell_type": "markdown",
   "metadata": {},
   "source": [
    "# План работы:\n",
    "\n",
    "1) Подготовить данные:\n",
    "\n",
    "- Проверить эффективность обогащения и вычислить её на обучающей выборке для признака rougher.output.recovery. Найти MAE между расчётами и значением признака.\n",
    "\n",
    "- Проанализировать признаки, недоступные в тестовой выборке.\n",
    "\n",
    "- Провести предобработку данных.\n",
    "\n",
    "2) Проанализировать данные:\n",
    "\n",
    "- Проанализировать как меняется концентрация металлов (Au, Ag, Pb) на различных этапах очистки.\n",
    "\n",
    "- Сравнить распределения размеров гранул сырья на обучающей и тестовой выборках.\n",
    "\n",
    "- Исследовать суммарную концентрацию всех веществ на разных стадиях: в сырье, в черновом и финальном концентратах. Описать выводы и удалить аномалии.\n",
    "\n",
    "3) Построить модель:\n",
    "\n",
    "- Написать функцию для вычисления итоговой sMAPE.\n",
    "\n",
    "- Обучить разные модели и оценить их качество. Выбрать лучшую модель и проверить её на тестовой выборке.\n",
    "\n",
    "4) Общий вывод\n"
   ]
  },
  {
   "cell_type": "markdown",
   "metadata": {},
   "source": [
    "# Описание данных\n",
    "    \n",
    "Наименование признаков: \n",
    "- [этап].[тип_параметра].[название_параметра]\n",
    "\n",
    "**Пример:** rougher.input.feed_ag\n",
    "\n",
    "**Возможные значения для блока [этап]:**\n",
    "\n",
    "- rougher — флотация\n",
    "\n",
    "- primary_cleaner — первичная очистка\n",
    "\n",
    "- secondary_cleaner — вторичная очистка\n",
    "\n",
    "- final — финальные характеристики\n",
    "\n",
    "**Возможные значения для блока [тип_параметра]:**\n",
    "\n",
    "- input — параметры сырья\n",
    "\n",
    "- output — параметры продукта\n",
    "\n",
    "- state — параметры, характеризующие текущее состояние этапа\n",
    "\n",
    "- calculation — расчётные характеристики\n",
    "\n",
    "**Параметры этапов:**\n",
    "\n",
    "- air amount — объём воздуха\n",
    "\n",
    "- fluid levels — уровень жидкости\n",
    "\n",
    "- feed size — размер гранул сырья\n",
    "\n",
    "- feed rate — скорость подачи"
   ]
  },
  {
   "cell_type": "markdown",
   "metadata": {},
   "source": [
    "## Подготовка данных"
   ]
  },
  {
   "cell_type": "code",
   "execution_count": 1,
   "metadata": {},
   "outputs": [],
   "source": [
    "import pandas as pd\n",
    "import numpy as np\n",
    "\n",
    "from sklearn.metrics import mean_absolute_error\n",
    "from sklearn.metrics import make_scorer\n",
    "\n",
    "from sklearn.impute import KNNImputer\n",
    "\n",
    "from sklearn.preprocessing import StandardScaler\n",
    "\n",
    "from sklearn.pipeline import make_pipeline\n",
    "\n",
    "from sklearn.model_selection import GridSearchCV\n",
    "from sklearn.model_selection import RandomizedSearchCV\n",
    "\n",
    "import scipy\n",
    "import statistics\n",
    "from scipy import stats as st\n",
    "\n",
    "from sklearn.linear_model import Lasso\n",
    "from sklearn.ensemble import RandomForestRegressor\n",
    "from sklearn.tree import DecisionTreeRegressor\n",
    "\n",
    "from sklearn.dummy import DummyRegressor\n",
    "\n",
    "import seaborn as sns\n",
    "import matplotlib.pyplot as plt\n",
    "%matplotlib inline\n",
    "\n",
    "import warnings\n",
    "warnings.filterwarnings(\"ignore\")"
   ]
  },
  {
   "cell_type": "markdown",
   "metadata": {},
   "source": [
    "Напишем функцию для открытия файла и вызова необходимых сведений о датасетах, а затем ознакомимся с ними:"
   ]
  },
  {
   "cell_type": "code",
   "execution_count": 2,
   "metadata": {},
   "outputs": [],
   "source": [
    "def data_read_exam(file_path):\n",
    "    # читаем данные из .csv файла с помощью метода read_csv()\n",
    "    data = pd.read_csv(file_path, index_col = 'date')\n",
    "    display(data.head(10))\n",
    "    print(data.info())\n",
    "    print('Количество дубликатов:', sum(data.duplicated()))\n",
    "    return data"
   ]
  },
  {
   "cell_type": "code",
   "execution_count": 3,
   "metadata": {},
   "outputs": [
    {
     "data": {
      "text/html": [
       "<div>\n",
       "<style scoped>\n",
       "    .dataframe tbody tr th:only-of-type {\n",
       "        vertical-align: middle;\n",
       "    }\n",
       "\n",
       "    .dataframe tbody tr th {\n",
       "        vertical-align: top;\n",
       "    }\n",
       "\n",
       "    .dataframe thead th {\n",
       "        text-align: right;\n",
       "    }\n",
       "</style>\n",
       "<table border=\"1\" class=\"dataframe\">\n",
       "  <thead>\n",
       "    <tr style=\"text-align: right;\">\n",
       "      <th></th>\n",
       "      <th>final.output.concentrate_ag</th>\n",
       "      <th>final.output.concentrate_pb</th>\n",
       "      <th>final.output.concentrate_sol</th>\n",
       "      <th>final.output.concentrate_au</th>\n",
       "      <th>final.output.recovery</th>\n",
       "      <th>final.output.tail_ag</th>\n",
       "      <th>final.output.tail_pb</th>\n",
       "      <th>final.output.tail_sol</th>\n",
       "      <th>final.output.tail_au</th>\n",
       "      <th>primary_cleaner.input.sulfate</th>\n",
       "      <th>...</th>\n",
       "      <th>secondary_cleaner.state.floatbank4_a_air</th>\n",
       "      <th>secondary_cleaner.state.floatbank4_a_level</th>\n",
       "      <th>secondary_cleaner.state.floatbank4_b_air</th>\n",
       "      <th>secondary_cleaner.state.floatbank4_b_level</th>\n",
       "      <th>secondary_cleaner.state.floatbank5_a_air</th>\n",
       "      <th>secondary_cleaner.state.floatbank5_a_level</th>\n",
       "      <th>secondary_cleaner.state.floatbank5_b_air</th>\n",
       "      <th>secondary_cleaner.state.floatbank5_b_level</th>\n",
       "      <th>secondary_cleaner.state.floatbank6_a_air</th>\n",
       "      <th>secondary_cleaner.state.floatbank6_a_level</th>\n",
       "    </tr>\n",
       "    <tr>\n",
       "      <th>date</th>\n",
       "      <th></th>\n",
       "      <th></th>\n",
       "      <th></th>\n",
       "      <th></th>\n",
       "      <th></th>\n",
       "      <th></th>\n",
       "      <th></th>\n",
       "      <th></th>\n",
       "      <th></th>\n",
       "      <th></th>\n",
       "      <th></th>\n",
       "      <th></th>\n",
       "      <th></th>\n",
       "      <th></th>\n",
       "      <th></th>\n",
       "      <th></th>\n",
       "      <th></th>\n",
       "      <th></th>\n",
       "      <th></th>\n",
       "      <th></th>\n",
       "      <th></th>\n",
       "    </tr>\n",
       "  </thead>\n",
       "  <tbody>\n",
       "    <tr>\n",
       "      <th>2016-01-15 00:00:00</th>\n",
       "      <td>6.055403</td>\n",
       "      <td>9.889648</td>\n",
       "      <td>5.507324</td>\n",
       "      <td>42.192020</td>\n",
       "      <td>70.541216</td>\n",
       "      <td>10.411962</td>\n",
       "      <td>0.895447</td>\n",
       "      <td>16.904297</td>\n",
       "      <td>2.143149</td>\n",
       "      <td>127.092003</td>\n",
       "      <td>...</td>\n",
       "      <td>14.016835</td>\n",
       "      <td>-502.488007</td>\n",
       "      <td>12.099931</td>\n",
       "      <td>-504.715942</td>\n",
       "      <td>9.925633</td>\n",
       "      <td>-498.310211</td>\n",
       "      <td>8.079666</td>\n",
       "      <td>-500.470978</td>\n",
       "      <td>14.151341</td>\n",
       "      <td>-605.841980</td>\n",
       "    </tr>\n",
       "    <tr>\n",
       "      <th>2016-01-15 01:00:00</th>\n",
       "      <td>6.029369</td>\n",
       "      <td>9.968944</td>\n",
       "      <td>5.257781</td>\n",
       "      <td>42.701629</td>\n",
       "      <td>69.266198</td>\n",
       "      <td>10.462676</td>\n",
       "      <td>0.927452</td>\n",
       "      <td>16.634514</td>\n",
       "      <td>2.224930</td>\n",
       "      <td>125.629232</td>\n",
       "      <td>...</td>\n",
       "      <td>13.992281</td>\n",
       "      <td>-505.503262</td>\n",
       "      <td>11.950531</td>\n",
       "      <td>-501.331529</td>\n",
       "      <td>10.039245</td>\n",
       "      <td>-500.169983</td>\n",
       "      <td>7.984757</td>\n",
       "      <td>-500.582168</td>\n",
       "      <td>13.998353</td>\n",
       "      <td>-599.787184</td>\n",
       "    </tr>\n",
       "    <tr>\n",
       "      <th>2016-01-15 02:00:00</th>\n",
       "      <td>6.055926</td>\n",
       "      <td>10.213995</td>\n",
       "      <td>5.383759</td>\n",
       "      <td>42.657501</td>\n",
       "      <td>68.116445</td>\n",
       "      <td>10.507046</td>\n",
       "      <td>0.953716</td>\n",
       "      <td>16.208849</td>\n",
       "      <td>2.257889</td>\n",
       "      <td>123.819808</td>\n",
       "      <td>...</td>\n",
       "      <td>14.015015</td>\n",
       "      <td>-502.520901</td>\n",
       "      <td>11.912783</td>\n",
       "      <td>-501.133383</td>\n",
       "      <td>10.070913</td>\n",
       "      <td>-500.129135</td>\n",
       "      <td>8.013877</td>\n",
       "      <td>-500.517572</td>\n",
       "      <td>14.028663</td>\n",
       "      <td>-601.427363</td>\n",
       "    </tr>\n",
       "    <tr>\n",
       "      <th>2016-01-15 03:00:00</th>\n",
       "      <td>6.047977</td>\n",
       "      <td>9.977019</td>\n",
       "      <td>4.858634</td>\n",
       "      <td>42.689819</td>\n",
       "      <td>68.347543</td>\n",
       "      <td>10.422762</td>\n",
       "      <td>0.883763</td>\n",
       "      <td>16.532835</td>\n",
       "      <td>2.146849</td>\n",
       "      <td>122.270188</td>\n",
       "      <td>...</td>\n",
       "      <td>14.036510</td>\n",
       "      <td>-500.857308</td>\n",
       "      <td>11.999550</td>\n",
       "      <td>-501.193686</td>\n",
       "      <td>9.970366</td>\n",
       "      <td>-499.201640</td>\n",
       "      <td>7.977324</td>\n",
       "      <td>-500.255908</td>\n",
       "      <td>14.005551</td>\n",
       "      <td>-599.996129</td>\n",
       "    </tr>\n",
       "    <tr>\n",
       "      <th>2016-01-15 04:00:00</th>\n",
       "      <td>6.148599</td>\n",
       "      <td>10.142511</td>\n",
       "      <td>4.939416</td>\n",
       "      <td>42.774141</td>\n",
       "      <td>66.927016</td>\n",
       "      <td>10.360302</td>\n",
       "      <td>0.792826</td>\n",
       "      <td>16.525686</td>\n",
       "      <td>2.055292</td>\n",
       "      <td>117.988169</td>\n",
       "      <td>...</td>\n",
       "      <td>14.027298</td>\n",
       "      <td>-499.838632</td>\n",
       "      <td>11.953070</td>\n",
       "      <td>-501.053894</td>\n",
       "      <td>9.925709</td>\n",
       "      <td>-501.686727</td>\n",
       "      <td>7.894242</td>\n",
       "      <td>-500.356035</td>\n",
       "      <td>13.996647</td>\n",
       "      <td>-601.496691</td>\n",
       "    </tr>\n",
       "    <tr>\n",
       "      <th>2016-01-15 05:00:00</th>\n",
       "      <td>6.482968</td>\n",
       "      <td>10.049416</td>\n",
       "      <td>5.480257</td>\n",
       "      <td>41.633678</td>\n",
       "      <td>69.465816</td>\n",
       "      <td>10.182708</td>\n",
       "      <td>0.664118</td>\n",
       "      <td>16.999638</td>\n",
       "      <td>1.918586</td>\n",
       "      <td>115.581252</td>\n",
       "      <td>...</td>\n",
       "      <td>13.938497</td>\n",
       "      <td>-500.970168</td>\n",
       "      <td>11.883350</td>\n",
       "      <td>-500.395298</td>\n",
       "      <td>10.054147</td>\n",
       "      <td>-496.374715</td>\n",
       "      <td>7.965083</td>\n",
       "      <td>-499.364752</td>\n",
       "      <td>14.017067</td>\n",
       "      <td>-599.707915</td>\n",
       "    </tr>\n",
       "    <tr>\n",
       "      <th>2016-01-15 06:00:00</th>\n",
       "      <td>6.533849</td>\n",
       "      <td>10.058141</td>\n",
       "      <td>4.569100</td>\n",
       "      <td>41.995316</td>\n",
       "      <td>69.300835</td>\n",
       "      <td>10.304598</td>\n",
       "      <td>0.807342</td>\n",
       "      <td>16.723575</td>\n",
       "      <td>2.058913</td>\n",
       "      <td>117.322323</td>\n",
       "      <td>...</td>\n",
       "      <td>14.046819</td>\n",
       "      <td>-500.971133</td>\n",
       "      <td>12.091543</td>\n",
       "      <td>-500.501426</td>\n",
       "      <td>10.003247</td>\n",
       "      <td>-497.083180</td>\n",
       "      <td>8.010890</td>\n",
       "      <td>-500.002423</td>\n",
       "      <td>14.029649</td>\n",
       "      <td>-600.905470</td>\n",
       "    </tr>\n",
       "    <tr>\n",
       "      <th>2016-01-15 07:00:00</th>\n",
       "      <td>6.130823</td>\n",
       "      <td>9.935481</td>\n",
       "      <td>4.389813</td>\n",
       "      <td>42.452727</td>\n",
       "      <td>70.230976</td>\n",
       "      <td>10.443288</td>\n",
       "      <td>0.949346</td>\n",
       "      <td>16.689959</td>\n",
       "      <td>2.143437</td>\n",
       "      <td>124.592960</td>\n",
       "      <td>...</td>\n",
       "      <td>13.974691</td>\n",
       "      <td>-501.819696</td>\n",
       "      <td>12.101324</td>\n",
       "      <td>-500.583446</td>\n",
       "      <td>9.873169</td>\n",
       "      <td>-499.171928</td>\n",
       "      <td>7.993381</td>\n",
       "      <td>-499.794518</td>\n",
       "      <td>13.984498</td>\n",
       "      <td>-600.411070</td>\n",
       "    </tr>\n",
       "    <tr>\n",
       "      <th>2016-01-15 08:00:00</th>\n",
       "      <td>5.834140</td>\n",
       "      <td>10.071156</td>\n",
       "      <td>4.876389</td>\n",
       "      <td>43.404078</td>\n",
       "      <td>69.688595</td>\n",
       "      <td>10.420140</td>\n",
       "      <td>1.065453</td>\n",
       "      <td>17.201948</td>\n",
       "      <td>2.209881</td>\n",
       "      <td>131.781026</td>\n",
       "      <td>...</td>\n",
       "      <td>13.964030</td>\n",
       "      <td>-504.252450</td>\n",
       "      <td>12.060738</td>\n",
       "      <td>-501.174549</td>\n",
       "      <td>10.033838</td>\n",
       "      <td>-501.178133</td>\n",
       "      <td>7.881604</td>\n",
       "      <td>-499.729434</td>\n",
       "      <td>13.967135</td>\n",
       "      <td>-599.061188</td>\n",
       "    </tr>\n",
       "    <tr>\n",
       "      <th>2016-01-15 09:00:00</th>\n",
       "      <td>5.687063</td>\n",
       "      <td>9.980404</td>\n",
       "      <td>5.282514</td>\n",
       "      <td>43.235220</td>\n",
       "      <td>70.279619</td>\n",
       "      <td>10.487013</td>\n",
       "      <td>1.159805</td>\n",
       "      <td>17.483979</td>\n",
       "      <td>2.209593</td>\n",
       "      <td>138.120409</td>\n",
       "      <td>...</td>\n",
       "      <td>13.989632</td>\n",
       "      <td>-503.195299</td>\n",
       "      <td>12.052233</td>\n",
       "      <td>-500.928547</td>\n",
       "      <td>9.962574</td>\n",
       "      <td>-502.986357</td>\n",
       "      <td>7.979219</td>\n",
       "      <td>-500.146835</td>\n",
       "      <td>13.981614</td>\n",
       "      <td>-598.070855</td>\n",
       "    </tr>\n",
       "  </tbody>\n",
       "</table>\n",
       "<p>10 rows × 86 columns</p>\n",
       "</div>"
      ],
      "text/plain": [
       "                     final.output.concentrate_ag  final.output.concentrate_pb  \\\n",
       "date                                                                            \n",
       "2016-01-15 00:00:00                     6.055403                     9.889648   \n",
       "2016-01-15 01:00:00                     6.029369                     9.968944   \n",
       "2016-01-15 02:00:00                     6.055926                    10.213995   \n",
       "2016-01-15 03:00:00                     6.047977                     9.977019   \n",
       "2016-01-15 04:00:00                     6.148599                    10.142511   \n",
       "2016-01-15 05:00:00                     6.482968                    10.049416   \n",
       "2016-01-15 06:00:00                     6.533849                    10.058141   \n",
       "2016-01-15 07:00:00                     6.130823                     9.935481   \n",
       "2016-01-15 08:00:00                     5.834140                    10.071156   \n",
       "2016-01-15 09:00:00                     5.687063                     9.980404   \n",
       "\n",
       "                     final.output.concentrate_sol  \\\n",
       "date                                                \n",
       "2016-01-15 00:00:00                      5.507324   \n",
       "2016-01-15 01:00:00                      5.257781   \n",
       "2016-01-15 02:00:00                      5.383759   \n",
       "2016-01-15 03:00:00                      4.858634   \n",
       "2016-01-15 04:00:00                      4.939416   \n",
       "2016-01-15 05:00:00                      5.480257   \n",
       "2016-01-15 06:00:00                      4.569100   \n",
       "2016-01-15 07:00:00                      4.389813   \n",
       "2016-01-15 08:00:00                      4.876389   \n",
       "2016-01-15 09:00:00                      5.282514   \n",
       "\n",
       "                     final.output.concentrate_au  final.output.recovery  \\\n",
       "date                                                                      \n",
       "2016-01-15 00:00:00                    42.192020              70.541216   \n",
       "2016-01-15 01:00:00                    42.701629              69.266198   \n",
       "2016-01-15 02:00:00                    42.657501              68.116445   \n",
       "2016-01-15 03:00:00                    42.689819              68.347543   \n",
       "2016-01-15 04:00:00                    42.774141              66.927016   \n",
       "2016-01-15 05:00:00                    41.633678              69.465816   \n",
       "2016-01-15 06:00:00                    41.995316              69.300835   \n",
       "2016-01-15 07:00:00                    42.452727              70.230976   \n",
       "2016-01-15 08:00:00                    43.404078              69.688595   \n",
       "2016-01-15 09:00:00                    43.235220              70.279619   \n",
       "\n",
       "                     final.output.tail_ag  final.output.tail_pb  \\\n",
       "date                                                              \n",
       "2016-01-15 00:00:00             10.411962              0.895447   \n",
       "2016-01-15 01:00:00             10.462676              0.927452   \n",
       "2016-01-15 02:00:00             10.507046              0.953716   \n",
       "2016-01-15 03:00:00             10.422762              0.883763   \n",
       "2016-01-15 04:00:00             10.360302              0.792826   \n",
       "2016-01-15 05:00:00             10.182708              0.664118   \n",
       "2016-01-15 06:00:00             10.304598              0.807342   \n",
       "2016-01-15 07:00:00             10.443288              0.949346   \n",
       "2016-01-15 08:00:00             10.420140              1.065453   \n",
       "2016-01-15 09:00:00             10.487013              1.159805   \n",
       "\n",
       "                     final.output.tail_sol  final.output.tail_au  \\\n",
       "date                                                               \n",
       "2016-01-15 00:00:00              16.904297              2.143149   \n",
       "2016-01-15 01:00:00              16.634514              2.224930   \n",
       "2016-01-15 02:00:00              16.208849              2.257889   \n",
       "2016-01-15 03:00:00              16.532835              2.146849   \n",
       "2016-01-15 04:00:00              16.525686              2.055292   \n",
       "2016-01-15 05:00:00              16.999638              1.918586   \n",
       "2016-01-15 06:00:00              16.723575              2.058913   \n",
       "2016-01-15 07:00:00              16.689959              2.143437   \n",
       "2016-01-15 08:00:00              17.201948              2.209881   \n",
       "2016-01-15 09:00:00              17.483979              2.209593   \n",
       "\n",
       "                     primary_cleaner.input.sulfate  ...  \\\n",
       "date                                                ...   \n",
       "2016-01-15 00:00:00                     127.092003  ...   \n",
       "2016-01-15 01:00:00                     125.629232  ...   \n",
       "2016-01-15 02:00:00                     123.819808  ...   \n",
       "2016-01-15 03:00:00                     122.270188  ...   \n",
       "2016-01-15 04:00:00                     117.988169  ...   \n",
       "2016-01-15 05:00:00                     115.581252  ...   \n",
       "2016-01-15 06:00:00                     117.322323  ...   \n",
       "2016-01-15 07:00:00                     124.592960  ...   \n",
       "2016-01-15 08:00:00                     131.781026  ...   \n",
       "2016-01-15 09:00:00                     138.120409  ...   \n",
       "\n",
       "                     secondary_cleaner.state.floatbank4_a_air  \\\n",
       "date                                                            \n",
       "2016-01-15 00:00:00                                 14.016835   \n",
       "2016-01-15 01:00:00                                 13.992281   \n",
       "2016-01-15 02:00:00                                 14.015015   \n",
       "2016-01-15 03:00:00                                 14.036510   \n",
       "2016-01-15 04:00:00                                 14.027298   \n",
       "2016-01-15 05:00:00                                 13.938497   \n",
       "2016-01-15 06:00:00                                 14.046819   \n",
       "2016-01-15 07:00:00                                 13.974691   \n",
       "2016-01-15 08:00:00                                 13.964030   \n",
       "2016-01-15 09:00:00                                 13.989632   \n",
       "\n",
       "                     secondary_cleaner.state.floatbank4_a_level  \\\n",
       "date                                                              \n",
       "2016-01-15 00:00:00                                 -502.488007   \n",
       "2016-01-15 01:00:00                                 -505.503262   \n",
       "2016-01-15 02:00:00                                 -502.520901   \n",
       "2016-01-15 03:00:00                                 -500.857308   \n",
       "2016-01-15 04:00:00                                 -499.838632   \n",
       "2016-01-15 05:00:00                                 -500.970168   \n",
       "2016-01-15 06:00:00                                 -500.971133   \n",
       "2016-01-15 07:00:00                                 -501.819696   \n",
       "2016-01-15 08:00:00                                 -504.252450   \n",
       "2016-01-15 09:00:00                                 -503.195299   \n",
       "\n",
       "                     secondary_cleaner.state.floatbank4_b_air  \\\n",
       "date                                                            \n",
       "2016-01-15 00:00:00                                 12.099931   \n",
       "2016-01-15 01:00:00                                 11.950531   \n",
       "2016-01-15 02:00:00                                 11.912783   \n",
       "2016-01-15 03:00:00                                 11.999550   \n",
       "2016-01-15 04:00:00                                 11.953070   \n",
       "2016-01-15 05:00:00                                 11.883350   \n",
       "2016-01-15 06:00:00                                 12.091543   \n",
       "2016-01-15 07:00:00                                 12.101324   \n",
       "2016-01-15 08:00:00                                 12.060738   \n",
       "2016-01-15 09:00:00                                 12.052233   \n",
       "\n",
       "                     secondary_cleaner.state.floatbank4_b_level  \\\n",
       "date                                                              \n",
       "2016-01-15 00:00:00                                 -504.715942   \n",
       "2016-01-15 01:00:00                                 -501.331529   \n",
       "2016-01-15 02:00:00                                 -501.133383   \n",
       "2016-01-15 03:00:00                                 -501.193686   \n",
       "2016-01-15 04:00:00                                 -501.053894   \n",
       "2016-01-15 05:00:00                                 -500.395298   \n",
       "2016-01-15 06:00:00                                 -500.501426   \n",
       "2016-01-15 07:00:00                                 -500.583446   \n",
       "2016-01-15 08:00:00                                 -501.174549   \n",
       "2016-01-15 09:00:00                                 -500.928547   \n",
       "\n",
       "                     secondary_cleaner.state.floatbank5_a_air  \\\n",
       "date                                                            \n",
       "2016-01-15 00:00:00                                  9.925633   \n",
       "2016-01-15 01:00:00                                 10.039245   \n",
       "2016-01-15 02:00:00                                 10.070913   \n",
       "2016-01-15 03:00:00                                  9.970366   \n",
       "2016-01-15 04:00:00                                  9.925709   \n",
       "2016-01-15 05:00:00                                 10.054147   \n",
       "2016-01-15 06:00:00                                 10.003247   \n",
       "2016-01-15 07:00:00                                  9.873169   \n",
       "2016-01-15 08:00:00                                 10.033838   \n",
       "2016-01-15 09:00:00                                  9.962574   \n",
       "\n",
       "                     secondary_cleaner.state.floatbank5_a_level  \\\n",
       "date                                                              \n",
       "2016-01-15 00:00:00                                 -498.310211   \n",
       "2016-01-15 01:00:00                                 -500.169983   \n",
       "2016-01-15 02:00:00                                 -500.129135   \n",
       "2016-01-15 03:00:00                                 -499.201640   \n",
       "2016-01-15 04:00:00                                 -501.686727   \n",
       "2016-01-15 05:00:00                                 -496.374715   \n",
       "2016-01-15 06:00:00                                 -497.083180   \n",
       "2016-01-15 07:00:00                                 -499.171928   \n",
       "2016-01-15 08:00:00                                 -501.178133   \n",
       "2016-01-15 09:00:00                                 -502.986357   \n",
       "\n",
       "                     secondary_cleaner.state.floatbank5_b_air  \\\n",
       "date                                                            \n",
       "2016-01-15 00:00:00                                  8.079666   \n",
       "2016-01-15 01:00:00                                  7.984757   \n",
       "2016-01-15 02:00:00                                  8.013877   \n",
       "2016-01-15 03:00:00                                  7.977324   \n",
       "2016-01-15 04:00:00                                  7.894242   \n",
       "2016-01-15 05:00:00                                  7.965083   \n",
       "2016-01-15 06:00:00                                  8.010890   \n",
       "2016-01-15 07:00:00                                  7.993381   \n",
       "2016-01-15 08:00:00                                  7.881604   \n",
       "2016-01-15 09:00:00                                  7.979219   \n",
       "\n",
       "                     secondary_cleaner.state.floatbank5_b_level  \\\n",
       "date                                                              \n",
       "2016-01-15 00:00:00                                 -500.470978   \n",
       "2016-01-15 01:00:00                                 -500.582168   \n",
       "2016-01-15 02:00:00                                 -500.517572   \n",
       "2016-01-15 03:00:00                                 -500.255908   \n",
       "2016-01-15 04:00:00                                 -500.356035   \n",
       "2016-01-15 05:00:00                                 -499.364752   \n",
       "2016-01-15 06:00:00                                 -500.002423   \n",
       "2016-01-15 07:00:00                                 -499.794518   \n",
       "2016-01-15 08:00:00                                 -499.729434   \n",
       "2016-01-15 09:00:00                                 -500.146835   \n",
       "\n",
       "                     secondary_cleaner.state.floatbank6_a_air  \\\n",
       "date                                                            \n",
       "2016-01-15 00:00:00                                 14.151341   \n",
       "2016-01-15 01:00:00                                 13.998353   \n",
       "2016-01-15 02:00:00                                 14.028663   \n",
       "2016-01-15 03:00:00                                 14.005551   \n",
       "2016-01-15 04:00:00                                 13.996647   \n",
       "2016-01-15 05:00:00                                 14.017067   \n",
       "2016-01-15 06:00:00                                 14.029649   \n",
       "2016-01-15 07:00:00                                 13.984498   \n",
       "2016-01-15 08:00:00                                 13.967135   \n",
       "2016-01-15 09:00:00                                 13.981614   \n",
       "\n",
       "                     secondary_cleaner.state.floatbank6_a_level  \n",
       "date                                                             \n",
       "2016-01-15 00:00:00                                 -605.841980  \n",
       "2016-01-15 01:00:00                                 -599.787184  \n",
       "2016-01-15 02:00:00                                 -601.427363  \n",
       "2016-01-15 03:00:00                                 -599.996129  \n",
       "2016-01-15 04:00:00                                 -601.496691  \n",
       "2016-01-15 05:00:00                                 -599.707915  \n",
       "2016-01-15 06:00:00                                 -600.905470  \n",
       "2016-01-15 07:00:00                                 -600.411070  \n",
       "2016-01-15 08:00:00                                 -599.061188  \n",
       "2016-01-15 09:00:00                                 -598.070855  \n",
       "\n",
       "[10 rows x 86 columns]"
      ]
     },
     "metadata": {},
     "output_type": "display_data"
    },
    {
     "name": "stdout",
     "output_type": "stream",
     "text": [
      "<class 'pandas.core.frame.DataFrame'>\n",
      "Index: 19439 entries, 2016-01-15 00:00:00 to 2018-08-18 10:59:59\n",
      "Data columns (total 86 columns):\n",
      " #   Column                                              Non-Null Count  Dtype  \n",
      "---  ------                                              --------------  -----  \n",
      " 0   final.output.concentrate_ag                         19438 non-null  float64\n",
      " 1   final.output.concentrate_pb                         19438 non-null  float64\n",
      " 2   final.output.concentrate_sol                        19228 non-null  float64\n",
      " 3   final.output.concentrate_au                         19439 non-null  float64\n",
      " 4   final.output.recovery                               19439 non-null  float64\n",
      " 5   final.output.tail_ag                                19438 non-null  float64\n",
      " 6   final.output.tail_pb                                19338 non-null  float64\n",
      " 7   final.output.tail_sol                               19433 non-null  float64\n",
      " 8   final.output.tail_au                                19439 non-null  float64\n",
      " 9   primary_cleaner.input.sulfate                       19415 non-null  float64\n",
      " 10  primary_cleaner.input.depressant                    19402 non-null  float64\n",
      " 11  primary_cleaner.input.feed_size                     19439 non-null  float64\n",
      " 12  primary_cleaner.input.xanthate                      19335 non-null  float64\n",
      " 13  primary_cleaner.output.concentrate_ag               19439 non-null  float64\n",
      " 14  primary_cleaner.output.concentrate_pb               19323 non-null  float64\n",
      " 15  primary_cleaner.output.concentrate_sol              19069 non-null  float64\n",
      " 16  primary_cleaner.output.concentrate_au               19439 non-null  float64\n",
      " 17  primary_cleaner.output.tail_ag                      19435 non-null  float64\n",
      " 18  primary_cleaner.output.tail_pb                      19418 non-null  float64\n",
      " 19  primary_cleaner.output.tail_sol                     19377 non-null  float64\n",
      " 20  primary_cleaner.output.tail_au                      19439 non-null  float64\n",
      " 21  primary_cleaner.state.floatbank8_a_air              19435 non-null  float64\n",
      " 22  primary_cleaner.state.floatbank8_a_level            19438 non-null  float64\n",
      " 23  primary_cleaner.state.floatbank8_b_air              19435 non-null  float64\n",
      " 24  primary_cleaner.state.floatbank8_b_level            19438 non-null  float64\n",
      " 25  primary_cleaner.state.floatbank8_c_air              19437 non-null  float64\n",
      " 26  primary_cleaner.state.floatbank8_c_level            19438 non-null  float64\n",
      " 27  primary_cleaner.state.floatbank8_d_air              19436 non-null  float64\n",
      " 28  primary_cleaner.state.floatbank8_d_level            19438 non-null  float64\n",
      " 29  rougher.calculation.sulfate_to_au_concentrate       19437 non-null  float64\n",
      " 30  rougher.calculation.floatbank10_sulfate_to_au_feed  19437 non-null  float64\n",
      " 31  rougher.calculation.floatbank11_sulfate_to_au_feed  19437 non-null  float64\n",
      " 32  rougher.calculation.au_pb_ratio                     19439 non-null  float64\n",
      " 33  rougher.input.feed_ag                               19439 non-null  float64\n",
      " 34  rougher.input.feed_pb                               19339 non-null  float64\n",
      " 35  rougher.input.feed_rate                             19428 non-null  float64\n",
      " 36  rougher.input.feed_size                             19294 non-null  float64\n",
      " 37  rougher.input.feed_sol                              19340 non-null  float64\n",
      " 38  rougher.input.feed_au                               19439 non-null  float64\n",
      " 39  rougher.input.floatbank10_sulfate                   19405 non-null  float64\n",
      " 40  rougher.input.floatbank10_xanthate                  19431 non-null  float64\n",
      " 41  rougher.input.floatbank11_sulfate                   19395 non-null  float64\n",
      " 42  rougher.input.floatbank11_xanthate                  18986 non-null  float64\n",
      " 43  rougher.output.concentrate_ag                       19439 non-null  float64\n",
      " 44  rougher.output.concentrate_pb                       19439 non-null  float64\n",
      " 45  rougher.output.concentrate_sol                      19416 non-null  float64\n",
      " 46  rougher.output.concentrate_au                       19439 non-null  float64\n",
      " 47  rougher.output.recovery                             19439 non-null  float64\n",
      " 48  rougher.output.tail_ag                              19438 non-null  float64\n",
      " 49  rougher.output.tail_pb                              19439 non-null  float64\n",
      " 50  rougher.output.tail_sol                             19439 non-null  float64\n",
      " 51  rougher.output.tail_au                              19439 non-null  float64\n",
      " 52  rougher.state.floatbank10_a_air                     19438 non-null  float64\n",
      " 53  rougher.state.floatbank10_a_level                   19438 non-null  float64\n",
      " 54  rougher.state.floatbank10_b_air                     19438 non-null  float64\n",
      " 55  rougher.state.floatbank10_b_level                   19438 non-null  float64\n",
      " 56  rougher.state.floatbank10_c_air                     19438 non-null  float64\n",
      " 57  rougher.state.floatbank10_c_level                   19438 non-null  float64\n",
      " 58  rougher.state.floatbank10_d_air                     19439 non-null  float64\n",
      " 59  rougher.state.floatbank10_d_level                   19439 non-null  float64\n",
      " 60  rougher.state.floatbank10_e_air                     19003 non-null  float64\n",
      " 61  rougher.state.floatbank10_e_level                   19439 non-null  float64\n",
      " 62  rougher.state.floatbank10_f_air                     19439 non-null  float64\n",
      " 63  rougher.state.floatbank10_f_level                   19439 non-null  float64\n",
      " 64  secondary_cleaner.output.tail_ag                    19437 non-null  float64\n",
      " 65  secondary_cleaner.output.tail_pb                    19427 non-null  float64\n",
      " 66  secondary_cleaner.output.tail_sol                   17691 non-null  float64\n",
      " 67  secondary_cleaner.output.tail_au                    19439 non-null  float64\n",
      " 68  secondary_cleaner.state.floatbank2_a_air            19219 non-null  float64\n",
      " 69  secondary_cleaner.state.floatbank2_a_level          19438 non-null  float64\n",
      " 70  secondary_cleaner.state.floatbank2_b_air            19416 non-null  float64\n",
      " 71  secondary_cleaner.state.floatbank2_b_level          19438 non-null  float64\n",
      " 72  secondary_cleaner.state.floatbank3_a_air            19426 non-null  float64\n",
      " 73  secondary_cleaner.state.floatbank3_a_level          19438 non-null  float64\n",
      " 74  secondary_cleaner.state.floatbank3_b_air            19438 non-null  float64\n",
      " 75  secondary_cleaner.state.floatbank3_b_level          19438 non-null  float64\n",
      " 76  secondary_cleaner.state.floatbank4_a_air            19433 non-null  float64\n",
      " 77  secondary_cleaner.state.floatbank4_a_level          19438 non-null  float64\n",
      " 78  secondary_cleaner.state.floatbank4_b_air            19438 non-null  float64\n",
      " 79  secondary_cleaner.state.floatbank4_b_level          19438 non-null  float64\n",
      " 80  secondary_cleaner.state.floatbank5_a_air            19438 non-null  float64\n",
      " 81  secondary_cleaner.state.floatbank5_a_level          19438 non-null  float64\n",
      " 82  secondary_cleaner.state.floatbank5_b_air            19438 non-null  float64\n",
      " 83  secondary_cleaner.state.floatbank5_b_level          19438 non-null  float64\n",
      " 84  secondary_cleaner.state.floatbank6_a_air            19437 non-null  float64\n",
      " 85  secondary_cleaner.state.floatbank6_a_level          19438 non-null  float64\n",
      "dtypes: float64(86)\n",
      "memory usage: 12.9+ MB\n",
      "None\n",
      "Количество дубликатов: 0\n"
     ]
    }
   ],
   "source": [
    "full_df = data_read_exam('/datasets/gold_recovery_full_new.csv')"
   ]
  },
  {
   "cell_type": "code",
   "execution_count": 4,
   "metadata": {},
   "outputs": [
    {
     "data": {
      "text/html": [
       "<div>\n",
       "<style scoped>\n",
       "    .dataframe tbody tr th:only-of-type {\n",
       "        vertical-align: middle;\n",
       "    }\n",
       "\n",
       "    .dataframe tbody tr th {\n",
       "        vertical-align: top;\n",
       "    }\n",
       "\n",
       "    .dataframe thead th {\n",
       "        text-align: right;\n",
       "    }\n",
       "</style>\n",
       "<table border=\"1\" class=\"dataframe\">\n",
       "  <thead>\n",
       "    <tr style=\"text-align: right;\">\n",
       "      <th></th>\n",
       "      <th>final.output.concentrate_ag</th>\n",
       "      <th>final.output.concentrate_pb</th>\n",
       "      <th>final.output.concentrate_sol</th>\n",
       "      <th>final.output.concentrate_au</th>\n",
       "      <th>final.output.recovery</th>\n",
       "      <th>final.output.tail_ag</th>\n",
       "      <th>final.output.tail_pb</th>\n",
       "      <th>final.output.tail_sol</th>\n",
       "      <th>final.output.tail_au</th>\n",
       "      <th>primary_cleaner.input.sulfate</th>\n",
       "      <th>...</th>\n",
       "      <th>secondary_cleaner.state.floatbank4_a_air</th>\n",
       "      <th>secondary_cleaner.state.floatbank4_a_level</th>\n",
       "      <th>secondary_cleaner.state.floatbank4_b_air</th>\n",
       "      <th>secondary_cleaner.state.floatbank4_b_level</th>\n",
       "      <th>secondary_cleaner.state.floatbank5_a_air</th>\n",
       "      <th>secondary_cleaner.state.floatbank5_a_level</th>\n",
       "      <th>secondary_cleaner.state.floatbank5_b_air</th>\n",
       "      <th>secondary_cleaner.state.floatbank5_b_level</th>\n",
       "      <th>secondary_cleaner.state.floatbank6_a_air</th>\n",
       "      <th>secondary_cleaner.state.floatbank6_a_level</th>\n",
       "    </tr>\n",
       "    <tr>\n",
       "      <th>date</th>\n",
       "      <th></th>\n",
       "      <th></th>\n",
       "      <th></th>\n",
       "      <th></th>\n",
       "      <th></th>\n",
       "      <th></th>\n",
       "      <th></th>\n",
       "      <th></th>\n",
       "      <th></th>\n",
       "      <th></th>\n",
       "      <th></th>\n",
       "      <th></th>\n",
       "      <th></th>\n",
       "      <th></th>\n",
       "      <th></th>\n",
       "      <th></th>\n",
       "      <th></th>\n",
       "      <th></th>\n",
       "      <th></th>\n",
       "      <th></th>\n",
       "      <th></th>\n",
       "    </tr>\n",
       "  </thead>\n",
       "  <tbody>\n",
       "    <tr>\n",
       "      <th>2016-01-15 00:00:00</th>\n",
       "      <td>6.055403</td>\n",
       "      <td>9.889648</td>\n",
       "      <td>5.507324</td>\n",
       "      <td>42.192020</td>\n",
       "      <td>70.541216</td>\n",
       "      <td>10.411962</td>\n",
       "      <td>0.895447</td>\n",
       "      <td>16.904297</td>\n",
       "      <td>2.143149</td>\n",
       "      <td>127.092003</td>\n",
       "      <td>...</td>\n",
       "      <td>14.016835</td>\n",
       "      <td>-502.488007</td>\n",
       "      <td>12.099931</td>\n",
       "      <td>-504.715942</td>\n",
       "      <td>9.925633</td>\n",
       "      <td>-498.310211</td>\n",
       "      <td>8.079666</td>\n",
       "      <td>-500.470978</td>\n",
       "      <td>14.151341</td>\n",
       "      <td>-605.841980</td>\n",
       "    </tr>\n",
       "    <tr>\n",
       "      <th>2016-01-15 01:00:00</th>\n",
       "      <td>6.029369</td>\n",
       "      <td>9.968944</td>\n",
       "      <td>5.257781</td>\n",
       "      <td>42.701629</td>\n",
       "      <td>69.266198</td>\n",
       "      <td>10.462676</td>\n",
       "      <td>0.927452</td>\n",
       "      <td>16.634514</td>\n",
       "      <td>2.224930</td>\n",
       "      <td>125.629232</td>\n",
       "      <td>...</td>\n",
       "      <td>13.992281</td>\n",
       "      <td>-505.503262</td>\n",
       "      <td>11.950531</td>\n",
       "      <td>-501.331529</td>\n",
       "      <td>10.039245</td>\n",
       "      <td>-500.169983</td>\n",
       "      <td>7.984757</td>\n",
       "      <td>-500.582168</td>\n",
       "      <td>13.998353</td>\n",
       "      <td>-599.787184</td>\n",
       "    </tr>\n",
       "    <tr>\n",
       "      <th>2016-01-15 02:00:00</th>\n",
       "      <td>6.055926</td>\n",
       "      <td>10.213995</td>\n",
       "      <td>5.383759</td>\n",
       "      <td>42.657501</td>\n",
       "      <td>68.116445</td>\n",
       "      <td>10.507046</td>\n",
       "      <td>0.953716</td>\n",
       "      <td>16.208849</td>\n",
       "      <td>2.257889</td>\n",
       "      <td>123.819808</td>\n",
       "      <td>...</td>\n",
       "      <td>14.015015</td>\n",
       "      <td>-502.520901</td>\n",
       "      <td>11.912783</td>\n",
       "      <td>-501.133383</td>\n",
       "      <td>10.070913</td>\n",
       "      <td>-500.129135</td>\n",
       "      <td>8.013877</td>\n",
       "      <td>-500.517572</td>\n",
       "      <td>14.028663</td>\n",
       "      <td>-601.427363</td>\n",
       "    </tr>\n",
       "    <tr>\n",
       "      <th>2016-01-15 03:00:00</th>\n",
       "      <td>6.047977</td>\n",
       "      <td>9.977019</td>\n",
       "      <td>4.858634</td>\n",
       "      <td>42.689819</td>\n",
       "      <td>68.347543</td>\n",
       "      <td>10.422762</td>\n",
       "      <td>0.883763</td>\n",
       "      <td>16.532835</td>\n",
       "      <td>2.146849</td>\n",
       "      <td>122.270188</td>\n",
       "      <td>...</td>\n",
       "      <td>14.036510</td>\n",
       "      <td>-500.857308</td>\n",
       "      <td>11.999550</td>\n",
       "      <td>-501.193686</td>\n",
       "      <td>9.970366</td>\n",
       "      <td>-499.201640</td>\n",
       "      <td>7.977324</td>\n",
       "      <td>-500.255908</td>\n",
       "      <td>14.005551</td>\n",
       "      <td>-599.996129</td>\n",
       "    </tr>\n",
       "    <tr>\n",
       "      <th>2016-01-15 04:00:00</th>\n",
       "      <td>6.148599</td>\n",
       "      <td>10.142511</td>\n",
       "      <td>4.939416</td>\n",
       "      <td>42.774141</td>\n",
       "      <td>66.927016</td>\n",
       "      <td>10.360302</td>\n",
       "      <td>0.792826</td>\n",
       "      <td>16.525686</td>\n",
       "      <td>2.055292</td>\n",
       "      <td>117.988169</td>\n",
       "      <td>...</td>\n",
       "      <td>14.027298</td>\n",
       "      <td>-499.838632</td>\n",
       "      <td>11.953070</td>\n",
       "      <td>-501.053894</td>\n",
       "      <td>9.925709</td>\n",
       "      <td>-501.686727</td>\n",
       "      <td>7.894242</td>\n",
       "      <td>-500.356035</td>\n",
       "      <td>13.996647</td>\n",
       "      <td>-601.496691</td>\n",
       "    </tr>\n",
       "    <tr>\n",
       "      <th>2016-01-15 05:00:00</th>\n",
       "      <td>6.482968</td>\n",
       "      <td>10.049416</td>\n",
       "      <td>5.480257</td>\n",
       "      <td>41.633678</td>\n",
       "      <td>69.465816</td>\n",
       "      <td>10.182708</td>\n",
       "      <td>0.664118</td>\n",
       "      <td>16.999638</td>\n",
       "      <td>1.918586</td>\n",
       "      <td>115.581252</td>\n",
       "      <td>...</td>\n",
       "      <td>13.938497</td>\n",
       "      <td>-500.970168</td>\n",
       "      <td>11.883350</td>\n",
       "      <td>-500.395298</td>\n",
       "      <td>10.054147</td>\n",
       "      <td>-496.374715</td>\n",
       "      <td>7.965083</td>\n",
       "      <td>-499.364752</td>\n",
       "      <td>14.017067</td>\n",
       "      <td>-599.707915</td>\n",
       "    </tr>\n",
       "    <tr>\n",
       "      <th>2016-01-15 06:00:00</th>\n",
       "      <td>6.533849</td>\n",
       "      <td>10.058141</td>\n",
       "      <td>4.569100</td>\n",
       "      <td>41.995316</td>\n",
       "      <td>69.300835</td>\n",
       "      <td>10.304598</td>\n",
       "      <td>0.807342</td>\n",
       "      <td>16.723575</td>\n",
       "      <td>2.058913</td>\n",
       "      <td>117.322323</td>\n",
       "      <td>...</td>\n",
       "      <td>14.046819</td>\n",
       "      <td>-500.971133</td>\n",
       "      <td>12.091543</td>\n",
       "      <td>-500.501426</td>\n",
       "      <td>10.003247</td>\n",
       "      <td>-497.083180</td>\n",
       "      <td>8.010890</td>\n",
       "      <td>-500.002423</td>\n",
       "      <td>14.029649</td>\n",
       "      <td>-600.905470</td>\n",
       "    </tr>\n",
       "    <tr>\n",
       "      <th>2016-01-15 07:00:00</th>\n",
       "      <td>6.130823</td>\n",
       "      <td>9.935481</td>\n",
       "      <td>4.389813</td>\n",
       "      <td>42.452727</td>\n",
       "      <td>70.230976</td>\n",
       "      <td>10.443288</td>\n",
       "      <td>0.949346</td>\n",
       "      <td>16.689959</td>\n",
       "      <td>2.143437</td>\n",
       "      <td>124.592960</td>\n",
       "      <td>...</td>\n",
       "      <td>13.974691</td>\n",
       "      <td>-501.819696</td>\n",
       "      <td>12.101324</td>\n",
       "      <td>-500.583446</td>\n",
       "      <td>9.873169</td>\n",
       "      <td>-499.171928</td>\n",
       "      <td>7.993381</td>\n",
       "      <td>-499.794518</td>\n",
       "      <td>13.984498</td>\n",
       "      <td>-600.411070</td>\n",
       "    </tr>\n",
       "    <tr>\n",
       "      <th>2016-01-15 08:00:00</th>\n",
       "      <td>5.834140</td>\n",
       "      <td>10.071156</td>\n",
       "      <td>4.876389</td>\n",
       "      <td>43.404078</td>\n",
       "      <td>69.688595</td>\n",
       "      <td>10.420140</td>\n",
       "      <td>1.065453</td>\n",
       "      <td>17.201948</td>\n",
       "      <td>2.209881</td>\n",
       "      <td>131.781026</td>\n",
       "      <td>...</td>\n",
       "      <td>13.964030</td>\n",
       "      <td>-504.252450</td>\n",
       "      <td>12.060738</td>\n",
       "      <td>-501.174549</td>\n",
       "      <td>10.033838</td>\n",
       "      <td>-501.178133</td>\n",
       "      <td>7.881604</td>\n",
       "      <td>-499.729434</td>\n",
       "      <td>13.967135</td>\n",
       "      <td>-599.061188</td>\n",
       "    </tr>\n",
       "    <tr>\n",
       "      <th>2016-01-15 09:00:00</th>\n",
       "      <td>5.687063</td>\n",
       "      <td>9.980404</td>\n",
       "      <td>5.282514</td>\n",
       "      <td>43.235220</td>\n",
       "      <td>70.279619</td>\n",
       "      <td>10.487013</td>\n",
       "      <td>1.159805</td>\n",
       "      <td>17.483979</td>\n",
       "      <td>2.209593</td>\n",
       "      <td>138.120409</td>\n",
       "      <td>...</td>\n",
       "      <td>13.989632</td>\n",
       "      <td>-503.195299</td>\n",
       "      <td>12.052233</td>\n",
       "      <td>-500.928547</td>\n",
       "      <td>9.962574</td>\n",
       "      <td>-502.986357</td>\n",
       "      <td>7.979219</td>\n",
       "      <td>-500.146835</td>\n",
       "      <td>13.981614</td>\n",
       "      <td>-598.070855</td>\n",
       "    </tr>\n",
       "  </tbody>\n",
       "</table>\n",
       "<p>10 rows × 86 columns</p>\n",
       "</div>"
      ],
      "text/plain": [
       "                     final.output.concentrate_ag  final.output.concentrate_pb  \\\n",
       "date                                                                            \n",
       "2016-01-15 00:00:00                     6.055403                     9.889648   \n",
       "2016-01-15 01:00:00                     6.029369                     9.968944   \n",
       "2016-01-15 02:00:00                     6.055926                    10.213995   \n",
       "2016-01-15 03:00:00                     6.047977                     9.977019   \n",
       "2016-01-15 04:00:00                     6.148599                    10.142511   \n",
       "2016-01-15 05:00:00                     6.482968                    10.049416   \n",
       "2016-01-15 06:00:00                     6.533849                    10.058141   \n",
       "2016-01-15 07:00:00                     6.130823                     9.935481   \n",
       "2016-01-15 08:00:00                     5.834140                    10.071156   \n",
       "2016-01-15 09:00:00                     5.687063                     9.980404   \n",
       "\n",
       "                     final.output.concentrate_sol  \\\n",
       "date                                                \n",
       "2016-01-15 00:00:00                      5.507324   \n",
       "2016-01-15 01:00:00                      5.257781   \n",
       "2016-01-15 02:00:00                      5.383759   \n",
       "2016-01-15 03:00:00                      4.858634   \n",
       "2016-01-15 04:00:00                      4.939416   \n",
       "2016-01-15 05:00:00                      5.480257   \n",
       "2016-01-15 06:00:00                      4.569100   \n",
       "2016-01-15 07:00:00                      4.389813   \n",
       "2016-01-15 08:00:00                      4.876389   \n",
       "2016-01-15 09:00:00                      5.282514   \n",
       "\n",
       "                     final.output.concentrate_au  final.output.recovery  \\\n",
       "date                                                                      \n",
       "2016-01-15 00:00:00                    42.192020              70.541216   \n",
       "2016-01-15 01:00:00                    42.701629              69.266198   \n",
       "2016-01-15 02:00:00                    42.657501              68.116445   \n",
       "2016-01-15 03:00:00                    42.689819              68.347543   \n",
       "2016-01-15 04:00:00                    42.774141              66.927016   \n",
       "2016-01-15 05:00:00                    41.633678              69.465816   \n",
       "2016-01-15 06:00:00                    41.995316              69.300835   \n",
       "2016-01-15 07:00:00                    42.452727              70.230976   \n",
       "2016-01-15 08:00:00                    43.404078              69.688595   \n",
       "2016-01-15 09:00:00                    43.235220              70.279619   \n",
       "\n",
       "                     final.output.tail_ag  final.output.tail_pb  \\\n",
       "date                                                              \n",
       "2016-01-15 00:00:00             10.411962              0.895447   \n",
       "2016-01-15 01:00:00             10.462676              0.927452   \n",
       "2016-01-15 02:00:00             10.507046              0.953716   \n",
       "2016-01-15 03:00:00             10.422762              0.883763   \n",
       "2016-01-15 04:00:00             10.360302              0.792826   \n",
       "2016-01-15 05:00:00             10.182708              0.664118   \n",
       "2016-01-15 06:00:00             10.304598              0.807342   \n",
       "2016-01-15 07:00:00             10.443288              0.949346   \n",
       "2016-01-15 08:00:00             10.420140              1.065453   \n",
       "2016-01-15 09:00:00             10.487013              1.159805   \n",
       "\n",
       "                     final.output.tail_sol  final.output.tail_au  \\\n",
       "date                                                               \n",
       "2016-01-15 00:00:00              16.904297              2.143149   \n",
       "2016-01-15 01:00:00              16.634514              2.224930   \n",
       "2016-01-15 02:00:00              16.208849              2.257889   \n",
       "2016-01-15 03:00:00              16.532835              2.146849   \n",
       "2016-01-15 04:00:00              16.525686              2.055292   \n",
       "2016-01-15 05:00:00              16.999638              1.918586   \n",
       "2016-01-15 06:00:00              16.723575              2.058913   \n",
       "2016-01-15 07:00:00              16.689959              2.143437   \n",
       "2016-01-15 08:00:00              17.201948              2.209881   \n",
       "2016-01-15 09:00:00              17.483979              2.209593   \n",
       "\n",
       "                     primary_cleaner.input.sulfate  ...  \\\n",
       "date                                                ...   \n",
       "2016-01-15 00:00:00                     127.092003  ...   \n",
       "2016-01-15 01:00:00                     125.629232  ...   \n",
       "2016-01-15 02:00:00                     123.819808  ...   \n",
       "2016-01-15 03:00:00                     122.270188  ...   \n",
       "2016-01-15 04:00:00                     117.988169  ...   \n",
       "2016-01-15 05:00:00                     115.581252  ...   \n",
       "2016-01-15 06:00:00                     117.322323  ...   \n",
       "2016-01-15 07:00:00                     124.592960  ...   \n",
       "2016-01-15 08:00:00                     131.781026  ...   \n",
       "2016-01-15 09:00:00                     138.120409  ...   \n",
       "\n",
       "                     secondary_cleaner.state.floatbank4_a_air  \\\n",
       "date                                                            \n",
       "2016-01-15 00:00:00                                 14.016835   \n",
       "2016-01-15 01:00:00                                 13.992281   \n",
       "2016-01-15 02:00:00                                 14.015015   \n",
       "2016-01-15 03:00:00                                 14.036510   \n",
       "2016-01-15 04:00:00                                 14.027298   \n",
       "2016-01-15 05:00:00                                 13.938497   \n",
       "2016-01-15 06:00:00                                 14.046819   \n",
       "2016-01-15 07:00:00                                 13.974691   \n",
       "2016-01-15 08:00:00                                 13.964030   \n",
       "2016-01-15 09:00:00                                 13.989632   \n",
       "\n",
       "                     secondary_cleaner.state.floatbank4_a_level  \\\n",
       "date                                                              \n",
       "2016-01-15 00:00:00                                 -502.488007   \n",
       "2016-01-15 01:00:00                                 -505.503262   \n",
       "2016-01-15 02:00:00                                 -502.520901   \n",
       "2016-01-15 03:00:00                                 -500.857308   \n",
       "2016-01-15 04:00:00                                 -499.838632   \n",
       "2016-01-15 05:00:00                                 -500.970168   \n",
       "2016-01-15 06:00:00                                 -500.971133   \n",
       "2016-01-15 07:00:00                                 -501.819696   \n",
       "2016-01-15 08:00:00                                 -504.252450   \n",
       "2016-01-15 09:00:00                                 -503.195299   \n",
       "\n",
       "                     secondary_cleaner.state.floatbank4_b_air  \\\n",
       "date                                                            \n",
       "2016-01-15 00:00:00                                 12.099931   \n",
       "2016-01-15 01:00:00                                 11.950531   \n",
       "2016-01-15 02:00:00                                 11.912783   \n",
       "2016-01-15 03:00:00                                 11.999550   \n",
       "2016-01-15 04:00:00                                 11.953070   \n",
       "2016-01-15 05:00:00                                 11.883350   \n",
       "2016-01-15 06:00:00                                 12.091543   \n",
       "2016-01-15 07:00:00                                 12.101324   \n",
       "2016-01-15 08:00:00                                 12.060738   \n",
       "2016-01-15 09:00:00                                 12.052233   \n",
       "\n",
       "                     secondary_cleaner.state.floatbank4_b_level  \\\n",
       "date                                                              \n",
       "2016-01-15 00:00:00                                 -504.715942   \n",
       "2016-01-15 01:00:00                                 -501.331529   \n",
       "2016-01-15 02:00:00                                 -501.133383   \n",
       "2016-01-15 03:00:00                                 -501.193686   \n",
       "2016-01-15 04:00:00                                 -501.053894   \n",
       "2016-01-15 05:00:00                                 -500.395298   \n",
       "2016-01-15 06:00:00                                 -500.501426   \n",
       "2016-01-15 07:00:00                                 -500.583446   \n",
       "2016-01-15 08:00:00                                 -501.174549   \n",
       "2016-01-15 09:00:00                                 -500.928547   \n",
       "\n",
       "                     secondary_cleaner.state.floatbank5_a_air  \\\n",
       "date                                                            \n",
       "2016-01-15 00:00:00                                  9.925633   \n",
       "2016-01-15 01:00:00                                 10.039245   \n",
       "2016-01-15 02:00:00                                 10.070913   \n",
       "2016-01-15 03:00:00                                  9.970366   \n",
       "2016-01-15 04:00:00                                  9.925709   \n",
       "2016-01-15 05:00:00                                 10.054147   \n",
       "2016-01-15 06:00:00                                 10.003247   \n",
       "2016-01-15 07:00:00                                  9.873169   \n",
       "2016-01-15 08:00:00                                 10.033838   \n",
       "2016-01-15 09:00:00                                  9.962574   \n",
       "\n",
       "                     secondary_cleaner.state.floatbank5_a_level  \\\n",
       "date                                                              \n",
       "2016-01-15 00:00:00                                 -498.310211   \n",
       "2016-01-15 01:00:00                                 -500.169983   \n",
       "2016-01-15 02:00:00                                 -500.129135   \n",
       "2016-01-15 03:00:00                                 -499.201640   \n",
       "2016-01-15 04:00:00                                 -501.686727   \n",
       "2016-01-15 05:00:00                                 -496.374715   \n",
       "2016-01-15 06:00:00                                 -497.083180   \n",
       "2016-01-15 07:00:00                                 -499.171928   \n",
       "2016-01-15 08:00:00                                 -501.178133   \n",
       "2016-01-15 09:00:00                                 -502.986357   \n",
       "\n",
       "                     secondary_cleaner.state.floatbank5_b_air  \\\n",
       "date                                                            \n",
       "2016-01-15 00:00:00                                  8.079666   \n",
       "2016-01-15 01:00:00                                  7.984757   \n",
       "2016-01-15 02:00:00                                  8.013877   \n",
       "2016-01-15 03:00:00                                  7.977324   \n",
       "2016-01-15 04:00:00                                  7.894242   \n",
       "2016-01-15 05:00:00                                  7.965083   \n",
       "2016-01-15 06:00:00                                  8.010890   \n",
       "2016-01-15 07:00:00                                  7.993381   \n",
       "2016-01-15 08:00:00                                  7.881604   \n",
       "2016-01-15 09:00:00                                  7.979219   \n",
       "\n",
       "                     secondary_cleaner.state.floatbank5_b_level  \\\n",
       "date                                                              \n",
       "2016-01-15 00:00:00                                 -500.470978   \n",
       "2016-01-15 01:00:00                                 -500.582168   \n",
       "2016-01-15 02:00:00                                 -500.517572   \n",
       "2016-01-15 03:00:00                                 -500.255908   \n",
       "2016-01-15 04:00:00                                 -500.356035   \n",
       "2016-01-15 05:00:00                                 -499.364752   \n",
       "2016-01-15 06:00:00                                 -500.002423   \n",
       "2016-01-15 07:00:00                                 -499.794518   \n",
       "2016-01-15 08:00:00                                 -499.729434   \n",
       "2016-01-15 09:00:00                                 -500.146835   \n",
       "\n",
       "                     secondary_cleaner.state.floatbank6_a_air  \\\n",
       "date                                                            \n",
       "2016-01-15 00:00:00                                 14.151341   \n",
       "2016-01-15 01:00:00                                 13.998353   \n",
       "2016-01-15 02:00:00                                 14.028663   \n",
       "2016-01-15 03:00:00                                 14.005551   \n",
       "2016-01-15 04:00:00                                 13.996647   \n",
       "2016-01-15 05:00:00                                 14.017067   \n",
       "2016-01-15 06:00:00                                 14.029649   \n",
       "2016-01-15 07:00:00                                 13.984498   \n",
       "2016-01-15 08:00:00                                 13.967135   \n",
       "2016-01-15 09:00:00                                 13.981614   \n",
       "\n",
       "                     secondary_cleaner.state.floatbank6_a_level  \n",
       "date                                                             \n",
       "2016-01-15 00:00:00                                 -605.841980  \n",
       "2016-01-15 01:00:00                                 -599.787184  \n",
       "2016-01-15 02:00:00                                 -601.427363  \n",
       "2016-01-15 03:00:00                                 -599.996129  \n",
       "2016-01-15 04:00:00                                 -601.496691  \n",
       "2016-01-15 05:00:00                                 -599.707915  \n",
       "2016-01-15 06:00:00                                 -600.905470  \n",
       "2016-01-15 07:00:00                                 -600.411070  \n",
       "2016-01-15 08:00:00                                 -599.061188  \n",
       "2016-01-15 09:00:00                                 -598.070855  \n",
       "\n",
       "[10 rows x 86 columns]"
      ]
     },
     "metadata": {},
     "output_type": "display_data"
    },
    {
     "name": "stdout",
     "output_type": "stream",
     "text": [
      "<class 'pandas.core.frame.DataFrame'>\n",
      "Index: 14149 entries, 2016-01-15 00:00:00 to 2018-08-18 10:59:59\n",
      "Data columns (total 86 columns):\n",
      " #   Column                                              Non-Null Count  Dtype  \n",
      "---  ------                                              --------------  -----  \n",
      " 0   final.output.concentrate_ag                         14148 non-null  float64\n",
      " 1   final.output.concentrate_pb                         14148 non-null  float64\n",
      " 2   final.output.concentrate_sol                        13938 non-null  float64\n",
      " 3   final.output.concentrate_au                         14149 non-null  float64\n",
      " 4   final.output.recovery                               14149 non-null  float64\n",
      " 5   final.output.tail_ag                                14149 non-null  float64\n",
      " 6   final.output.tail_pb                                14049 non-null  float64\n",
      " 7   final.output.tail_sol                               14144 non-null  float64\n",
      " 8   final.output.tail_au                                14149 non-null  float64\n",
      " 9   primary_cleaner.input.sulfate                       14129 non-null  float64\n",
      " 10  primary_cleaner.input.depressant                    14117 non-null  float64\n",
      " 11  primary_cleaner.input.feed_size                     14149 non-null  float64\n",
      " 12  primary_cleaner.input.xanthate                      14049 non-null  float64\n",
      " 13  primary_cleaner.output.concentrate_ag               14149 non-null  float64\n",
      " 14  primary_cleaner.output.concentrate_pb               14063 non-null  float64\n",
      " 15  primary_cleaner.output.concentrate_sol              13863 non-null  float64\n",
      " 16  primary_cleaner.output.concentrate_au               14149 non-null  float64\n",
      " 17  primary_cleaner.output.tail_ag                      14148 non-null  float64\n",
      " 18  primary_cleaner.output.tail_pb                      14134 non-null  float64\n",
      " 19  primary_cleaner.output.tail_sol                     14103 non-null  float64\n",
      " 20  primary_cleaner.output.tail_au                      14149 non-null  float64\n",
      " 21  primary_cleaner.state.floatbank8_a_air              14145 non-null  float64\n",
      " 22  primary_cleaner.state.floatbank8_a_level            14148 non-null  float64\n",
      " 23  primary_cleaner.state.floatbank8_b_air              14145 non-null  float64\n",
      " 24  primary_cleaner.state.floatbank8_b_level            14148 non-null  float64\n",
      " 25  primary_cleaner.state.floatbank8_c_air              14147 non-null  float64\n",
      " 26  primary_cleaner.state.floatbank8_c_level            14148 non-null  float64\n",
      " 27  primary_cleaner.state.floatbank8_d_air              14146 non-null  float64\n",
      " 28  primary_cleaner.state.floatbank8_d_level            14148 non-null  float64\n",
      " 29  rougher.calculation.sulfate_to_au_concentrate       14148 non-null  float64\n",
      " 30  rougher.calculation.floatbank10_sulfate_to_au_feed  14148 non-null  float64\n",
      " 31  rougher.calculation.floatbank11_sulfate_to_au_feed  14148 non-null  float64\n",
      " 32  rougher.calculation.au_pb_ratio                     14149 non-null  float64\n",
      " 33  rougher.input.feed_ag                               14149 non-null  float64\n",
      " 34  rougher.input.feed_pb                               14049 non-null  float64\n",
      " 35  rougher.input.feed_rate                             14141 non-null  float64\n",
      " 36  rougher.input.feed_size                             14005 non-null  float64\n",
      " 37  rougher.input.feed_sol                              14071 non-null  float64\n",
      " 38  rougher.input.feed_au                               14149 non-null  float64\n",
      " 39  rougher.input.floatbank10_sulfate                   14120 non-null  float64\n",
      " 40  rougher.input.floatbank10_xanthate                  14141 non-null  float64\n",
      " 41  rougher.input.floatbank11_sulfate                   14113 non-null  float64\n",
      " 42  rougher.input.floatbank11_xanthate                  13721 non-null  float64\n",
      " 43  rougher.output.concentrate_ag                       14149 non-null  float64\n",
      " 44  rougher.output.concentrate_pb                       14149 non-null  float64\n",
      " 45  rougher.output.concentrate_sol                      14127 non-null  float64\n",
      " 46  rougher.output.concentrate_au                       14149 non-null  float64\n",
      " 47  rougher.output.recovery                             14149 non-null  float64\n",
      " 48  rougher.output.tail_ag                              14148 non-null  float64\n",
      " 49  rougher.output.tail_pb                              14149 non-null  float64\n",
      " 50  rougher.output.tail_sol                             14149 non-null  float64\n",
      " 51  rougher.output.tail_au                              14149 non-null  float64\n",
      " 52  rougher.state.floatbank10_a_air                     14148 non-null  float64\n",
      " 53  rougher.state.floatbank10_a_level                   14148 non-null  float64\n",
      " 54  rougher.state.floatbank10_b_air                     14148 non-null  float64\n",
      " 55  rougher.state.floatbank10_b_level                   14148 non-null  float64\n",
      " 56  rougher.state.floatbank10_c_air                     14148 non-null  float64\n",
      " 57  rougher.state.floatbank10_c_level                   14148 non-null  float64\n",
      " 58  rougher.state.floatbank10_d_air                     14149 non-null  float64\n",
      " 59  rougher.state.floatbank10_d_level                   14149 non-null  float64\n",
      " 60  rougher.state.floatbank10_e_air                     13713 non-null  float64\n",
      " 61  rougher.state.floatbank10_e_level                   14149 non-null  float64\n",
      " 62  rougher.state.floatbank10_f_air                     14149 non-null  float64\n",
      " 63  rougher.state.floatbank10_f_level                   14149 non-null  float64\n",
      " 64  secondary_cleaner.output.tail_ag                    14147 non-null  float64\n",
      " 65  secondary_cleaner.output.tail_pb                    14139 non-null  float64\n",
      " 66  secondary_cleaner.output.tail_sol                   12544 non-null  float64\n",
      " 67  secondary_cleaner.output.tail_au                    14149 non-null  float64\n",
      " 68  secondary_cleaner.state.floatbank2_a_air            13932 non-null  float64\n",
      " 69  secondary_cleaner.state.floatbank2_a_level          14148 non-null  float64\n",
      " 70  secondary_cleaner.state.floatbank2_b_air            14128 non-null  float64\n",
      " 71  secondary_cleaner.state.floatbank2_b_level          14148 non-null  float64\n",
      " 72  secondary_cleaner.state.floatbank3_a_air            14145 non-null  float64\n",
      " 73  secondary_cleaner.state.floatbank3_a_level          14148 non-null  float64\n",
      " 74  secondary_cleaner.state.floatbank3_b_air            14148 non-null  float64\n",
      " 75  secondary_cleaner.state.floatbank3_b_level          14148 non-null  float64\n",
      " 76  secondary_cleaner.state.floatbank4_a_air            14143 non-null  float64\n",
      " 77  secondary_cleaner.state.floatbank4_a_level          14148 non-null  float64\n",
      " 78  secondary_cleaner.state.floatbank4_b_air            14148 non-null  float64\n",
      " 79  secondary_cleaner.state.floatbank4_b_level          14148 non-null  float64\n",
      " 80  secondary_cleaner.state.floatbank5_a_air            14148 non-null  float64\n",
      " 81  secondary_cleaner.state.floatbank5_a_level          14148 non-null  float64\n",
      " 82  secondary_cleaner.state.floatbank5_b_air            14148 non-null  float64\n",
      " 83  secondary_cleaner.state.floatbank5_b_level          14148 non-null  float64\n",
      " 84  secondary_cleaner.state.floatbank6_a_air            14147 non-null  float64\n",
      " 85  secondary_cleaner.state.floatbank6_a_level          14148 non-null  float64\n",
      "dtypes: float64(86)\n",
      "memory usage: 9.4+ MB\n",
      "None\n",
      "Количество дубликатов: 0\n"
     ]
    }
   ],
   "source": [
    "train_df = data_read_exam('/datasets/gold_recovery_train_new.csv')"
   ]
  },
  {
   "cell_type": "code",
   "execution_count": 5,
   "metadata": {
    "scrolled": true
   },
   "outputs": [
    {
     "data": {
      "text/html": [
       "<div>\n",
       "<style scoped>\n",
       "    .dataframe tbody tr th:only-of-type {\n",
       "        vertical-align: middle;\n",
       "    }\n",
       "\n",
       "    .dataframe tbody tr th {\n",
       "        vertical-align: top;\n",
       "    }\n",
       "\n",
       "    .dataframe thead th {\n",
       "        text-align: right;\n",
       "    }\n",
       "</style>\n",
       "<table border=\"1\" class=\"dataframe\">\n",
       "  <thead>\n",
       "    <tr style=\"text-align: right;\">\n",
       "      <th></th>\n",
       "      <th>primary_cleaner.input.sulfate</th>\n",
       "      <th>primary_cleaner.input.depressant</th>\n",
       "      <th>primary_cleaner.input.feed_size</th>\n",
       "      <th>primary_cleaner.input.xanthate</th>\n",
       "      <th>primary_cleaner.state.floatbank8_a_air</th>\n",
       "      <th>primary_cleaner.state.floatbank8_a_level</th>\n",
       "      <th>primary_cleaner.state.floatbank8_b_air</th>\n",
       "      <th>primary_cleaner.state.floatbank8_b_level</th>\n",
       "      <th>primary_cleaner.state.floatbank8_c_air</th>\n",
       "      <th>primary_cleaner.state.floatbank8_c_level</th>\n",
       "      <th>...</th>\n",
       "      <th>secondary_cleaner.state.floatbank4_a_air</th>\n",
       "      <th>secondary_cleaner.state.floatbank4_a_level</th>\n",
       "      <th>secondary_cleaner.state.floatbank4_b_air</th>\n",
       "      <th>secondary_cleaner.state.floatbank4_b_level</th>\n",
       "      <th>secondary_cleaner.state.floatbank5_a_air</th>\n",
       "      <th>secondary_cleaner.state.floatbank5_a_level</th>\n",
       "      <th>secondary_cleaner.state.floatbank5_b_air</th>\n",
       "      <th>secondary_cleaner.state.floatbank5_b_level</th>\n",
       "      <th>secondary_cleaner.state.floatbank6_a_air</th>\n",
       "      <th>secondary_cleaner.state.floatbank6_a_level</th>\n",
       "    </tr>\n",
       "    <tr>\n",
       "      <th>date</th>\n",
       "      <th></th>\n",
       "      <th></th>\n",
       "      <th></th>\n",
       "      <th></th>\n",
       "      <th></th>\n",
       "      <th></th>\n",
       "      <th></th>\n",
       "      <th></th>\n",
       "      <th></th>\n",
       "      <th></th>\n",
       "      <th></th>\n",
       "      <th></th>\n",
       "      <th></th>\n",
       "      <th></th>\n",
       "      <th></th>\n",
       "      <th></th>\n",
       "      <th></th>\n",
       "      <th></th>\n",
       "      <th></th>\n",
       "      <th></th>\n",
       "      <th></th>\n",
       "    </tr>\n",
       "  </thead>\n",
       "  <tbody>\n",
       "    <tr>\n",
       "      <th>2016-09-01 00:59:59</th>\n",
       "      <td>210.800909</td>\n",
       "      <td>14.993118</td>\n",
       "      <td>8.080000</td>\n",
       "      <td>1.005021</td>\n",
       "      <td>1398.981301</td>\n",
       "      <td>-500.225577</td>\n",
       "      <td>1399.144926</td>\n",
       "      <td>-499.919735</td>\n",
       "      <td>1400.102998</td>\n",
       "      <td>-500.704369</td>\n",
       "      <td>...</td>\n",
       "      <td>12.023554</td>\n",
       "      <td>-497.795834</td>\n",
       "      <td>8.016656</td>\n",
       "      <td>-501.289139</td>\n",
       "      <td>7.946562</td>\n",
       "      <td>-432.317850</td>\n",
       "      <td>4.872511</td>\n",
       "      <td>-500.037437</td>\n",
       "      <td>26.705889</td>\n",
       "      <td>-499.709414</td>\n",
       "    </tr>\n",
       "    <tr>\n",
       "      <th>2016-09-01 01:59:59</th>\n",
       "      <td>215.392455</td>\n",
       "      <td>14.987471</td>\n",
       "      <td>8.080000</td>\n",
       "      <td>0.990469</td>\n",
       "      <td>1398.777912</td>\n",
       "      <td>-500.057435</td>\n",
       "      <td>1398.055362</td>\n",
       "      <td>-499.778182</td>\n",
       "      <td>1396.151033</td>\n",
       "      <td>-499.240168</td>\n",
       "      <td>...</td>\n",
       "      <td>12.058140</td>\n",
       "      <td>-498.695773</td>\n",
       "      <td>8.130979</td>\n",
       "      <td>-499.634209</td>\n",
       "      <td>7.958270</td>\n",
       "      <td>-525.839648</td>\n",
       "      <td>4.878850</td>\n",
       "      <td>-500.162375</td>\n",
       "      <td>25.019940</td>\n",
       "      <td>-499.819438</td>\n",
       "    </tr>\n",
       "    <tr>\n",
       "      <th>2016-09-01 02:59:59</th>\n",
       "      <td>215.259946</td>\n",
       "      <td>12.884934</td>\n",
       "      <td>7.786667</td>\n",
       "      <td>0.996043</td>\n",
       "      <td>1398.493666</td>\n",
       "      <td>-500.868360</td>\n",
       "      <td>1398.860436</td>\n",
       "      <td>-499.764529</td>\n",
       "      <td>1398.075709</td>\n",
       "      <td>-502.151509</td>\n",
       "      <td>...</td>\n",
       "      <td>11.962366</td>\n",
       "      <td>-498.767484</td>\n",
       "      <td>8.096893</td>\n",
       "      <td>-500.827423</td>\n",
       "      <td>8.071056</td>\n",
       "      <td>-500.801673</td>\n",
       "      <td>4.905125</td>\n",
       "      <td>-499.828510</td>\n",
       "      <td>24.994862</td>\n",
       "      <td>-500.622559</td>\n",
       "    </tr>\n",
       "    <tr>\n",
       "      <th>2016-09-01 03:59:59</th>\n",
       "      <td>215.336236</td>\n",
       "      <td>12.006805</td>\n",
       "      <td>7.640000</td>\n",
       "      <td>0.863514</td>\n",
       "      <td>1399.618111</td>\n",
       "      <td>-498.863574</td>\n",
       "      <td>1397.440120</td>\n",
       "      <td>-499.211024</td>\n",
       "      <td>1400.129303</td>\n",
       "      <td>-498.355873</td>\n",
       "      <td>...</td>\n",
       "      <td>12.033091</td>\n",
       "      <td>-498.350935</td>\n",
       "      <td>8.074946</td>\n",
       "      <td>-499.474407</td>\n",
       "      <td>7.897085</td>\n",
       "      <td>-500.868509</td>\n",
       "      <td>4.931400</td>\n",
       "      <td>-499.963623</td>\n",
       "      <td>24.948919</td>\n",
       "      <td>-498.709987</td>\n",
       "    </tr>\n",
       "    <tr>\n",
       "      <th>2016-09-01 04:59:59</th>\n",
       "      <td>199.099327</td>\n",
       "      <td>10.682530</td>\n",
       "      <td>7.530000</td>\n",
       "      <td>0.805575</td>\n",
       "      <td>1401.268123</td>\n",
       "      <td>-500.808305</td>\n",
       "      <td>1398.128818</td>\n",
       "      <td>-499.504543</td>\n",
       "      <td>1402.172226</td>\n",
       "      <td>-500.810606</td>\n",
       "      <td>...</td>\n",
       "      <td>12.025367</td>\n",
       "      <td>-500.786497</td>\n",
       "      <td>8.054678</td>\n",
       "      <td>-500.397500</td>\n",
       "      <td>8.107890</td>\n",
       "      <td>-509.526725</td>\n",
       "      <td>4.957674</td>\n",
       "      <td>-500.360026</td>\n",
       "      <td>25.003331</td>\n",
       "      <td>-500.856333</td>\n",
       "    </tr>\n",
       "    <tr>\n",
       "      <th>2016-09-01 05:59:59</th>\n",
       "      <td>168.485085</td>\n",
       "      <td>8.817007</td>\n",
       "      <td>7.420000</td>\n",
       "      <td>0.791191</td>\n",
       "      <td>1402.826803</td>\n",
       "      <td>-499.299521</td>\n",
       "      <td>1401.511119</td>\n",
       "      <td>-499.205357</td>\n",
       "      <td>1404.088107</td>\n",
       "      <td>-497.903666</td>\n",
       "      <td>...</td>\n",
       "      <td>12.029797</td>\n",
       "      <td>-499.814895</td>\n",
       "      <td>8.036586</td>\n",
       "      <td>-500.371492</td>\n",
       "      <td>8.041446</td>\n",
       "      <td>-510.037054</td>\n",
       "      <td>4.983949</td>\n",
       "      <td>-499.990990</td>\n",
       "      <td>24.978973</td>\n",
       "      <td>-500.475640</td>\n",
       "    </tr>\n",
       "    <tr>\n",
       "      <th>2016-09-01 06:59:59</th>\n",
       "      <td>144.133440</td>\n",
       "      <td>7.924610</td>\n",
       "      <td>7.420000</td>\n",
       "      <td>0.788838</td>\n",
       "      <td>1398.252401</td>\n",
       "      <td>-499.748672</td>\n",
       "      <td>1393.255503</td>\n",
       "      <td>-499.195380</td>\n",
       "      <td>1396.738566</td>\n",
       "      <td>-497.923683</td>\n",
       "      <td>...</td>\n",
       "      <td>12.026296</td>\n",
       "      <td>-499.473127</td>\n",
       "      <td>8.027984</td>\n",
       "      <td>-500.983079</td>\n",
       "      <td>7.907340</td>\n",
       "      <td>-507.964971</td>\n",
       "      <td>5.010224</td>\n",
       "      <td>-500.043697</td>\n",
       "      <td>25.040709</td>\n",
       "      <td>-499.501984</td>\n",
       "    </tr>\n",
       "    <tr>\n",
       "      <th>2016-09-01 07:59:59</th>\n",
       "      <td>133.513396</td>\n",
       "      <td>8.055252</td>\n",
       "      <td>6.988000</td>\n",
       "      <td>0.801871</td>\n",
       "      <td>1401.669677</td>\n",
       "      <td>-501.777839</td>\n",
       "      <td>1400.754446</td>\n",
       "      <td>-502.514024</td>\n",
       "      <td>1400.465244</td>\n",
       "      <td>-503.451306</td>\n",
       "      <td>...</td>\n",
       "      <td>12.040911</td>\n",
       "      <td>-501.293852</td>\n",
       "      <td>8.020490</td>\n",
       "      <td>-499.185229</td>\n",
       "      <td>8.116897</td>\n",
       "      <td>-511.927561</td>\n",
       "      <td>5.036498</td>\n",
       "      <td>-500.149615</td>\n",
       "      <td>25.032580</td>\n",
       "      <td>-503.970657</td>\n",
       "    </tr>\n",
       "    <tr>\n",
       "      <th>2016-09-01 08:59:59</th>\n",
       "      <td>133.735356</td>\n",
       "      <td>7.999618</td>\n",
       "      <td>6.935000</td>\n",
       "      <td>0.789329</td>\n",
       "      <td>1402.358981</td>\n",
       "      <td>-499.981597</td>\n",
       "      <td>1400.985954</td>\n",
       "      <td>-496.802968</td>\n",
       "      <td>1401.168584</td>\n",
       "      <td>-499.890350</td>\n",
       "      <td>...</td>\n",
       "      <td>11.998184</td>\n",
       "      <td>-499.481608</td>\n",
       "      <td>8.012610</td>\n",
       "      <td>-500.896783</td>\n",
       "      <td>7.974422</td>\n",
       "      <td>-521.199104</td>\n",
       "      <td>5.061599</td>\n",
       "      <td>-499.791519</td>\n",
       "      <td>25.005063</td>\n",
       "      <td>-497.613716</td>\n",
       "    </tr>\n",
       "    <tr>\n",
       "      <th>2016-09-01 09:59:59</th>\n",
       "      <td>126.961069</td>\n",
       "      <td>8.017856</td>\n",
       "      <td>7.030000</td>\n",
       "      <td>0.805298</td>\n",
       "      <td>1400.816120</td>\n",
       "      <td>-499.014158</td>\n",
       "      <td>1399.975401</td>\n",
       "      <td>-499.570552</td>\n",
       "      <td>1401.871924</td>\n",
       "      <td>-499.577934</td>\n",
       "      <td>...</td>\n",
       "      <td>12.040725</td>\n",
       "      <td>-499.987743</td>\n",
       "      <td>7.989503</td>\n",
       "      <td>-499.750625</td>\n",
       "      <td>7.989710</td>\n",
       "      <td>-509.946737</td>\n",
       "      <td>5.068811</td>\n",
       "      <td>-499.293900</td>\n",
       "      <td>24.992741</td>\n",
       "      <td>-499.272255</td>\n",
       "    </tr>\n",
       "  </tbody>\n",
       "</table>\n",
       "<p>10 rows × 52 columns</p>\n",
       "</div>"
      ],
      "text/plain": [
       "                     primary_cleaner.input.sulfate  \\\n",
       "date                                                 \n",
       "2016-09-01 00:59:59                     210.800909   \n",
       "2016-09-01 01:59:59                     215.392455   \n",
       "2016-09-01 02:59:59                     215.259946   \n",
       "2016-09-01 03:59:59                     215.336236   \n",
       "2016-09-01 04:59:59                     199.099327   \n",
       "2016-09-01 05:59:59                     168.485085   \n",
       "2016-09-01 06:59:59                     144.133440   \n",
       "2016-09-01 07:59:59                     133.513396   \n",
       "2016-09-01 08:59:59                     133.735356   \n",
       "2016-09-01 09:59:59                     126.961069   \n",
       "\n",
       "                     primary_cleaner.input.depressant  \\\n",
       "date                                                    \n",
       "2016-09-01 00:59:59                         14.993118   \n",
       "2016-09-01 01:59:59                         14.987471   \n",
       "2016-09-01 02:59:59                         12.884934   \n",
       "2016-09-01 03:59:59                         12.006805   \n",
       "2016-09-01 04:59:59                         10.682530   \n",
       "2016-09-01 05:59:59                          8.817007   \n",
       "2016-09-01 06:59:59                          7.924610   \n",
       "2016-09-01 07:59:59                          8.055252   \n",
       "2016-09-01 08:59:59                          7.999618   \n",
       "2016-09-01 09:59:59                          8.017856   \n",
       "\n",
       "                     primary_cleaner.input.feed_size  \\\n",
       "date                                                   \n",
       "2016-09-01 00:59:59                         8.080000   \n",
       "2016-09-01 01:59:59                         8.080000   \n",
       "2016-09-01 02:59:59                         7.786667   \n",
       "2016-09-01 03:59:59                         7.640000   \n",
       "2016-09-01 04:59:59                         7.530000   \n",
       "2016-09-01 05:59:59                         7.420000   \n",
       "2016-09-01 06:59:59                         7.420000   \n",
       "2016-09-01 07:59:59                         6.988000   \n",
       "2016-09-01 08:59:59                         6.935000   \n",
       "2016-09-01 09:59:59                         7.030000   \n",
       "\n",
       "                     primary_cleaner.input.xanthate  \\\n",
       "date                                                  \n",
       "2016-09-01 00:59:59                        1.005021   \n",
       "2016-09-01 01:59:59                        0.990469   \n",
       "2016-09-01 02:59:59                        0.996043   \n",
       "2016-09-01 03:59:59                        0.863514   \n",
       "2016-09-01 04:59:59                        0.805575   \n",
       "2016-09-01 05:59:59                        0.791191   \n",
       "2016-09-01 06:59:59                        0.788838   \n",
       "2016-09-01 07:59:59                        0.801871   \n",
       "2016-09-01 08:59:59                        0.789329   \n",
       "2016-09-01 09:59:59                        0.805298   \n",
       "\n",
       "                     primary_cleaner.state.floatbank8_a_air  \\\n",
       "date                                                          \n",
       "2016-09-01 00:59:59                             1398.981301   \n",
       "2016-09-01 01:59:59                             1398.777912   \n",
       "2016-09-01 02:59:59                             1398.493666   \n",
       "2016-09-01 03:59:59                             1399.618111   \n",
       "2016-09-01 04:59:59                             1401.268123   \n",
       "2016-09-01 05:59:59                             1402.826803   \n",
       "2016-09-01 06:59:59                             1398.252401   \n",
       "2016-09-01 07:59:59                             1401.669677   \n",
       "2016-09-01 08:59:59                             1402.358981   \n",
       "2016-09-01 09:59:59                             1400.816120   \n",
       "\n",
       "                     primary_cleaner.state.floatbank8_a_level  \\\n",
       "date                                                            \n",
       "2016-09-01 00:59:59                               -500.225577   \n",
       "2016-09-01 01:59:59                               -500.057435   \n",
       "2016-09-01 02:59:59                               -500.868360   \n",
       "2016-09-01 03:59:59                               -498.863574   \n",
       "2016-09-01 04:59:59                               -500.808305   \n",
       "2016-09-01 05:59:59                               -499.299521   \n",
       "2016-09-01 06:59:59                               -499.748672   \n",
       "2016-09-01 07:59:59                               -501.777839   \n",
       "2016-09-01 08:59:59                               -499.981597   \n",
       "2016-09-01 09:59:59                               -499.014158   \n",
       "\n",
       "                     primary_cleaner.state.floatbank8_b_air  \\\n",
       "date                                                          \n",
       "2016-09-01 00:59:59                             1399.144926   \n",
       "2016-09-01 01:59:59                             1398.055362   \n",
       "2016-09-01 02:59:59                             1398.860436   \n",
       "2016-09-01 03:59:59                             1397.440120   \n",
       "2016-09-01 04:59:59                             1398.128818   \n",
       "2016-09-01 05:59:59                             1401.511119   \n",
       "2016-09-01 06:59:59                             1393.255503   \n",
       "2016-09-01 07:59:59                             1400.754446   \n",
       "2016-09-01 08:59:59                             1400.985954   \n",
       "2016-09-01 09:59:59                             1399.975401   \n",
       "\n",
       "                     primary_cleaner.state.floatbank8_b_level  \\\n",
       "date                                                            \n",
       "2016-09-01 00:59:59                               -499.919735   \n",
       "2016-09-01 01:59:59                               -499.778182   \n",
       "2016-09-01 02:59:59                               -499.764529   \n",
       "2016-09-01 03:59:59                               -499.211024   \n",
       "2016-09-01 04:59:59                               -499.504543   \n",
       "2016-09-01 05:59:59                               -499.205357   \n",
       "2016-09-01 06:59:59                               -499.195380   \n",
       "2016-09-01 07:59:59                               -502.514024   \n",
       "2016-09-01 08:59:59                               -496.802968   \n",
       "2016-09-01 09:59:59                               -499.570552   \n",
       "\n",
       "                     primary_cleaner.state.floatbank8_c_air  \\\n",
       "date                                                          \n",
       "2016-09-01 00:59:59                             1400.102998   \n",
       "2016-09-01 01:59:59                             1396.151033   \n",
       "2016-09-01 02:59:59                             1398.075709   \n",
       "2016-09-01 03:59:59                             1400.129303   \n",
       "2016-09-01 04:59:59                             1402.172226   \n",
       "2016-09-01 05:59:59                             1404.088107   \n",
       "2016-09-01 06:59:59                             1396.738566   \n",
       "2016-09-01 07:59:59                             1400.465244   \n",
       "2016-09-01 08:59:59                             1401.168584   \n",
       "2016-09-01 09:59:59                             1401.871924   \n",
       "\n",
       "                     primary_cleaner.state.floatbank8_c_level  ...  \\\n",
       "date                                                           ...   \n",
       "2016-09-01 00:59:59                               -500.704369  ...   \n",
       "2016-09-01 01:59:59                               -499.240168  ...   \n",
       "2016-09-01 02:59:59                               -502.151509  ...   \n",
       "2016-09-01 03:59:59                               -498.355873  ...   \n",
       "2016-09-01 04:59:59                               -500.810606  ...   \n",
       "2016-09-01 05:59:59                               -497.903666  ...   \n",
       "2016-09-01 06:59:59                               -497.923683  ...   \n",
       "2016-09-01 07:59:59                               -503.451306  ...   \n",
       "2016-09-01 08:59:59                               -499.890350  ...   \n",
       "2016-09-01 09:59:59                               -499.577934  ...   \n",
       "\n",
       "                     secondary_cleaner.state.floatbank4_a_air  \\\n",
       "date                                                            \n",
       "2016-09-01 00:59:59                                 12.023554   \n",
       "2016-09-01 01:59:59                                 12.058140   \n",
       "2016-09-01 02:59:59                                 11.962366   \n",
       "2016-09-01 03:59:59                                 12.033091   \n",
       "2016-09-01 04:59:59                                 12.025367   \n",
       "2016-09-01 05:59:59                                 12.029797   \n",
       "2016-09-01 06:59:59                                 12.026296   \n",
       "2016-09-01 07:59:59                                 12.040911   \n",
       "2016-09-01 08:59:59                                 11.998184   \n",
       "2016-09-01 09:59:59                                 12.040725   \n",
       "\n",
       "                     secondary_cleaner.state.floatbank4_a_level  \\\n",
       "date                                                              \n",
       "2016-09-01 00:59:59                                 -497.795834   \n",
       "2016-09-01 01:59:59                                 -498.695773   \n",
       "2016-09-01 02:59:59                                 -498.767484   \n",
       "2016-09-01 03:59:59                                 -498.350935   \n",
       "2016-09-01 04:59:59                                 -500.786497   \n",
       "2016-09-01 05:59:59                                 -499.814895   \n",
       "2016-09-01 06:59:59                                 -499.473127   \n",
       "2016-09-01 07:59:59                                 -501.293852   \n",
       "2016-09-01 08:59:59                                 -499.481608   \n",
       "2016-09-01 09:59:59                                 -499.987743   \n",
       "\n",
       "                     secondary_cleaner.state.floatbank4_b_air  \\\n",
       "date                                                            \n",
       "2016-09-01 00:59:59                                  8.016656   \n",
       "2016-09-01 01:59:59                                  8.130979   \n",
       "2016-09-01 02:59:59                                  8.096893   \n",
       "2016-09-01 03:59:59                                  8.074946   \n",
       "2016-09-01 04:59:59                                  8.054678   \n",
       "2016-09-01 05:59:59                                  8.036586   \n",
       "2016-09-01 06:59:59                                  8.027984   \n",
       "2016-09-01 07:59:59                                  8.020490   \n",
       "2016-09-01 08:59:59                                  8.012610   \n",
       "2016-09-01 09:59:59                                  7.989503   \n",
       "\n",
       "                     secondary_cleaner.state.floatbank4_b_level  \\\n",
       "date                                                              \n",
       "2016-09-01 00:59:59                                 -501.289139   \n",
       "2016-09-01 01:59:59                                 -499.634209   \n",
       "2016-09-01 02:59:59                                 -500.827423   \n",
       "2016-09-01 03:59:59                                 -499.474407   \n",
       "2016-09-01 04:59:59                                 -500.397500   \n",
       "2016-09-01 05:59:59                                 -500.371492   \n",
       "2016-09-01 06:59:59                                 -500.983079   \n",
       "2016-09-01 07:59:59                                 -499.185229   \n",
       "2016-09-01 08:59:59                                 -500.896783   \n",
       "2016-09-01 09:59:59                                 -499.750625   \n",
       "\n",
       "                     secondary_cleaner.state.floatbank5_a_air  \\\n",
       "date                                                            \n",
       "2016-09-01 00:59:59                                  7.946562   \n",
       "2016-09-01 01:59:59                                  7.958270   \n",
       "2016-09-01 02:59:59                                  8.071056   \n",
       "2016-09-01 03:59:59                                  7.897085   \n",
       "2016-09-01 04:59:59                                  8.107890   \n",
       "2016-09-01 05:59:59                                  8.041446   \n",
       "2016-09-01 06:59:59                                  7.907340   \n",
       "2016-09-01 07:59:59                                  8.116897   \n",
       "2016-09-01 08:59:59                                  7.974422   \n",
       "2016-09-01 09:59:59                                  7.989710   \n",
       "\n",
       "                     secondary_cleaner.state.floatbank5_a_level  \\\n",
       "date                                                              \n",
       "2016-09-01 00:59:59                                 -432.317850   \n",
       "2016-09-01 01:59:59                                 -525.839648   \n",
       "2016-09-01 02:59:59                                 -500.801673   \n",
       "2016-09-01 03:59:59                                 -500.868509   \n",
       "2016-09-01 04:59:59                                 -509.526725   \n",
       "2016-09-01 05:59:59                                 -510.037054   \n",
       "2016-09-01 06:59:59                                 -507.964971   \n",
       "2016-09-01 07:59:59                                 -511.927561   \n",
       "2016-09-01 08:59:59                                 -521.199104   \n",
       "2016-09-01 09:59:59                                 -509.946737   \n",
       "\n",
       "                     secondary_cleaner.state.floatbank5_b_air  \\\n",
       "date                                                            \n",
       "2016-09-01 00:59:59                                  4.872511   \n",
       "2016-09-01 01:59:59                                  4.878850   \n",
       "2016-09-01 02:59:59                                  4.905125   \n",
       "2016-09-01 03:59:59                                  4.931400   \n",
       "2016-09-01 04:59:59                                  4.957674   \n",
       "2016-09-01 05:59:59                                  4.983949   \n",
       "2016-09-01 06:59:59                                  5.010224   \n",
       "2016-09-01 07:59:59                                  5.036498   \n",
       "2016-09-01 08:59:59                                  5.061599   \n",
       "2016-09-01 09:59:59                                  5.068811   \n",
       "\n",
       "                     secondary_cleaner.state.floatbank5_b_level  \\\n",
       "date                                                              \n",
       "2016-09-01 00:59:59                                 -500.037437   \n",
       "2016-09-01 01:59:59                                 -500.162375   \n",
       "2016-09-01 02:59:59                                 -499.828510   \n",
       "2016-09-01 03:59:59                                 -499.963623   \n",
       "2016-09-01 04:59:59                                 -500.360026   \n",
       "2016-09-01 05:59:59                                 -499.990990   \n",
       "2016-09-01 06:59:59                                 -500.043697   \n",
       "2016-09-01 07:59:59                                 -500.149615   \n",
       "2016-09-01 08:59:59                                 -499.791519   \n",
       "2016-09-01 09:59:59                                 -499.293900   \n",
       "\n",
       "                     secondary_cleaner.state.floatbank6_a_air  \\\n",
       "date                                                            \n",
       "2016-09-01 00:59:59                                 26.705889   \n",
       "2016-09-01 01:59:59                                 25.019940   \n",
       "2016-09-01 02:59:59                                 24.994862   \n",
       "2016-09-01 03:59:59                                 24.948919   \n",
       "2016-09-01 04:59:59                                 25.003331   \n",
       "2016-09-01 05:59:59                                 24.978973   \n",
       "2016-09-01 06:59:59                                 25.040709   \n",
       "2016-09-01 07:59:59                                 25.032580   \n",
       "2016-09-01 08:59:59                                 25.005063   \n",
       "2016-09-01 09:59:59                                 24.992741   \n",
       "\n",
       "                     secondary_cleaner.state.floatbank6_a_level  \n",
       "date                                                             \n",
       "2016-09-01 00:59:59                                 -499.709414  \n",
       "2016-09-01 01:59:59                                 -499.819438  \n",
       "2016-09-01 02:59:59                                 -500.622559  \n",
       "2016-09-01 03:59:59                                 -498.709987  \n",
       "2016-09-01 04:59:59                                 -500.856333  \n",
       "2016-09-01 05:59:59                                 -500.475640  \n",
       "2016-09-01 06:59:59                                 -499.501984  \n",
       "2016-09-01 07:59:59                                 -503.970657  \n",
       "2016-09-01 08:59:59                                 -497.613716  \n",
       "2016-09-01 09:59:59                                 -499.272255  \n",
       "\n",
       "[10 rows x 52 columns]"
      ]
     },
     "metadata": {},
     "output_type": "display_data"
    },
    {
     "name": "stdout",
     "output_type": "stream",
     "text": [
      "<class 'pandas.core.frame.DataFrame'>\n",
      "Index: 5290 entries, 2016-09-01 00:59:59 to 2017-12-31 23:59:59\n",
      "Data columns (total 52 columns):\n",
      " #   Column                                      Non-Null Count  Dtype  \n",
      "---  ------                                      --------------  -----  \n",
      " 0   primary_cleaner.input.sulfate               5286 non-null   float64\n",
      " 1   primary_cleaner.input.depressant            5285 non-null   float64\n",
      " 2   primary_cleaner.input.feed_size             5290 non-null   float64\n",
      " 3   primary_cleaner.input.xanthate              5286 non-null   float64\n",
      " 4   primary_cleaner.state.floatbank8_a_air      5290 non-null   float64\n",
      " 5   primary_cleaner.state.floatbank8_a_level    5290 non-null   float64\n",
      " 6   primary_cleaner.state.floatbank8_b_air      5290 non-null   float64\n",
      " 7   primary_cleaner.state.floatbank8_b_level    5290 non-null   float64\n",
      " 8   primary_cleaner.state.floatbank8_c_air      5290 non-null   float64\n",
      " 9   primary_cleaner.state.floatbank8_c_level    5290 non-null   float64\n",
      " 10  primary_cleaner.state.floatbank8_d_air      5290 non-null   float64\n",
      " 11  primary_cleaner.state.floatbank8_d_level    5290 non-null   float64\n",
      " 12  rougher.input.feed_ag                       5290 non-null   float64\n",
      " 13  rougher.input.feed_pb                       5290 non-null   float64\n",
      " 14  rougher.input.feed_rate                     5287 non-null   float64\n",
      " 15  rougher.input.feed_size                     5289 non-null   float64\n",
      " 16  rougher.input.feed_sol                      5269 non-null   float64\n",
      " 17  rougher.input.feed_au                       5290 non-null   float64\n",
      " 18  rougher.input.floatbank10_sulfate           5285 non-null   float64\n",
      " 19  rougher.input.floatbank10_xanthate          5290 non-null   float64\n",
      " 20  rougher.input.floatbank11_sulfate           5282 non-null   float64\n",
      " 21  rougher.input.floatbank11_xanthate          5265 non-null   float64\n",
      " 22  rougher.state.floatbank10_a_air             5290 non-null   float64\n",
      " 23  rougher.state.floatbank10_a_level           5290 non-null   float64\n",
      " 24  rougher.state.floatbank10_b_air             5290 non-null   float64\n",
      " 25  rougher.state.floatbank10_b_level           5290 non-null   float64\n",
      " 26  rougher.state.floatbank10_c_air             5290 non-null   float64\n",
      " 27  rougher.state.floatbank10_c_level           5290 non-null   float64\n",
      " 28  rougher.state.floatbank10_d_air             5290 non-null   float64\n",
      " 29  rougher.state.floatbank10_d_level           5290 non-null   float64\n",
      " 30  rougher.state.floatbank10_e_air             5290 non-null   float64\n",
      " 31  rougher.state.floatbank10_e_level           5290 non-null   float64\n",
      " 32  rougher.state.floatbank10_f_air             5290 non-null   float64\n",
      " 33  rougher.state.floatbank10_f_level           5290 non-null   float64\n",
      " 34  secondary_cleaner.state.floatbank2_a_air    5287 non-null   float64\n",
      " 35  secondary_cleaner.state.floatbank2_a_level  5290 non-null   float64\n",
      " 36  secondary_cleaner.state.floatbank2_b_air    5288 non-null   float64\n",
      " 37  secondary_cleaner.state.floatbank2_b_level  5290 non-null   float64\n",
      " 38  secondary_cleaner.state.floatbank3_a_air    5281 non-null   float64\n",
      " 39  secondary_cleaner.state.floatbank3_a_level  5290 non-null   float64\n",
      " 40  secondary_cleaner.state.floatbank3_b_air    5290 non-null   float64\n",
      " 41  secondary_cleaner.state.floatbank3_b_level  5290 non-null   float64\n",
      " 42  secondary_cleaner.state.floatbank4_a_air    5290 non-null   float64\n",
      " 43  secondary_cleaner.state.floatbank4_a_level  5290 non-null   float64\n",
      " 44  secondary_cleaner.state.floatbank4_b_air    5290 non-null   float64\n",
      " 45  secondary_cleaner.state.floatbank4_b_level  5290 non-null   float64\n",
      " 46  secondary_cleaner.state.floatbank5_a_air    5290 non-null   float64\n",
      " 47  secondary_cleaner.state.floatbank5_a_level  5290 non-null   float64\n",
      " 48  secondary_cleaner.state.floatbank5_b_air    5290 non-null   float64\n",
      " 49  secondary_cleaner.state.floatbank5_b_level  5290 non-null   float64\n",
      " 50  secondary_cleaner.state.floatbank6_a_air    5290 non-null   float64\n",
      " 51  secondary_cleaner.state.floatbank6_a_level  5290 non-null   float64\n",
      "dtypes: float64(52)\n",
      "memory usage: 2.1+ MB\n",
      "None\n",
      "Количество дубликатов: 0\n"
     ]
    }
   ],
   "source": [
    "test_df = data_read_exam('/datasets/gold_recovery_test_new.csv')"
   ]
  },
  {
   "cell_type": "code",
   "execution_count": 6,
   "metadata": {},
   "outputs": [
    {
     "name": "stdout",
     "output_type": "stream",
     "text": [
      "Колличество пропусков в тестовой выборке: 90\n",
      "Колличество пропусков в обучающей выборке: 4100\n",
      "Колличество пропусков в полной выборке: 4481\n"
     ]
    }
   ],
   "source": [
    "print('Колличество пропусков в тестовой выборке:', test_df.isnull().sum().sum())\n",
    "print('Колличество пропусков в обучающей выборке:', train_df.isnull().sum().sum())\n",
    "print('Колличество пропусков в полной выборке:', full_df.isnull().sum().sum())"
   ]
  },
  {
   "cell_type": "markdown",
   "metadata": {},
   "source": [
    "**Вывод после ознакомления:**\n",
    "\n",
    "- Данные соответствуют описанию. Дубликатов нет. Датасеты состаят из более чем десятка тысяч записей, full 86 признаков, test 52, train тоже 86. То, что у нас в тестовой выборке почти в два раза меньше признаков заставляет задуматься о том, как мы будем обучать модель.\n",
    "\n",
    "- Наличествуют пропуски (всего 90 в тестовой выборке и более 4 тысяч в трейн выборке). Причина неизвестна.\n",
    "\n",
    "- Типы данных соответствуют описанию.\n",
    "\n",
    "- Масштаб признаков сильно отличается (порой разница в два порядка). Признаки нуждаются в масштабировании."
   ]
  },
  {
   "cell_type": "markdown",
   "metadata": {},
   "source": [
    "### Расчёт эффективности обогащения"
   ]
  },
  {
   "cell_type": "markdown",
   "metadata": {},
   "source": [
    "Проверим правильно ли рассчитана эффективность обогащения в нашей обучающей выборке, которая лежит в столбце rougher.output.recovery. Для этого вручную расчитаем нашу эффективность по формуле:"
   ]
  },
  {
   "attachments": {
    "%D0%91%D0%B5%D0%B7%20%D0%BD%D0%B0%D0%B7%D0%B2%D0%B0%D0%BD%D0%B8%D1%8F%20%281%29.png": {
     "image/png": "[encoded data removed]"
    }
   },
   "cell_type": "markdown",
   "metadata": {},
   "source": [
    "![%D0%91%D0%B5%D0%B7%20%D0%BD%D0%B0%D0%B7%D0%B2%D0%B0%D0%BD%D0%B8%D1%8F%20%281%29.png](attachment:%D0%91%D0%B5%D0%B7%20%D0%BD%D0%B0%D0%B7%D0%B2%D0%B0%D0%BD%D0%B8%D1%8F%20%281%29.png)"
   ]
  },
  {
   "cell_type": "markdown",
   "metadata": {},
   "source": [
    "Где:\n",
    "\n",
    "- C — доля золота в концентрате после флотации/очистки\n",
    "\n",
    "- F — доля золота в сырье/концентрате до флотации/очистки\n",
    "\n",
    "- T — доля золота в отвальных хвостах после флотации/очистки"
   ]
  },
  {
   "cell_type": "markdown",
   "metadata": {},
   "source": [
    "И найдём cреднюю абсолютную ошибку между нашими расчётами и значением признака в столбце. "
   ]
  },
  {
   "cell_type": "code",
   "execution_count": 7,
   "metadata": {},
   "outputs": [],
   "source": [
    "C = train_df['rougher.output.concentrate_au']\n",
    "F = train_df['rougher.input.feed_au']\n",
    "T = train_df['rougher.output.tail_au']"
   ]
  },
  {
   "cell_type": "code",
   "execution_count": 8,
   "metadata": {},
   "outputs": [],
   "source": [
    "recovery = C * (F - T) / (F * (C - T)) * 100"
   ]
  },
  {
   "cell_type": "markdown",
   "metadata": {},
   "source": [
    "Рассчитать лучше через эту формулу, так как из-за пропусков формула из библиотеки может не справиться."
   ]
  },
  {
   "attachments": {
    "%D0%91%D0%B5%D0%B7%20%D0%BD%D0%B0%D0%B7%D0%B2%D0%B0%D0%BD%D0%B8%D1%8F.png": {
     "image/png": "[encoded data removed]"
    }
   },
   "cell_type": "markdown",
   "metadata": {},
   "source": [
    "![%D0%91%D0%B5%D0%B7%20%D0%BD%D0%B0%D0%B7%D0%B2%D0%B0%D0%BD%D0%B8%D1%8F.png](attachment:%D0%91%D0%B5%D0%B7%20%D0%BD%D0%B0%D0%B7%D0%B2%D0%B0%D0%BD%D0%B8%D1%8F.png)"
   ]
  },
  {
   "cell_type": "code",
   "execution_count": 9,
   "metadata": {},
   "outputs": [
    {
     "data": {
      "text/plain": [
       "9.73512347450521e-15"
      ]
     },
     "execution_count": 9,
     "metadata": {},
     "output_type": "execute_result"
    }
   ],
   "source": [
    "(abs(recovery - train_df['rougher.output.recovery']).sum()) / len(train_df)"
   ]
  },
  {
   "cell_type": "markdown",
   "metadata": {},
   "source": [
    "**Вывод:** Разница исчезающе мала 9.73512347450521e-15, а это значит - процесс идет в штатном режиме."
   ]
  },
  {
   "cell_type": "markdown",
   "metadata": {},
   "source": [
    "### Анализ признаков, недоступных в тестовой выборке"
   ]
  },
  {
   "cell_type": "markdown",
   "metadata": {},
   "source": [
    "Как было отмечено раньше, тестовая выборка содержит значительно меньше признаков, чем обучающая:"
   ]
  },
  {
   "cell_type": "code",
   "execution_count": 10,
   "metadata": {},
   "outputs": [
    {
     "data": {
      "text/plain": [
       "34"
      ]
     },
     "execution_count": 10,
     "metadata": {},
     "output_type": "execute_result"
    }
   ],
   "source": [
    "train_df.shape[1] - test_df.shape[1]"
   ]
  },
  {
   "cell_type": "markdown",
   "metadata": {},
   "source": [
    "Изучим, какие признаки у нас отсутствуют в тестовой выборке:"
   ]
  },
  {
   "cell_type": "code",
   "execution_count": 11,
   "metadata": {
    "scrolled": true
   },
   "outputs": [
    {
     "data": {
      "text/plain": [
       "Index(['final.output.concentrate_ag', 'final.output.concentrate_pb',\n",
       "       'final.output.concentrate_sol', 'final.output.concentrate_au',\n",
       "       'final.output.recovery', 'final.output.tail_ag', 'final.output.tail_pb',\n",
       "       'final.output.tail_sol', 'final.output.tail_au',\n",
       "       'primary_cleaner.output.concentrate_ag',\n",
       "       'primary_cleaner.output.concentrate_pb',\n",
       "       'primary_cleaner.output.concentrate_sol',\n",
       "       'primary_cleaner.output.concentrate_au',\n",
       "       'primary_cleaner.output.tail_ag', 'primary_cleaner.output.tail_pb',\n",
       "       'primary_cleaner.output.tail_sol', 'primary_cleaner.output.tail_au',\n",
       "       'rougher.calculation.sulfate_to_au_concentrate',\n",
       "       'rougher.calculation.floatbank10_sulfate_to_au_feed',\n",
       "       'rougher.calculation.floatbank11_sulfate_to_au_feed',\n",
       "       'rougher.calculation.au_pb_ratio', 'rougher.output.concentrate_ag',\n",
       "       'rougher.output.concentrate_pb', 'rougher.output.concentrate_sol',\n",
       "       'rougher.output.concentrate_au', 'rougher.output.recovery',\n",
       "       'rougher.output.tail_ag', 'rougher.output.tail_pb',\n",
       "       'rougher.output.tail_sol', 'rougher.output.tail_au',\n",
       "       'secondary_cleaner.output.tail_ag', 'secondary_cleaner.output.tail_pb',\n",
       "       'secondary_cleaner.output.tail_sol',\n",
       "       'secondary_cleaner.output.tail_au'],\n",
       "      dtype='object')"
      ]
     },
     "execution_count": 11,
     "metadata": {},
     "output_type": "execute_result"
    }
   ],
   "source": [
    "train_df.columns.drop(test_df.columns)"
   ]
  },
  {
   "cell_type": "markdown",
   "metadata": {},
   "source": [
    "**Вывод:**\n",
    "\n",
    "Видим, что в тестовой выборке у нас отсутствуют все этапы на которых были получены параметры продукта из сырья. Условно, конечные значения после каждого этапа обработки. Это говорит нам о том, что мы должны удалить из train все, чего нету в test, иначе модель будет давать неадекватные результаты."
   ]
  },
  {
   "cell_type": "markdown",
   "metadata": {},
   "source": [
    "### Предобработка данных"
   ]
  },
  {
   "cell_type": "markdown",
   "metadata": {},
   "source": [
    "Для начала удалим строки с пропусками в целевом признаке, а позже и сами ненужные нам столбцы."
   ]
  },
  {
   "cell_type": "code",
   "execution_count": 12,
   "metadata": {},
   "outputs": [],
   "source": [
    "train_df.dropna(subset=['final.output.recovery', 'rougher.output.recovery'], inplace=True)"
   ]
  },
  {
   "cell_type": "code",
   "execution_count": 13,
   "metadata": {},
   "outputs": [],
   "source": [
    "drop_test = train_df.columns.drop(test_df.columns)"
   ]
  },
  {
   "cell_type": "code",
   "execution_count": 14,
   "metadata": {},
   "outputs": [],
   "source": [
    "train_df.drop(drop_test, axis=1, inplace=True)"
   ]
  },
  {
   "cell_type": "markdown",
   "metadata": {},
   "source": [
    "Заполним пропуски с помощью метода K-ближайших соседей:"
   ]
  },
  {
   "cell_type": "code",
   "execution_count": 15,
   "metadata": {},
   "outputs": [],
   "source": [
    "def transform_imputer(data, n_neighbors):\n",
    "\n",
    "    data_columns = data.columns\n",
    "    index = data.index\n",
    "    imputer = KNNImputer(n_neighbors=n_neighbors)\n",
    "    imputer.fit_transform(data)\n",
    "    \n",
    "\n",
    "    return pd.DataFrame(imputer.fit_transform(data), columns=data_columns, index=index)"
   ]
  },
  {
   "cell_type": "code",
   "execution_count": 16,
   "metadata": {},
   "outputs": [],
   "source": [
    "new_train_df = transform_imputer(train_df, 5)\n",
    "new_test_df = transform_imputer(test_df, 5)"
   ]
  },
  {
   "cell_type": "code",
   "execution_count": 17,
   "metadata": {},
   "outputs": [
    {
     "name": "stdout",
     "output_type": "stream",
     "text": [
      "Количество пропусков до обработки данных в обучающей выборке: 1705\n",
      "Количество пропусков после обработки данных в обучающей выборке: 0\n",
      "Количество пропусков до обработки данных в тестовой выборке: 90\n",
      "Количество пропусков после обработки данных в тестовой выборке: 0\n"
     ]
    }
   ],
   "source": [
    "print('Количество пропусков до обработки данных в обучающей выборке:', train_df.isnull().sum().sum())\n",
    "print('Количество пропусков после обработки данных в обучающей выборке:', new_train_df.isnull().sum().sum())\n",
    "print('Количество пропусков до обработки данных в тестовой выборке:', test_df.isnull().sum().sum())\n",
    "print('Количество пропусков после обработки данных в тестовой выборке:', new_test_df.isnull().sum().sum())"
   ]
  },
  {
   "cell_type": "markdown",
   "metadata": {},
   "source": [
    "Итак, мы заполнили пропуски, и теперь можем анализировать данные, а потом и обучать модели."
   ]
  },
  {
   "cell_type": "markdown",
   "metadata": {},
   "source": [
    "## Анализ данных"
   ]
  },
  {
   "cell_type": "markdown",
   "metadata": {},
   "source": [
    "### Анализ концентрации металлов на различных этапах очистки"
   ]
  },
  {
   "cell_type": "markdown",
   "metadata": {},
   "source": [
    "Найдем все столбцы относящиеся к конкретному металлу(Au, Ag, Pb), и будем использовать их для дальнейшего анализа:"
   ]
  },
  {
   "cell_type": "code",
   "execution_count": 18,
   "metadata": {},
   "outputs": [
    {
     "data": {
      "text/plain": [
       "(Index(['final.output.concentrate_au', 'final.output.tail_au',\n",
       "        'primary_cleaner.output.concentrate_au',\n",
       "        'primary_cleaner.output.tail_au', 'rougher.input.feed_au',\n",
       "        'rougher.output.concentrate_au', 'rougher.output.tail_au',\n",
       "        'secondary_cleaner.output.tail_au'],\n",
       "       dtype='object'),\n",
       " Index(['final.output.concentrate_ag', 'final.output.tail_ag',\n",
       "        'primary_cleaner.output.concentrate_ag',\n",
       "        'primary_cleaner.output.tail_ag', 'rougher.input.feed_ag',\n",
       "        'rougher.output.concentrate_ag', 'rougher.output.tail_ag',\n",
       "        'secondary_cleaner.output.tail_ag'],\n",
       "       dtype='object'),\n",
       " Index(['final.output.concentrate_pb', 'final.output.tail_pb',\n",
       "        'primary_cleaner.output.concentrate_pb',\n",
       "        'primary_cleaner.output.tail_pb', 'rougher.input.feed_pb',\n",
       "        'rougher.output.concentrate_pb', 'rougher.output.tail_pb',\n",
       "        'secondary_cleaner.output.tail_pb'],\n",
       "       dtype='object'))"
      ]
     },
     "execution_count": 18,
     "metadata": {},
     "output_type": "execute_result"
    }
   ],
   "source": [
    "full_df.columns[full_df.columns.str.endswith('au')], full_df.columns[full_df.columns.str.endswith('ag')],\\\n",
    "full_df.columns[full_df.columns.str.endswith('pb')]"
   ]
  },
  {
   "cell_type": "markdown",
   "metadata": {},
   "source": [
    "Теперь так куда проще искать. Отберём нужные нам столбцы, а именно:\n",
    "\n",
    "- сырьё в исходном виде\n",
    "\n",
    "- после флотации\n",
    "\n",
    "- после первичной обработки\n",
    "\n",
    "- финальный концентрат."
   ]
  },
  {
   "cell_type": "code",
   "execution_count": 19,
   "metadata": {},
   "outputs": [],
   "source": [
    "AU = full_df[['rougher.input.feed_au', 'rougher.output.concentrate_au', 'primary_cleaner.output.concentrate_au', \n",
    "            'final.output.concentrate_au']].dropna()\n",
    "AG = full_df[['rougher.input.feed_ag', 'rougher.output.concentrate_ag', 'primary_cleaner.output.concentrate_ag', \n",
    "            'final.output.concentrate_ag']].dropna()\n",
    "PB = full_df[['rougher.input.feed_pb', 'rougher.output.concentrate_pb', 'primary_cleaner.output.concentrate_pb', \n",
    "            'final.output.concentrate_pb']].dropna()"
   ]
  },
  {
   "cell_type": "code",
   "execution_count": 20,
   "metadata": {},
   "outputs": [
    {
     "name": "stdout",
     "output_type": "stream",
     "text": [
      "Концентрация до флотации:\n",
      "серебро: 8.59, свинец: 3.54, золото: 8.13\n",
      "\n",
      "Концентрация после флотации:\n",
      "серебро: 12.10, свинец: 7.75, золото: 20.28\n",
      "\n",
      "Концентрация после первичной очистки:\n",
      "серебро: 8.51, свинец: 10.16, золото: 32.84\n",
      "\n",
      "Финальный концентрат:\n",
      "серебро: 5.07, свинец: 10.12, золото: 45.01\n"
     ]
    }
   ],
   "source": [
    "print('Концентрация до флотации:')\n",
    "print('серебро:{: 0.2f}, свинец:{: 0.2f}, золото:{: 0.2f}'.format(AG['rougher.input.feed_ag'].median(),\n",
    "PB['rougher.input.feed_pb'].median(),\n",
    "AU['rougher.input.feed_au'].median()))\n",
    "print()\n",
    "print('Концентрация после флотации:')\n",
    "print('серебро:{: 0.2f}, свинец:{: 0.2f}, золото:{: 0.2f}'.format(AG['rougher.output.concentrate_ag'].median(),\n",
    "PB['rougher.output.concentrate_pb'].median(),\n",
    "AU['rougher.output.concentrate_au'].median()))\n",
    "print()\n",
    "print('Концентрация после первичной очистки:')\n",
    "print('серебро:{: 0.2f}, свинец:{: 0.2f}, золото:{: 0.2f}'.format(AG['primary_cleaner.output.concentrate_ag'].median(),\n",
    "PB['primary_cleaner.output.concentrate_pb'].median(),\n",
    "AU['primary_cleaner.output.concentrate_au'].median()))\n",
    "print()\n",
    "print('Финальный концентрат:')\n",
    "print('серебро:{: 0.2f}, свинец:{: 0.2f}, золото:{: 0.2f}'.format(AG['final.output.concentrate_ag'].median(),\n",
    "PB['final.output.concentrate_pb'].median(),\n",
    "AU['final.output.concentrate_au'].median()))"
   ]
  },
  {
   "cell_type": "markdown",
   "metadata": {},
   "source": [
    "Концентрации металлов посчитаны, остается отобразить их на графике:"
   ]
  },
  {
   "cell_type": "code",
   "execution_count": 21,
   "metadata": {},
   "outputs": [
    {
     "data": {
      "image/png": "[encoded data removed]",
      "text/plain": [
       "<Figure size 360x360 with 1 Axes>"
      ]
     },
     "metadata": {
      "needs_background": "light"
     },
     "output_type": "display_data"
    }
   ],
   "source": [
    "sns.displot(AU, legend=False, kind='kde')\n",
    "plt.legend(['Финальный концентрат', 'Первичная очистка', 'После флотации', 'До флотации'], fontsize=10)\n",
    "plt.title('Изменение концентрации золота в процессе очистки');"
   ]
  },
  {
   "cell_type": "code",
   "execution_count": 22,
   "metadata": {},
   "outputs": [
    {
     "data": {
      "image/png": "[encoded data removed]",
      "text/plain": [
       "<Figure size 360x360 with 1 Axes>"
      ]
     },
     "metadata": {
      "needs_background": "light"
     },
     "output_type": "display_data"
    }
   ],
   "source": [
    "sns.displot(PB, legend=False, kind='kde')\n",
    "plt.legend(['Финальный концентрат', 'Первичная очистка', 'После флотации', 'До флотации'], fontsize=10)\n",
    "plt.title('Изменение концентрации свинца после разных этапов обработки');"
   ]
  },
  {
   "cell_type": "code",
   "execution_count": 23,
   "metadata": {},
   "outputs": [
    {
     "data": {
      "image/png": "[encoded data removed]",
      "text/plain": [
       "<Figure size 360x360 with 1 Axes>"
      ]
     },
     "metadata": {
      "needs_background": "light"
     },
     "output_type": "display_data"
    }
   ],
   "source": [
    "sns.displot(AG, legend=False, kind='kde')\n",
    "plt.legend(['Финальный концентрат', 'Первичная очистка', 'После флотации', 'До флотации'], fontsize=10)\n",
    "plt.title('Изменение концентрации свинца после разных этапов обработки');"
   ]
  },
  {
   "cell_type": "markdown",
   "metadata": {},
   "source": [
    "**Вывод:** Итак, можно наблюдать что с каждым этапом очистки концентрация золота заметно увеличивается (что логично, мы же получаем золото из руды), в то время как концентрация серебра наоборот снижается. Свинец показывает небольшое увелечение концентрации, а затем она остается примерно на одном уровне."
   ]
  },
  {
   "cell_type": "markdown",
   "metadata": {},
   "source": [
    "### Сравнение распределения размеров гранул сырья на обучающей и тестовой выборках"
   ]
  },
  {
   "cell_type": "markdown",
   "metadata": {},
   "source": [
    "Возьмем для анализа столбец feed_size:"
   ]
  },
  {
   "cell_type": "code",
   "execution_count": 24,
   "metadata": {},
   "outputs": [],
   "source": [
    "new_train_df_feed_size = new_train_df['rougher.input.feed_size'].groupby(new_train_df.index).agg('mean')\n",
    "new_test_df_feed_size = new_test_df['rougher.input.feed_size'].groupby(new_test_df['rougher.input.feed_size'].index).agg('mean')"
   ]
  },
  {
   "cell_type": "code",
   "execution_count": 25,
   "metadata": {
    "scrolled": true
   },
   "outputs": [
    {
     "data": {
      "image/png": "[encoded data removed]",
      "text/plain": [
       "<Figure size 720x432 with 1 Axes>"
      ]
     },
     "metadata": {
      "needs_background": "light"
     },
     "output_type": "display_data"
    }
   ],
   "source": [
    "f, axes = plt.subplots(1, 1, figsize=(10, 6))\n",
    "sns.distplot(new_train_df_feed_size, bins=60)\n",
    "sns.distplot(new_test_df_feed_size, bins=60);\n",
    "plt.legend(['Обучающая выборка', 'Тестовая выборка'])\n",
    "plt.title('Распределения размеров гранул сырья')\n",
    "plt.xlabel('размер')\n",
    "plt.ylabel('соотношение');\n",
    "axes.set_xlim(0, 150);"
   ]
  },
  {
   "cell_type": "markdown",
   "metadata": {},
   "source": [
    "**Вывод:** В целом и у тренинг и у тест выборки распределение по размером гранул имеет схожий вид, и значения близки. Мы можем использовать этот признак для обучения модели."
   ]
  },
  {
   "cell_type": "markdown",
   "metadata": {},
   "source": [
    "### Cуммарная концентрация всех веществ на разных стадиях"
   ]
  },
  {
   "cell_type": "markdown",
   "metadata": {},
   "source": [
    "Посчитаем суммарные концентрации веществ для трех стадий: в сырье, в черновом и финальном концентратах."
   ]
  },
  {
   "cell_type": "code",
   "execution_count": 26,
   "metadata": {},
   "outputs": [],
   "source": [
    "feed_concentrate = full_df['rougher.input.feed_ag'] + full_df['rougher.input.feed_pb'] +\\\n",
    "            full_df['rougher.input.feed_sol'] + full_df['rougher.input.feed_au']\n",
    "rougher_concentrate = full_df['rougher.output.concentrate_ag'] + full_df['rougher.output.concentrate_pb'] +\\\n",
    "            full_df['rougher.output.concentrate_sol'] + full_df['rougher.output.concentrate_au']\n",
    "final_concentrate = full_df['final.output.concentrate_ag'] + full_df['final.output.concentrate_pb'] +\\\n",
    "            full_df['final.output.concentrate_sol'] + full_df['final.output.concentrate_au']"
   ]
  },
  {
   "cell_type": "code",
   "execution_count": 27,
   "metadata": {
    "scrolled": true
   },
   "outputs": [
    {
     "data": {
      "image/png": "[encoded data removed]",
      "text/plain": [
       "<Figure size 720x432 with 1 Axes>"
      ]
     },
     "metadata": {
      "needs_background": "light"
     },
     "output_type": "display_data"
    }
   ],
   "source": [
    "f, axes = plt.subplots(1, 1, figsize=(10, 6))\n",
    "sns.distplot(feed_concentrate, bins=60)\n",
    "sns.distplot(rougher_concentrate, bins=60, hist_kws=dict(alpha=0.5));\n",
    "sns.distplot(final_concentrate, bins=60);\n",
    "plt.legend(['Сырьё', 'Черновой концентрат', 'Финальный концентрат'])\n",
    "plt.title('Суммарная концентрация всех веществ на разных стадиях')\n",
    "plt.xlabel('Концентрация')\n",
    "plt.ylabel('Соотношение');"
   ]
  },
  {
   "cell_type": "markdown",
   "metadata": {},
   "source": [
    "**Вывод:** \n",
    "\n",
    "Видим, что в районе нуля находятся каки-то непонятные выбросы. Мы можем их удалить. \n",
    "\n",
    "Для построения более точной модели можно вообще отсечь значения до 25-30, только оттуда появляется значимое число данных. Но для сырья оставим все как есть, т.к. мы не знаем в каком виде оно поступает на производство (может это особенность месторождения или что-то другое)."
   ]
  },
  {
   "cell_type": "code",
   "execution_count": 28,
   "metadata": {},
   "outputs": [],
   "source": [
    "full_df = full_df.query('@feed_concentrate > 1 & @rougher_concentrate > 25 & @final_concentrate > 25')"
   ]
  },
  {
   "cell_type": "markdown",
   "metadata": {},
   "source": [
    "Теперь подготовим наши выборки для обучения. Для этого добавим целевые признаки по индексам. Чтобы индексы в обеих выборках совпадали. Так мы отберём из трейна выбросы, которые мы обнаружили в полной выборке. Тоже самое действие проделаем и с тестовой выборкой."
   ]
  },
  {
   "cell_type": "code",
   "execution_count": 29,
   "metadata": {},
   "outputs": [],
   "source": [
    "good_df_for_train = pd.merge(new_train_df, full_df[['rougher.output.recovery', 'final.output.recovery']],\n",
    "        left_index=True, right_index=True)"
   ]
  },
  {
   "cell_type": "markdown",
   "metadata": {},
   "source": [
    "Посмотрим, что получилось:"
   ]
  },
  {
   "cell_type": "code",
   "execution_count": 30,
   "metadata": {},
   "outputs": [
    {
     "name": "stdout",
     "output_type": "stream",
     "text": [
      "Количество строк до объединения в обучающей выборке 14149\n",
      "Количество строк после объединения в обучающей выборке 13348\n"
     ]
    }
   ],
   "source": [
    "print('Количество строк до объединения в обучающей выборке', new_train_df.shape[0])\n",
    "print('Количество строк после объединения в обучающей выборке', good_df_for_train.shape[0])"
   ]
  },
  {
   "cell_type": "markdown",
   "metadata": {},
   "source": [
    "Аналогичные действия для тестовой выборки:"
   ]
  },
  {
   "cell_type": "code",
   "execution_count": 31,
   "metadata": {},
   "outputs": [],
   "source": [
    "good_df_for_test = pd.merge(new_test_df, full_df[['rougher.output.recovery', 'final.output.recovery']],\n",
    "         left_index=True, right_index=True)"
   ]
  },
  {
   "cell_type": "code",
   "execution_count": 32,
   "metadata": {},
   "outputs": [
    {
     "name": "stdout",
     "output_type": "stream",
     "text": [
      "Количество строк до объединения в тестовой выборке 5290\n",
      "Количество строк после объединения в тестовой выборке 5122\n"
     ]
    }
   ],
   "source": [
    "print('Количество строк до объединения в тестовой выборке', new_test_df.shape[0])\n",
    "print('Количество строк после объединения в тестовой выборке', good_df_for_test.shape[0])"
   ]
  },
  {
   "cell_type": "code",
   "execution_count": 33,
   "metadata": {},
   "outputs": [
    {
     "data": {
      "text/plain": [
       "0"
      ]
     },
     "execution_count": 33,
     "metadata": {},
     "output_type": "execute_result"
    }
   ],
   "source": [
    "good_df_for_train.isnull().sum().sum()"
   ]
  },
  {
   "cell_type": "markdown",
   "metadata": {},
   "source": [
    "Пропусков нет, и это хорошо."
   ]
  },
  {
   "cell_type": "markdown",
   "metadata": {},
   "source": [
    "## Модель"
   ]
  },
  {
   "cell_type": "markdown",
   "metadata": {},
   "source": [
    "Разделим наши выборки на признаки для обучения и целевые признаки:"
   ]
  },
  {
   "cell_type": "code",
   "execution_count": 34,
   "metadata": {},
   "outputs": [],
   "source": [
    "x_train = good_df_for_train.drop(['rougher.output.recovery', 'final.output.recovery'], axis=1)\n",
    "y_train_rougher = good_df_for_train['rougher.output.recovery']\n",
    "y_train_final = good_df_for_train['final.output.recovery']\n",
    "x_test = good_df_for_test.drop(['rougher.output.recovery', 'final.output.recovery'], axis=1)\n",
    "y_test_rougher = good_df_for_test['rougher.output.recovery']\n",
    "y_test_final = good_df_for_test['final.output.recovery']"
   ]
  },
  {
   "cell_type": "markdown",
   "metadata": {},
   "source": [
    "Формула для sMAPE, нашей целевой метрики имеет следующий вид:"
   ]
  },
  {
   "attachments": {
    "smape_.jpg": {
     "image/jpeg": "[encoded data removed]"
    }
   },
   "cell_type": "markdown",
   "metadata": {},
   "source": [
    "![smape_.jpg](attachment:smape_.jpg)"
   ]
  },
  {
   "cell_type": "code",
   "execution_count": 35,
   "metadata": {},
   "outputs": [],
   "source": [
    "def sMAPE(true, pred):\n",
    "    return 100/len(true) * np.sum(2 * np.abs(pred - true) / (np.abs(true) + np.abs(pred)))"
   ]
  },
  {
   "cell_type": "markdown",
   "metadata": {},
   "source": [
    "Итоговый sMAPE рассчитывается по формуле:"
   ]
  },
  {
   "attachments": {
    "_smape_final.jpg": {
     "image/jpeg": "[encoded data removed]"
    }
   },
   "cell_type": "markdown",
   "metadata": {},
   "source": [
    "![_smape_final.jpg](attachment:_smape_final.jpg)"
   ]
  },
  {
   "cell_type": "code",
   "execution_count": 36,
   "metadata": {},
   "outputs": [],
   "source": [
    "def the_total_sMAPE(sMAPE_rougher,sMAPE_final):\n",
    "    return (0.25 * sMAPE_rougher + 0.75 * sMAPE_final)"
   ]
  },
  {
   "cell_type": "markdown",
   "metadata": {},
   "source": [
    "Создадим скорер для наших моделей:"
   ]
  },
  {
   "cell_type": "code",
   "execution_count": 37,
   "metadata": {},
   "outputs": [],
   "source": [
    "smape_score = make_scorer(sMAPE, greater_is_better=False)"
   ]
  },
  {
   "cell_type": "markdown",
   "metadata": {},
   "source": [
    "Соберем в пайплайн шаги, которые могут быть проверены вместе при установке разных параметров, а именно масштабирование данных и обучение модели:"
   ]
  },
  {
   "cell_type": "markdown",
   "metadata": {},
   "source": [
    "Будем обучать три модели: ЛАССО, Форестрегрессор и дерево-регрессор:"
   ]
  },
  {
   "cell_type": "code",
   "execution_count": 38,
   "metadata": {},
   "outputs": [],
   "source": [
    "lasso_model = make_pipeline(StandardScaler(), Lasso(random_state=123))\n",
    "forestregressor_model = make_pipeline(StandardScaler(), RandomForestRegressor(random_state=123))\n",
    "treeregressor_model = make_pipeline(StandardScaler(), DecisionTreeRegressor(random_state=123))"
   ]
  },
  {
   "cell_type": "markdown",
   "metadata": {},
   "source": [
    "**Вывод:** Все готово к обучению, осталось передать параметры для кросс-валидации и начать процесс."
   ]
  },
  {
   "cell_type": "code",
   "execution_count": 39,
   "metadata": {},
   "outputs": [],
   "source": [
    "forestregressor_params = {'randomforestregressor__n_estimators':range(10, 41, 10),\n",
    "             'randomforestregressor__max_depth':range (1,5)}\n",
    "treeregressor_params= {'decisiontreeregressor__max_depth':range (1,20)}\n",
    "lasso_params = {'lasso__alpha':[0.02, 0.024, 0.025, 0.026, 0.03]}"
   ]
  },
  {
   "cell_type": "markdown",
   "metadata": {},
   "source": [
    "*Комментарий:* Для модели машинного обучения важна не только точность, но и скорость работы, поэтому будем ориентироваться исходя из расчета 3-4 минуты на обучение одной модели, не больше."
   ]
  },
  {
   "cell_type": "code",
   "execution_count": 40,
   "metadata": {},
   "outputs": [],
   "source": [
    "grid_rougher_lasso = RandomizedSearchCV(lasso_model, param_distributions = lasso_params, cv=10,\n",
    "                                            scoring = smape_score, n_jobs=-1)\n",
    "grid_final_lasso = RandomizedSearchCV(lasso_model, param_distributions = lasso_params, cv=10,\n",
    "                                            scoring = smape_score, n_jobs=-1)"
   ]
  },
  {
   "cell_type": "markdown",
   "metadata": {},
   "source": [
    "*Комментарий:* Лассо работает быстро, можно поставить побольше кросс-валидаций."
   ]
  },
  {
   "cell_type": "code",
   "execution_count": 41,
   "metadata": {},
   "outputs": [],
   "source": [
    "grid_rougher_forestregressor = RandomizedSearchCV(forestregressor_model, cv=3, param_distributions = forestregressor_params,\n",
    "                                            scoring = smape_score, n_jobs=-1)\n",
    "grid_final_forestregressor = RandomizedSearchCV(forestregressor_model, cv=3, param_distributions = forestregressor_params,\n",
    "                                          scoring=smape_score, n_jobs=-1)"
   ]
  },
  {
   "cell_type": "markdown",
   "metadata": {},
   "source": [
    "*Комментарий:* Лес большой, в нем легко заблудиться - процесс идет медленно, надо либо сужать диапазон исследуемых параметров, либо уменьшить количество кросс-валидаций."
   ]
  },
  {
   "cell_type": "code",
   "execution_count": 42,
   "metadata": {},
   "outputs": [],
   "source": [
    "grid_rougher_treeregressor = RandomizedSearchCV(treeregressor_model, cv=10, param_distributions = treeregressor_params, \n",
    "                                          scoring=smape_score, n_jobs=-1)\n",
    "grid_final_treeregressor = RandomizedSearchCV(treeregressor_model, cv=10, param_distributions = treeregressor_params, \n",
    "                                        scoring=smape_score, n_jobs=-1)"
   ]
  },
  {
   "cell_type": "markdown",
   "metadata": {},
   "source": [
    "*Комментарий:* В одной сосне не потеряешься, хотя некоторым под силу и это."
   ]
  },
  {
   "cell_type": "markdown",
   "metadata": {},
   "source": [
    "Переходим к обучению наших моделей:"
   ]
  },
  {
   "cell_type": "code",
   "execution_count": 43,
   "metadata": {},
   "outputs": [
    {
     "name": "stdout",
     "output_type": "stream",
     "text": [
      "CPU times: user 57.5 s, sys: 2min 10s, total: 3min 8s\n",
      "Wall time: 3min 8s\n"
     ]
    },
    {
     "data": {
      "text/plain": [
       "RandomizedSearchCV(cv=10,\n",
       "                   estimator=Pipeline(steps=[('standardscaler',\n",
       "                                              StandardScaler()),\n",
       "                                             ('lasso',\n",
       "                                              Lasso(random_state=123))]),\n",
       "                   n_jobs=-1,\n",
       "                   param_distributions={'lasso__alpha': [0.02, 0.024, 0.025,\n",
       "                                                         0.026, 0.03]},\n",
       "                   scoring=make_scorer(sMAPE, greater_is_better=False))"
      ]
     },
     "execution_count": 43,
     "metadata": {},
     "output_type": "execute_result"
    }
   ],
   "source": [
    "%%time\n",
    "grid_rougher_lasso.fit(x_train,y_train_rougher)\n",
    "grid_final_lasso.fit(x_train,y_train_final)"
   ]
  },
  {
   "cell_type": "markdown",
   "metadata": {},
   "source": [
    "Смотрим показатели метрик:"
   ]
  },
  {
   "cell_type": "code",
   "execution_count": 44,
   "metadata": {},
   "outputs": [
    {
     "data": {
      "text/plain": [
       "-5.817354892513924"
      ]
     },
     "execution_count": 44,
     "metadata": {},
     "output_type": "execute_result"
    }
   ],
   "source": [
    "grid_rougher_lasso.best_score_"
   ]
  },
  {
   "cell_type": "code",
   "execution_count": 45,
   "metadata": {},
   "outputs": [
    {
     "data": {
      "text/plain": [
       "-9.095678782737593"
      ]
     },
     "execution_count": 45,
     "metadata": {},
     "output_type": "execute_result"
    }
   ],
   "source": [
    "grid_final_lasso.best_score_"
   ]
  },
  {
   "cell_type": "markdown",
   "metadata": {},
   "source": [
    "Обучаем лес:"
   ]
  },
  {
   "cell_type": "code",
   "execution_count": 46,
   "metadata": {},
   "outputs": [
    {
     "name": "stdout",
     "output_type": "stream",
     "text": [
      "CPU times: user 1min 53s, sys: 2.93 s, total: 1min 56s\n",
      "Wall time: 1min 56s\n"
     ]
    },
    {
     "data": {
      "text/plain": [
       "RandomizedSearchCV(cv=3,\n",
       "                   estimator=Pipeline(steps=[('standardscaler',\n",
       "                                              StandardScaler()),\n",
       "                                             ('randomforestregressor',\n",
       "                                              RandomForestRegressor(random_state=123))]),\n",
       "                   n_jobs=-1,\n",
       "                   param_distributions={'randomforestregressor__max_depth': range(1, 5),\n",
       "                                        'randomforestregressor__n_estimators': range(10, 41, 10)},\n",
       "                   scoring=make_scorer(sMAPE, greater_is_better=False))"
      ]
     },
     "execution_count": 46,
     "metadata": {},
     "output_type": "execute_result"
    }
   ],
   "source": [
    "%%time\n",
    "grid_rougher_forestregressor.fit(x_train,y_train_rougher)\n",
    "grid_final_forestregressor.fit(x_train,y_train_final)"
   ]
  },
  {
   "cell_type": "markdown",
   "metadata": {},
   "source": [
    "Взглянем на метрики:"
   ]
  },
  {
   "cell_type": "code",
   "execution_count": 47,
   "metadata": {},
   "outputs": [
    {
     "data": {
      "text/plain": [
       "-7.832232149397167"
      ]
     },
     "execution_count": 47,
     "metadata": {},
     "output_type": "execute_result"
    }
   ],
   "source": [
    "grid_rougher_forestregressor.best_score_"
   ]
  },
  {
   "cell_type": "code",
   "execution_count": 48,
   "metadata": {},
   "outputs": [
    {
     "data": {
      "text/plain": [
       "-9.246847831553712"
      ]
     },
     "execution_count": 48,
     "metadata": {},
     "output_type": "execute_result"
    }
   ],
   "source": [
    "grid_final_forestregressor.best_score_"
   ]
  },
  {
   "cell_type": "markdown",
   "metadata": {},
   "source": [
    "А теперь дерево:"
   ]
  },
  {
   "cell_type": "code",
   "execution_count": 49,
   "metadata": {},
   "outputs": [
    {
     "name": "stdout",
     "output_type": "stream",
     "text": [
      "CPU times: user 1min 31s, sys: 1.37 s, total: 1min 32s\n",
      "Wall time: 1min 32s\n"
     ]
    },
    {
     "data": {
      "text/plain": [
       "RandomizedSearchCV(cv=10,\n",
       "                   estimator=Pipeline(steps=[('standardscaler',\n",
       "                                              StandardScaler()),\n",
       "                                             ('decisiontreeregressor',\n",
       "                                              DecisionTreeRegressor(random_state=123))]),\n",
       "                   n_jobs=-1,\n",
       "                   param_distributions={'decisiontreeregressor__max_depth': range(1, 20)},\n",
       "                   scoring=make_scorer(sMAPE, greater_is_better=False))"
      ]
     },
     "execution_count": 49,
     "metadata": {},
     "output_type": "execute_result"
    }
   ],
   "source": [
    "%%time\n",
    "grid_rougher_treeregressor.fit(x_train,y_train_rougher)\n",
    "grid_final_treeregressor.fit(x_train,y_train_final)"
   ]
  },
  {
   "cell_type": "markdown",
   "metadata": {},
   "source": [
    "Что по sMAPE?"
   ]
  },
  {
   "cell_type": "code",
   "execution_count": 50,
   "metadata": {},
   "outputs": [
    {
     "data": {
      "text/plain": [
       "-6.596483123016801"
      ]
     },
     "execution_count": 50,
     "metadata": {},
     "output_type": "execute_result"
    }
   ],
   "source": [
    "grid_rougher_treeregressor.best_score_"
   ]
  },
  {
   "cell_type": "code",
   "execution_count": 51,
   "metadata": {},
   "outputs": [
    {
     "data": {
      "text/plain": [
       "-8.81957992421179"
      ]
     },
     "execution_count": 51,
     "metadata": {},
     "output_type": "execute_result"
    }
   ],
   "source": [
    "grid_final_treeregressor.best_score_"
   ]
  },
  {
   "cell_type": "markdown",
   "metadata": {},
   "source": [
    "Сравним три модели по метрике:"
   ]
  },
  {
   "cell_type": "code",
   "execution_count": 52,
   "metadata": {},
   "outputs": [
    {
     "data": {
      "text/plain": [
       "-8.276097810181676"
      ]
     },
     "execution_count": 52,
     "metadata": {},
     "output_type": "execute_result"
    }
   ],
   "source": [
    "the_total_sMAPE(grid_rougher_lasso.best_score_, grid_final_lasso.best_score_)"
   ]
  },
  {
   "cell_type": "code",
   "execution_count": 53,
   "metadata": {},
   "outputs": [
    {
     "data": {
      "text/plain": [
       "-8.893193911014576"
      ]
     },
     "execution_count": 53,
     "metadata": {},
     "output_type": "execute_result"
    }
   ],
   "source": [
    "the_total_sMAPE(grid_rougher_forestregressor.best_score_, grid_final_forestregressor.best_score_)"
   ]
  },
  {
   "cell_type": "code",
   "execution_count": 54,
   "metadata": {
    "scrolled": true
   },
   "outputs": [
    {
     "data": {
      "text/plain": [
       "-8.263805723913043"
      ]
     },
     "execution_count": 54,
     "metadata": {},
     "output_type": "execute_result"
    }
   ],
   "source": [
    "the_total_sMAPE(grid_rougher_treeregressor.best_score_, grid_final_treeregressor.best_score_)"
   ]
  },
  {
   "cell_type": "markdown",
   "metadata": {},
   "source": [
    "**Вывод:** Лучшая модель у нас ЛАССО, посмотрим, что она покажет на тестовой выборке."
   ]
  },
  {
   "cell_type": "code",
   "execution_count": 55,
   "metadata": {},
   "outputs": [],
   "source": [
    "rougher_pred = grid_rougher_lasso.predict(x_test)\n",
    "final_pred = grid_final_lasso.predict(x_test)"
   ]
  },
  {
   "cell_type": "code",
   "execution_count": 56,
   "metadata": {},
   "outputs": [
    {
     "data": {
      "text/plain": [
       "6.879980817939473"
      ]
     },
     "execution_count": 56,
     "metadata": {},
     "output_type": "execute_result"
    }
   ],
   "source": [
    "the_total_sMAPE(sMAPE(y_test_rougher,rougher_pred),sMAPE(y_test_final,final_pred))"
   ]
  },
  {
   "cell_type": "markdown",
   "metadata": {},
   "source": [
    "Чтобы понять, много или мало дает ошибку Лассо, сравним с тем, что будет предсказывать Дамми Регрессор:"
   ]
  },
  {
   "cell_type": "code",
   "execution_count": 57,
   "metadata": {},
   "outputs": [],
   "source": [
    "constant_rougher = make_pipeline(StandardScaler(), DummyRegressor(strategy='mean'))\n",
    "constant_final = make_pipeline(StandardScaler(), DummyRegressor(strategy='mean'))"
   ]
  },
  {
   "cell_type": "code",
   "execution_count": 58,
   "metadata": {},
   "outputs": [
    {
     "data": {
      "text/plain": [
       "Pipeline(steps=[('standardscaler', StandardScaler()),\n",
       "                ('dummyregressor', DummyRegressor())])"
      ]
     },
     "execution_count": 58,
     "metadata": {},
     "output_type": "execute_result"
    }
   ],
   "source": [
    "constant_rougher.fit(x_train,y_train_rougher)\n",
    "constant_final.fit(x_train,y_train_final)"
   ]
  },
  {
   "cell_type": "code",
   "execution_count": 59,
   "metadata": {},
   "outputs": [],
   "source": [
    "constant_rougher_pred = constant_rougher.predict(x_test)\n",
    "constant_final_pred = constant_final.predict(x_test)"
   ]
  },
  {
   "cell_type": "code",
   "execution_count": 60,
   "metadata": {},
   "outputs": [
    {
     "data": {
      "text/plain": [
       "7.488687510858113"
      ]
     },
     "execution_count": 60,
     "metadata": {},
     "output_type": "execute_result"
    }
   ],
   "source": [
    "the_total_sMAPE(sMAPE(y_test_rougher,constant_rougher_pred),sMAPE(y_test_final,constant_final_pred))"
   ]
  },
  {
   "cell_type": "markdown",
   "metadata": {},
   "source": [
    "**Вывод:** ЛАССО-модель показывает результаты чуть лучше, чем константная модель. Нас это вполне удовлетворяет."
   ]
  },
  {
   "cell_type": "markdown",
   "metadata": {},
   "source": [
    "## Общий Вывод:\n",
    "\n",
    "1) Выполнена предобработка данных\n",
    "\n",
    "2) Данные успешно проанализированы. Показатель эффективности обогащения рассчитан корректно.\n",
    "\n",
    "3) Проанализированы концентрации металлов (Au, Ag, Pb), а также суммарные концентрации веществ на всех стадиях очистки.\n",
    "\n",
    "4) Рассмотрены распределения гранул сырья на входе технологического процесса для обучающей и тестовой выборок. Они имеют схожий вид, а значит модель будет работать правильно.\n",
    "\n",
    "5) Анализ суммарных концентраций подтвердил наличие выбросов. Объекты с концентрацией ниже 25 были удалены для чернового и итогового концентратов. Сырье оставлено в исходном виде.\n",
    "\n",
    "6) На данных были обучены модели LASSO, forestregressor и treeregressor.\n",
    "\n",
    "7) Применены техники кросс-валидации для оценки качества моделей и GridSearchCV для поиска оптимальных гиперпараметров, лучший результат показала модель LASSO: the_total_sMAPE = -8,276.\n",
    "\n",
    "8) Метрика sMAPE на обученной модели на 0,6 ниже, чем на константной модели."
   ]
  }
 ],
 "metadata": {
  "ExecuteTimeLog": [
   {
    "duration": 1601,
    "start_time": "2023-01-28T04:47:22.401Z"
   },
   {
    "duration": 4,
    "start_time": "2023-01-28T05:01:08.056Z"
   },
   {
    "duration": 2273,
    "start_time": "2023-01-28T05:01:18.277Z"
   },
   {
    "duration": 1700,
    "start_time": "2023-01-28T05:01:53.829Z"
   },
   {
    "duration": 446,
    "start_time": "2023-01-28T05:02:11.589Z"
   },
   {
    "duration": 925,
    "start_time": "2023-01-28T05:03:07.986Z"
   },
   {
    "duration": 473,
    "start_time": "2023-01-28T05:03:27.720Z"
   },
   {
    "duration": 2019,
    "start_time": "2023-01-28T05:03:47.860Z"
   },
   {
    "duration": 7,
    "start_time": "2023-01-28T05:05:31.914Z"
   },
   {
    "duration": 17,
    "start_time": "2023-01-28T05:05:31.923Z"
   },
   {
    "duration": 450,
    "start_time": "2023-01-28T05:05:31.942Z"
   },
   {
    "duration": 384,
    "start_time": "2023-01-28T05:05:32.394Z"
   },
   {
    "duration": 121,
    "start_time": "2023-01-28T05:05:32.780Z"
   },
   {
    "duration": 8,
    "start_time": "2023-01-28T05:05:32.903Z"
   },
   {
    "duration": 72,
    "start_time": "2023-01-28T05:08:12.866Z"
   },
   {
    "duration": 70,
    "start_time": "2023-01-28T05:08:24.222Z"
   },
   {
    "duration": 79,
    "start_time": "2023-01-28T05:08:45.974Z"
   },
   {
    "duration": 386,
    "start_time": "2023-01-28T05:12:15.351Z"
   },
   {
    "duration": 3,
    "start_time": "2023-01-28T05:17:39.070Z"
   },
   {
    "duration": 474,
    "start_time": "2023-01-28T05:17:40.028Z"
   },
   {
    "duration": 17,
    "start_time": "2023-01-28T05:19:32.888Z"
   },
   {
    "duration": 75,
    "start_time": "2023-01-28T05:21:16.689Z"
   },
   {
    "duration": 3,
    "start_time": "2023-01-28T05:22:42.030Z"
   },
   {
    "duration": 6,
    "start_time": "2023-01-28T05:22:52.256Z"
   },
   {
    "duration": 6,
    "start_time": "2023-01-28T05:23:10.692Z"
   },
   {
    "duration": 6,
    "start_time": "2023-01-28T05:46:41.412Z"
   },
   {
    "duration": 6,
    "start_time": "2023-01-28T05:46:57.433Z"
   },
   {
    "duration": 9,
    "start_time": "2023-01-28T05:49:44.657Z"
   },
   {
    "duration": 4,
    "start_time": "2023-01-28T05:50:37.170Z"
   },
   {
    "duration": 7,
    "start_time": "2023-01-28T05:51:05.908Z"
   },
   {
    "duration": 4,
    "start_time": "2023-01-28T05:51:24.097Z"
   },
   {
    "duration": 8095,
    "start_time": "2023-01-28T05:51:38.915Z"
   },
   {
    "duration": 17,
    "start_time": "2023-01-28T05:52:07.766Z"
   },
   {
    "duration": 14,
    "start_time": "2023-01-28T05:53:11.954Z"
   },
   {
    "duration": 3,
    "start_time": "2023-01-28T05:53:49.067Z"
   },
   {
    "duration": 7,
    "start_time": "2023-01-28T05:54:04.362Z"
   },
   {
    "duration": 18,
    "start_time": "2023-01-28T05:54:51.949Z"
   },
   {
    "duration": 19,
    "start_time": "2023-01-28T05:55:01.476Z"
   },
   {
    "duration": 1391,
    "start_time": "2023-01-28T05:55:51.161Z"
   },
   {
    "duration": 1513,
    "start_time": "2023-01-28T05:55:56.001Z"
   },
   {
    "duration": 1550,
    "start_time": "2023-01-28T05:56:36.411Z"
   },
   {
    "duration": 1213,
    "start_time": "2023-01-28T05:56:48.005Z"
   },
   {
    "duration": 1381,
    "start_time": "2023-01-28T05:57:22.743Z"
   },
   {
    "duration": 1659,
    "start_time": "2023-01-28T05:57:26.873Z"
   },
   {
    "duration": 1436,
    "start_time": "2023-01-28T05:57:31.285Z"
   },
   {
    "duration": 1533,
    "start_time": "2023-01-28T05:57:57.409Z"
   },
   {
    "duration": 1533,
    "start_time": "2023-01-28T05:58:01.925Z"
   },
   {
    "duration": 1287,
    "start_time": "2023-01-28T05:58:38.258Z"
   },
   {
    "duration": 1227,
    "start_time": "2023-01-28T05:59:24.706Z"
   },
   {
    "duration": 1161,
    "start_time": "2023-01-28T06:00:36.839Z"
   },
   {
    "duration": 1192,
    "start_time": "2023-01-28T06:01:10.422Z"
   },
   {
    "duration": 1630,
    "start_time": "2023-01-28T06:01:51.274Z"
   },
   {
    "duration": 1325,
    "start_time": "2023-01-28T06:02:17.288Z"
   },
   {
    "duration": 388,
    "start_time": "2023-01-28T06:07:07.927Z"
   },
   {
    "duration": 374,
    "start_time": "2023-01-28T06:07:11.867Z"
   },
   {
    "duration": 15,
    "start_time": "2023-01-28T06:12:03.346Z"
   },
   {
    "duration": 10,
    "start_time": "2023-01-28T06:14:30.749Z"
   },
   {
    "duration": 138,
    "start_time": "2023-01-28T06:14:52.868Z"
   },
   {
    "duration": 18,
    "start_time": "2023-01-28T06:17:01.581Z"
   },
   {
    "duration": 127,
    "start_time": "2023-01-28T06:17:08.108Z"
   },
   {
    "duration": 133,
    "start_time": "2023-01-28T06:17:42.792Z"
   },
   {
    "duration": 592,
    "start_time": "2023-01-28T06:18:14.041Z"
   },
   {
    "duration": 414,
    "start_time": "2023-01-28T06:18:20.720Z"
   },
   {
    "duration": 481,
    "start_time": "2023-01-28T06:18:54.961Z"
   },
   {
    "duration": 545,
    "start_time": "2023-01-28T06:19:25.837Z"
   },
   {
    "duration": 68,
    "start_time": "2023-01-28T06:20:55.602Z"
   },
   {
    "duration": 606,
    "start_time": "2023-01-28T06:21:06.698Z"
   },
   {
    "duration": 542,
    "start_time": "2023-01-28T06:21:27.727Z"
   },
   {
    "duration": 626,
    "start_time": "2023-01-28T06:24:26.356Z"
   },
   {
    "duration": 527,
    "start_time": "2023-01-28T06:24:59.635Z"
   },
   {
    "duration": 341,
    "start_time": "2023-01-28T06:25:12.038Z"
   },
   {
    "duration": 363,
    "start_time": "2023-01-28T06:25:17.166Z"
   },
   {
    "duration": 355,
    "start_time": "2023-01-28T06:25:34.510Z"
   },
   {
    "duration": 485,
    "start_time": "2023-01-28T06:25:41.068Z"
   },
   {
    "duration": 366,
    "start_time": "2023-01-28T06:25:46.705Z"
   },
   {
    "duration": 391,
    "start_time": "2023-01-28T06:25:59.092Z"
   },
   {
    "duration": 627,
    "start_time": "2023-01-28T06:26:06.639Z"
   },
   {
    "duration": 603,
    "start_time": "2023-01-28T06:27:30.318Z"
   },
   {
    "duration": 415,
    "start_time": "2023-01-28T06:28:23.487Z"
   },
   {
    "duration": 762,
    "start_time": "2023-01-28T06:28:31.678Z"
   },
   {
    "duration": 11,
    "start_time": "2023-01-28T06:29:49.685Z"
   },
   {
    "duration": 10,
    "start_time": "2023-01-28T06:31:45.819Z"
   },
   {
    "duration": 8,
    "start_time": "2023-01-28T06:31:54.692Z"
   },
   {
    "duration": 5,
    "start_time": "2023-01-28T06:31:59.702Z"
   },
   {
    "duration": 5,
    "start_time": "2023-01-28T06:33:08.765Z"
   },
   {
    "duration": 6,
    "start_time": "2023-01-28T06:34:28.184Z"
   },
   {
    "duration": 6,
    "start_time": "2023-01-28T06:34:37.503Z"
   },
   {
    "duration": 6,
    "start_time": "2023-01-28T06:34:56.770Z"
   },
   {
    "duration": 8,
    "start_time": "2023-01-28T06:37:24.136Z"
   },
   {
    "duration": 484,
    "start_time": "2023-01-28T06:37:39.118Z"
   },
   {
    "duration": 510,
    "start_time": "2023-01-28T06:37:42.910Z"
   },
   {
    "duration": 1358,
    "start_time": "2023-01-28T06:39:36.525Z"
   },
   {
    "duration": 4,
    "start_time": "2023-01-28T06:39:55.465Z"
   },
   {
    "duration": 124,
    "start_time": "2023-01-28T06:40:00.224Z"
   },
   {
    "duration": 1239,
    "start_time": "2023-01-28T06:40:07.040Z"
   },
   {
    "duration": 15,
    "start_time": "2023-01-28T06:41:26.912Z"
   },
   {
    "duration": 11,
    "start_time": "2023-01-28T06:42:26.634Z"
   },
   {
    "duration": 4,
    "start_time": "2023-01-28T06:42:40.039Z"
   },
   {
    "duration": 7,
    "start_time": "2023-01-28T06:43:09.748Z"
   },
   {
    "duration": 3,
    "start_time": "2023-01-28T06:43:18.956Z"
   },
   {
    "duration": 7,
    "start_time": "2023-01-28T06:43:36.027Z"
   },
   {
    "duration": 1296,
    "start_time": "2023-01-28T06:44:40.225Z"
   },
   {
    "duration": 1205,
    "start_time": "2023-01-28T06:44:49.245Z"
   },
   {
    "duration": 1435,
    "start_time": "2023-01-28T06:44:59.372Z"
   },
   {
    "duration": 1353,
    "start_time": "2023-01-28T06:46:05.854Z"
   },
   {
    "duration": 1292,
    "start_time": "2023-01-28T06:47:17.895Z"
   },
   {
    "duration": 1449,
    "start_time": "2023-01-28T06:47:27.030Z"
   },
   {
    "duration": 1208,
    "start_time": "2023-01-28T06:47:51.647Z"
   },
   {
    "duration": 1220,
    "start_time": "2023-01-28T06:47:59.761Z"
   },
   {
    "duration": 1233,
    "start_time": "2023-01-28T06:48:12.863Z"
   },
   {
    "duration": 1454,
    "start_time": "2023-01-28T06:48:19.544Z"
   },
   {
    "duration": 67,
    "start_time": "2023-01-28T06:48:49.958Z"
   },
   {
    "duration": 579,
    "start_time": "2023-01-28T06:48:56.204Z"
   },
   {
    "duration": 558,
    "start_time": "2023-01-28T06:49:13.088Z"
   },
   {
    "duration": 3,
    "start_time": "2023-01-28T08:21:48.631Z"
   },
   {
    "duration": 4,
    "start_time": "2023-01-28T08:22:29.701Z"
   },
   {
    "duration": 11,
    "start_time": "2023-01-28T08:27:07.834Z"
   },
   {
    "duration": 2,
    "start_time": "2023-01-28T08:33:48.637Z"
   },
   {
    "duration": 11,
    "start_time": "2023-01-28T08:33:59.203Z"
   },
   {
    "duration": 3,
    "start_time": "2023-01-28T08:34:05.562Z"
   },
   {
    "duration": 2,
    "start_time": "2023-01-28T08:34:06.937Z"
   },
   {
    "duration": 2,
    "start_time": "2023-01-28T08:34:07.681Z"
   },
   {
    "duration": 10,
    "start_time": "2023-01-28T08:40:59.360Z"
   },
   {
    "duration": 4,
    "start_time": "2023-01-28T08:40:59.436Z"
   },
   {
    "duration": 514,
    "start_time": "2023-01-28T08:40:59.442Z"
   },
   {
    "duration": 414,
    "start_time": "2023-01-28T08:40:59.958Z"
   },
   {
    "duration": 125,
    "start_time": "2023-01-28T08:41:00.374Z"
   },
   {
    "duration": 14,
    "start_time": "2023-01-28T08:41:00.503Z"
   },
   {
    "duration": 10,
    "start_time": "2023-01-28T08:41:00.519Z"
   },
   {
    "duration": 29,
    "start_time": "2023-01-28T08:41:00.530Z"
   },
   {
    "duration": 31,
    "start_time": "2023-01-28T08:41:00.561Z"
   },
   {
    "duration": 46,
    "start_time": "2023-01-28T08:41:00.593Z"
   },
   {
    "duration": 36,
    "start_time": "2023-01-28T08:41:00.641Z"
   },
   {
    "duration": 22,
    "start_time": "2023-01-28T08:41:00.680Z"
   },
   {
    "duration": 35,
    "start_time": "2023-01-28T08:41:00.704Z"
   },
   {
    "duration": 47,
    "start_time": "2023-01-28T08:41:00.741Z"
   },
   {
    "duration": 36,
    "start_time": "2023-01-28T08:41:00.793Z"
   },
   {
    "duration": 8087,
    "start_time": "2023-01-28T08:41:00.830Z"
   },
   {
    "duration": 11,
    "start_time": "2023-01-28T08:41:08.918Z"
   },
   {
    "duration": 5,
    "start_time": "2023-01-28T08:41:08.931Z"
   },
   {
    "duration": 14,
    "start_time": "2023-01-28T08:41:08.937Z"
   },
   {
    "duration": 39,
    "start_time": "2023-01-28T08:41:08.953Z"
   },
   {
    "duration": 1309,
    "start_time": "2023-01-28T08:41:08.994Z"
   },
   {
    "duration": 1219,
    "start_time": "2023-01-28T08:41:10.305Z"
   },
   {
    "duration": 1183,
    "start_time": "2023-01-28T08:41:11.525Z"
   },
   {
    "duration": 17,
    "start_time": "2023-01-28T08:41:12.710Z"
   },
   {
    "duration": 731,
    "start_time": "2023-01-28T08:41:12.728Z"
   },
   {
    "duration": 7,
    "start_time": "2023-01-28T08:41:13.460Z"
   },
   {
    "duration": 1303,
    "start_time": "2023-01-28T08:41:13.469Z"
   },
   {
    "duration": 19,
    "start_time": "2023-01-28T08:41:14.774Z"
   },
   {
    "duration": 11,
    "start_time": "2023-01-28T08:41:14.794Z"
   },
   {
    "duration": 8,
    "start_time": "2023-01-28T08:41:14.806Z"
   },
   {
    "duration": 14,
    "start_time": "2023-01-28T08:41:14.815Z"
   },
   {
    "duration": 18,
    "start_time": "2023-01-28T08:41:14.831Z"
   },
   {
    "duration": 17,
    "start_time": "2023-01-28T08:41:14.850Z"
   },
   {
    "duration": 11,
    "start_time": "2023-01-28T08:41:14.869Z"
   },
   {
    "duration": 11,
    "start_time": "2023-01-28T08:41:14.881Z"
   },
   {
    "duration": 11,
    "start_time": "2023-01-28T08:41:14.894Z"
   },
   {
    "duration": 10,
    "start_time": "2023-01-28T08:41:14.906Z"
   },
   {
    "duration": 9,
    "start_time": "2023-01-28T08:41:14.918Z"
   },
   {
    "duration": 11,
    "start_time": "2023-01-28T08:41:14.929Z"
   },
   {
    "duration": 6,
    "start_time": "2023-01-28T08:41:14.942Z"
   },
   {
    "duration": 6,
    "start_time": "2023-01-28T08:41:14.949Z"
   },
   {
    "duration": 5,
    "start_time": "2023-01-28T08:41:14.958Z"
   },
   {
    "duration": 6,
    "start_time": "2023-01-28T08:43:29.195Z"
   },
   {
    "duration": 1421,
    "start_time": "2023-01-28T08:44:27.024Z"
   },
   {
    "duration": 4,
    "start_time": "2023-01-28T08:44:30.750Z"
   },
   {
    "duration": 490,
    "start_time": "2023-01-28T08:44:31.943Z"
   },
   {
    "duration": 391,
    "start_time": "2023-01-28T08:44:33.334Z"
   },
   {
    "duration": 121,
    "start_time": "2023-01-28T08:44:34.071Z"
   },
   {
    "duration": 13,
    "start_time": "2023-01-28T08:44:34.943Z"
   },
   {
    "duration": 3,
    "start_time": "2023-01-28T08:44:38.550Z"
   },
   {
    "duration": 5,
    "start_time": "2023-01-28T08:44:39.247Z"
   },
   {
    "duration": 6,
    "start_time": "2023-01-28T08:44:40.842Z"
   },
   {
    "duration": 4,
    "start_time": "2023-01-28T08:45:43.336Z"
   },
   {
    "duration": 4,
    "start_time": "2023-01-28T08:45:44.176Z"
   },
   {
    "duration": 12,
    "start_time": "2023-01-28T08:45:59.138Z"
   },
   {
    "duration": 3,
    "start_time": "2023-01-28T08:46:00.547Z"
   },
   {
    "duration": 6,
    "start_time": "2023-01-28T08:46:01.343Z"
   },
   {
    "duration": 3,
    "start_time": "2023-01-28T08:46:02.534Z"
   },
   {
    "duration": 8031,
    "start_time": "2023-01-28T08:47:15.287Z"
   },
   {
    "duration": 12,
    "start_time": "2023-01-28T08:47:27.541Z"
   },
   {
    "duration": 7,
    "start_time": "2023-01-28T08:48:40.758Z"
   },
   {
    "duration": 12,
    "start_time": "2023-01-28T08:48:50.548Z"
   },
   {
    "duration": 15,
    "start_time": "2023-01-28T08:48:52.499Z"
   },
   {
    "duration": 1140,
    "start_time": "2023-01-28T08:48:56.667Z"
   },
   {
    "duration": 1195,
    "start_time": "2023-01-28T08:49:05.231Z"
   },
   {
    "duration": 1249,
    "start_time": "2023-01-28T08:51:03.778Z"
   },
   {
    "duration": 16,
    "start_time": "2023-01-28T08:51:15.554Z"
   },
   {
    "duration": 15,
    "start_time": "2023-01-28T08:51:52.538Z"
   },
   {
    "duration": 583,
    "start_time": "2023-01-28T08:51:56.944Z"
   },
   {
    "duration": 6,
    "start_time": "2023-01-28T08:56:08.650Z"
   },
   {
    "duration": 1226,
    "start_time": "2023-01-28T08:56:12.840Z"
   },
   {
    "duration": 19,
    "start_time": "2023-01-28T08:56:23.467Z"
   },
   {
    "duration": 13,
    "start_time": "2023-01-28T08:56:40.244Z"
   },
   {
    "duration": 4,
    "start_time": "2023-01-28T08:56:43.628Z"
   },
   {
    "duration": 11,
    "start_time": "2023-01-28T08:56:45.178Z"
   },
   {
    "duration": 4,
    "start_time": "2023-01-28T08:56:45.789Z"
   },
   {
    "duration": 7,
    "start_time": "2023-01-28T08:56:46.542Z"
   },
   {
    "duration": 14,
    "start_time": "2023-01-28T08:56:48.630Z"
   },
   {
    "duration": 3,
    "start_time": "2023-01-28T08:57:04.594Z"
   },
   {
    "duration": 3,
    "start_time": "2023-01-28T08:57:06.316Z"
   },
   {
    "duration": 3,
    "start_time": "2023-01-28T08:57:07.395Z"
   },
   {
    "duration": 4,
    "start_time": "2023-01-28T08:57:08.288Z"
   },
   {
    "duration": 3,
    "start_time": "2023-01-28T08:57:11.124Z"
   },
   {
    "duration": 3,
    "start_time": "2023-01-28T08:57:11.152Z"
   },
   {
    "duration": 3,
    "start_time": "2023-01-28T08:57:22.348Z"
   },
   {
    "duration": 3,
    "start_time": "2023-01-28T08:57:24.036Z"
   },
   {
    "duration": 133247,
    "start_time": "2023-01-28T08:57:25.350Z"
   },
   {
    "duration": 4,
    "start_time": "2023-01-28T09:05:57.519Z"
   },
   {
    "duration": 4,
    "start_time": "2023-01-28T09:06:02.666Z"
   },
   {
    "duration": 1362,
    "start_time": "2023-01-28T09:07:48.522Z"
   },
   {
    "duration": 7,
    "start_time": "2023-01-28T09:07:49.885Z"
   },
   {
    "duration": 490,
    "start_time": "2023-01-28T09:07:49.893Z"
   },
   {
    "duration": 388,
    "start_time": "2023-01-28T09:07:50.385Z"
   },
   {
    "duration": 123,
    "start_time": "2023-01-28T09:07:50.774Z"
   },
   {
    "duration": 13,
    "start_time": "2023-01-28T09:07:50.898Z"
   },
   {
    "duration": 2,
    "start_time": "2023-01-28T09:07:50.913Z"
   },
   {
    "duration": 14,
    "start_time": "2023-01-28T09:07:50.917Z"
   },
   {
    "duration": 6,
    "start_time": "2023-01-28T09:07:50.932Z"
   },
   {
    "duration": 6,
    "start_time": "2023-01-28T09:07:50.939Z"
   },
   {
    "duration": 10,
    "start_time": "2023-01-28T09:07:50.946Z"
   },
   {
    "duration": 34,
    "start_time": "2023-01-28T09:07:50.958Z"
   },
   {
    "duration": 3,
    "start_time": "2023-01-28T09:07:50.995Z"
   },
   {
    "duration": 9,
    "start_time": "2023-01-28T09:07:50.999Z"
   },
   {
    "duration": 5,
    "start_time": "2023-01-28T09:07:51.010Z"
   },
   {
    "duration": 8099,
    "start_time": "2023-01-28T09:07:51.017Z"
   },
   {
    "duration": 12,
    "start_time": "2023-01-28T09:07:59.118Z"
   },
   {
    "duration": 6,
    "start_time": "2023-01-28T09:07:59.132Z"
   },
   {
    "duration": 15,
    "start_time": "2023-01-28T09:07:59.139Z"
   },
   {
    "duration": 40,
    "start_time": "2023-01-28T09:07:59.156Z"
   },
   {
    "duration": 1231,
    "start_time": "2023-01-28T09:07:59.198Z"
   },
   {
    "duration": 1192,
    "start_time": "2023-01-28T09:08:00.430Z"
   },
   {
    "duration": 1291,
    "start_time": "2023-01-28T09:08:01.625Z"
   },
   {
    "duration": 17,
    "start_time": "2023-01-28T09:08:02.918Z"
   },
   {
    "duration": 615,
    "start_time": "2023-01-28T09:08:02.936Z"
   },
   {
    "duration": 6,
    "start_time": "2023-01-28T09:08:03.553Z"
   },
   {
    "duration": 1217,
    "start_time": "2023-01-28T09:08:03.561Z"
   },
   {
    "duration": 22,
    "start_time": "2023-01-28T09:08:04.779Z"
   },
   {
    "duration": 13,
    "start_time": "2023-01-28T09:08:04.803Z"
   },
   {
    "duration": 6,
    "start_time": "2023-01-28T09:08:04.817Z"
   },
   {
    "duration": 14,
    "start_time": "2023-01-28T09:08:04.825Z"
   },
   {
    "duration": 11,
    "start_time": "2023-01-28T09:08:04.841Z"
   },
   {
    "duration": 9,
    "start_time": "2023-01-28T09:08:04.854Z"
   },
   {
    "duration": 32,
    "start_time": "2023-01-28T09:08:04.865Z"
   },
   {
    "duration": 3,
    "start_time": "2023-01-28T09:08:04.898Z"
   },
   {
    "duration": 13,
    "start_time": "2023-01-28T09:08:04.903Z"
   },
   {
    "duration": 11,
    "start_time": "2023-01-28T09:08:04.917Z"
   },
   {
    "duration": 5,
    "start_time": "2023-01-28T09:08:04.930Z"
   },
   {
    "duration": 6,
    "start_time": "2023-01-28T09:08:04.937Z"
   },
   {
    "duration": 10,
    "start_time": "2023-01-28T09:08:04.947Z"
   },
   {
    "duration": 5,
    "start_time": "2023-01-28T09:08:04.958Z"
   },
   {
    "duration": 6,
    "start_time": "2023-01-28T09:08:04.964Z"
   },
   {
    "duration": 1441,
    "start_time": "2023-01-28T09:12:47.886Z"
   },
   {
    "duration": 3,
    "start_time": "2023-01-28T09:12:49.329Z"
   },
   {
    "duration": 496,
    "start_time": "2023-01-28T09:12:53.730Z"
   },
   {
    "duration": 401,
    "start_time": "2023-01-28T09:12:54.228Z"
   },
   {
    "duration": 123,
    "start_time": "2023-01-28T09:12:54.631Z"
   },
   {
    "duration": 13,
    "start_time": "2023-01-28T09:12:54.756Z"
   },
   {
    "duration": 3,
    "start_time": "2023-01-28T09:12:56.120Z"
   },
   {
    "duration": 5,
    "start_time": "2023-01-28T09:12:56.749Z"
   },
   {
    "duration": 6,
    "start_time": "2023-01-28T09:12:57.422Z"
   },
   {
    "duration": 5,
    "start_time": "2023-01-28T09:12:57.967Z"
   },
   {
    "duration": 5,
    "start_time": "2023-01-28T09:12:58.524Z"
   },
   {
    "duration": 11,
    "start_time": "2023-01-28T09:12:59.827Z"
   },
   {
    "duration": 4,
    "start_time": "2023-01-28T09:13:00.018Z"
   },
   {
    "duration": 6,
    "start_time": "2023-01-28T09:13:00.522Z"
   },
   {
    "duration": 4,
    "start_time": "2023-01-28T09:13:01.006Z"
   },
   {
    "duration": 8030,
    "start_time": "2023-01-28T09:13:01.580Z"
   },
   {
    "duration": 12,
    "start_time": "2023-01-28T09:13:09.612Z"
   },
   {
    "duration": 6,
    "start_time": "2023-01-28T09:13:15.378Z"
   },
   {
    "duration": 15,
    "start_time": "2023-01-28T09:13:16.641Z"
   },
   {
    "duration": 18,
    "start_time": "2023-01-28T09:13:17.248Z"
   },
   {
    "duration": 1241,
    "start_time": "2023-01-28T09:13:17.900Z"
   },
   {
    "duration": 1174,
    "start_time": "2023-01-28T09:13:19.143Z"
   },
   {
    "duration": 1314,
    "start_time": "2023-01-28T09:13:20.319Z"
   },
   {
    "duration": 18,
    "start_time": "2023-01-28T09:13:21.635Z"
   },
   {
    "duration": 718,
    "start_time": "2023-01-28T09:13:21.655Z"
   },
   {
    "duration": 6,
    "start_time": "2023-01-28T09:13:27.843Z"
   },
   {
    "duration": 1285,
    "start_time": "2023-01-28T09:13:29.021Z"
   },
   {
    "duration": 18,
    "start_time": "2023-01-28T09:13:30.308Z"
   },
   {
    "duration": 13,
    "start_time": "2023-01-28T09:13:31.422Z"
   },
   {
    "duration": 5,
    "start_time": "2023-01-28T09:13:33.350Z"
   },
   {
    "duration": 9,
    "start_time": "2023-01-28T09:13:35.963Z"
   },
   {
    "duration": 4,
    "start_time": "2023-01-28T09:13:36.825Z"
   },
   {
    "duration": 7,
    "start_time": "2023-01-28T09:13:37.576Z"
   },
   {
    "duration": 14,
    "start_time": "2023-01-28T09:13:40.428Z"
   },
   {
    "duration": 4,
    "start_time": "2023-01-28T09:13:41.804Z"
   },
   {
    "duration": 3,
    "start_time": "2023-01-28T09:13:43.192Z"
   },
   {
    "duration": 3,
    "start_time": "2023-01-28T09:13:44.576Z"
   },
   {
    "duration": 3,
    "start_time": "2023-01-28T09:13:48.264Z"
   },
   {
    "duration": 3,
    "start_time": "2023-01-28T09:14:04.847Z"
   },
   {
    "duration": 3,
    "start_time": "2023-01-28T09:14:05.705Z"
   },
   {
    "duration": 4,
    "start_time": "2023-01-28T09:14:06.626Z"
   },
   {
    "duration": 3,
    "start_time": "2023-01-28T09:14:07.387Z"
   },
   {
    "duration": 1510,
    "start_time": "2023-01-28T09:16:40.863Z"
   },
   {
    "duration": 3,
    "start_time": "2023-01-28T09:16:42.375Z"
   },
   {
    "duration": 491,
    "start_time": "2023-01-28T09:16:42.391Z"
   },
   {
    "duration": 403,
    "start_time": "2023-01-28T09:16:42.885Z"
   },
   {
    "duration": 128,
    "start_time": "2023-01-28T09:16:43.292Z"
   },
   {
    "duration": 13,
    "start_time": "2023-01-28T09:16:43.422Z"
   },
   {
    "duration": 3,
    "start_time": "2023-01-28T09:16:44.251Z"
   },
   {
    "duration": 6,
    "start_time": "2023-01-28T09:16:44.860Z"
   },
   {
    "duration": 6,
    "start_time": "2023-01-28T09:16:45.188Z"
   },
   {
    "duration": 6,
    "start_time": "2023-01-28T09:16:46.049Z"
   },
   {
    "duration": 5,
    "start_time": "2023-01-28T09:16:46.256Z"
   },
   {
    "duration": 11,
    "start_time": "2023-01-28T09:16:46.993Z"
   },
   {
    "duration": 3,
    "start_time": "2023-01-28T09:16:47.223Z"
   },
   {
    "duration": 5,
    "start_time": "2023-01-28T09:16:47.579Z"
   },
   {
    "duration": 3,
    "start_time": "2023-01-28T09:16:47.934Z"
   },
   {
    "duration": 8292,
    "start_time": "2023-01-28T09:16:48.123Z"
   },
   {
    "duration": 12,
    "start_time": "2023-01-28T09:16:56.418Z"
   },
   {
    "duration": 12,
    "start_time": "2023-01-28T09:16:56.432Z"
   },
   {
    "duration": 25,
    "start_time": "2023-01-28T09:16:56.447Z"
   },
   {
    "duration": 36,
    "start_time": "2023-01-28T09:16:56.473Z"
   },
   {
    "duration": 1226,
    "start_time": "2023-01-28T09:16:56.512Z"
   },
   {
    "duration": 1266,
    "start_time": "2023-01-28T09:16:57.740Z"
   },
   {
    "duration": 1317,
    "start_time": "2023-01-28T09:16:59.007Z"
   },
   {
    "duration": 19,
    "start_time": "2023-01-28T09:17:00.587Z"
   },
   {
    "duration": 652,
    "start_time": "2023-01-28T09:17:01.329Z"
   },
   {
    "duration": 7,
    "start_time": "2023-01-28T09:17:03.356Z"
   },
   {
    "duration": 1308,
    "start_time": "2023-01-28T09:17:04.384Z"
   },
   {
    "duration": 18,
    "start_time": "2023-01-28T09:17:06.823Z"
   },
   {
    "duration": 13,
    "start_time": "2023-01-28T09:17:07.259Z"
   },
   {
    "duration": 4,
    "start_time": "2023-01-28T09:17:07.723Z"
   },
   {
    "duration": 9,
    "start_time": "2023-01-28T09:17:07.948Z"
   },
   {
    "duration": 3,
    "start_time": "2023-01-28T09:17:08.155Z"
   },
   {
    "duration": 6,
    "start_time": "2023-01-28T09:17:08.422Z"
   },
   {
    "duration": 13,
    "start_time": "2023-01-28T09:17:08.960Z"
   },
   {
    "duration": 3,
    "start_time": "2023-01-28T09:17:09.738Z"
   },
   {
    "duration": 2,
    "start_time": "2023-01-28T09:17:10.463Z"
   },
   {
    "duration": 3,
    "start_time": "2023-01-28T09:17:10.920Z"
   },
   {
    "duration": 3,
    "start_time": "2023-01-28T09:17:11.354Z"
   },
   {
    "duration": 3,
    "start_time": "2023-01-28T09:17:13.524Z"
   },
   {
    "duration": 3,
    "start_time": "2023-01-28T09:17:14.353Z"
   },
   {
    "duration": 4,
    "start_time": "2023-01-28T09:17:15.225Z"
   },
   {
    "duration": 3,
    "start_time": "2023-01-28T09:17:16.232Z"
   },
   {
    "duration": 61407,
    "start_time": "2023-01-28T09:17:17.185Z"
   },
   {
    "duration": 5,
    "start_time": "2023-01-28T09:18:26.131Z"
   },
   {
    "duration": 5,
    "start_time": "2023-01-28T09:18:27.525Z"
   },
   {
    "duration": 434355,
    "start_time": "2023-01-28T09:18:58.112Z"
   },
   {
    "duration": 3,
    "start_time": "2023-01-28T09:26:12.469Z"
   },
   {
    "duration": 9,
    "start_time": "2023-01-28T09:28:55.918Z"
   },
   {
    "duration": 1448,
    "start_time": "2023-01-28T09:29:06.272Z"
   },
   {
    "duration": 4,
    "start_time": "2023-01-28T09:29:07.721Z"
   },
   {
    "duration": 487,
    "start_time": "2023-01-28T09:29:07.727Z"
   },
   {
    "duration": 391,
    "start_time": "2023-01-28T09:29:08.216Z"
   },
   {
    "duration": 120,
    "start_time": "2023-01-28T09:29:08.609Z"
   },
   {
    "duration": 12,
    "start_time": "2023-01-28T09:29:08.731Z"
   },
   {
    "duration": 4,
    "start_time": "2023-01-28T09:29:09.343Z"
   },
   {
    "duration": 6,
    "start_time": "2023-01-28T09:29:09.542Z"
   },
   {
    "duration": 5,
    "start_time": "2023-01-28T09:29:09.888Z"
   },
   {
    "duration": 4,
    "start_time": "2023-01-28T09:29:10.418Z"
   },
   {
    "duration": 4,
    "start_time": "2023-01-28T09:29:10.584Z"
   },
   {
    "duration": 12,
    "start_time": "2023-01-28T09:29:11.269Z"
   },
   {
    "duration": 3,
    "start_time": "2023-01-28T09:29:11.439Z"
   },
   {
    "duration": 6,
    "start_time": "2023-01-28T09:29:11.625Z"
   },
   {
    "duration": 4,
    "start_time": "2023-01-28T09:29:11.973Z"
   },
   {
    "duration": 7973,
    "start_time": "2023-01-28T09:29:12.141Z"
   },
   {
    "duration": 13,
    "start_time": "2023-01-28T09:29:20.116Z"
   },
   {
    "duration": 6,
    "start_time": "2023-01-28T09:29:20.131Z"
   },
   {
    "duration": 14,
    "start_time": "2023-01-28T09:29:20.140Z"
   },
   {
    "duration": 58,
    "start_time": "2023-01-28T09:29:20.156Z"
   },
   {
    "duration": 1201,
    "start_time": "2023-01-28T09:29:20.216Z"
   },
   {
    "duration": 1208,
    "start_time": "2023-01-28T09:29:21.419Z"
   },
   {
    "duration": 1307,
    "start_time": "2023-01-28T09:29:22.629Z"
   },
   {
    "duration": 17,
    "start_time": "2023-01-28T09:29:23.938Z"
   },
   {
    "duration": 593,
    "start_time": "2023-01-28T09:29:23.957Z"
   },
   {
    "duration": 6,
    "start_time": "2023-01-28T09:29:24.551Z"
   },
   {
    "duration": 1215,
    "start_time": "2023-01-28T09:29:24.559Z"
   },
   {
    "duration": 23,
    "start_time": "2023-01-28T09:29:25.776Z"
   },
   {
    "duration": 12,
    "start_time": "2023-01-28T09:29:25.801Z"
   },
   {
    "duration": 3,
    "start_time": "2023-01-28T09:29:25.823Z"
   },
   {
    "duration": 10,
    "start_time": "2023-01-28T09:29:26.059Z"
   },
   {
    "duration": 4,
    "start_time": "2023-01-28T09:29:26.228Z"
   },
   {
    "duration": 6,
    "start_time": "2023-01-28T09:29:27.764Z"
   },
   {
    "duration": 13,
    "start_time": "2023-01-28T09:29:28.889Z"
   },
   {
    "duration": 3,
    "start_time": "2023-01-28T09:29:29.671Z"
   },
   {
    "duration": 3,
    "start_time": "2023-01-28T09:29:30.363Z"
   },
   {
    "duration": 3,
    "start_time": "2023-01-28T09:29:30.532Z"
   },
   {
    "duration": 3,
    "start_time": "2023-01-28T09:29:30.928Z"
   },
   {
    "duration": 3,
    "start_time": "2023-01-28T09:29:31.821Z"
   },
   {
    "duration": 3,
    "start_time": "2023-01-28T09:29:32.024Z"
   },
   {
    "duration": 4,
    "start_time": "2023-01-28T09:29:32.579Z"
   },
   {
    "duration": 3,
    "start_time": "2023-01-28T09:29:35.269Z"
   },
   {
    "duration": 59629,
    "start_time": "2023-01-28T09:29:36.773Z"
   },
   {
    "duration": 3,
    "start_time": "2023-01-28T09:30:46.304Z"
   },
   {
    "duration": 4,
    "start_time": "2023-01-28T09:30:47.739Z"
   },
   {
    "duration": 206600,
    "start_time": "2023-01-28T09:30:50.572Z"
   },
   {
    "duration": 3,
    "start_time": "2023-01-28T09:34:32.417Z"
   },
   {
    "duration": 3,
    "start_time": "2023-01-28T09:34:32.820Z"
   },
   {
    "duration": 4,
    "start_time": "2023-01-28T09:34:33.267Z"
   },
   {
    "duration": 4,
    "start_time": "2023-01-28T09:34:33.585Z"
   },
   {
    "duration": 135,
    "start_time": "2023-01-28T09:34:46.082Z"
   },
   {
    "duration": 10,
    "start_time": "2023-01-28T09:34:58.888Z"
   },
   {
    "duration": 9,
    "start_time": "2023-01-28T09:34:59.954Z"
   },
   {
    "duration": 1493,
    "start_time": "2023-01-28T09:35:20.064Z"
   },
   {
    "duration": 4,
    "start_time": "2023-01-28T09:35:21.560Z"
   },
   {
    "duration": 531,
    "start_time": "2023-01-28T09:35:21.567Z"
   },
   {
    "duration": 434,
    "start_time": "2023-01-28T09:35:22.100Z"
   },
   {
    "duration": 129,
    "start_time": "2023-01-28T09:35:22.536Z"
   },
   {
    "duration": 26,
    "start_time": "2023-01-28T09:35:22.666Z"
   },
   {
    "duration": 2,
    "start_time": "2023-01-28T09:35:22.694Z"
   },
   {
    "duration": 8,
    "start_time": "2023-01-28T09:35:22.698Z"
   },
   {
    "duration": 7,
    "start_time": "2023-01-28T09:35:22.708Z"
   },
   {
    "duration": 6,
    "start_time": "2023-01-28T09:35:22.716Z"
   },
   {
    "duration": 6,
    "start_time": "2023-01-28T09:35:22.723Z"
   },
   {
    "duration": 12,
    "start_time": "2023-01-28T09:35:22.730Z"
   },
   {
    "duration": 3,
    "start_time": "2023-01-28T09:35:22.744Z"
   },
   {
    "duration": 5,
    "start_time": "2023-01-28T09:35:22.751Z"
   },
   {
    "duration": 8,
    "start_time": "2023-01-28T09:35:22.793Z"
   },
   {
    "duration": 7909,
    "start_time": "2023-01-28T09:35:22.802Z"
   },
   {
    "duration": 13,
    "start_time": "2023-01-28T09:35:30.713Z"
   },
   {
    "duration": 16,
    "start_time": "2023-01-28T09:35:30.727Z"
   },
   {
    "duration": 32,
    "start_time": "2023-01-28T09:35:30.745Z"
   },
   {
    "duration": 27,
    "start_time": "2023-01-28T09:35:30.779Z"
   },
   {
    "duration": 1218,
    "start_time": "2023-01-28T09:35:30.808Z"
   },
   {
    "duration": 1182,
    "start_time": "2023-01-28T09:35:32.027Z"
   },
   {
    "duration": 1306,
    "start_time": "2023-01-28T09:35:33.211Z"
   },
   {
    "duration": 18,
    "start_time": "2023-01-28T09:35:34.519Z"
   },
   {
    "duration": 616,
    "start_time": "2023-01-28T09:35:34.539Z"
   },
   {
    "duration": 6,
    "start_time": "2023-01-28T09:35:35.157Z"
   },
   {
    "duration": 1362,
    "start_time": "2023-01-28T09:35:35.165Z"
   },
   {
    "duration": 18,
    "start_time": "2023-01-28T09:35:36.529Z"
   },
   {
    "duration": 19,
    "start_time": "2023-01-28T09:35:36.548Z"
   },
   {
    "duration": 45,
    "start_time": "2023-01-28T09:35:36.568Z"
   },
   {
    "duration": 11,
    "start_time": "2023-01-28T09:35:36.614Z"
   },
   {
    "duration": 4,
    "start_time": "2023-01-28T09:35:36.627Z"
   },
   {
    "duration": 9,
    "start_time": "2023-01-28T09:35:36.633Z"
   },
   {
    "duration": 14,
    "start_time": "2023-01-28T09:35:36.643Z"
   },
   {
    "duration": 3,
    "start_time": "2023-01-28T09:35:36.658Z"
   },
   {
    "duration": 15,
    "start_time": "2023-01-28T09:35:36.663Z"
   },
   {
    "duration": 5,
    "start_time": "2023-01-28T09:35:36.680Z"
   },
   {
    "duration": 12,
    "start_time": "2023-01-28T09:35:36.687Z"
   },
   {
    "duration": 8,
    "start_time": "2023-01-28T09:35:36.701Z"
   },
   {
    "duration": 6,
    "start_time": "2023-01-28T09:35:36.710Z"
   },
   {
    "duration": 12,
    "start_time": "2023-01-28T09:35:36.719Z"
   },
   {
    "duration": 6,
    "start_time": "2023-01-28T09:35:36.732Z"
   },
   {
    "duration": 119952,
    "start_time": "2023-01-28T09:35:36.739Z"
   },
   {
    "duration": 5,
    "start_time": "2023-01-28T09:37:36.694Z"
   },
   {
    "duration": 97,
    "start_time": "2023-01-28T09:37:36.701Z"
   },
   {
    "duration": 110454,
    "start_time": "2023-01-28T09:37:36.800Z"
   },
   {
    "duration": 3,
    "start_time": "2023-01-28T09:39:27.256Z"
   },
   {
    "duration": 10,
    "start_time": "2023-01-28T09:39:27.261Z"
   },
   {
    "duration": 23179,
    "start_time": "2023-01-28T09:39:27.272Z"
   },
   {
    "duration": 3,
    "start_time": "2023-01-28T09:39:50.453Z"
   },
   {
    "duration": 20,
    "start_time": "2023-01-28T09:39:50.458Z"
   },
   {
    "duration": 13,
    "start_time": "2023-01-28T09:39:50.480Z"
   },
   {
    "duration": 16,
    "start_time": "2023-01-28T09:39:50.495Z"
   },
   {
    "duration": 15,
    "start_time": "2023-01-28T09:39:50.513Z"
   },
   {
    "duration": 62,
    "start_time": "2023-01-28T09:39:50.530Z"
   },
   {
    "duration": 99,
    "start_time": "2023-01-28T09:39:50.594Z"
   },
   {
    "duration": 3,
    "start_time": "2023-01-28T09:39:50.695Z"
   },
   {
    "duration": 37,
    "start_time": "2023-01-28T09:39:50.700Z"
   },
   {
    "duration": 8,
    "start_time": "2023-01-28T09:39:50.739Z"
   },
   {
    "duration": 9,
    "start_time": "2023-01-28T09:39:50.748Z"
   },
   {
    "duration": 3,
    "start_time": "2023-01-28T10:55:12.588Z"
   },
   {
    "duration": 1452,
    "start_time": "2023-01-28T11:07:52.824Z"
   },
   {
    "duration": 3,
    "start_time": "2023-01-28T11:07:54.278Z"
   },
   {
    "duration": 529,
    "start_time": "2023-01-28T11:07:54.283Z"
   },
   {
    "duration": 396,
    "start_time": "2023-01-28T11:07:54.813Z"
   },
   {
    "duration": 117,
    "start_time": "2023-01-28T11:07:55.213Z"
   },
   {
    "duration": 13,
    "start_time": "2023-01-28T11:07:55.331Z"
   },
   {
    "duration": 2,
    "start_time": "2023-01-28T11:07:55.346Z"
   },
   {
    "duration": 9,
    "start_time": "2023-01-28T11:07:55.350Z"
   },
   {
    "duration": 33,
    "start_time": "2023-01-28T11:07:55.360Z"
   },
   {
    "duration": 4,
    "start_time": "2023-01-28T11:07:55.394Z"
   },
   {
    "duration": 15,
    "start_time": "2023-01-28T11:07:55.400Z"
   },
   {
    "duration": 17,
    "start_time": "2023-01-28T11:07:55.416Z"
   },
   {
    "duration": 2,
    "start_time": "2023-01-28T11:07:55.435Z"
   },
   {
    "duration": 7,
    "start_time": "2023-01-28T11:07:55.440Z"
   },
   {
    "duration": 6,
    "start_time": "2023-01-28T11:07:55.448Z"
   },
   {
    "duration": 8256,
    "start_time": "2023-01-28T11:07:55.456Z"
   },
   {
    "duration": 14,
    "start_time": "2023-01-28T11:08:03.714Z"
   },
   {
    "duration": 6,
    "start_time": "2023-01-28T11:08:03.730Z"
   },
   {
    "duration": 21,
    "start_time": "2023-01-28T11:08:03.738Z"
   },
   {
    "duration": 45,
    "start_time": "2023-01-28T11:08:03.762Z"
   },
   {
    "duration": 1412,
    "start_time": "2023-01-28T11:08:03.810Z"
   },
   {
    "duration": 1195,
    "start_time": "2023-01-28T11:08:05.224Z"
   },
   {
    "duration": 1296,
    "start_time": "2023-01-28T11:08:06.422Z"
   },
   {
    "duration": 18,
    "start_time": "2023-01-28T11:08:07.720Z"
   },
   {
    "duration": 601,
    "start_time": "2023-01-28T11:08:07.740Z"
   },
   {
    "duration": 8,
    "start_time": "2023-01-28T11:08:08.343Z"
   },
   {
    "duration": 1316,
    "start_time": "2023-01-28T11:08:08.352Z"
   },
   {
    "duration": 26,
    "start_time": "2023-01-28T11:08:09.670Z"
   },
   {
    "duration": 14,
    "start_time": "2023-01-28T11:08:09.698Z"
   },
   {
    "duration": 13,
    "start_time": "2023-01-28T11:08:09.714Z"
   },
   {
    "duration": 13,
    "start_time": "2023-01-28T11:08:09.729Z"
   },
   {
    "duration": 27,
    "start_time": "2023-01-28T11:08:09.745Z"
   },
   {
    "duration": 17,
    "start_time": "2023-01-28T11:08:09.773Z"
   },
   {
    "duration": 26,
    "start_time": "2023-01-28T11:08:09.791Z"
   },
   {
    "duration": 9,
    "start_time": "2023-01-28T11:08:09.819Z"
   },
   {
    "duration": 9,
    "start_time": "2023-01-28T11:08:09.829Z"
   },
   {
    "duration": 13,
    "start_time": "2023-01-28T11:08:09.840Z"
   },
   {
    "duration": 8,
    "start_time": "2023-01-28T11:08:09.854Z"
   },
   {
    "duration": 15,
    "start_time": "2023-01-28T11:08:09.863Z"
   },
   {
    "duration": 8,
    "start_time": "2023-01-28T11:08:09.880Z"
   },
   {
    "duration": 89,
    "start_time": "2023-01-28T11:08:09.891Z"
   },
   {
    "duration": 0,
    "start_time": "2023-01-28T11:08:09.982Z"
   },
   {
    "duration": 0,
    "start_time": "2023-01-28T11:08:09.983Z"
   },
   {
    "duration": 0,
    "start_time": "2023-01-28T11:08:09.984Z"
   },
   {
    "duration": 0,
    "start_time": "2023-01-28T11:08:09.985Z"
   },
   {
    "duration": 0,
    "start_time": "2023-01-28T11:08:09.986Z"
   },
   {
    "duration": 0,
    "start_time": "2023-01-28T11:08:09.988Z"
   },
   {
    "duration": 0,
    "start_time": "2023-01-28T11:08:09.989Z"
   },
   {
    "duration": 0,
    "start_time": "2023-01-28T11:08:09.990Z"
   },
   {
    "duration": 0,
    "start_time": "2023-01-28T11:08:09.991Z"
   },
   {
    "duration": 0,
    "start_time": "2023-01-28T11:08:09.992Z"
   },
   {
    "duration": 0,
    "start_time": "2023-01-28T11:08:09.993Z"
   },
   {
    "duration": 0,
    "start_time": "2023-01-28T11:08:09.994Z"
   },
   {
    "duration": 0,
    "start_time": "2023-01-28T11:08:09.995Z"
   },
   {
    "duration": 0,
    "start_time": "2023-01-28T11:08:09.997Z"
   },
   {
    "duration": 0,
    "start_time": "2023-01-28T11:08:09.998Z"
   },
   {
    "duration": 0,
    "start_time": "2023-01-28T11:08:09.999Z"
   },
   {
    "duration": 0,
    "start_time": "2023-01-28T11:08:10.000Z"
   },
   {
    "duration": 0,
    "start_time": "2023-01-28T11:08:10.002Z"
   },
   {
    "duration": 0,
    "start_time": "2023-01-28T11:08:10.002Z"
   },
   {
    "duration": 68,
    "start_time": "2023-01-28T11:10:26.682Z"
   },
   {
    "duration": 4,
    "start_time": "2023-01-28T11:10:46.320Z"
   },
   {
    "duration": 3,
    "start_time": "2023-01-28T11:10:49.520Z"
   },
   {
    "duration": 1382,
    "start_time": "2023-01-28T11:11:26.634Z"
   },
   {
    "duration": 4,
    "start_time": "2023-01-28T11:11:28.019Z"
   },
   {
    "duration": 470,
    "start_time": "2023-01-28T11:11:28.024Z"
   },
   {
    "duration": 383,
    "start_time": "2023-01-28T11:11:28.496Z"
   },
   {
    "duration": 120,
    "start_time": "2023-01-28T11:11:28.881Z"
   },
   {
    "duration": 11,
    "start_time": "2023-01-28T11:11:29.003Z"
   },
   {
    "duration": 2,
    "start_time": "2023-01-28T11:11:29.016Z"
   },
   {
    "duration": 10,
    "start_time": "2023-01-28T11:11:29.020Z"
   },
   {
    "duration": 16,
    "start_time": "2023-01-28T11:11:29.031Z"
   },
   {
    "duration": 4,
    "start_time": "2023-01-28T11:11:29.050Z"
   },
   {
    "duration": 7,
    "start_time": "2023-01-28T11:11:29.056Z"
   },
   {
    "duration": 31,
    "start_time": "2023-01-28T11:11:29.064Z"
   },
   {
    "duration": 4,
    "start_time": "2023-01-28T11:11:29.097Z"
   },
   {
    "duration": 8,
    "start_time": "2023-01-28T11:11:29.102Z"
   },
   {
    "duration": 11,
    "start_time": "2023-01-28T11:11:29.112Z"
   },
   {
    "duration": 8378,
    "start_time": "2023-01-28T11:11:29.125Z"
   },
   {
    "duration": 14,
    "start_time": "2023-01-28T11:11:37.504Z"
   },
   {
    "duration": 7,
    "start_time": "2023-01-28T11:11:37.520Z"
   },
   {
    "duration": 13,
    "start_time": "2023-01-28T11:11:37.528Z"
   },
   {
    "duration": 16,
    "start_time": "2023-01-28T11:11:37.543Z"
   },
   {
    "duration": 1224,
    "start_time": "2023-01-28T11:11:37.592Z"
   },
   {
    "duration": 1205,
    "start_time": "2023-01-28T11:11:38.817Z"
   },
   {
    "duration": 1306,
    "start_time": "2023-01-28T11:11:40.024Z"
   },
   {
    "duration": 16,
    "start_time": "2023-01-28T11:11:41.332Z"
   },
   {
    "duration": 607,
    "start_time": "2023-01-28T11:11:41.349Z"
   },
   {
    "duration": 6,
    "start_time": "2023-01-28T11:11:41.958Z"
   },
   {
    "duration": 1228,
    "start_time": "2023-01-28T11:11:41.965Z"
   },
   {
    "duration": 27,
    "start_time": "2023-01-28T11:11:43.197Z"
   },
   {
    "duration": 20,
    "start_time": "2023-01-28T11:11:43.226Z"
   },
   {
    "duration": 5,
    "start_time": "2023-01-28T11:11:43.248Z"
   },
   {
    "duration": 18,
    "start_time": "2023-01-28T11:11:43.255Z"
   },
   {
    "duration": 19,
    "start_time": "2023-01-28T11:11:43.275Z"
   },
   {
    "duration": 13,
    "start_time": "2023-01-28T11:11:43.297Z"
   },
   {
    "duration": 13,
    "start_time": "2023-01-28T11:11:43.312Z"
   },
   {
    "duration": 4,
    "start_time": "2023-01-28T11:11:43.327Z"
   },
   {
    "duration": 11,
    "start_time": "2023-01-28T11:11:43.333Z"
   },
   {
    "duration": 5,
    "start_time": "2023-01-28T11:11:43.347Z"
   },
   {
    "duration": 5,
    "start_time": "2023-01-28T11:11:43.354Z"
   },
   {
    "duration": 31,
    "start_time": "2023-01-28T11:11:43.361Z"
   },
   {
    "duration": 4,
    "start_time": "2023-01-28T11:11:43.394Z"
   },
   {
    "duration": 5,
    "start_time": "2023-01-28T11:11:43.400Z"
   },
   {
    "duration": 4,
    "start_time": "2023-01-28T11:11:43.407Z"
   },
   {
    "duration": 196585,
    "start_time": "2023-01-28T11:11:43.413Z"
   },
   {
    "duration": 93,
    "start_time": "2023-01-28T11:15:00.000Z"
   },
   {
    "duration": 5,
    "start_time": "2023-01-28T11:15:00.095Z"
   },
   {
    "duration": 98124,
    "start_time": "2023-01-28T11:15:00.101Z"
   },
   {
    "duration": 4,
    "start_time": "2023-01-28T11:16:38.226Z"
   },
   {
    "duration": 6,
    "start_time": "2023-01-28T11:16:38.232Z"
   },
   {
    "duration": 89045,
    "start_time": "2023-01-28T11:16:38.239Z"
   },
   {
    "duration": 4,
    "start_time": "2023-01-28T11:18:07.287Z"
   },
   {
    "duration": 15,
    "start_time": "2023-01-28T11:18:07.293Z"
   },
   {
    "duration": 0,
    "start_time": "2023-01-28T11:18:07.310Z"
   },
   {
    "duration": 0,
    "start_time": "2023-01-28T11:18:07.311Z"
   },
   {
    "duration": 0,
    "start_time": "2023-01-28T11:18:07.313Z"
   },
   {
    "duration": 0,
    "start_time": "2023-01-28T11:18:07.314Z"
   },
   {
    "duration": 0,
    "start_time": "2023-01-28T11:18:07.316Z"
   },
   {
    "duration": 0,
    "start_time": "2023-01-28T11:18:07.317Z"
   },
   {
    "duration": 0,
    "start_time": "2023-01-28T11:18:07.319Z"
   },
   {
    "duration": 0,
    "start_time": "2023-01-28T11:18:07.320Z"
   },
   {
    "duration": 0,
    "start_time": "2023-01-28T11:18:07.322Z"
   },
   {
    "duration": 1469,
    "start_time": "2023-01-28T11:18:33.971Z"
   },
   {
    "duration": 4,
    "start_time": "2023-01-28T11:18:35.442Z"
   },
   {
    "duration": 549,
    "start_time": "2023-01-28T11:18:35.785Z"
   },
   {
    "duration": 404,
    "start_time": "2023-01-28T11:18:36.336Z"
   },
   {
    "duration": 128,
    "start_time": "2023-01-28T11:18:36.742Z"
   },
   {
    "duration": 25,
    "start_time": "2023-01-28T11:18:36.872Z"
   },
   {
    "duration": 3,
    "start_time": "2023-01-28T11:18:37.567Z"
   },
   {
    "duration": 7,
    "start_time": "2023-01-28T11:18:37.750Z"
   },
   {
    "duration": 6,
    "start_time": "2023-01-28T11:18:38.308Z"
   },
   {
    "duration": 4,
    "start_time": "2023-01-28T11:18:39.032Z"
   },
   {
    "duration": 5,
    "start_time": "2023-01-28T11:18:39.420Z"
   },
   {
    "duration": 12,
    "start_time": "2023-01-28T11:18:40.247Z"
   },
   {
    "duration": 3,
    "start_time": "2023-01-28T11:18:40.433Z"
   },
   {
    "duration": 6,
    "start_time": "2023-01-28T11:18:40.616Z"
   },
   {
    "duration": 3,
    "start_time": "2023-01-28T11:18:40.984Z"
   },
   {
    "duration": 8757,
    "start_time": "2023-01-28T11:18:41.161Z"
   },
   {
    "duration": 14,
    "start_time": "2023-01-28T11:18:49.921Z"
   },
   {
    "duration": 7,
    "start_time": "2023-01-28T11:18:49.937Z"
   },
   {
    "duration": 15,
    "start_time": "2023-01-28T11:18:49.947Z"
   },
   {
    "duration": 40,
    "start_time": "2023-01-28T11:18:49.964Z"
   },
   {
    "duration": 1356,
    "start_time": "2023-01-28T11:18:50.006Z"
   },
   {
    "duration": 1392,
    "start_time": "2023-01-28T11:18:51.364Z"
   },
   {
    "duration": 1381,
    "start_time": "2023-01-28T11:18:52.758Z"
   },
   {
    "duration": 29,
    "start_time": "2023-01-28T11:18:54.142Z"
   },
   {
    "duration": 597,
    "start_time": "2023-01-28T11:18:54.175Z"
   },
   {
    "duration": 5,
    "start_time": "2023-01-28T11:18:54.774Z"
   },
   {
    "duration": 1274,
    "start_time": "2023-01-28T11:18:54.781Z"
   },
   {
    "duration": 25,
    "start_time": "2023-01-28T11:18:56.057Z"
   },
   {
    "duration": 21,
    "start_time": "2023-01-28T11:18:56.093Z"
   },
   {
    "duration": 15,
    "start_time": "2023-01-28T11:18:56.117Z"
   },
   {
    "duration": 22,
    "start_time": "2023-01-28T11:18:56.134Z"
   },
   {
    "duration": 12,
    "start_time": "2023-01-28T11:18:56.158Z"
   },
   {
    "duration": 13,
    "start_time": "2023-01-28T11:18:56.172Z"
   },
   {
    "duration": 17,
    "start_time": "2023-01-28T11:18:56.187Z"
   },
   {
    "duration": 4,
    "start_time": "2023-01-28T11:18:56.207Z"
   },
   {
    "duration": 10,
    "start_time": "2023-01-28T11:18:56.213Z"
   },
   {
    "duration": 3,
    "start_time": "2023-01-28T11:18:57.823Z"
   },
   {
    "duration": 4,
    "start_time": "2023-01-28T11:18:58.933Z"
   },
   {
    "duration": 4,
    "start_time": "2023-01-28T11:18:59.771Z"
   },
   {
    "duration": 4,
    "start_time": "2023-01-28T11:19:00.766Z"
   },
   {
    "duration": 4,
    "start_time": "2023-01-28T11:19:02.085Z"
   },
   {
    "duration": 3,
    "start_time": "2023-01-28T11:19:05.765Z"
   },
   {
    "duration": 200276,
    "start_time": "2023-01-28T11:19:08.721Z"
   },
   {
    "duration": 3,
    "start_time": "2023-01-28T11:22:42.554Z"
   },
   {
    "duration": 4,
    "start_time": "2023-01-28T11:22:43.672Z"
   },
   {
    "duration": 234664,
    "start_time": "2023-01-28T11:22:46.872Z"
   },
   {
    "duration": 4,
    "start_time": "2023-01-28T11:26:50.638Z"
   },
   {
    "duration": 4,
    "start_time": "2023-01-28T11:26:51.875Z"
   },
   {
    "duration": 96447,
    "start_time": "2023-01-28T11:26:55.424Z"
   },
   {
    "duration": 5,
    "start_time": "2023-01-28T11:28:58.110Z"
   },
   {
    "duration": 4,
    "start_time": "2023-01-28T11:28:59.228Z"
   },
   {
    "duration": 5,
    "start_time": "2023-01-28T11:29:02.753Z"
   },
   {
    "duration": 6,
    "start_time": "2023-01-28T11:29:04.277Z"
   },
   {
    "duration": 4,
    "start_time": "2023-01-28T11:29:07.371Z"
   },
   {
    "duration": 1504,
    "start_time": "2023-01-28T11:29:52.054Z"
   },
   {
    "duration": 3,
    "start_time": "2023-01-28T11:29:53.560Z"
   },
   {
    "duration": 507,
    "start_time": "2023-01-28T11:29:53.565Z"
   },
   {
    "duration": 398,
    "start_time": "2023-01-28T11:29:54.074Z"
   },
   {
    "duration": 127,
    "start_time": "2023-01-28T11:29:54.473Z"
   },
   {
    "duration": 12,
    "start_time": "2023-01-28T11:29:54.602Z"
   },
   {
    "duration": 3,
    "start_time": "2023-01-28T11:29:54.616Z"
   },
   {
    "duration": 7,
    "start_time": "2023-01-28T11:29:54.621Z"
   },
   {
    "duration": 14,
    "start_time": "2023-01-28T11:29:54.629Z"
   },
   {
    "duration": 8,
    "start_time": "2023-01-28T11:29:54.646Z"
   },
   {
    "duration": 10,
    "start_time": "2023-01-28T11:29:54.656Z"
   },
   {
    "duration": 32,
    "start_time": "2023-01-28T11:29:54.668Z"
   },
   {
    "duration": 6,
    "start_time": "2023-01-28T11:29:54.702Z"
   },
   {
    "duration": 17,
    "start_time": "2023-01-28T11:29:54.709Z"
   },
   {
    "duration": 23,
    "start_time": "2023-01-28T11:29:54.728Z"
   },
   {
    "duration": 8061,
    "start_time": "2023-01-28T11:29:54.753Z"
   },
   {
    "duration": 11,
    "start_time": "2023-01-28T11:30:02.816Z"
   },
   {
    "duration": 14,
    "start_time": "2023-01-28T11:30:02.829Z"
   },
   {
    "duration": 40,
    "start_time": "2023-01-28T11:30:02.845Z"
   },
   {
    "duration": 23,
    "start_time": "2023-01-28T11:30:02.886Z"
   },
   {
    "duration": 1232,
    "start_time": "2023-01-28T11:30:02.911Z"
   },
   {
    "duration": 1287,
    "start_time": "2023-01-28T11:30:04.145Z"
   },
   {
    "duration": 1327,
    "start_time": "2023-01-28T11:30:05.433Z"
   },
   {
    "duration": 17,
    "start_time": "2023-01-28T11:30:06.762Z"
   },
   {
    "duration": 706,
    "start_time": "2023-01-28T11:30:06.781Z"
   },
   {
    "duration": 7,
    "start_time": "2023-01-28T11:30:07.489Z"
   },
   {
    "duration": 1309,
    "start_time": "2023-01-28T11:30:07.498Z"
   },
   {
    "duration": 19,
    "start_time": "2023-01-28T11:30:08.811Z"
   },
   {
    "duration": 14,
    "start_time": "2023-01-28T11:30:08.832Z"
   },
   {
    "duration": 6,
    "start_time": "2023-01-28T11:30:08.848Z"
   },
   {
    "duration": 10,
    "start_time": "2023-01-28T11:30:08.856Z"
   },
   {
    "duration": 27,
    "start_time": "2023-01-28T11:30:08.867Z"
   },
   {
    "duration": 16,
    "start_time": "2023-01-28T11:30:08.896Z"
   },
   {
    "duration": 12,
    "start_time": "2023-01-28T11:30:08.914Z"
   },
   {
    "duration": 4,
    "start_time": "2023-01-28T11:30:08.929Z"
   },
   {
    "duration": 22,
    "start_time": "2023-01-28T11:30:08.934Z"
   },
   {
    "duration": 6,
    "start_time": "2023-01-28T11:30:08.957Z"
   },
   {
    "duration": 7,
    "start_time": "2023-01-28T11:30:08.964Z"
   },
   {
    "duration": 23,
    "start_time": "2023-01-28T11:30:08.977Z"
   },
   {
    "duration": 5,
    "start_time": "2023-01-28T11:30:09.002Z"
   },
   {
    "duration": 6,
    "start_time": "2023-01-28T11:30:09.009Z"
   },
   {
    "duration": 5,
    "start_time": "2023-01-28T11:30:09.017Z"
   },
   {
    "duration": 188781,
    "start_time": "2023-01-28T11:30:09.024Z"
   },
   {
    "duration": 4,
    "start_time": "2023-01-28T11:33:17.893Z"
   },
   {
    "duration": 97,
    "start_time": "2023-01-28T11:33:17.902Z"
   },
   {
    "duration": 116849,
    "start_time": "2023-01-28T11:33:18.001Z"
   },
   {
    "duration": 4,
    "start_time": "2023-01-28T11:35:14.851Z"
   },
   {
    "duration": 20,
    "start_time": "2023-01-28T11:35:14.856Z"
   },
   {
    "duration": 92980,
    "start_time": "2023-01-28T11:35:14.878Z"
   },
   {
    "duration": 4,
    "start_time": "2023-01-28T11:36:47.861Z"
   },
   {
    "duration": 30,
    "start_time": "2023-01-28T11:36:47.868Z"
   },
   {
    "duration": 10,
    "start_time": "2023-01-28T11:36:47.900Z"
   },
   {
    "duration": 7,
    "start_time": "2023-01-28T11:36:47.912Z"
   },
   {
    "duration": 7,
    "start_time": "2023-01-28T11:36:47.921Z"
   },
   {
    "duration": 70,
    "start_time": "2023-01-28T11:36:47.929Z"
   },
   {
    "duration": 200,
    "start_time": "2023-01-28T11:36:48.002Z"
   },
   {
    "duration": 5,
    "start_time": "2023-01-28T11:36:48.203Z"
   },
   {
    "duration": 34,
    "start_time": "2023-01-28T11:36:48.209Z"
   },
   {
    "duration": 9,
    "start_time": "2023-01-28T11:36:48.245Z"
   },
   {
    "duration": 35,
    "start_time": "2023-01-28T11:36:48.257Z"
   },
   {
    "duration": 9,
    "start_time": "2023-01-28T11:40:09.977Z"
   },
   {
    "duration": 7,
    "start_time": "2023-01-28T11:40:12.622Z"
   },
   {
    "duration": 0,
    "start_time": "2023-01-28T15:58:31.766Z"
   },
   {
    "duration": 31,
    "start_time": "2023-01-28T15:58:36.650Z"
   },
   {
    "duration": 48,
    "start_time": "2023-01-28T16:03:42.430Z"
   }
  ],
  "kernelspec": {
   "display_name": "Python 3 (ipykernel)",
   "language": "python",
   "name": "python3"
  },
  "language_info": {
   "codemirror_mode": {
    "name": "ipython",
    "version": 3
   },
   "file_extension": ".py",
   "mimetype": "text/x-python",
   "name": "python",
   "nbconvert_exporter": "python",
   "pygments_lexer": "ipython3",
   "version": "3.9.12"
  },
  "toc": {
   "base_numbering": 1,
   "nav_menu": {},
   "number_sections": true,
   "sideBar": true,
   "skip_h1_title": false,
   "title_cell": "Содержание",
   "title_sidebar": "Contents",
   "toc_cell": true,
   "toc_position": {
    "height": "calc(100% - 180px)",
    "left": "10px",
    "top": "150px",
    "width": "165px"
   },
   "toc_section_display": true,
   "toc_window_display": true
  },
  "varInspector": {
   "cols": {
    "lenName": 16,
    "lenType": 16,
    "lenVar": 40
   },
   "kernels_config": {
    "python": {
     "delete_cmd_postfix": "",
     "delete_cmd_prefix": "del ",
     "library": "var_list.py",
     "varRefreshCmd": "print(var_dic_list())"
    },
    "r": {
     "delete_cmd_postfix": ") ",
     "delete_cmd_prefix": "rm(",
     "library": "var_list.r",
     "varRefreshCmd": "cat(var_dic_list()) "
    }
   },
   "types_to_exclude": [
    "module",
    "function",
    "builtin_function_or_method",
    "instance",
    "_Feature"
   ],
   "window_display": false
  }
 },
 "nbformat": 4,
 "nbformat_minor": 2
}
